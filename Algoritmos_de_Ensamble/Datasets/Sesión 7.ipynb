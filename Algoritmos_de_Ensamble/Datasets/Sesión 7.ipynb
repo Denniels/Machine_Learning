{
 "cells": [
  {
   "cell_type": "markdown",
   "id": "1e21ccbe",
   "metadata": {},
   "source": [
    "# Árboles de Decisión\n",
    "- **Árboles de Clasificación**: Clasificación de datos en _clases_ (problema de _clasificación_).\n",
    "- **Árboles de Regresión**: Predicción de valores _continuos_ (problema de _regresión_).\n",
    "\n",
    "#### En Sklearn\n",
    "\n",
    "- Se dispone de la clase `DecisionTreeClassifier` para árboles de clasificación, y de `DecisionTreeRegressor` para árboles de regresión, ambas disponibles en `sklearn.tree`\n",
    "\n",
    "## Motivación\n",
    "\n",
    "- Los árboles de decisión se asemejan a la forma en que los seres humanos toman decisiones.\n",
    "- Básicamente aprenden una jerarquía de preguntas en formato if/else que conllevan a una decisión.\n",
    "    \n",
    "<img width=\"600\" src=\"img_1.png\" />"
   ]
  },
  {
   "cell_type": "markdown",
   "id": "a2b3ef9a",
   "metadata": {},
   "source": [
    "## Construyendo un árbol de decisión\n",
    "\n",
    "### Estrategia Top down (greedy)\n",
    "1. Seleccionar un atributo para el nodo raíz y crear rama para cada valor posible del atributo\n",
    "2. Dividir las instancias del dataset en subconjuntos, uno para cada rama que se extiende desde el nodo\n",
    "3. Repetir de forma recursiva para cada rama, utilizando solo las instancias que llegan a ésta\n",
    "4. Detenerse cuando todas las instancias del nodo sean de la misma clase\n",
    "\n",
    "<a href=\"https://github.com/dccuchile/CC5205/blob/master/slides/Clase_7_clasi_algo.pdf\">Referencia</a>"
   ]
  },
  {
   "cell_type": "code",
   "execution_count": 1,
   "id": "70bf6e79",
   "metadata": {},
   "outputs": [
    {
     "data": {
      "text/html": [
       "<div>\n",
       "<style scoped>\n",
       "    .dataframe tbody tr th:only-of-type {\n",
       "        vertical-align: middle;\n",
       "    }\n",
       "\n",
       "    .dataframe tbody tr th {\n",
       "        vertical-align: top;\n",
       "    }\n",
       "\n",
       "    .dataframe thead th {\n",
       "        text-align: right;\n",
       "    }\n",
       "</style>\n",
       "<table border=\"1\" class=\"dataframe\">\n",
       "  <thead>\n",
       "    <tr style=\"text-align: right;\">\n",
       "      <th></th>\n",
       "      <th>name</th>\n",
       "      <th>warm_blood</th>\n",
       "      <th>gives_birth</th>\n",
       "      <th>aquatic</th>\n",
       "      <th>aerial</th>\n",
       "      <th>has_legs</th>\n",
       "      <th>hibernates</th>\n",
       "      <th>class</th>\n",
       "    </tr>\n",
       "  </thead>\n",
       "  <tbody>\n",
       "    <tr>\n",
       "      <th>0</th>\n",
       "      <td>human</td>\n",
       "      <td>1</td>\n",
       "      <td>1</td>\n",
       "      <td>0</td>\n",
       "      <td>0</td>\n",
       "      <td>1</td>\n",
       "      <td>0</td>\n",
       "      <td>mammals</td>\n",
       "    </tr>\n",
       "    <tr>\n",
       "      <th>1</th>\n",
       "      <td>python</td>\n",
       "      <td>0</td>\n",
       "      <td>0</td>\n",
       "      <td>0</td>\n",
       "      <td>0</td>\n",
       "      <td>0</td>\n",
       "      <td>1</td>\n",
       "      <td>reptiles</td>\n",
       "    </tr>\n",
       "    <tr>\n",
       "      <th>2</th>\n",
       "      <td>salmon</td>\n",
       "      <td>0</td>\n",
       "      <td>0</td>\n",
       "      <td>1</td>\n",
       "      <td>0</td>\n",
       "      <td>0</td>\n",
       "      <td>0</td>\n",
       "      <td>fishes</td>\n",
       "    </tr>\n",
       "    <tr>\n",
       "      <th>3</th>\n",
       "      <td>whale</td>\n",
       "      <td>1</td>\n",
       "      <td>1</td>\n",
       "      <td>1</td>\n",
       "      <td>0</td>\n",
       "      <td>0</td>\n",
       "      <td>0</td>\n",
       "      <td>mammals</td>\n",
       "    </tr>\n",
       "    <tr>\n",
       "      <th>4</th>\n",
       "      <td>frog</td>\n",
       "      <td>0</td>\n",
       "      <td>0</td>\n",
       "      <td>1</td>\n",
       "      <td>0</td>\n",
       "      <td>1</td>\n",
       "      <td>1</td>\n",
       "      <td>amphibians</td>\n",
       "    </tr>\n",
       "  </tbody>\n",
       "</table>\n",
       "</div>"
      ],
      "text/plain": [
       "     name  warm_blood  gives_birth  aquatic  aerial  has_legs  hibernates  \\\n",
       "0   human           1            1        0       0         1           0   \n",
       "1  python           0            0        0       0         0           1   \n",
       "2  salmon           0            0        1       0         0           0   \n",
       "3   whale           1            1        1       0         0           0   \n",
       "4    frog           0            0        1       0         1           1   \n",
       "\n",
       "        class  \n",
       "0     mammals  \n",
       "1    reptiles  \n",
       "2      fishes  \n",
       "3     mammals  \n",
       "4  amphibians  "
      ]
     },
     "execution_count": 1,
     "metadata": {},
     "output_type": "execute_result"
    }
   ],
   "source": [
    "import pandas as pd\n",
    "import numpy as np\n",
    "from IPython.display import Image\n",
    "import lec7_graphs as afx\n",
    "from sklearn import tree\n",
    "import matplotlib.pyplot as plt\n",
    "\n",
    "plt.style.use(\"seaborn\")\n",
    "\n",
    "df = pd.read_csv('vertebrate.csv')\n",
    "df.head()"
   ]
  },
  {
   "cell_type": "code",
   "execution_count": 2,
   "id": "8ba7ad12",
   "metadata": {},
   "outputs": [
    {
     "data": {
      "image/png": "[encoded data removed]",
      "text/plain": [
       "<Figure size 576x396 with 1 Axes>"
      ]
     },
     "metadata": {},
     "output_type": "display_data"
    }
   ],
   "source": [
    "# recodificamos en mamiferos/no mamiferos\n",
    "df['class'] = df['class'].replace(['fishes','birds','amphibians','reptiles'],'non-mammals')\n",
    "\n",
    "# guardamos los nombres de las clases en un nuevo objeto\n",
    "store_y_labels = df['class'].unique()\n",
    "\n",
    "# recodificamos de forma binaria\n",
    "df['class'] = np.where(df['class'] == 'mammals', 1, 0)\n",
    "\n",
    "# eliminamos atributos irrelevantes de la matriz de atributos\n",
    "X_mat=df.drop(columns=['name', 'class'])\n",
    "\n",
    "# Implementamos nuestra función y la guardamos en un nuevo objeto\n",
    "dec_tree, _ = afx.demo_classfication_tree(X_mat, df['class'], store_y_labels)\n",
    "\n",
    "# renderizamos el objeto\n",
    "tree.plot_tree(dec_tree, feature_names = df.columns[1:-1], class_names=[\"non-mammals\", \"mammals\"], filled = True);"
   ]
  },
  {
   "cell_type": "code",
   "execution_count": 6,
   "id": "0103a2c3",
   "metadata": {},
   "outputs": [
    {
     "data": {
      "text/html": [
       "<div>\n",
       "<style scoped>\n",
       "    .dataframe tbody tr th:only-of-type {\n",
       "        vertical-align: middle;\n",
       "    }\n",
       "\n",
       "    .dataframe tbody tr th {\n",
       "        vertical-align: top;\n",
       "    }\n",
       "\n",
       "    .dataframe thead th {\n",
       "        text-align: right;\n",
       "    }\n",
       "</style>\n",
       "<table border=\"1\" class=\"dataframe\">\n",
       "  <thead>\n",
       "    <tr style=\"text-align: right;\">\n",
       "      <th></th>\n",
       "      <th>name</th>\n",
       "      <th>warm_blood</th>\n",
       "      <th>gives_birth</th>\n",
       "      <th>aquatic</th>\n",
       "      <th>aerial</th>\n",
       "      <th>has_legs</th>\n",
       "      <th>hibernates</th>\n",
       "      <th>class</th>\n",
       "    </tr>\n",
       "  </thead>\n",
       "  <tbody>\n",
       "    <tr>\n",
       "      <th>0</th>\n",
       "      <td>human</td>\n",
       "      <td>1</td>\n",
       "      <td>1</td>\n",
       "      <td>0</td>\n",
       "      <td>0</td>\n",
       "      <td>1</td>\n",
       "      <td>0</td>\n",
       "      <td>1</td>\n",
       "    </tr>\n",
       "    <tr>\n",
       "      <th>1</th>\n",
       "      <td>python</td>\n",
       "      <td>0</td>\n",
       "      <td>0</td>\n",
       "      <td>0</td>\n",
       "      <td>0</td>\n",
       "      <td>0</td>\n",
       "      <td>1</td>\n",
       "      <td>0</td>\n",
       "    </tr>\n",
       "    <tr>\n",
       "      <th>2</th>\n",
       "      <td>salmon</td>\n",
       "      <td>0</td>\n",
       "      <td>0</td>\n",
       "      <td>1</td>\n",
       "      <td>0</td>\n",
       "      <td>0</td>\n",
       "      <td>0</td>\n",
       "      <td>0</td>\n",
       "    </tr>\n",
       "    <tr>\n",
       "      <th>3</th>\n",
       "      <td>whale</td>\n",
       "      <td>1</td>\n",
       "      <td>1</td>\n",
       "      <td>1</td>\n",
       "      <td>0</td>\n",
       "      <td>0</td>\n",
       "      <td>0</td>\n",
       "      <td>1</td>\n",
       "    </tr>\n",
       "    <tr>\n",
       "      <th>4</th>\n",
       "      <td>frog</td>\n",
       "      <td>0</td>\n",
       "      <td>0</td>\n",
       "      <td>1</td>\n",
       "      <td>0</td>\n",
       "      <td>1</td>\n",
       "      <td>1</td>\n",
       "      <td>0</td>\n",
       "    </tr>\n",
       "  </tbody>\n",
       "</table>\n",
       "</div>"
      ],
      "text/plain": [
       "     name  warm_blood  gives_birth  aquatic  aerial  has_legs  hibernates  \\\n",
       "0   human           1            1        0       0         1           0   \n",
       "1  python           0            0        0       0         0           1   \n",
       "2  salmon           0            0        1       0         0           0   \n",
       "3   whale           1            1        1       0         0           0   \n",
       "4    frog           0            0        1       0         1           1   \n",
       "\n",
       "   class  \n",
       "0      1  \n",
       "1      0  \n",
       "2      0  \n",
       "3      1  \n",
       "4      0  "
      ]
     },
     "execution_count": 6,
     "metadata": {},
     "output_type": "execute_result"
    }
   ],
   "source": [
    "df.head()"
   ]
  },
  {
   "cell_type": "markdown",
   "id": "e96b7ca2",
   "metadata": {},
   "source": [
    "### Pureza \n",
    "\n",
    "- En el ejemplo anterior, todas las hojas _son puras_, ya que solo contienen datos de 1 clase. Pero podría darse un caso donde también queden hojas que contengan datos de _ambas clases_; La clase resultante para esa hoja sería la que tenga la mayor cantidad de casos.\n",
    "\n",
    "\n",
    "- Existen distintos métodos para _medir la pureza_ de una hoja. Los más utilizados son **gini**, **entropía** y **ganancia de la información**. Son similares, y permiten _identificar qué nodos clasifican mejor_ entre una clase y otra, permitiendo así _identificar los mejores atributos_.\n",
    "\n",
    "\n",
    "- En el ejemplo anterior se utilizó _entropía_, donde a mayor entropía se tiene una menor pureza, y con una entropía de 0 se tiene una hoja 100% pura."
   ]
  },
  {
   "cell_type": "markdown",
   "id": "fb8714bd",
   "metadata": {},
   "source": [
    "## Hiperparámetros\n",
    "\n",
    "El ajuste de estos hiperparámetros _ayuda a evitar a generar un árbol sobreajustado_; Los árboles tienden a \"aprender demasiado bien\" de los datos entregados, por lo que se deben _regularizar_ para poder ser más generalizables frente a predicciones para datos distintos a los utilizados durante el entrenamiento.\n",
    "\n",
    "### Máximo de Profundidad\n",
    "- Hasta cuándo puede crecer un árbol.\n",
    "- Es decir, _cuántos \"niveles\" hacia abajo_ puede tener el árbol. \n",
    "- A _mayor profundidad permitida, mayor sobreajuste_ (menor generalización).\n",
    "- En `sklearn`, corresponde al hiperparámetro `max_depth.`\n",
    "\n",
    "\n",
    "### Cantidad de atributos\n",
    "- Cuántos atributos debo considerar en un árbol.\n",
    "- A _mayor cantidad de atributos, mayor sobreajuste_ (menor generalización).\n",
    "- En `sklearn`, corresponde al hiperparámetro `max_features`.\n",
    "    - Si es `None`, entonces `max_features=n_features`\n",
    "\n",
    "\n",
    "### Mínimo de muestras en un nodo particionable\n",
    "- Con cuántas observaciones podemos seguir subdividiendo.\n",
    "- Es decir, cuánto es el mínimo de datos que debe tener un nodo para volver a generar nodos.\n",
    "- A _menor cantidad de datos permitidos, mayor sobreajuste_ (menor generalización).\n",
    "- En `sklearn`, corresponde al hiperparámetro `min_sample_split`.\n",
    "    - Puede indicarse como número de muestras con un valor `int`, o como una fracción de datos con un valor `float`.\n",
    "\n",
    "\n",
    "### Mínimo de muestras en un nodo terminal:\n",
    "- Con cuántas observaciones paramos de subdividir.\n",
    "- Es decir, determina cuándo termina el proceso de búsqueda en un nodo, transformándolo en hoja, según la cantidad de muestras que posee.\n",
    "    - Por tanto, _permite que una hoja no sea totalmente pura_.\n",
    "- A _menor cantidad de datos permitidos en una hoja, mayor sobreajuste_ (menor generalización).\n",
    "- En `sklearn`, corresponde al hiperparámetro `min_sample_leaf`.\n",
    "    - Puede indicarse como número de muestras con un valor `int`, o como una fracción de datos con un valor `float`.\n",
    "    \n",
    "_**Revisar Lectura 3 para ver la implementación y el efecto de utilizar distintos valores para estos hiperparámetros en forma independiente**_."
   ]
  },
  {
   "cell_type": "code",
   "execution_count": 3,
   "id": "c17ef800",
   "metadata": {},
   "outputs": [
    {
     "name": "stdout",
     "output_type": "stream",
     "text": [
      "Hiperparámetros del modelo entrenado previamente:\n"
     ]
    },
    {
     "data": {
      "text/plain": [
       "{'ccp_alpha': 0.0,\n",
       " 'class_weight': None,\n",
       " 'criterion': 'entropy',\n",
       " 'max_depth': 3,\n",
       " 'max_features': None,\n",
       " 'max_leaf_nodes': None,\n",
       " 'min_impurity_decrease': 0.0,\n",
       " 'min_samples_leaf': 1,\n",
       " 'min_samples_split': 2,\n",
       " 'min_weight_fraction_leaf': 0.0,\n",
       " 'random_state': None,\n",
       " 'splitter': 'best'}"
      ]
     },
     "execution_count": 3,
     "metadata": {},
     "output_type": "execute_result"
    }
   ],
   "source": [
    "print(\"Hiperparámetros del modelo entrenado previamente:\")\n",
    "dec_tree.get_params()"
   ]
  },
  {
   "cell_type": "markdown",
   "id": "0440fa97",
   "metadata": {},
   "source": [
    "## Alternativa: Hiperparámetro ccp_alpha\n",
    "- Los hiperparámetros revisados anteriormente contrarestan el overfitting _\"evitando que el árbol crezca demasiado\"_.\n",
    "- Otra alternativa es regularizar el árbol mediante su _\"poda\"_. Es decir, en lugar de evitar que el árbol crezca, simplemente _\"cortar ramas\"_ una vez que se ha generado el árbol.\n",
    "    - Esto es posible en versiones actuales de `sklearn` mediante el hiperparámetro `ccp_alpha`.\n",
    "    - A mayor valor de `ccp_alpha`, mayor poda de nodos (mayor generalización).\n",
    "    - Usualmente se usa valores pequeños, cercanos a 0.\n",
    "    - El tiempo de entrenamiento de 1 modelo es mayor, con el beneficio que el proceso de búsqueda de grilla en total puede ser menor ya que solo se busca valores de 1 hiperparámetro.\n",
    "    \n",
    "<a href=\"https://qu4nt.github.io/sklearn-doc-es/auto_examples/tree/plot_cost_complexity_pruning.html#sphx-glr-auto-examples-tree-plot-cost-complexity-pruning-py\">Documentación de sklearn (versión en español por qu4nt)</a>"
   ]
  },
  {
   "cell_type": "markdown",
   "id": "9c6ed72c",
   "metadata": {},
   "source": [
    "## Importancia relativa\n",
    "\n",
    "- Miden la influencia de un atributo en la decisión del árbol.\n",
    "- Atributos con una mayor carga se posicionarán antes en el proceso de decisión.\n",
    "- Cargas altas significan que la división fue más pura.\n",
    "- Cargas bajas no significan que el atributo sea irrelevante: Pueden significar que el modelo no evaluó bien en los atributos."
   ]
  },
  {
   "cell_type": "code",
   "execution_count": 4,
   "id": "c12af0b8",
   "metadata": {},
   "outputs": [
    {
     "data": {
      "image/png": "[encoded data removed]",
      "text/plain": [
       "<Figure size 576x396 with 1 Axes>"
      ]
     },
     "metadata": {},
     "output_type": "display_data"
    }
   ],
   "source": [
    "afx.plot_importance(dec_tree, X_mat.columns)\n",
    "plt.xlabel(\"Importancia relativa\");\n",
    "plt.ylabel('Atributos');"
   ]
  },
  {
   "cell_type": "code",
   "execution_count": null,
   "id": "abc76d4b",
   "metadata": {},
   "outputs": [],
   "source": []
  }
 ],
 "metadata": {
  "kernelspec": {
   "display_name": "Python 3.10.8 64-bit",
   "language": "python",
   "name": "python3"
  },
  "language_info": {
   "codemirror_mode": {
    "name": "ipython",
    "version": 3
   },
   "file_extension": ".py",
   "mimetype": "text/x-python",
   "name": "python",
   "nbconvert_exporter": "python",
   "pygments_lexer": "ipython3",
   "version": "3.10.8"
  },
  "vscode": {
   "interpreter": {
    "hash": "5fe23d4cdea1a1fdeea398f38169f58ea6e36b10f84ee4017a8f0fee693ee786"
   }
  }
 },
 "nbformat": 4,
 "nbformat_minor": 5
}
