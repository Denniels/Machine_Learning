{
 "cells": [
  {
   "cell_type": "markdown",
   "metadata": {},
   "source": [
    "### Motivación\n",
    "Hasta el momento, los modelos y técnicas predictivas se han basado en procesos\n",
    "matemáticos relativamente complejos que son entendibles para la máquina, pero no para\n",
    "nosotros. Lo ideal sería encontrar un modelo que combine un buen desempeño predictivo,\n",
    "junto con una interpretación más humana de los datos que incorporamos. Ya tenemos\n",
    "conocimiento sobre el enfoque de la regresión para modelar problemas, haciéndola atractiva\n",
    "dado su capacidad de interpretación. Ahora conoceremos los árboles de decisión, una\n",
    "técnica sustancialmente más entendible para el investigador.\n",
    "\n",
    "Los árboles de decisión se asemejan a la forma en que los seres humanos toman\n",
    "decisiones. Básicamente aprenden una jerarquía de preguntas en formato if/else que\n",
    "conllevan a una decisión. Para ejemplificar el caso de uso, imaginemos que nos pasan una\n",
    "serie de datos sobre animales y nos piden clasificarlos acorde a si son mamíferos o no. Los\n",
    "datos entregados tienen la siguiente estructura:"
   ]
  },
  {
   "cell_type": "code",
   "execution_count": 1,
   "metadata": {},
   "outputs": [],
   "source": [
    "import pandas as pd\n",
    "import numpy as np\n",
    "\n",
    "#from IPython.display import display\n",
    "#from PIL import Image\n",
    "\n",
    "import pydotplus\n",
    "from sklearn.tree import DecisionTreeClassifier\n",
    "from sklearn import tree\n",
    "#from sklearn.tree import DecisionTreeClassifier, DecisionTreeRegressor, export_graphviz\n",
    "from IPython.display import Image\n",
    "import lec7_graphs as afx\n",
    "\n",
    "import warnings\n",
    "warnings.filterwarnings('ignore')"
   ]
  },
  {
   "cell_type": "code",
   "execution_count": 2,
   "metadata": {},
   "outputs": [],
   "source": [
    "df = pd.read_csv('Datasets/vertebrate.csv')"
   ]
  },
  {
   "cell_type": "code",
   "execution_count": 3,
   "metadata": {},
   "outputs": [
    {
     "data": {
      "text/html": [
       "<div>\n",
       "<style scoped>\n",
       "    .dataframe tbody tr th:only-of-type {\n",
       "        vertical-align: middle;\n",
       "    }\n",
       "\n",
       "    .dataframe tbody tr th {\n",
       "        vertical-align: top;\n",
       "    }\n",
       "\n",
       "    .dataframe thead th {\n",
       "        text-align: right;\n",
       "    }\n",
       "</style>\n",
       "<table border=\"1\" class=\"dataframe\">\n",
       "  <thead>\n",
       "    <tr style=\"text-align: right;\">\n",
       "      <th></th>\n",
       "      <th>name</th>\n",
       "      <th>warm_blood</th>\n",
       "      <th>gives_birth</th>\n",
       "      <th>aquatic</th>\n",
       "      <th>aerial</th>\n",
       "      <th>has_legs</th>\n",
       "      <th>hibernates</th>\n",
       "      <th>class</th>\n",
       "    </tr>\n",
       "  </thead>\n",
       "  <tbody>\n",
       "    <tr>\n",
       "      <th>1</th>\n",
       "      <td>python</td>\n",
       "      <td>0</td>\n",
       "      <td>0</td>\n",
       "      <td>0</td>\n",
       "      <td>0</td>\n",
       "      <td>0</td>\n",
       "      <td>1</td>\n",
       "      <td>reptiles</td>\n",
       "    </tr>\n",
       "    <tr>\n",
       "      <th>5</th>\n",
       "      <td>komodo</td>\n",
       "      <td>0</td>\n",
       "      <td>0</td>\n",
       "      <td>0</td>\n",
       "      <td>0</td>\n",
       "      <td>1</td>\n",
       "      <td>0</td>\n",
       "      <td>reptiles</td>\n",
       "    </tr>\n",
       "    <tr>\n",
       "      <th>8</th>\n",
       "      <td>cat</td>\n",
       "      <td>1</td>\n",
       "      <td>1</td>\n",
       "      <td>0</td>\n",
       "      <td>0</td>\n",
       "      <td>1</td>\n",
       "      <td>0</td>\n",
       "      <td>mammals</td>\n",
       "    </tr>\n",
       "    <tr>\n",
       "      <th>10</th>\n",
       "      <td>turtle</td>\n",
       "      <td>0</td>\n",
       "      <td>0</td>\n",
       "      <td>1</td>\n",
       "      <td>0</td>\n",
       "      <td>1</td>\n",
       "      <td>0</td>\n",
       "      <td>reptiles</td>\n",
       "    </tr>\n",
       "    <tr>\n",
       "      <th>6</th>\n",
       "      <td>bat</td>\n",
       "      <td>1</td>\n",
       "      <td>1</td>\n",
       "      <td>0</td>\n",
       "      <td>1</td>\n",
       "      <td>1</td>\n",
       "      <td>1</td>\n",
       "      <td>mammals</td>\n",
       "    </tr>\n",
       "    <tr>\n",
       "      <th>11</th>\n",
       "      <td>penguin</td>\n",
       "      <td>1</td>\n",
       "      <td>0</td>\n",
       "      <td>1</td>\n",
       "      <td>0</td>\n",
       "      <td>1</td>\n",
       "      <td>0</td>\n",
       "      <td>birds</td>\n",
       "    </tr>\n",
       "    <tr>\n",
       "      <th>2</th>\n",
       "      <td>salmon</td>\n",
       "      <td>0</td>\n",
       "      <td>0</td>\n",
       "      <td>1</td>\n",
       "      <td>0</td>\n",
       "      <td>0</td>\n",
       "      <td>0</td>\n",
       "      <td>fishes</td>\n",
       "    </tr>\n",
       "    <tr>\n",
       "      <th>3</th>\n",
       "      <td>whale</td>\n",
       "      <td>1</td>\n",
       "      <td>1</td>\n",
       "      <td>1</td>\n",
       "      <td>0</td>\n",
       "      <td>0</td>\n",
       "      <td>0</td>\n",
       "      <td>mammals</td>\n",
       "    </tr>\n",
       "    <tr>\n",
       "      <th>7</th>\n",
       "      <td>pigeon</td>\n",
       "      <td>1</td>\n",
       "      <td>0</td>\n",
       "      <td>0</td>\n",
       "      <td>1</td>\n",
       "      <td>1</td>\n",
       "      <td>0</td>\n",
       "      <td>birds</td>\n",
       "    </tr>\n",
       "    <tr>\n",
       "      <th>12</th>\n",
       "      <td>porcupine</td>\n",
       "      <td>1</td>\n",
       "      <td>1</td>\n",
       "      <td>0</td>\n",
       "      <td>0</td>\n",
       "      <td>1</td>\n",
       "      <td>1</td>\n",
       "      <td>mammals</td>\n",
       "    </tr>\n",
       "    <tr>\n",
       "      <th>4</th>\n",
       "      <td>frog</td>\n",
       "      <td>0</td>\n",
       "      <td>0</td>\n",
       "      <td>1</td>\n",
       "      <td>0</td>\n",
       "      <td>1</td>\n",
       "      <td>1</td>\n",
       "      <td>amphibians</td>\n",
       "    </tr>\n",
       "    <tr>\n",
       "      <th>9</th>\n",
       "      <td>leopard shark</td>\n",
       "      <td>0</td>\n",
       "      <td>1</td>\n",
       "      <td>1</td>\n",
       "      <td>0</td>\n",
       "      <td>0</td>\n",
       "      <td>0</td>\n",
       "      <td>fishes</td>\n",
       "    </tr>\n",
       "    <tr>\n",
       "      <th>13</th>\n",
       "      <td>eel</td>\n",
       "      <td>0</td>\n",
       "      <td>0</td>\n",
       "      <td>1</td>\n",
       "      <td>0</td>\n",
       "      <td>0</td>\n",
       "      <td>0</td>\n",
       "      <td>fishes</td>\n",
       "    </tr>\n",
       "    <tr>\n",
       "      <th>14</th>\n",
       "      <td>salamander</td>\n",
       "      <td>0</td>\n",
       "      <td>0</td>\n",
       "      <td>1</td>\n",
       "      <td>0</td>\n",
       "      <td>1</td>\n",
       "      <td>1</td>\n",
       "      <td>amphibians</td>\n",
       "    </tr>\n",
       "    <tr>\n",
       "      <th>0</th>\n",
       "      <td>human</td>\n",
       "      <td>1</td>\n",
       "      <td>1</td>\n",
       "      <td>0</td>\n",
       "      <td>0</td>\n",
       "      <td>1</td>\n",
       "      <td>0</td>\n",
       "      <td>mammals</td>\n",
       "    </tr>\n",
       "  </tbody>\n",
       "</table>\n",
       "</div>"
      ],
      "text/plain": [
       "             name  warm_blood  gives_birth  aquatic  aerial  has_legs  \\\n",
       "1          python           0            0        0       0         0   \n",
       "5          komodo           0            0        0       0         1   \n",
       "8             cat           1            1        0       0         1   \n",
       "10         turtle           0            0        1       0         1   \n",
       "6             bat           1            1        0       1         1   \n",
       "11        penguin           1            0        1       0         1   \n",
       "2          salmon           0            0        1       0         0   \n",
       "3           whale           1            1        1       0         0   \n",
       "7          pigeon           1            0        0       1         1   \n",
       "12      porcupine           1            1        0       0         1   \n",
       "4            frog           0            0        1       0         1   \n",
       "9   leopard shark           0            1        1       0         0   \n",
       "13            eel           0            0        1       0         0   \n",
       "14     salamander           0            0        1       0         1   \n",
       "0           human           1            1        0       0         1   \n",
       "\n",
       "    hibernates       class  \n",
       "1            1    reptiles  \n",
       "5            0    reptiles  \n",
       "8            0     mammals  \n",
       "10           0    reptiles  \n",
       "6            1     mammals  \n",
       "11           0       birds  \n",
       "2            0      fishes  \n",
       "3            0     mammals  \n",
       "7            0       birds  \n",
       "12           1     mammals  \n",
       "4            1  amphibians  \n",
       "9            0      fishes  \n",
       "13           0      fishes  \n",
       "14           1  amphibians  \n",
       "0            0     mammals  "
      ]
     },
     "execution_count": 3,
     "metadata": {},
     "output_type": "execute_result"
    }
   ],
   "source": [
    "df.sample(15, random_state = 15820)"
   ]
  },
  {
   "cell_type": "markdown",
   "metadata": {},
   "source": [
    "Tenemos los siguientes atributos para cada animal: Si son de sangre caliente, si dan a luz, si\n",
    "son acuáticos o aéreos, si tienen piernas e hibernan. El objetivo de un árbol de decisión es\n",
    "identificar qué atributos facilitan la discriminación de nuestra respuesta. Sabemos de\n",
    "antemano que las principales características de un mamífero son que den a luz y que tengan\n",
    "sangre caliente. Lo que buscamos es realizar una pregunta a cada atributo sobre cada\n",
    "observación, y posteriormente seguir realizando preguntas hasta que nuestras categorías.\n",
    "Mientras que para nosotros la discriminación de atributos es intuitiva y fácil de implementar,\n",
    "una máquina necesita más pasos.\n",
    "\n",
    "Para un árbol de decisión, el proceso de discriminación de clases implica identificar qué\n",
    "atributos facilitan la discriminación y qué tan pura es la discriminación en cada fase.\n",
    "Tomemos como ejemplo la figura realizada con afx.demo_classsification_tree.\n",
    "Partimos con una pregunta inicial que se conoce como nodo, ¿Da a luz el animal?. Con 15\n",
    "observaciones observamos que hay 9 observaciones que no dan a luz y por tanto no son\n",
    "mamíferos. Cuando una pregunta llega a un punto de pureza (sólo existe una clase en su\n",
    "partición), no hay preguntas por realizar y el proceso para esta fase se conoce como nodo\n",
    "terminal o hoja."
   ]
  },
  {
   "cell_type": "code",
   "execution_count": 4,
   "metadata": {},
   "outputs": [],
   "source": [
    "# recodificamos en mamiferos/no mamiferos\n",
    "df['class'] = df['class'].replace(['fishes','birds','amphibians','reptiles'],'no-mamiferos')\n",
    "# guardamos los nombres de las clases en un nuevo objeto\n",
    "store_y_labels = df['class'].unique()\n",
    "# recodificamos de forma binaria\n",
    "df['class'] = np.where(df['class'] == 'mammals', 1, 0)\n",
    "# eliminamos atributos irrelevantes de la matriz de atributos\n",
    "X_mat = df.drop(columns=['name', 'class'])\n",
    "# Implementamos nuestra función y la guardamos en un nuevo objeto\n",
    "dec_tree = afx.demo_classfication_tree(X_mat, df['class'], store_y_labels)"
   ]
  },
  {
   "cell_type": "code",
   "execution_count": 5,
   "metadata": {},
   "outputs": [
    {
     "data": {
      "image/png": "[encoded data removed]",
      "text/plain": [
       "<IPython.core.display.Image object>"
      ]
     },
     "execution_count": 5,
     "metadata": {},
     "output_type": "execute_result"
    }
   ],
   "source": [
    "# renderizamos el objeto\n",
    "Image(dec_tree.create_png())"
   ]
  },
  {
   "cell_type": "code",
   "execution_count": 6,
   "metadata": {},
   "outputs": [],
   "source": [
    "# Crear un objeto clasificvador arbol de desicion\n",
    "clf = DecisionTreeClassifier(random_state = 15820)"
   ]
  },
  {
   "cell_type": "code",
   "execution_count": 7,
   "metadata": {},
   "outputs": [],
   "source": [
    "# Entrebamiento del modelo\n",
    "model = clf.fit(X_mat, df['class'])"
   ]
  },
  {
   "cell_type": "code",
   "execution_count": 8,
   "metadata": {},
   "outputs": [
    {
     "data": {
      "image/png": "[encoded data removed]",
      "text/plain": [
       "<IPython.core.display.Image object>"
      ]
     },
     "execution_count": 8,
     "metadata": {},
     "output_type": "execute_result"
    }
   ],
   "source": [
    "# Crear datos DOT\n",
    "dot_data = tree.export_graphviz(clf, out_file = None, feature_names = X_mat.columns,\n",
    "                                class_names = store_y_labels, filled = True, rounded = True,\n",
    "                                impurity = False)\n",
    "\n",
    "# Dibujar graficas\n",
    "graph = pydotplus.graph_from_dot_data(dot_data)  \n",
    "\n",
    "# Mostrar graficas\n",
    "Image(graph.create_png())"
   ]
  },
  {
   "cell_type": "markdown",
   "metadata": {},
   "source": [
    "En este caso, observamos que posterior a la pregunta sobre cómo da a luz el animal, la\n",
    "siguiente pregunta es si el animal es de sangre caliente o no. El objetivo de esta pregunta es\n",
    "aumentar la pureza de la partición. Es en este nodo donde logramos identificar todos los\n",
    "mamíferos. Otro análogo al proceso es mediante el desarrollo de queries:\n",
    "\n",
    "### Query 1: ¿Dá a luz?\n",
    "- Separamos entre los grupos con respuesta positiva:\n"
   ]
  },
  {
   "cell_type": "code",
   "execution_count": 9,
   "metadata": {},
   "outputs": [],
   "source": [
    "question_1_pos = df.query('gives_birth == 1')"
   ]
  },
  {
   "cell_type": "markdown",
   "metadata": {},
   "source": [
    "- Y el grupo con respuesta negativa:"
   ]
  },
  {
   "cell_type": "code",
   "execution_count": 10,
   "metadata": {},
   "outputs": [],
   "source": [
    "question_1_neg = df.query('gives_birth == 0')"
   ]
  },
  {
   "cell_type": "markdown",
   "metadata": {},
   "source": [
    "- Investigamos la pureza de la clase. Para los animales que no dan a luz, no hay casos identificados como mamíferos. Por tanto no podemos seguir preguntando."
   ]
  },
  {
   "cell_type": "code",
   "execution_count": 11,
   "metadata": {},
   "outputs": [
    {
     "data": {
      "text/plain": [
       "0    9\n",
       "Name: class, dtype: int64"
      ]
     },
     "execution_count": 11,
     "metadata": {},
     "output_type": "execute_result"
    }
   ],
   "source": [
    "question_1_neg['class'].value_counts()"
   ]
  },
  {
   "cell_type": "markdown",
   "metadata": {},
   "source": [
    "- Investigamos la pureza de la clase para los casos negativos. Para los animales que si dan a luz, hay 1 que no es mamífero. Podemos seguir analizando este subconjunto."
   ]
  },
  {
   "cell_type": "code",
   "execution_count": 12,
   "metadata": {},
   "outputs": [
    {
     "data": {
      "text/plain": [
       "1    5\n",
       "0    1\n",
       "Name: class, dtype: int64"
      ]
     },
     "execution_count": 12,
     "metadata": {},
     "output_type": "execute_result"
    }
   ],
   "source": [
    "question_1_pos['class'].value_counts()"
   ]
  },
  {
   "cell_type": "markdown",
   "metadata": {},
   "source": [
    "### Query 2: ¿Es de sangre caliente?\n",
    "- En base al subgrupo podemos separar entre los grupos con respuesta positiva.\n"
   ]
  },
  {
   "cell_type": "code",
   "execution_count": 13,
   "metadata": {},
   "outputs": [],
   "source": [
    "question_2_pos = question_1_pos.query('warm_blood == 1')"
   ]
  },
  {
   "cell_type": "markdown",
   "metadata": {},
   "source": [
    "- El grupo con respuesta negativa."
   ]
  },
  {
   "cell_type": "code",
   "execution_count": 14,
   "metadata": {},
   "outputs": [],
   "source": [
    "question_2_neg = question_1_pos.query('warm_blood == 0')"
   ]
  },
  {
   "cell_type": "markdown",
   "metadata": {},
   "source": [
    "\n",
    "- Investigamos la pureza de la clase. Para los animales con sangre caliente, todos los casos identificados son mamíferos y alcanzamos pureza."
   ]
  },
  {
   "cell_type": "code",
   "execution_count": 15,
   "metadata": {},
   "outputs": [
    {
     "data": {
      "text/plain": [
       "1    5\n",
       "Name: class, dtype: int64"
      ]
     },
     "execution_count": 15,
     "metadata": {},
     "output_type": "execute_result"
    }
   ],
   "source": [
    "question_2_pos['class'].value_counts()"
   ]
  },
  {
   "cell_type": "code",
   "execution_count": 16,
   "metadata": {},
   "outputs": [
    {
     "data": {
      "text/plain": [
       "0    1\n",
       "Name: class, dtype: int64"
      ]
     },
     "execution_count": 16,
     "metadata": {},
     "output_type": "execute_result"
    }
   ],
   "source": [
    "question_2_neg['class'].value_counts()"
   ]
  },
  {
   "cell_type": "markdown",
   "metadata": {},
   "source": [
    "Lo que realizamos arriba se conoce como un proceso de búsqueda greedy: buscamos\n",
    "optimizar de forma local en base a la pregunta. Resulta que las máquinas toman en cuenta\n",
    "otros atributos y procesos para realizar una partición con pureza."
   ]
  }
 ],
 "metadata": {
  "kernelspec": {
   "display_name": "Python 3.10.8 64-bit",
   "language": "python",
   "name": "python3"
  },
  "language_info": {
   "codemirror_mode": {
    "name": "ipython",
    "version": 3
   },
   "file_extension": ".py",
   "mimetype": "text/x-python",
   "name": "python",
   "nbconvert_exporter": "python",
   "pygments_lexer": "ipython3",
   "version": "3.10.8"
  },
  "orig_nbformat": 4,
  "vscode": {
   "interpreter": {
    "hash": "5fe23d4cdea1a1fdeea398f38169f58ea6e36b10f84ee4017a8f0fee693ee786"
   }
  }
 },
 "nbformat": 4,
 "nbformat_minor": 2
}
