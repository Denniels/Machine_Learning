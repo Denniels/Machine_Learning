{
 "cells": [
  {
   "cell_type": "markdown",
   "metadata": {},
   "source": [
    "### Desafío - Random Forest\n",
    "- Para realizar este desafío debes haber estudiado previamente todo el material\n",
    "  disponibilizado correspondiente a la unidad.\n",
    "- Una vez terminado el desafío, comprime la carpeta que contiene el desarrollo de los\n",
    "  requerimientos solicitados y sube el .zip en el LMS.\n",
    "- Desarrollo desafío:\n",
    "  - El desafío se debe desarrollar de manera Individual.\n",
    "  - Para la realización del desafío necesitarás apoyarte del archivo Apoyo Desafío Random Forest.\n",
    "\n",
    "#### Requerimientos\n",
    "- Para esta sesión trabajaremos con una base de datos sobre los precios de\n",
    "  inmuebles en la ciudad de Ames, Iowa. La base se compone de 2930 registros y\n",
    "  contiene un gran número de atributos.\n",
    "- Nuestro objetivo es generar un modelo que prediga de forma adecuada los precios\n",
    "  de inmuebles, medidos con la variable Sale_Price.\n",
    "- A diferencia de otras sesiones donde implementamos el preprocesamiento a mano,\n",
    "  ahora haremos uso de los archivos serializados en la sesión pasada.\n",
    "\n",
    "#### Ejercicio 1: Preparación del ambiente de trabajo\n",
    "- Importe las librerías clásicas a utilizar.\n",
    "- Para este ejercicio Random Forest de Regresión.\n",
    "- De manera adicional importe las funciones y clases necesarias para generar un\n",
    "  desempeño de métricas en problemas de regresión.\n",
    "- Elimine la columna 'Unnamed: 0' cuando cargue los datos."
   ]
  },
  {
   "cell_type": "code",
   "execution_count": null,
   "metadata": {},
   "outputs": [],
   "source": []
  },
  {
   "cell_type": "code",
   "execution_count": null,
   "metadata": {},
   "outputs": [],
   "source": []
  },
  {
   "cell_type": "markdown",
   "metadata": {},
   "source": [
    "#### Ejercicio 2: Importación de archivos serializados\n",
    "- Importe su modelo entrenado y sus conjuntos de entrenamiento y validación\n",
    "  serializados la sesión pasada y evalúe el desempeño del modelo de su compañero\n",
    "  con el suyo ¿Cuál es mejor? Si no puede ejecutar el modelo, comente cuáles pueden\n",
    "  ser los causantes.\n",
    "- No es necesario que realice diagnósticos gráficos sobre el modelo, sólo reporte sus\n",
    "  métricas.\n",
    "- Para importar un archivo seria"
   ]
  },
  {
   "cell_type": "code",
   "execution_count": null,
   "metadata": {},
   "outputs": [],
   "source": [
    "import pickle\n",
    "read_model = pickle.load(open(\"ignacio-soto-act07.sav\",\"rb\"))"
   ]
  },
  {
   "cell_type": "code",
   "execution_count": null,
   "metadata": {},
   "outputs": [],
   "source": []
  },
  {
   "cell_type": "markdown",
   "metadata": {},
   "source": [
    "#### Ejercicio 3: Evaluación Random Forest\n",
    "- En base a los conjuntos de entrenamiento serializados, genere un modelo utilizando\n",
    "  sklearn.ensemble.RandomForest sin modificar hiper parámetros, sólo declarando\n",
    "  la semilla pseudoaleatoria.\n",
    "- Reporte su desempeño y compárelo con su modelo de la sesión pasada, así como\n",
    "  con el de su compañero."
   ]
  },
  {
   "cell_type": "code",
   "execution_count": null,
   "metadata": {},
   "outputs": [],
   "source": []
  },
  {
   "cell_type": "code",
   "execution_count": null,
   "metadata": {},
   "outputs": [],
   "source": []
  },
  {
   "cell_type": "markdown",
   "metadata": {},
   "source": [
    "#### Ejercicio 4: Reporte las métricas de desempeño\n",
    "- Para afinar el comportamiento de nuestro modelo, evalúe su desempeño los\n",
    "  siguientes hiper parámetros:\n",
    "  - max_features: None, log2, sqrt.\n",
    "  - n_estimators: Evaluar entre 20 y 1000 en pasos de 50.\n",
    "- Guarde la tasa de error en la exactitud medida con OOB.\n",
    "- Grafique el comportamiento."
   ]
  },
  {
   "cell_type": "code",
   "execution_count": null,
   "metadata": {},
   "outputs": [],
   "source": []
  },
  {
   "cell_type": "code",
   "execution_count": null,
   "metadata": {},
   "outputs": [],
   "source": []
  },
  {
   "cell_type": "markdown",
   "metadata": {},
   "source": [
    "#### Ejercicio 5: Refactoriza el modelo\n",
    "- En base a la mejor combinación de hiper parámetros, reentrene el modelo y comente\n",
    "  su desempeño."
   ]
  }
 ],
 "metadata": {
  "kernelspec": {
   "display_name": "Python 3.10.8 64-bit",
   "language": "python",
   "name": "python3"
  },
  "language_info": {
   "name": "python",
   "version": "3.10.8"
  },
  "orig_nbformat": 4,
  "vscode": {
   "interpreter": {
    "hash": "5fe23d4cdea1a1fdeea398f38169f58ea6e36b10f84ee4017a8f0fee693ee786"
   }
  }
 },
 "nbformat": 4,
 "nbformat_minor": 2
}
