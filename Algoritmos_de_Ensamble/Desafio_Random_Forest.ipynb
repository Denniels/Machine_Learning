{
 "cells": [
  {
   "cell_type": "markdown",
   "metadata": {},
   "source": [
    "### Desafío - Random Forest\n",
    "- Para realizar este desafío debes haber estudiado previamente todo el material\n",
    "  disponibilizado correspondiente a la unidad.\n",
    "- Una vez terminado el desafío, comprime la carpeta que contiene el desarrollo de los\n",
    "  requerimientos solicitados y sube el .zip en el LMS.\n",
    "- Desarrollo desafío:\n",
    "  - El desafío se debe desarrollar de manera Individual.\n",
    "  - Para la realización del desafío necesitarás apoyarte del archivo Apoyo Desafío Random Forest.\n",
    "\n",
    "#### Requerimientos\n",
    "- Para esta sesión trabajaremos con una base de datos sobre los precios de\n",
    "  inmuebles en la ciudad de Ames, Iowa. La base se compone de 2930 registros y\n",
    "  contiene un gran número de atributos.\n",
    "- Nuestro objetivo es generar un modelo que prediga de forma adecuada los precios\n",
    "  de inmuebles, medidos con la variable Sale_Price.\n",
    "- A diferencia de otras sesiones donde implementamos el preprocesamiento a mano,\n",
    "  ahora haremos uso de los archivos serializados en la sesión pasada.\n",
    "\n",
    "#### Ejercicio 1: Preparación del ambiente de trabajo\n",
    "- Importe las librerías clásicas a utilizar.\n",
    "- Para este ejercicio Random Forest de Regresión.\n",
    "- De manera adicional importe las funciones y clases necesarias para generar un\n",
    "  desempeño de métricas en problemas de regresión.\n",
    "- Elimine la columna 'Unnamed: 0' cuando cargue los datos."
   ]
  },
  {
   "cell_type": "code",
   "execution_count": 1,
   "metadata": {},
   "outputs": [],
   "source": [
    "%matplotlib inline\n",
    "import pandas as pd\n",
    "import numpy as np\n",
    "from scipy import stats\n",
    "import matplotlib.pyplot as plt\n",
    "import seaborn as sns\n",
    "import pickle\n",
    "\n",
    "from sklearn.ensemble import RandomForestRegressor\n",
    "from sklearn.metrics import mean_squared_error, median_absolute_error, r2_score\n",
    "\n",
    "import warnings\n",
    "warnings.filterwarnings('ignore')\n",
    "\n",
    "plt.style.use('ggplot')\n",
    "plt.rcParams['figure.figsize'] = (10, 6)"
   ]
  },
  {
   "cell_type": "code",
   "execution_count": 2,
   "metadata": {},
   "outputs": [
    {
     "data": {
      "text/html": [
       "<div>\n",
       "<style scoped>\n",
       "    .dataframe tbody tr th:only-of-type {\n",
       "        vertical-align: middle;\n",
       "    }\n",
       "\n",
       "    .dataframe tbody tr th {\n",
       "        vertical-align: top;\n",
       "    }\n",
       "\n",
       "    .dataframe thead th {\n",
       "        text-align: right;\n",
       "    }\n",
       "</style>\n",
       "<table border=\"1\" class=\"dataframe\">\n",
       "  <thead>\n",
       "    <tr style=\"text-align: right;\">\n",
       "      <th></th>\n",
       "      <th>MS_SubClass</th>\n",
       "      <th>MS_Zoning</th>\n",
       "      <th>Lot_Frontage</th>\n",
       "      <th>Lot_Area</th>\n",
       "      <th>Street</th>\n",
       "      <th>Alley</th>\n",
       "      <th>Lot_Shape</th>\n",
       "      <th>Land_Contour</th>\n",
       "      <th>Utilities</th>\n",
       "      <th>Lot_Config</th>\n",
       "      <th>...</th>\n",
       "      <th>Fence</th>\n",
       "      <th>Misc_Feature</th>\n",
       "      <th>Misc_Val</th>\n",
       "      <th>Mo_Sold</th>\n",
       "      <th>Year_Sold</th>\n",
       "      <th>Sale_Type</th>\n",
       "      <th>Sale_Condition</th>\n",
       "      <th>Sale_Price</th>\n",
       "      <th>Longitude</th>\n",
       "      <th>Latitude</th>\n",
       "    </tr>\n",
       "  </thead>\n",
       "  <tbody>\n",
       "    <tr>\n",
       "      <th>2675</th>\n",
       "      <td>One_and_Half_Story_Finished_All_Ages</td>\n",
       "      <td>Residential_Medium_Density</td>\n",
       "      <td>52</td>\n",
       "      <td>6240</td>\n",
       "      <td>Pave</td>\n",
       "      <td>No_Alley_Access</td>\n",
       "      <td>Regular</td>\n",
       "      <td>Lvl</td>\n",
       "      <td>AllPub</td>\n",
       "      <td>Inside</td>\n",
       "      <td>...</td>\n",
       "      <td>Minimum_Privacy</td>\n",
       "      <td>Shed</td>\n",
       "      <td>400</td>\n",
       "      <td>9</td>\n",
       "      <td>2006</td>\n",
       "      <td>WD</td>\n",
       "      <td>Normal</td>\n",
       "      <td>114500</td>\n",
       "      <td>-93.623642</td>\n",
       "      <td>42.032299</td>\n",
       "    </tr>\n",
       "    <tr>\n",
       "      <th>649</th>\n",
       "      <td>One_Story_1946_and_Newer_All_Styles</td>\n",
       "      <td>Residential_Low_Density</td>\n",
       "      <td>75</td>\n",
       "      <td>9533</td>\n",
       "      <td>Pave</td>\n",
       "      <td>No_Alley_Access</td>\n",
       "      <td>Regular</td>\n",
       "      <td>Lvl</td>\n",
       "      <td>AllPub</td>\n",
       "      <td>Inside</td>\n",
       "      <td>...</td>\n",
       "      <td>Minimum_Privacy</td>\n",
       "      <td>None</td>\n",
       "      <td>0</td>\n",
       "      <td>8</td>\n",
       "      <td>2009</td>\n",
       "      <td>ConLD</td>\n",
       "      <td>Normal</td>\n",
       "      <td>102900</td>\n",
       "      <td>-93.618607</td>\n",
       "      <td>42.034686</td>\n",
       "    </tr>\n",
       "    <tr>\n",
       "      <th>784</th>\n",
       "      <td>One_Story_1945_and_Older</td>\n",
       "      <td>Residential_Low_Density</td>\n",
       "      <td>0</td>\n",
       "      <td>12342</td>\n",
       "      <td>Pave</td>\n",
       "      <td>No_Alley_Access</td>\n",
       "      <td>Slightly_Irregular</td>\n",
       "      <td>Lvl</td>\n",
       "      <td>AllPub</td>\n",
       "      <td>Inside</td>\n",
       "      <td>...</td>\n",
       "      <td>No_Fence</td>\n",
       "      <td>None</td>\n",
       "      <td>0</td>\n",
       "      <td>3</td>\n",
       "      <td>2009</td>\n",
       "      <td>WD</td>\n",
       "      <td>Normal</td>\n",
       "      <td>82500</td>\n",
       "      <td>-93.672157</td>\n",
       "      <td>42.024028</td>\n",
       "    </tr>\n",
       "    <tr>\n",
       "      <th>2448</th>\n",
       "      <td>Two_Story_1946_and_Newer</td>\n",
       "      <td>Residential_Low_Density</td>\n",
       "      <td>93</td>\n",
       "      <td>12090</td>\n",
       "      <td>Pave</td>\n",
       "      <td>No_Alley_Access</td>\n",
       "      <td>Regular</td>\n",
       "      <td>Lvl</td>\n",
       "      <td>AllPub</td>\n",
       "      <td>Corner</td>\n",
       "      <td>...</td>\n",
       "      <td>No_Fence</td>\n",
       "      <td>None</td>\n",
       "      <td>0</td>\n",
       "      <td>7</td>\n",
       "      <td>2006</td>\n",
       "      <td>WD</td>\n",
       "      <td>Abnorml</td>\n",
       "      <td>258000</td>\n",
       "      <td>-93.650059</td>\n",
       "      <td>42.053466</td>\n",
       "    </tr>\n",
       "    <tr>\n",
       "      <th>229</th>\n",
       "      <td>One_Story_1946_and_Newer_All_Styles</td>\n",
       "      <td>Residential_Low_Density</td>\n",
       "      <td>0</td>\n",
       "      <td>20062</td>\n",
       "      <td>Pave</td>\n",
       "      <td>No_Alley_Access</td>\n",
       "      <td>Slightly_Irregular</td>\n",
       "      <td>Low</td>\n",
       "      <td>AllPub</td>\n",
       "      <td>Inside</td>\n",
       "      <td>...</td>\n",
       "      <td>No_Fence</td>\n",
       "      <td>None</td>\n",
       "      <td>0</td>\n",
       "      <td>4</td>\n",
       "      <td>2010</td>\n",
       "      <td>WD</td>\n",
       "      <td>Normal</td>\n",
       "      <td>270000</td>\n",
       "      <td>-93.670114</td>\n",
       "      <td>42.030090</td>\n",
       "    </tr>\n",
       "  </tbody>\n",
       "</table>\n",
       "<p>5 rows × 81 columns</p>\n",
       "</div>"
      ],
      "text/plain": [
       "                               MS_SubClass                   MS_Zoning  \\\n",
       "2675  One_and_Half_Story_Finished_All_Ages  Residential_Medium_Density   \n",
       "649    One_Story_1946_and_Newer_All_Styles     Residential_Low_Density   \n",
       "784               One_Story_1945_and_Older     Residential_Low_Density   \n",
       "2448              Two_Story_1946_and_Newer     Residential_Low_Density   \n",
       "229    One_Story_1946_and_Newer_All_Styles     Residential_Low_Density   \n",
       "\n",
       "      Lot_Frontage  Lot_Area Street            Alley           Lot_Shape  \\\n",
       "2675            52      6240   Pave  No_Alley_Access             Regular   \n",
       "649             75      9533   Pave  No_Alley_Access             Regular   \n",
       "784              0     12342   Pave  No_Alley_Access  Slightly_Irregular   \n",
       "2448            93     12090   Pave  No_Alley_Access             Regular   \n",
       "229              0     20062   Pave  No_Alley_Access  Slightly_Irregular   \n",
       "\n",
       "     Land_Contour Utilities Lot_Config  ...            Fence Misc_Feature  \\\n",
       "2675          Lvl    AllPub     Inside  ...  Minimum_Privacy         Shed   \n",
       "649           Lvl    AllPub     Inside  ...  Minimum_Privacy         None   \n",
       "784           Lvl    AllPub     Inside  ...         No_Fence         None   \n",
       "2448          Lvl    AllPub     Corner  ...         No_Fence         None   \n",
       "229           Low    AllPub     Inside  ...         No_Fence         None   \n",
       "\n",
       "     Misc_Val Mo_Sold Year_Sold Sale_Type Sale_Condition Sale_Price  \\\n",
       "2675      400       9      2006       WD          Normal     114500   \n",
       "649         0       8      2009     ConLD         Normal     102900   \n",
       "784         0       3      2009       WD          Normal      82500   \n",
       "2448        0       7      2006       WD         Abnorml     258000   \n",
       "229         0       4      2010       WD          Normal     270000   \n",
       "\n",
       "      Longitude   Latitude  \n",
       "2675 -93.623642  42.032299  \n",
       "649  -93.618607  42.034686  \n",
       "784  -93.672157  42.024028  \n",
       "2448 -93.650059  42.053466  \n",
       "229  -93.670114  42.030090  \n",
       "\n",
       "[5 rows x 81 columns]"
      ]
     },
     "execution_count": 2,
     "metadata": {},
     "output_type": "execute_result"
    }
   ],
   "source": [
    "df = pd.read_csv('Datasets/ames_housing.csv').drop('Unnamed: 0', axis=1)\n",
    "df.sample(5, random_state = 15820)"
   ]
  },
  {
   "cell_type": "code",
   "execution_count": 3,
   "metadata": {},
   "outputs": [
    {
     "data": {
      "text/plain": [
       "(2930, 81)"
      ]
     },
     "execution_count": 3,
     "metadata": {},
     "output_type": "execute_result"
    }
   ],
   "source": [
    "df.shape"
   ]
  },
  {
   "cell_type": "markdown",
   "metadata": {},
   "source": [
    "#### Ejercicio 2: Importación de archivos serializados\n",
    "- Importe su modelo entrenado y sus conjuntos de entrenamiento y validación\n",
    "  serializados la sesión pasada y evalúe el desempeño del modelo de su compañero\n",
    "  con el suyo ¿Cuál es mejor? Si no puede ejecutar el modelo, comente cuáles pueden\n",
    "  ser los causantes.\n",
    "- No es necesario que realice diagnósticos gráficos sobre el modelo, sólo reporte sus\n",
    "  métricas.\n",
    "- Para importar un archivo seria"
   ]
  },
  {
   "cell_type": "code",
   "execution_count": 4,
   "metadata": {},
   "outputs": [],
   "source": [
    "pickle_dms = pickle.load(open('archivos/model_dms_def.sav','rb'))\n",
    "pickle_gr = pickle.load(open('archivos/gonzalo-rojas-actividad7.sav','rb'))\n",
    "pickle_jg = pickle.load(open('archivos/jorge_guerrero _1.sav','rb'))\n",
    "X_tra_pickle = pickle.load(open('archivos/X_train_dms.sav','rb'))\n",
    "y_tra_pickle = pickle.load(open('archivos/y_train_dms.sav','rb'))\n",
    "X_te_pickle = pickle.load(open('archivos/X_test_dms.sav','rb'))\n",
    "y_te_pickle = pickle.load(open('archivos/y_test_dms.sav','rb'))\n",
    "\n",
    "#pickle_dms_10 = pickle.load(open('archivos/model_dms_clr.sav','rb'))\n",
    "X_tra_pickle_10 = pickle.load(open('archivos/X_train.sav','rb'))\n",
    "#y_tra_pickle_10 = pickle.load(open('archivos/y_train.sav','rb'))\n",
    "X_te_pickle_10 = pickle.load(open('archivos/X_test.sav','rb'))\n",
    "#y_te_pickle_10 = pickle.load(open('archivos/y_test.sav','rb'))\n"
   ]
  },
  {
   "cell_type": "code",
   "execution_count": 5,
   "metadata": {},
   "outputs": [
    {
     "name": "stdout",
     "output_type": "stream",
     "text": [
      "Metricas modelo gonzalo rojas\n",
      "MSE: 86633.47994055772\n",
      "MAE: 45000.0\n",
      "R2 Score: -0.32055666271589933\n"
     ]
    }
   ],
   "source": [
    "y_hat_gr = pickle_gr.predict(X_te_pickle)\n",
    "\n",
    "print(f'''Metricas modelo gonzalo rojas\n",
    "MSE: {np.sqrt(mean_squared_error(y_te_pickle, y_hat_gr))}\n",
    "MAE: {median_absolute_error(y_te_pickle, y_hat_gr)}\n",
    "R2 Score: {r2_score(y_te_pickle, y_hat_gr)}''')"
   ]
  },
  {
   "cell_type": "code",
   "execution_count": 7,
   "metadata": {},
   "outputs": [],
   "source": [
    "X_te_pickle_10_drop = X_te_pickle_10.drop(columns = 'Sale_Price')"
   ]
  },
  {
   "cell_type": "code",
   "execution_count": 8,
   "metadata": {},
   "outputs": [
    {
     "name": "stdout",
     "output_type": "stream",
     "text": [
      "Metricas modelo jorgue guerrero\n",
      "MSE: 48931.46964710915\n",
      "MAE: 18400.0\n",
      "R2 Score: 0.5787285368468384\n"
     ]
    }
   ],
   "source": [
    "y_hat_jg = pickle_jg.predict(X_te_pickle_10_drop)\n",
    "\n",
    "print(f'''Metricas modelo jorge guerrero\n",
    "MSE: {np.sqrt(mean_squared_error(y_te_pickle, y_hat_jg))}\n",
    "MAE: {median_absolute_error(y_te_pickle, y_hat_jg)}\n",
    "R2 Score: {r2_score(y_te_pickle, y_hat_jg)}''')"
   ]
  },
  {
   "cell_type": "code",
   "execution_count": 16,
   "metadata": {},
   "outputs": [
    {
     "name": "stdout",
     "output_type": "stream",
     "text": [
      "Metricas que trae el modelo\n",
      "MSE: 38235.962900732935\n",
      "MAE: 15750.0\n",
      "R2 Score: 0.7427652813516173\n"
     ]
    }
   ],
   "source": [
    "y_hat = pickle_dms.predict(X_te_pickle)\n",
    "\n",
    "print(f'''Metricas que trae el modelo\n",
    "MSE: {np.sqrt(mean_squared_error(y_te_pickle, y_hat))}\n",
    "MAE: {median_absolute_error(y_te_pickle, y_hat)}\n",
    "R2 Score: {r2_score(y_te_pickle, y_hat)}''')"
   ]
  },
  {
   "cell_type": "markdown",
   "metadata": {},
   "source": [
    "Podemos observar que al intentar predecir con el modelo de gonzalo rojas, con mis datos de entrenamiento y validacion, el modelo presenta un muy mal ajuste, y el modelo de jorge guerrero si ajusta mejor a mis datos de entrenamiento y validacion que el modelo de gonzalo rojas, ahora el modelo entrenado por mi pickle_dms se ajusta muy bien con los mismos datos de entrenamiento y validacion probados en los modelos de mis compañeros."
   ]
  },
  {
   "cell_type": "markdown",
   "metadata": {},
   "source": [
    "#### Ejercicio 3: Evaluación Random Forest\n",
    "- En base a los conjuntos de entrenamiento serializados, genere un modelo utilizando\n",
    "  sklearn.ensemble.RandomForest sin modificar hiper parámetros, sólo declarando\n",
    "  la semilla pseudoaleatoria.\n",
    "- Reporte su desempeño y compárelo con su modelo de la sesión pasada, así como\n",
    "  con el de su compañero."
   ]
  },
  {
   "cell_type": "code",
   "execution_count": 9,
   "metadata": {},
   "outputs": [],
   "source": [
    "random_forest = RandomForestRegressor(random_state = 15820).fit(X_tra_pickle, y_tra_pickle)"
   ]
  },
  {
   "cell_type": "code",
   "execution_count": 10,
   "metadata": {},
   "outputs": [
    {
     "name": "stdout",
     "output_type": "stream",
     "text": [
      "Metricas modelo sin hiperparametros\n",
      "MSE: 27474.600281753395\n",
      "MAE: 9846.600000000006\n",
      "R2 Score: 0.8671846451990504\n"
     ]
    }
   ],
   "source": [
    "y_hat_rf = random_forest.predict(X_te_pickle)\n",
    "\n",
    "print(f'''Metricas modelo sin hiperparametros\n",
    "MSE: {np.sqrt(mean_squared_error(y_te_pickle, y_hat_rf))}\n",
    "MAE: {median_absolute_error(y_te_pickle, y_hat_rf)}\n",
    "R2 Score: {r2_score(y_te_pickle, y_hat_rf)}''')"
   ]
  },
  {
   "cell_type": "markdown",
   "metadata": {},
   "source": [
    "#### Ejercicio 4: Reporte las métricas de desempeño\n",
    "- Para afinar el comportamiento de nuestro modelo, evalúe su desempeño los\n",
    "  siguientes hiper parámetros:\n",
    "  - max_features: None, log2, sqrt.\n",
    "  - n_estimators: Evaluar entre 20 y 1000 en pasos de 50.\n",
    "- Guarde la tasa de error en la exactitud medida con OOB.\n",
    "- Grafique el comportamiento."
   ]
  },
  {
   "cell_type": "code",
   "execution_count": 11,
   "metadata": {},
   "outputs": [],
   "source": [
    "# generamos una serie de listas para guardar los valores\n",
    "tmp_oob_none, tmp_oob_sqrt,tmp_oob_log2 = [], [], []\n",
    "\n",
    "n_estimators = range(20, 1000, 25)\n",
    "\n",
    "# para cada rango de modelos estimados\n",
    "for i in n_estimators:\n",
    "    \n",
    "    # Implementamos una variante con todos los atributos\n",
    "    rf_none = RandomForestRegressor(n_estimators = i, max_features = None, oob_score = True, \n",
    "                            n_jobs = -1, random_state = 158).fit(X_tra_pickle, y_tra_pickle)\n",
    "    # Implementamos una variante donde los atributos se escogen con sqrt\n",
    "    rf_sqrt = RandomForestRegressor(n_estimators= i, max_features = \"sqrt\", warm_start = True, \n",
    "            n_jobs = -1, oob_score = True, random_state = 158).fit(X_tra_pickle, y_tra_pickle)\n",
    "    # Implementamos una variante donde los atributos se escogen con log\n",
    "    rf_log = RandomForestRegressor(n_estimators = i, max_features = \"log2\", warm_start = True, \n",
    "            n_jobs = -1, oob_score = True, random_state=158).fit(X_tra_pickle, y_tra_pickle)\n",
    "\n",
    "    # Estimamos el error en OOB\n",
    "    tmp_oob_none.append(1 - rf_none.oob_score_)\n",
    "    tmp_oob_sqrt.append(1 - rf_sqrt.oob_score_)\n",
    "    tmp_oob_log2.append(1 - rf_log.oob_score_)"
   ]
  },
  {
   "cell_type": "code",
   "execution_count": 12,
   "metadata": {},
   "outputs": [
    {
     "data": {
      "text/plain": [
       "<matplotlib.legend.Legend at 0x14119978b50>"
      ]
     },
     "execution_count": 12,
     "metadata": {},
     "output_type": "execute_result"
    },
    {
     "data": {
      "text/plain": [
       "<Figure size 864x288 with 0 Axes>"
      ]
     },
     "metadata": {},
     "output_type": "display_data"
    },
    {
     "data": {
      "image/png": "[encoded data removed]",
      "text/plain": [
       "<Figure size 720x432 with 3 Axes>"
      ]
     },
     "metadata": {},
     "output_type": "display_data"
    }
   ],
   "source": [
    "plt.figure(figsize = (12, 4))\n",
    "fig, axs = plt.subplots(1, 3, sharex = True, sharey = True)\n",
    "axs[0].plot(tmp_oob_log2, '.-', label = 'OOB error rate')\n",
    "axs[0].set_title('Log2')\n",
    "axs[1].plot(tmp_oob_sqrt,'.-', label = 'OOB error rate')\n",
    "axs[1].set_title('Squared Root')\n",
    "axs[2].plot(tmp_oob_none, '.-', label = 'OOB error rate')\n",
    "axs[2].set_title('None')\n",
    "plt.tight_layout()\n",
    "plt.legend()"
   ]
  },
  {
   "cell_type": "markdown",
   "metadata": {},
   "source": [
    "#### Ejercicio 5: Refactoriza el modelo\n",
    "- En base a la mejor combinación de hiper parámetros, reentrene el modelo y comente\n",
    "  su desempeño.\n",
    "\n",
    "Segun el grafico podemos apreciar que el menor OOB ERROR es con max_features = None y el mejor estimador en n_estimators = 40"
   ]
  },
  {
   "cell_type": "code",
   "execution_count": 13,
   "metadata": {},
   "outputs": [],
   "source": [
    "best_model_params = RandomForestRegressor(n_estimators = 40, max_features = None, warm_start = True, n_jobs = -1,\n",
    "                                            oob_score = True, random_state = 15820).fit(X_tra_pickle, y_tra_pickle)"
   ]
  },
  {
   "cell_type": "code",
   "execution_count": 14,
   "metadata": {},
   "outputs": [
    {
     "name": "stdout",
     "output_type": "stream",
     "text": [
      "Metricas modelo refactorizado\n",
      "MSE: 27481.161645550634\n",
      "MAE: 10079.299999999988\n",
      "R2 Score: 0.8671212008606657\n"
     ]
    }
   ],
   "source": [
    "y_hat_best = best_model_params.predict(X_te_pickle)\n",
    "\n",
    "print(f'''Metricas modelo refactorizado\n",
    "MSE: {np.sqrt(mean_squared_error(y_te_pickle, y_hat_best))}\n",
    "MAE: {median_absolute_error(y_te_pickle, y_hat_best)}\n",
    "R2 Score: {r2_score(y_te_pickle, y_hat_best)}''')"
   ]
  },
  {
   "cell_type": "code",
   "execution_count": 15,
   "metadata": {},
   "outputs": [
    {
     "name": "stdout",
     "output_type": "stream",
     "text": [
      "Metricas modelo sin hiperparametros\n",
      "MSE: 27474.600281753395\n",
      "MAE: 9846.600000000006\n",
      "R2 Score: 0.8671846451990504\n"
     ]
    }
   ],
   "source": [
    "y_hat_rf = random_forest.predict(X_te_pickle)\n",
    "\n",
    "print(f'''Metricas modelo sin hiperparametros\n",
    "MSE: {np.sqrt(mean_squared_error(y_te_pickle, y_hat_rf))}\n",
    "MAE: {median_absolute_error(y_te_pickle, y_hat_rf)}\n",
    "R2 Score: {r2_score(y_te_pickle, y_hat_rf)}''')"
   ]
  },
  {
   "cell_type": "code",
   "execution_count": 17,
   "metadata": {},
   "outputs": [
    {
     "name": "stdout",
     "output_type": "stream",
     "text": [
      "Metricas que trae el modelo\n",
      "MSE: 38235.962900732935\n",
      "MAE: 15750.0\n",
      "R2 Score: 0.7427652813516173\n"
     ]
    }
   ],
   "source": [
    "y_hat = pickle_dms.predict(X_te_pickle)\n",
    "\n",
    "print(f'''Metricas que trae el modelo\n",
    "MSE: {np.sqrt(mean_squared_error(y_te_pickle, y_hat))}\n",
    "MAE: {median_absolute_error(y_te_pickle, y_hat)}\n",
    "R2 Score: {r2_score(y_te_pickle, y_hat)}''')"
   ]
  },
  {
   "cell_type": "markdown",
   "metadata": {},
   "source": [
    "Podemos observar que el modelo sin hiper parametros presenta el msimo ajuste versus el modelo con hiper parametros y que el modelo serializado como viene, presenta un ajuste mas bajo que los modelos sin hiper parametros y refactorizado\n",
    "\n",
    "El modelo refactorizado presenta muy buenas metricas apesar de mantener el mismo ajust del modelo sin hiperparametros, podriamos quedarnos con el modelo refactorizado ya que por los procesos asociados al algortitmo de Random Forest, este evita el overfit manteniendo un buen ajuste."
   ]
  }
 ],
 "metadata": {
  "kernelspec": {
   "display_name": "Python 3 (ipykernel)",
   "language": "python",
   "name": "python3"
  },
  "language_info": {
   "codemirror_mode": {
    "name": "ipython",
    "version": 3
   },
   "file_extension": ".py",
   "mimetype": "text/x-python",
   "name": "python",
   "nbconvert_exporter": "python",
   "pygments_lexer": "ipython3",
   "version": "3.10.8"
  },
  "vscode": {
   "interpreter": {
    "hash": "5fe23d4cdea1a1fdeea398f38169f58ea6e36b10f84ee4017a8f0fee693ee786"
   }
  }
 },
 "nbformat": 4,
 "nbformat_minor": 4
}
