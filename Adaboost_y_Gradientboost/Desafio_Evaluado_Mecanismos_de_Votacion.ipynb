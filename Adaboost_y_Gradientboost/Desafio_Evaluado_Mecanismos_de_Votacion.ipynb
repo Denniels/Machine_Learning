{
 "cells": [
  {
   "cell_type": "markdown",
   "id": "8d5d6d7b",
   "metadata": {},
   "source": [
    "# Desafío - Mecanismos de Votación\n",
    "- Para realizar este desafío debes haber estudiado previamente todo el material disponibilizado correspondiente a la unidad.\n",
    "- Una vez terminado el desafío, comprime la carpeta que contiene el desarrollo de los requerimientos solicitados y sube el .zip en el LMS.\n",
    "- Desarrollo desafío:\n",
    "    - El desafío se debe desarrollar de manera Individual.\n",
    "    - Para la realización del desafío necesitarás apoyarte del archivo Apoyo Desafío - Mecanismos de Votación."
   ]
  },
  {
   "cell_type": "markdown",
   "id": "ce36ce2c",
   "metadata": {},
   "source": [
    "## Requerimientos\n",
    "Para esta actividad desarrollaremos un ensamble heterogéneo que prediga la popularidad o impopularidad de contenido en línea de un sitio web. El archivo csv tiene un total de 39.797 registros, donde cada uno representa características del artículo publicado en el sitio web.\n",
    "\n",
    "Cada registro tiene un total de 61 atributos que miden características del texto, cantidad de imágenes, keywords, etc. Los artículos provienen de la publicación K. Fernandes, P. Vinagre and P. Cortez. A Proactive Intelligent Decision Support System for Predicting the Popularity of Online News. Proceedings of the 17th EPIA 2015 - Portuguese Conference on Artificial Intelligence, September, Coimbra, Portugal. Los artículos registrados son de <a href=\"https://www.mashable.com/\">esta página web</a>.\n",
    "\n",
    "Más información sobre los atributos se puede encontrar en el archivo `OnlineNewsPopularity.names`."
   ]
  },
  {
   "cell_type": "markdown",
   "id": "cdbb17cb",
   "metadata": {},
   "source": [
    "### Ejercicio 1 - Preparación del Ambiente de Trabajo\n",
    "- A continuación se le presenta un código que agrupa las variables por grupos. Cada uno de éstos hace referencia a alguna característica de los registros en la base de datos. Genere una análisis descriptivo de cada uno de los atributos. Puede utilizar la función `grid_plot_batch` que se encuentra en el archivo `helpers.py`.\n",
    "```python\n",
    "# las etiquetas de las columnas presentan un espacio extra, con ésto lo podemos eliminar\n",
    "df.columns = [i.replace(' ', '') for i in df.columns]\n",
    "# eliminamos el string de url que no sirve para el análisis\n",
    "df = df.loc[:, 'n_tokens_title':'shares']\n",
    "# generamos el conjunto de variables\n",
    "qnty = df.filter(regex='^n_', axis=1)\n",
    "channel = df.filter(regex='^data_', axis=1)\n",
    "days = df.filter(regex=re.compile(\"weekday|weekend\"), axis=1)\n",
    "sentiments = df.filter(regex=re.compile(\"negative|positive|subjectivity\"), axis=1)\n",
    "lda = df.filter(regex='^LDA_\\d', axis=1)\n",
    "keywords = df.filter(regex='^kw_', axis=1)\n",
    "```"
   ]
  },
  {
   "cell_type": "markdown",
   "id": "ceca91c3",
   "metadata": {},
   "source": [
    "- Describa el comportamiento de las variables.\n",
    "- Dada la naturaleza de los atributos, es probable que algunas mediciones estén correlacionadas entre sí. Para ello, genere un diagnóstico previo de multicolinealidad utilizando la función `identify_high_correlations` que se encuentra en el archivo `helpers.py`. Para todos aquellos atributos que tengan una correlación de .8 o más, reporte sus nombres.\n",
    "- Antes de generar los conjuntos de entrenamiento y validación, pre procese los datos con los siguientes pasos:\n",
    "    - Recodifique la variable shares en una variable binaria que identifique como 1 todos los registros con más de 1400 \"compartir\" y 0 de lo contrario. Para evitar multicolinealidad, elimine la variable `shares` posteriormente.\n",
    "    - Elimine todas las variables que presentaban una correlación mayor a .8 (una del par). Este paso es para evitar la multicolinealidad de los atributos.\n",
    "    - Genere un análisis de Componentes Principales para extraer las principales 30 dimensiones. Guarde estas dimensiones en un nuevo objeto."
   ]
  },
  {
   "cell_type": "code",
   "execution_count": 1,
   "id": "59e207b3",
   "metadata": {},
   "outputs": [],
   "source": [
    "# Utilice esta celda para importar los módulos necesarios y el set de datos que está en OnlineNewsPopularity/OnlineNewsPopularity.csv\n",
    "# Importaciones clasicas de analicis, pre procesamiento y graficos\n",
    "import pandas as pd\n",
    "import numpy as np\n",
    "import matplotlib.pyplot as plt\n",
    "import seaborn as sns\n",
    "\n",
    "# Machine Learninr\n",
    "from sklearn.decomposition import PCA\n",
    "from sklearn.pipeline import make_pipeline\n",
    "\n",
    "from sklearn.linear_model import LogisticRegression\n",
    "from sklearn.tree import DecisionTreeClassifier\n",
    "from sklearn.naive_bayes import GaussianNB\n",
    "from sklearn.preprocessing import StandardScaler\n",
    "from sklearn.model_selection import train_test_split, GridSearchCV\n",
    "from sklearn.metrics import classification_report, accuracy_score\n",
    "from sklearn.tree import DecisionTreeClassifier, DecisionTreeRegressor\n",
    "from sklearn.ensemble import AdaBoostClassifier, RandomForestClassifier, GradientBoostingClassifier, VotingClassifier\n",
    "\n",
    "# Funsiones espesifixcas para este desafio\n",
    "import helpers2 as gfx\n",
    "\n",
    "# Otras importaciones nesesarias, instancias y configuraciones\n",
    "import re\n",
    "import warnings\n",
    "warnings.filterwarnings('ignore')\n",
    "plt.style.use('ggplot')\n",
    "rep_seed = 15820"
   ]
  },
  {
   "cell_type": "code",
   "execution_count": 2,
   "id": "549cd7c7",
   "metadata": {},
   "outputs": [
    {
     "data": {
      "text/html": [
       "<div>\n",
       "<style scoped>\n",
       "    .dataframe tbody tr th:only-of-type {\n",
       "        vertical-align: middle;\n",
       "    }\n",
       "\n",
       "    .dataframe tbody tr th {\n",
       "        vertical-align: top;\n",
       "    }\n",
       "\n",
       "    .dataframe thead th {\n",
       "        text-align: right;\n",
       "    }\n",
       "</style>\n",
       "<table border=\"1\" class=\"dataframe\">\n",
       "  <thead>\n",
       "    <tr style=\"text-align: right;\">\n",
       "      <th></th>\n",
       "      <th>url</th>\n",
       "      <th>timedelta</th>\n",
       "      <th>n_tokens_title</th>\n",
       "      <th>n_tokens_content</th>\n",
       "      <th>n_unique_tokens</th>\n",
       "      <th>n_non_stop_words</th>\n",
       "      <th>n_non_stop_unique_tokens</th>\n",
       "      <th>num_hrefs</th>\n",
       "      <th>num_self_hrefs</th>\n",
       "      <th>num_imgs</th>\n",
       "      <th>...</th>\n",
       "      <th>min_positive_polarity</th>\n",
       "      <th>max_positive_polarity</th>\n",
       "      <th>avg_negative_polarity</th>\n",
       "      <th>min_negative_polarity</th>\n",
       "      <th>max_negative_polarity</th>\n",
       "      <th>title_subjectivity</th>\n",
       "      <th>title_sentiment_polarity</th>\n",
       "      <th>abs_title_subjectivity</th>\n",
       "      <th>abs_title_sentiment_polarity</th>\n",
       "      <th>shares</th>\n",
       "    </tr>\n",
       "  </thead>\n",
       "  <tbody>\n",
       "    <tr>\n",
       "      <th>39397</th>\n",
       "      <td>http://mashable.com/2014/12/22/kangaroo-drone/</td>\n",
       "      <td>14.0</td>\n",
       "      <td>9.0</td>\n",
       "      <td>332.0</td>\n",
       "      <td>0.306452</td>\n",
       "      <td>1.0</td>\n",
       "      <td>0.385714</td>\n",
       "      <td>0.0</td>\n",
       "      <td>0.0</td>\n",
       "      <td>8.0</td>\n",
       "      <td>...</td>\n",
       "      <td>0.100000</td>\n",
       "      <td>0.5</td>\n",
       "      <td>-0.175000</td>\n",
       "      <td>-0.2</td>\n",
       "      <td>-0.150000</td>\n",
       "      <td>0.000000</td>\n",
       "      <td>0.000000</td>\n",
       "      <td>0.500000</td>\n",
       "      <td>0.000000</td>\n",
       "      <td>2400</td>\n",
       "    </tr>\n",
       "    <tr>\n",
       "      <th>10591</th>\n",
       "      <td>http://mashable.com/2013/07/27/healthier-child...</td>\n",
       "      <td>530.0</td>\n",
       "      <td>14.0</td>\n",
       "      <td>408.0</td>\n",
       "      <td>0.550251</td>\n",
       "      <td>1.0</td>\n",
       "      <td>0.711934</td>\n",
       "      <td>3.0</td>\n",
       "      <td>3.0</td>\n",
       "      <td>10.0</td>\n",
       "      <td>...</td>\n",
       "      <td>0.100000</td>\n",
       "      <td>1.0</td>\n",
       "      <td>-0.248512</td>\n",
       "      <td>-0.5</td>\n",
       "      <td>-0.050000</td>\n",
       "      <td>0.333333</td>\n",
       "      <td>0.250000</td>\n",
       "      <td>0.166667</td>\n",
       "      <td>0.250000</td>\n",
       "      <td>1200</td>\n",
       "    </tr>\n",
       "    <tr>\n",
       "      <th>18172</th>\n",
       "      <td>http://mashable.com/2013/12/31/dell-ad-private...</td>\n",
       "      <td>373.0</td>\n",
       "      <td>12.0</td>\n",
       "      <td>354.0</td>\n",
       "      <td>0.565868</td>\n",
       "      <td>1.0</td>\n",
       "      <td>0.672897</td>\n",
       "      <td>18.0</td>\n",
       "      <td>13.0</td>\n",
       "      <td>0.0</td>\n",
       "      <td>...</td>\n",
       "      <td>0.100000</td>\n",
       "      <td>1.0</td>\n",
       "      <td>-0.257778</td>\n",
       "      <td>-0.4</td>\n",
       "      <td>-0.133333</td>\n",
       "      <td>0.454545</td>\n",
       "      <td>0.136364</td>\n",
       "      <td>0.045455</td>\n",
       "      <td>0.136364</td>\n",
       "      <td>1400</td>\n",
       "    </tr>\n",
       "    <tr>\n",
       "      <th>23664</th>\n",
       "      <td>http://mashable.com/2014/04/16/zoey-and-jasper/</td>\n",
       "      <td>266.0</td>\n",
       "      <td>13.0</td>\n",
       "      <td>715.0</td>\n",
       "      <td>0.441926</td>\n",
       "      <td>1.0</td>\n",
       "      <td>0.678571</td>\n",
       "      <td>7.0</td>\n",
       "      <td>0.0</td>\n",
       "      <td>2.0</td>\n",
       "      <td>...</td>\n",
       "      <td>0.033333</td>\n",
       "      <td>0.7</td>\n",
       "      <td>-0.270313</td>\n",
       "      <td>-0.8</td>\n",
       "      <td>-0.100000</td>\n",
       "      <td>1.000000</td>\n",
       "      <td>0.000000</td>\n",
       "      <td>0.500000</td>\n",
       "      <td>0.000000</td>\n",
       "      <td>489</td>\n",
       "    </tr>\n",
       "    <tr>\n",
       "      <th>2109</th>\n",
       "      <td>http://mashable.com/2013/02/12/mophie-juice-pa...</td>\n",
       "      <td>695.0</td>\n",
       "      <td>13.0</td>\n",
       "      <td>410.0</td>\n",
       "      <td>0.500000</td>\n",
       "      <td>1.0</td>\n",
       "      <td>0.634361</td>\n",
       "      <td>4.0</td>\n",
       "      <td>3.0</td>\n",
       "      <td>6.0</td>\n",
       "      <td>...</td>\n",
       "      <td>0.100000</td>\n",
       "      <td>0.6</td>\n",
       "      <td>-0.247619</td>\n",
       "      <td>-0.6</td>\n",
       "      <td>-0.050000</td>\n",
       "      <td>0.333333</td>\n",
       "      <td>0.250000</td>\n",
       "      <td>0.166667</td>\n",
       "      <td>0.250000</td>\n",
       "      <td>2400</td>\n",
       "    </tr>\n",
       "  </tbody>\n",
       "</table>\n",
       "<p>5 rows × 61 columns</p>\n",
       "</div>"
      ],
      "text/plain": [
       "                                                     url   timedelta  \\\n",
       "39397     http://mashable.com/2014/12/22/kangaroo-drone/        14.0   \n",
       "10591  http://mashable.com/2013/07/27/healthier-child...       530.0   \n",
       "18172  http://mashable.com/2013/12/31/dell-ad-private...       373.0   \n",
       "23664    http://mashable.com/2014/04/16/zoey-and-jasper/       266.0   \n",
       "2109   http://mashable.com/2013/02/12/mophie-juice-pa...       695.0   \n",
       "\n",
       "        n_tokens_title   n_tokens_content   n_unique_tokens  \\\n",
       "39397              9.0              332.0          0.306452   \n",
       "10591             14.0              408.0          0.550251   \n",
       "18172             12.0              354.0          0.565868   \n",
       "23664             13.0              715.0          0.441926   \n",
       "2109              13.0              410.0          0.500000   \n",
       "\n",
       "        n_non_stop_words   n_non_stop_unique_tokens   num_hrefs  \\\n",
       "39397                1.0                   0.385714         0.0   \n",
       "10591                1.0                   0.711934         3.0   \n",
       "18172                1.0                   0.672897        18.0   \n",
       "23664                1.0                   0.678571         7.0   \n",
       "2109                 1.0                   0.634361         4.0   \n",
       "\n",
       "        num_self_hrefs   num_imgs  ...   min_positive_polarity  \\\n",
       "39397              0.0        8.0  ...                0.100000   \n",
       "10591              3.0       10.0  ...                0.100000   \n",
       "18172             13.0        0.0  ...                0.100000   \n",
       "23664              0.0        2.0  ...                0.033333   \n",
       "2109               3.0        6.0  ...                0.100000   \n",
       "\n",
       "        max_positive_polarity   avg_negative_polarity   min_negative_polarity  \\\n",
       "39397                     0.5               -0.175000                    -0.2   \n",
       "10591                     1.0               -0.248512                    -0.5   \n",
       "18172                     1.0               -0.257778                    -0.4   \n",
       "23664                     0.7               -0.270313                    -0.8   \n",
       "2109                      0.6               -0.247619                    -0.6   \n",
       "\n",
       "        max_negative_polarity   title_subjectivity   title_sentiment_polarity  \\\n",
       "39397               -0.150000             0.000000                   0.000000   \n",
       "10591               -0.050000             0.333333                   0.250000   \n",
       "18172               -0.133333             0.454545                   0.136364   \n",
       "23664               -0.100000             1.000000                   0.000000   \n",
       "2109                -0.050000             0.333333                   0.250000   \n",
       "\n",
       "        abs_title_subjectivity   abs_title_sentiment_polarity   shares  \n",
       "39397                 0.500000                       0.000000     2400  \n",
       "10591                 0.166667                       0.250000     1200  \n",
       "18172                 0.045455                       0.136364     1400  \n",
       "23664                 0.500000                       0.000000      489  \n",
       "2109                  0.166667                       0.250000     2400  \n",
       "\n",
       "[5 rows x 61 columns]"
      ]
     },
     "execution_count": 2,
     "metadata": {},
     "output_type": "execute_result"
    }
   ],
   "source": [
    "df = pd. read_csv('Datasets/OnlineNewsPopularity.csv')\n",
    "df.sample(5, random_state = 15820)"
   ]
  },
  {
   "cell_type": "code",
   "execution_count": 3,
   "id": "75be1471",
   "metadata": {},
   "outputs": [],
   "source": [
    "# Utilice esta celda para aplicar el procesamiento indicado en el enunciado (implemente el mismo código)\n",
    "# las etiquetas de las columnas presentan un espacio extra, con ésto lo podemos eliminar\n",
    "df.columns = [i.replace(' ', '') for i in df.columns]\n",
    "# eliminamos el string de url que no sirve para el análisis\n",
    "df = df.loc[:, 'n_tokens_title':'shares']\n",
    "# generamos el conjunto de variables\n",
    "qnty = df.filter(regex = '^n_', axis = 1)\n",
    "channel = df.filter(regex = '^data_', axis = 1)\n",
    "days = df.filter(regex = re.compile(\"weekday|weekend\"), axis = 1)\n",
    "sentiments = df.filter(regex = re.compile(\"negative|positive|subjectivity\"), axis = 1)\n",
    "lda = df.filter(regex = '^LDA_\\d', axis = 1)\n",
    "keywords = df.filter(regex = '^kw_', axis = 1)"
   ]
  },
  {
   "cell_type": "code",
   "execution_count": 4,
   "id": "f03b4665",
   "metadata": {},
   "outputs": [
    {
     "name": "stdout",
     "output_type": "stream",
     "text": [
      "<class 'pandas.core.frame.DataFrame'>\n",
      "RangeIndex: 39644 entries, 0 to 39643\n",
      "Data columns (total 5 columns):\n",
      " #   Column                    Non-Null Count  Dtype  \n",
      "---  ------                    --------------  -----  \n",
      " 0   n_tokens_title            39644 non-null  float64\n",
      " 1   n_tokens_content          39644 non-null  float64\n",
      " 2   n_unique_tokens           39644 non-null  float64\n",
      " 3   n_non_stop_words          39644 non-null  float64\n",
      " 4   n_non_stop_unique_tokens  39644 non-null  float64\n",
      "dtypes: float64(5)\n",
      "memory usage: 1.5 MB\n"
     ]
    }
   ],
   "source": [
    "qnty.info()"
   ]
  },
  {
   "cell_type": "code",
   "execution_count": 5,
   "id": "a824a88d",
   "metadata": {},
   "outputs": [
    {
     "data": {
      "image/png": "[encoded data removed]",
      "text/plain": [
       "<Figure size 720x360 with 5 Axes>"
      ]
     },
     "metadata": {
      "needs_background": "light"
     },
     "output_type": "display_data"
    }
   ],
   "source": [
    "# Utilice esta celda para realizar los gráficos llamando a la función helpers.grid_plot_batch para qnty\n",
    "#    - Se recomienda setear antes plt.figure(figsize=(10, 5))\n",
    "#    - Los argumentos de la función en este caso son qnty, 3, plt.hist\n",
    "plt.figure(figsize = (10, 5))\n",
    "gfx.grid_plot_batch(qnty, 3, plt.hist)"
   ]
  },
  {
   "cell_type": "code",
   "execution_count": 6,
   "id": "08ca9e67",
   "metadata": {},
   "outputs": [
    {
     "data": {
      "image/png": "[encoded data removed]",
      "text/plain": [
       "<Figure size 720x360 with 6 Axes>"
      ]
     },
     "metadata": {
      "needs_background": "light"
     },
     "output_type": "display_data"
    }
   ],
   "source": [
    "# Utilice esta celda para realizar los gráficos llamando a la función grid_plot_batch para channel.\n",
    "# Como tercer argumento utilice sns.countplot\n",
    "# no funciona con sns.countplot\n",
    "plt.figure(figsize = (10, 5))\n",
    "gfx.grid_plot_batch(channel, 3, sns.histplot)"
   ]
  },
  {
   "cell_type": "code",
   "execution_count": 7,
   "id": "294e7e43",
   "metadata": {},
   "outputs": [
    {
     "data": {
      "image/png": "[encoded data removed]",
      "text/plain": [
       "<Figure size 720x360 with 8 Axes>"
      ]
     },
     "metadata": {
      "needs_background": "light"
     },
     "output_type": "display_data"
    }
   ],
   "source": [
    "# Utilice esta celda para realizar los gráficos llamando a la función grid_plot_batch para days (variable categórica).\n",
    "plt.figure(figsize = (10, 5))\n",
    "gfx.grid_plot_batch(days, 3, plt.hist)"
   ]
  },
  {
   "cell_type": "code",
   "execution_count": 8,
   "id": "b6062997",
   "metadata": {},
   "outputs": [
    {
     "data": {
      "image/png": "[encoded data removed]",
      "text/plain": [
       "<Figure size 720x720 with 13 Axes>"
      ]
     },
     "metadata": {
      "needs_background": "light"
     },
     "output_type": "display_data"
    }
   ],
   "source": [
    "# Utilice esta celda para realizar los gráficos llamando a la función grid_plot_batch para sentiments (variable continua).\n",
    "plt.figure(figsize = (10, 10))\n",
    "gfx.grid_plot_batch(sentiments, 4, plt.hist)"
   ]
  },
  {
   "cell_type": "code",
   "execution_count": 9,
   "id": "8f72d795",
   "metadata": {},
   "outputs": [
    {
     "data": {
      "image/png": "[encoded data removed]",
      "text/plain": [
       "<Figure size 720x360 with 5 Axes>"
      ]
     },
     "metadata": {
      "needs_background": "light"
     },
     "output_type": "display_data"
    }
   ],
   "source": [
    "# Utilice esta celda para realizar los gráficos llamando a la función grid_plot_batch para lda (variable continua).\n",
    "plt.figure(figsize = (10, 5))\n",
    "gfx.grid_plot_batch(lda, 3, plt.hist)"
   ]
  },
  {
   "cell_type": "code",
   "execution_count": 10,
   "id": "de949cbb",
   "metadata": {},
   "outputs": [
    {
     "data": {
      "image/png": "[encoded data removed]",
      "text/plain": [
       "<Figure size 720x360 with 9 Axes>"
      ]
     },
     "metadata": {
      "needs_background": "light"
     },
     "output_type": "display_data"
    }
   ],
   "source": [
    "# Utilice esta celda para realizar los gráficos llamando a la función grid_plot_batch para keywords.\n",
    "plt.figure(figsize = (10, 5))\n",
    "gfx.grid_plot_batch(keywords, 3, plt.hist)"
   ]
  },
  {
   "cell_type": "code",
   "execution_count": 11,
   "id": "75f759ca",
   "metadata": {},
   "outputs": [
    {
     "data": {
      "text/html": [
       "<div>\n",
       "<style scoped>\n",
       "    .dataframe tbody tr th:only-of-type {\n",
       "        vertical-align: middle;\n",
       "    }\n",
       "\n",
       "    .dataframe tbody tr th {\n",
       "        vertical-align: top;\n",
       "    }\n",
       "\n",
       "    .dataframe thead th {\n",
       "        text-align: right;\n",
       "    }\n",
       "</style>\n",
       "<table border=\"1\" class=\"dataframe\">\n",
       "  <thead>\n",
       "    <tr style=\"text-align: right;\">\n",
       "      <th></th>\n",
       "      <th>variable</th>\n",
       "      <th>var2</th>\n",
       "      <th>value</th>\n",
       "    </tr>\n",
       "  </thead>\n",
       "  <tbody>\n",
       "    <tr>\n",
       "      <th>179</th>\n",
       "      <td>n_non_stop_words</td>\n",
       "      <td>n_unique_tokens</td>\n",
       "      <td>0.999572</td>\n",
       "    </tr>\n",
       "    <tr>\n",
       "      <th>238</th>\n",
       "      <td>n_non_stop_unique_tokens</td>\n",
       "      <td>n_unique_tokens</td>\n",
       "      <td>0.999852</td>\n",
       "    </tr>\n",
       "    <tr>\n",
       "      <th>239</th>\n",
       "      <td>n_non_stop_unique_tokens</td>\n",
       "      <td>n_non_stop_words</td>\n",
       "      <td>0.999532</td>\n",
       "    </tr>\n",
       "    <tr>\n",
       "      <th>1139</th>\n",
       "      <td>kw_avg_min</td>\n",
       "      <td>kw_max_min</td>\n",
       "      <td>0.940529</td>\n",
       "    </tr>\n",
       "    <tr>\n",
       "      <th>1256</th>\n",
       "      <td>kw_max_max</td>\n",
       "      <td>kw_min_min</td>\n",
       "      <td>-0.857226</td>\n",
       "    </tr>\n",
       "    <tr>\n",
       "      <th>1499</th>\n",
       "      <td>kw_avg_avg</td>\n",
       "      <td>kw_max_avg</td>\n",
       "      <td>0.811864</td>\n",
       "    </tr>\n",
       "    <tr>\n",
       "      <th>1678</th>\n",
       "      <td>self_reference_avg_sharess</td>\n",
       "      <td>self_reference_min_shares</td>\n",
       "      <td>0.818907</td>\n",
       "    </tr>\n",
       "    <tr>\n",
       "      <th>1679</th>\n",
       "      <td>self_reference_avg_sharess</td>\n",
       "      <td>self_reference_max_shares</td>\n",
       "      <td>0.853480</td>\n",
       "    </tr>\n",
       "    <tr>\n",
       "      <th>2159</th>\n",
       "      <td>is_weekend</td>\n",
       "      <td>weekday_is_sunday</td>\n",
       "      <td>0.701648</td>\n",
       "    </tr>\n",
       "    <tr>\n",
       "      <th>2196</th>\n",
       "      <td>LDA_00</td>\n",
       "      <td>data_channel_is_bus</td>\n",
       "      <td>0.774651</td>\n",
       "    </tr>\n",
       "    <tr>\n",
       "      <th>2317</th>\n",
       "      <td>LDA_02</td>\n",
       "      <td>data_channel_is_world</td>\n",
       "      <td>0.836618</td>\n",
       "    </tr>\n",
       "    <tr>\n",
       "      <th>2434</th>\n",
       "      <td>LDA_04</td>\n",
       "      <td>data_channel_is_tech</td>\n",
       "      <td>0.749737</td>\n",
       "    </tr>\n",
       "    <tr>\n",
       "      <th>2757</th>\n",
       "      <td>rate_positive_words</td>\n",
       "      <td>global_sentiment_polarity</td>\n",
       "      <td>0.727827</td>\n",
       "    </tr>\n",
       "    <tr>\n",
       "      <th>2818</th>\n",
       "      <td>rate_negative_words</td>\n",
       "      <td>global_rate_negative_words</td>\n",
       "      <td>0.779556</td>\n",
       "    </tr>\n",
       "    <tr>\n",
       "      <th>2998</th>\n",
       "      <td>max_positive_polarity</td>\n",
       "      <td>avg_positive_polarity</td>\n",
       "      <td>0.703558</td>\n",
       "    </tr>\n",
       "    <tr>\n",
       "      <th>3119</th>\n",
       "      <td>min_negative_polarity</td>\n",
       "      <td>avg_negative_polarity</td>\n",
       "      <td>0.748896</td>\n",
       "    </tr>\n",
       "    <tr>\n",
       "      <th>3417</th>\n",
       "      <td>abs_title_sentiment_polarity</td>\n",
       "      <td>title_subjectivity</td>\n",
       "      <td>0.714528</td>\n",
       "    </tr>\n",
       "  </tbody>\n",
       "</table>\n",
       "</div>"
      ],
      "text/plain": [
       "                          variable                        var2     value\n",
       "179               n_non_stop_words             n_unique_tokens  0.999572\n",
       "238       n_non_stop_unique_tokens             n_unique_tokens  0.999852\n",
       "239       n_non_stop_unique_tokens            n_non_stop_words  0.999532\n",
       "1139                    kw_avg_min                  kw_max_min  0.940529\n",
       "1256                    kw_max_max                  kw_min_min -0.857226\n",
       "1499                    kw_avg_avg                  kw_max_avg  0.811864\n",
       "1678    self_reference_avg_sharess   self_reference_min_shares  0.818907\n",
       "1679    self_reference_avg_sharess   self_reference_max_shares  0.853480\n",
       "2159                    is_weekend           weekday_is_sunday  0.701648\n",
       "2196                        LDA_00         data_channel_is_bus  0.774651\n",
       "2317                        LDA_02       data_channel_is_world  0.836618\n",
       "2434                        LDA_04        data_channel_is_tech  0.749737\n",
       "2757           rate_positive_words   global_sentiment_polarity  0.727827\n",
       "2818           rate_negative_words  global_rate_negative_words  0.779556\n",
       "2998         max_positive_polarity       avg_positive_polarity  0.703558\n",
       "3119         min_negative_polarity       avg_negative_polarity  0.748896\n",
       "3417  abs_title_sentiment_polarity          title_subjectivity  0.714528"
      ]
     },
     "execution_count": 11,
     "metadata": {},
     "output_type": "execute_result"
    }
   ],
   "source": [
    "# Utilice esta celda para identificar correlaciones altas con helpers.identify_high_correlations, asignando su retorno a df_correlaciones\n",
    "df_correlaciones = gfx.identify_high_correlations(df)\n",
    "df_correlaciones"
   ]
  },
  {
   "cell_type": "code",
   "execution_count": 12,
   "id": "5ab8e6fb",
   "metadata": {},
   "outputs": [
    {
     "data": {
      "text/html": [
       "<div>\n",
       "<style scoped>\n",
       "    .dataframe tbody tr th:only-of-type {\n",
       "        vertical-align: middle;\n",
       "    }\n",
       "\n",
       "    .dataframe tbody tr th {\n",
       "        vertical-align: top;\n",
       "    }\n",
       "\n",
       "    .dataframe thead th {\n",
       "        text-align: right;\n",
       "    }\n",
       "</style>\n",
       "<table border=\"1\" class=\"dataframe\">\n",
       "  <thead>\n",
       "    <tr style=\"text-align: right;\">\n",
       "      <th></th>\n",
       "      <th>variable</th>\n",
       "      <th>var2</th>\n",
       "    </tr>\n",
       "  </thead>\n",
       "  <tbody>\n",
       "    <tr>\n",
       "      <th>0</th>\n",
       "      <td>n_non_stop_words</td>\n",
       "      <td>n_unique_tokens</td>\n",
       "    </tr>\n",
       "    <tr>\n",
       "      <th>1</th>\n",
       "      <td>n_non_stop_unique_tokens</td>\n",
       "      <td>n_unique_tokens</td>\n",
       "    </tr>\n",
       "    <tr>\n",
       "      <th>2</th>\n",
       "      <td>n_non_stop_unique_tokens</td>\n",
       "      <td>n_non_stop_words</td>\n",
       "    </tr>\n",
       "    <tr>\n",
       "      <th>3</th>\n",
       "      <td>kw_avg_min</td>\n",
       "      <td>kw_max_min</td>\n",
       "    </tr>\n",
       "    <tr>\n",
       "      <th>4</th>\n",
       "      <td>kw_avg_avg</td>\n",
       "      <td>kw_max_avg</td>\n",
       "    </tr>\n",
       "    <tr>\n",
       "      <th>5</th>\n",
       "      <td>self_reference_avg_sharess</td>\n",
       "      <td>self_reference_min_shares</td>\n",
       "    </tr>\n",
       "    <tr>\n",
       "      <th>6</th>\n",
       "      <td>self_reference_avg_sharess</td>\n",
       "      <td>self_reference_max_shares</td>\n",
       "    </tr>\n",
       "    <tr>\n",
       "      <th>7</th>\n",
       "      <td>LDA_02</td>\n",
       "      <td>data_channel_is_world</td>\n",
       "    </tr>\n",
       "  </tbody>\n",
       "</table>\n",
       "</div>"
      ],
      "text/plain": [
       "                     variable                       var2\n",
       "0            n_non_stop_words            n_unique_tokens\n",
       "1    n_non_stop_unique_tokens            n_unique_tokens\n",
       "2    n_non_stop_unique_tokens           n_non_stop_words\n",
       "3                  kw_avg_min                 kw_max_min\n",
       "4                  kw_avg_avg                 kw_max_avg\n",
       "5  self_reference_avg_sharess  self_reference_min_shares\n",
       "6  self_reference_avg_sharess  self_reference_max_shares\n",
       "7                      LDA_02      data_channel_is_world"
      ]
     },
     "execution_count": 12,
     "metadata": {},
     "output_type": "execute_result"
    }
   ],
   "source": [
    "# Para todos aquellos atributos que tengan una correlación de .8 o más, reporte sus nombres.\n",
    "df_correlaciones[(df_correlaciones['value'] >= 0.8)][['variable', 'var2']].reset_index(drop = True)"
   ]
  },
  {
   "cell_type": "code",
   "execution_count": 13,
   "id": "00e19297",
   "metadata": {},
   "outputs": [
    {
     "data": {
      "text/html": [
       "<div>\n",
       "<style scoped>\n",
       "    .dataframe tbody tr th:only-of-type {\n",
       "        vertical-align: middle;\n",
       "    }\n",
       "\n",
       "    .dataframe tbody tr th {\n",
       "        vertical-align: top;\n",
       "    }\n",
       "\n",
       "    .dataframe thead th {\n",
       "        text-align: right;\n",
       "    }\n",
       "</style>\n",
       "<table border=\"1\" class=\"dataframe\">\n",
       "  <thead>\n",
       "    <tr style=\"text-align: right;\">\n",
       "      <th></th>\n",
       "      <th>n_tokens_title</th>\n",
       "      <th>n_tokens_content</th>\n",
       "      <th>n_unique_tokens</th>\n",
       "      <th>n_non_stop_words</th>\n",
       "      <th>n_non_stop_unique_tokens</th>\n",
       "      <th>num_hrefs</th>\n",
       "      <th>num_self_hrefs</th>\n",
       "      <th>num_imgs</th>\n",
       "      <th>num_videos</th>\n",
       "      <th>average_token_length</th>\n",
       "      <th>...</th>\n",
       "      <th>max_positive_polarity</th>\n",
       "      <th>avg_negative_polarity</th>\n",
       "      <th>min_negative_polarity</th>\n",
       "      <th>max_negative_polarity</th>\n",
       "      <th>title_subjectivity</th>\n",
       "      <th>title_sentiment_polarity</th>\n",
       "      <th>abs_title_subjectivity</th>\n",
       "      <th>abs_title_sentiment_polarity</th>\n",
       "      <th>shares</th>\n",
       "      <th>class</th>\n",
       "    </tr>\n",
       "  </thead>\n",
       "  <tbody>\n",
       "    <tr>\n",
       "      <th>39397</th>\n",
       "      <td>9.0</td>\n",
       "      <td>332.0</td>\n",
       "      <td>0.306452</td>\n",
       "      <td>1.0</td>\n",
       "      <td>0.385714</td>\n",
       "      <td>0.0</td>\n",
       "      <td>0.0</td>\n",
       "      <td>8.0</td>\n",
       "      <td>0.0</td>\n",
       "      <td>4.921687</td>\n",
       "      <td>...</td>\n",
       "      <td>0.5</td>\n",
       "      <td>-0.175000</td>\n",
       "      <td>-0.2</td>\n",
       "      <td>-0.150000</td>\n",
       "      <td>0.000000</td>\n",
       "      <td>0.000000</td>\n",
       "      <td>0.500000</td>\n",
       "      <td>0.000000</td>\n",
       "      <td>2400</td>\n",
       "      <td>1</td>\n",
       "    </tr>\n",
       "    <tr>\n",
       "      <th>10591</th>\n",
       "      <td>14.0</td>\n",
       "      <td>408.0</td>\n",
       "      <td>0.550251</td>\n",
       "      <td>1.0</td>\n",
       "      <td>0.711934</td>\n",
       "      <td>3.0</td>\n",
       "      <td>3.0</td>\n",
       "      <td>10.0</td>\n",
       "      <td>1.0</td>\n",
       "      <td>4.419118</td>\n",
       "      <td>...</td>\n",
       "      <td>1.0</td>\n",
       "      <td>-0.248512</td>\n",
       "      <td>-0.5</td>\n",
       "      <td>-0.050000</td>\n",
       "      <td>0.333333</td>\n",
       "      <td>0.250000</td>\n",
       "      <td>0.166667</td>\n",
       "      <td>0.250000</td>\n",
       "      <td>1200</td>\n",
       "      <td>0</td>\n",
       "    </tr>\n",
       "    <tr>\n",
       "      <th>18172</th>\n",
       "      <td>12.0</td>\n",
       "      <td>354.0</td>\n",
       "      <td>0.565868</td>\n",
       "      <td>1.0</td>\n",
       "      <td>0.672897</td>\n",
       "      <td>18.0</td>\n",
       "      <td>13.0</td>\n",
       "      <td>0.0</td>\n",
       "      <td>9.0</td>\n",
       "      <td>4.581921</td>\n",
       "      <td>...</td>\n",
       "      <td>1.0</td>\n",
       "      <td>-0.257778</td>\n",
       "      <td>-0.4</td>\n",
       "      <td>-0.133333</td>\n",
       "      <td>0.454545</td>\n",
       "      <td>0.136364</td>\n",
       "      <td>0.045455</td>\n",
       "      <td>0.136364</td>\n",
       "      <td>1400</td>\n",
       "      <td>0</td>\n",
       "    </tr>\n",
       "    <tr>\n",
       "      <th>23664</th>\n",
       "      <td>13.0</td>\n",
       "      <td>715.0</td>\n",
       "      <td>0.441926</td>\n",
       "      <td>1.0</td>\n",
       "      <td>0.678571</td>\n",
       "      <td>7.0</td>\n",
       "      <td>0.0</td>\n",
       "      <td>2.0</td>\n",
       "      <td>1.0</td>\n",
       "      <td>4.696503</td>\n",
       "      <td>...</td>\n",
       "      <td>0.7</td>\n",
       "      <td>-0.270313</td>\n",
       "      <td>-0.8</td>\n",
       "      <td>-0.100000</td>\n",
       "      <td>1.000000</td>\n",
       "      <td>0.000000</td>\n",
       "      <td>0.500000</td>\n",
       "      <td>0.000000</td>\n",
       "      <td>489</td>\n",
       "      <td>0</td>\n",
       "    </tr>\n",
       "    <tr>\n",
       "      <th>2109</th>\n",
       "      <td>13.0</td>\n",
       "      <td>410.0</td>\n",
       "      <td>0.500000</td>\n",
       "      <td>1.0</td>\n",
       "      <td>0.634361</td>\n",
       "      <td>4.0</td>\n",
       "      <td>3.0</td>\n",
       "      <td>6.0</td>\n",
       "      <td>0.0</td>\n",
       "      <td>4.143902</td>\n",
       "      <td>...</td>\n",
       "      <td>0.6</td>\n",
       "      <td>-0.247619</td>\n",
       "      <td>-0.6</td>\n",
       "      <td>-0.050000</td>\n",
       "      <td>0.333333</td>\n",
       "      <td>0.250000</td>\n",
       "      <td>0.166667</td>\n",
       "      <td>0.250000</td>\n",
       "      <td>2400</td>\n",
       "      <td>1</td>\n",
       "    </tr>\n",
       "  </tbody>\n",
       "</table>\n",
       "<p>5 rows × 60 columns</p>\n",
       "</div>"
      ],
      "text/plain": [
       "       n_tokens_title  n_tokens_content  n_unique_tokens  n_non_stop_words  \\\n",
       "39397             9.0             332.0         0.306452               1.0   \n",
       "10591            14.0             408.0         0.550251               1.0   \n",
       "18172            12.0             354.0         0.565868               1.0   \n",
       "23664            13.0             715.0         0.441926               1.0   \n",
       "2109             13.0             410.0         0.500000               1.0   \n",
       "\n",
       "       n_non_stop_unique_tokens  num_hrefs  num_self_hrefs  num_imgs  \\\n",
       "39397                  0.385714        0.0             0.0       8.0   \n",
       "10591                  0.711934        3.0             3.0      10.0   \n",
       "18172                  0.672897       18.0            13.0       0.0   \n",
       "23664                  0.678571        7.0             0.0       2.0   \n",
       "2109                   0.634361        4.0             3.0       6.0   \n",
       "\n",
       "       num_videos  average_token_length  ...  max_positive_polarity  \\\n",
       "39397         0.0              4.921687  ...                    0.5   \n",
       "10591         1.0              4.419118  ...                    1.0   \n",
       "18172         9.0              4.581921  ...                    1.0   \n",
       "23664         1.0              4.696503  ...                    0.7   \n",
       "2109          0.0              4.143902  ...                    0.6   \n",
       "\n",
       "       avg_negative_polarity  min_negative_polarity  max_negative_polarity  \\\n",
       "39397              -0.175000                   -0.2              -0.150000   \n",
       "10591              -0.248512                   -0.5              -0.050000   \n",
       "18172              -0.257778                   -0.4              -0.133333   \n",
       "23664              -0.270313                   -0.8              -0.100000   \n",
       "2109               -0.247619                   -0.6              -0.050000   \n",
       "\n",
       "       title_subjectivity  title_sentiment_polarity  abs_title_subjectivity  \\\n",
       "39397            0.000000                  0.000000                0.500000   \n",
       "10591            0.333333                  0.250000                0.166667   \n",
       "18172            0.454545                  0.136364                0.045455   \n",
       "23664            1.000000                  0.000000                0.500000   \n",
       "2109             0.333333                  0.250000                0.166667   \n",
       "\n",
       "       abs_title_sentiment_polarity  shares  class  \n",
       "39397                      0.000000    2400      1  \n",
       "10591                      0.250000    1200      0  \n",
       "18172                      0.136364    1400      0  \n",
       "23664                      0.000000     489      0  \n",
       "2109                       0.250000    2400      1  \n",
       "\n",
       "[5 rows x 60 columns]"
      ]
     },
     "execution_count": 13,
     "metadata": {},
     "output_type": "execute_result"
    }
   ],
   "source": [
    "# Utilice esta celda para generar la variable class en base a shares; shares > 1400 -> 1, de lo contrario 0. Muestre las frecuencias de class.\n",
    "df['class'] = np.where(df['shares'] > 1400, 1, 0)\n",
    "df.sample(5, random_state = 15820)"
   ]
  },
  {
   "cell_type": "code",
   "execution_count": 14,
   "id": "b2ff1c96",
   "metadata": {},
   "outputs": [
    {
     "data": {
      "text/html": [
       "<div>\n",
       "<style scoped>\n",
       "    .dataframe tbody tr th:only-of-type {\n",
       "        vertical-align: middle;\n",
       "    }\n",
       "\n",
       "    .dataframe tbody tr th {\n",
       "        vertical-align: top;\n",
       "    }\n",
       "\n",
       "    .dataframe thead th {\n",
       "        text-align: right;\n",
       "    }\n",
       "</style>\n",
       "<table border=\"1\" class=\"dataframe\">\n",
       "  <thead>\n",
       "    <tr style=\"text-align: right;\">\n",
       "      <th></th>\n",
       "      <th>n_tokens_title</th>\n",
       "      <th>n_tokens_content</th>\n",
       "      <th>n_unique_tokens</th>\n",
       "      <th>n_non_stop_words</th>\n",
       "      <th>n_non_stop_unique_tokens</th>\n",
       "      <th>num_hrefs</th>\n",
       "      <th>num_self_hrefs</th>\n",
       "      <th>num_imgs</th>\n",
       "      <th>num_videos</th>\n",
       "      <th>average_token_length</th>\n",
       "      <th>...</th>\n",
       "      <th>min_positive_polarity</th>\n",
       "      <th>max_positive_polarity</th>\n",
       "      <th>avg_negative_polarity</th>\n",
       "      <th>min_negative_polarity</th>\n",
       "      <th>max_negative_polarity</th>\n",
       "      <th>title_subjectivity</th>\n",
       "      <th>title_sentiment_polarity</th>\n",
       "      <th>abs_title_subjectivity</th>\n",
       "      <th>abs_title_sentiment_polarity</th>\n",
       "      <th>class</th>\n",
       "    </tr>\n",
       "  </thead>\n",
       "  <tbody>\n",
       "    <tr>\n",
       "      <th>39397</th>\n",
       "      <td>9.0</td>\n",
       "      <td>332.0</td>\n",
       "      <td>0.306452</td>\n",
       "      <td>1.0</td>\n",
       "      <td>0.385714</td>\n",
       "      <td>0.0</td>\n",
       "      <td>0.0</td>\n",
       "      <td>8.0</td>\n",
       "      <td>0.0</td>\n",
       "      <td>4.921687</td>\n",
       "      <td>...</td>\n",
       "      <td>0.100000</td>\n",
       "      <td>0.5</td>\n",
       "      <td>-0.175000</td>\n",
       "      <td>-0.2</td>\n",
       "      <td>-0.150000</td>\n",
       "      <td>0.000000</td>\n",
       "      <td>0.000000</td>\n",
       "      <td>0.500000</td>\n",
       "      <td>0.000000</td>\n",
       "      <td>1</td>\n",
       "    </tr>\n",
       "    <tr>\n",
       "      <th>10591</th>\n",
       "      <td>14.0</td>\n",
       "      <td>408.0</td>\n",
       "      <td>0.550251</td>\n",
       "      <td>1.0</td>\n",
       "      <td>0.711934</td>\n",
       "      <td>3.0</td>\n",
       "      <td>3.0</td>\n",
       "      <td>10.0</td>\n",
       "      <td>1.0</td>\n",
       "      <td>4.419118</td>\n",
       "      <td>...</td>\n",
       "      <td>0.100000</td>\n",
       "      <td>1.0</td>\n",
       "      <td>-0.248512</td>\n",
       "      <td>-0.5</td>\n",
       "      <td>-0.050000</td>\n",
       "      <td>0.333333</td>\n",
       "      <td>0.250000</td>\n",
       "      <td>0.166667</td>\n",
       "      <td>0.250000</td>\n",
       "      <td>0</td>\n",
       "    </tr>\n",
       "    <tr>\n",
       "      <th>18172</th>\n",
       "      <td>12.0</td>\n",
       "      <td>354.0</td>\n",
       "      <td>0.565868</td>\n",
       "      <td>1.0</td>\n",
       "      <td>0.672897</td>\n",
       "      <td>18.0</td>\n",
       "      <td>13.0</td>\n",
       "      <td>0.0</td>\n",
       "      <td>9.0</td>\n",
       "      <td>4.581921</td>\n",
       "      <td>...</td>\n",
       "      <td>0.100000</td>\n",
       "      <td>1.0</td>\n",
       "      <td>-0.257778</td>\n",
       "      <td>-0.4</td>\n",
       "      <td>-0.133333</td>\n",
       "      <td>0.454545</td>\n",
       "      <td>0.136364</td>\n",
       "      <td>0.045455</td>\n",
       "      <td>0.136364</td>\n",
       "      <td>0</td>\n",
       "    </tr>\n",
       "    <tr>\n",
       "      <th>23664</th>\n",
       "      <td>13.0</td>\n",
       "      <td>715.0</td>\n",
       "      <td>0.441926</td>\n",
       "      <td>1.0</td>\n",
       "      <td>0.678571</td>\n",
       "      <td>7.0</td>\n",
       "      <td>0.0</td>\n",
       "      <td>2.0</td>\n",
       "      <td>1.0</td>\n",
       "      <td>4.696503</td>\n",
       "      <td>...</td>\n",
       "      <td>0.033333</td>\n",
       "      <td>0.7</td>\n",
       "      <td>-0.270313</td>\n",
       "      <td>-0.8</td>\n",
       "      <td>-0.100000</td>\n",
       "      <td>1.000000</td>\n",
       "      <td>0.000000</td>\n",
       "      <td>0.500000</td>\n",
       "      <td>0.000000</td>\n",
       "      <td>0</td>\n",
       "    </tr>\n",
       "    <tr>\n",
       "      <th>2109</th>\n",
       "      <td>13.0</td>\n",
       "      <td>410.0</td>\n",
       "      <td>0.500000</td>\n",
       "      <td>1.0</td>\n",
       "      <td>0.634361</td>\n",
       "      <td>4.0</td>\n",
       "      <td>3.0</td>\n",
       "      <td>6.0</td>\n",
       "      <td>0.0</td>\n",
       "      <td>4.143902</td>\n",
       "      <td>...</td>\n",
       "      <td>0.100000</td>\n",
       "      <td>0.6</td>\n",
       "      <td>-0.247619</td>\n",
       "      <td>-0.6</td>\n",
       "      <td>-0.050000</td>\n",
       "      <td>0.333333</td>\n",
       "      <td>0.250000</td>\n",
       "      <td>0.166667</td>\n",
       "      <td>0.250000</td>\n",
       "      <td>1</td>\n",
       "    </tr>\n",
       "  </tbody>\n",
       "</table>\n",
       "<p>5 rows × 59 columns</p>\n",
       "</div>"
      ],
      "text/plain": [
       "       n_tokens_title  n_tokens_content  n_unique_tokens  n_non_stop_words  \\\n",
       "39397             9.0             332.0         0.306452               1.0   \n",
       "10591            14.0             408.0         0.550251               1.0   \n",
       "18172            12.0             354.0         0.565868               1.0   \n",
       "23664            13.0             715.0         0.441926               1.0   \n",
       "2109             13.0             410.0         0.500000               1.0   \n",
       "\n",
       "       n_non_stop_unique_tokens  num_hrefs  num_self_hrefs  num_imgs  \\\n",
       "39397                  0.385714        0.0             0.0       8.0   \n",
       "10591                  0.711934        3.0             3.0      10.0   \n",
       "18172                  0.672897       18.0            13.0       0.0   \n",
       "23664                  0.678571        7.0             0.0       2.0   \n",
       "2109                   0.634361        4.0             3.0       6.0   \n",
       "\n",
       "       num_videos  average_token_length  ...  min_positive_polarity  \\\n",
       "39397         0.0              4.921687  ...               0.100000   \n",
       "10591         1.0              4.419118  ...               0.100000   \n",
       "18172         9.0              4.581921  ...               0.100000   \n",
       "23664         1.0              4.696503  ...               0.033333   \n",
       "2109          0.0              4.143902  ...               0.100000   \n",
       "\n",
       "       max_positive_polarity  avg_negative_polarity  min_negative_polarity  \\\n",
       "39397                    0.5              -0.175000                   -0.2   \n",
       "10591                    1.0              -0.248512                   -0.5   \n",
       "18172                    1.0              -0.257778                   -0.4   \n",
       "23664                    0.7              -0.270313                   -0.8   \n",
       "2109                     0.6              -0.247619                   -0.6   \n",
       "\n",
       "       max_negative_polarity  title_subjectivity  title_sentiment_polarity  \\\n",
       "39397              -0.150000            0.000000                  0.000000   \n",
       "10591              -0.050000            0.333333                  0.250000   \n",
       "18172              -0.133333            0.454545                  0.136364   \n",
       "23664              -0.100000            1.000000                  0.000000   \n",
       "2109               -0.050000            0.333333                  0.250000   \n",
       "\n",
       "       abs_title_subjectivity  abs_title_sentiment_polarity  class  \n",
       "39397                0.500000                      0.000000      1  \n",
       "10591                0.166667                      0.250000      0  \n",
       "18172                0.045455                      0.136364      0  \n",
       "23664                0.500000                      0.000000      0  \n",
       "2109                 0.166667                      0.250000      1  \n",
       "\n",
       "[5 rows x 59 columns]"
      ]
     },
     "execution_count": 14,
     "metadata": {},
     "output_type": "execute_result"
    }
   ],
   "source": [
    "df = df.drop(columns = 'shares', axis = 1)\n",
    "df.sample(5, random_state = 15820)"
   ]
  },
  {
   "cell_type": "code",
   "execution_count": 15,
   "id": "05a8588c",
   "metadata": {},
   "outputs": [
    {
     "data": {
      "text/plain": [
       "0    0.506558\n",
       "1    0.493442\n",
       "Name: class, dtype: float64"
      ]
     },
     "execution_count": 15,
     "metadata": {},
     "output_type": "execute_result"
    }
   ],
   "source": [
    "# Porcentaje de ocurrencia del vector objetivo\n",
    "df['class'].value_counts('%')"
   ]
  },
  {
   "cell_type": "code",
   "execution_count": 16,
   "id": "36640e6b",
   "metadata": {},
   "outputs": [
    {
     "data": {
      "text/plain": [
       "<AxesSubplot:xlabel='class', ylabel='count'>"
      ]
     },
     "execution_count": 16,
     "metadata": {},
     "output_type": "execute_result"
    },
    {
     "data": {
      "image/png": "[encoded data removed]",
      "text/plain": [
       "<Figure size 432x288 with 1 Axes>"
      ]
     },
     "metadata": {
      "needs_background": "light"
     },
     "output_type": "display_data"
    }
   ],
   "source": [
    "# distribucion del vector objetivo\n",
    "sns.countplot(df['class'])"
   ]
  },
  {
   "cell_type": "code",
   "execution_count": 17,
   "id": "9bb652f3",
   "metadata": {},
   "outputs": [
    {
     "data": {
      "text/html": [
       "<div>\n",
       "<style scoped>\n",
       "    .dataframe tbody tr th:only-of-type {\n",
       "        vertical-align: middle;\n",
       "    }\n",
       "\n",
       "    .dataframe tbody tr th {\n",
       "        vertical-align: top;\n",
       "    }\n",
       "\n",
       "    .dataframe thead th {\n",
       "        text-align: right;\n",
       "    }\n",
       "</style>\n",
       "<table border=\"1\" class=\"dataframe\">\n",
       "  <thead>\n",
       "    <tr style=\"text-align: right;\">\n",
       "      <th></th>\n",
       "      <th>variable</th>\n",
       "      <th>var2</th>\n",
       "      <th>value</th>\n",
       "    </tr>\n",
       "  </thead>\n",
       "  <tbody>\n",
       "    <tr>\n",
       "      <th>1499</th>\n",
       "      <td>kw_avg_avg</td>\n",
       "      <td>kw_max_avg</td>\n",
       "      <td>0.811864</td>\n",
       "    </tr>\n",
       "    <tr>\n",
       "      <th>1139</th>\n",
       "      <td>kw_avg_min</td>\n",
       "      <td>kw_max_min</td>\n",
       "      <td>0.940529</td>\n",
       "    </tr>\n",
       "    <tr>\n",
       "      <th>239</th>\n",
       "      <td>n_non_stop_unique_tokens</td>\n",
       "      <td>n_non_stop_words</td>\n",
       "      <td>0.999532</td>\n",
       "    </tr>\n",
       "    <tr>\n",
       "      <th>1678</th>\n",
       "      <td>self_reference_avg_sharess</td>\n",
       "      <td>self_reference_min_shares</td>\n",
       "      <td>0.818907</td>\n",
       "    </tr>\n",
       "    <tr>\n",
       "      <th>238</th>\n",
       "      <td>n_non_stop_unique_tokens</td>\n",
       "      <td>n_unique_tokens</td>\n",
       "      <td>0.999852</td>\n",
       "    </tr>\n",
       "  </tbody>\n",
       "</table>\n",
       "</div>"
      ],
      "text/plain": [
       "                        variable                       var2     value\n",
       "1499                  kw_avg_avg                 kw_max_avg  0.811864\n",
       "1139                  kw_avg_min                 kw_max_min  0.940529\n",
       "239     n_non_stop_unique_tokens           n_non_stop_words  0.999532\n",
       "1678  self_reference_avg_sharess  self_reference_min_shares  0.818907\n",
       "238     n_non_stop_unique_tokens            n_unique_tokens  0.999852"
      ]
     },
     "execution_count": 17,
     "metadata": {},
     "output_type": "execute_result"
    }
   ],
   "source": [
    "# columnas correlacion mayor a .8 a eliminar\n",
    "correlasion_08 = df_correlaciones[(df_correlaciones['value'] >= 0.8)]\n",
    "correlasion_08.sample(5, random_state = 15820)"
   ]
  },
  {
   "cell_type": "code",
   "execution_count": 18,
   "id": "03b57216",
   "metadata": {},
   "outputs": [
    {
     "data": {
      "text/plain": [
       "['kw_max_max',\n",
       " 'LDA_00',\n",
       " 'kw_avg_avg',\n",
       " 'rate_negative_words',\n",
       " 'n_non_stop_unique_tokens',\n",
       " 'LDA_04',\n",
       " 'rate_positive_words',\n",
       " 'min_negative_polarity',\n",
       " 'kw_avg_min',\n",
       " 'abs_title_sentiment_polarity',\n",
       " 'max_positive_polarity',\n",
       " 'self_reference_avg_sharess',\n",
       " 'LDA_02',\n",
       " 'is_weekend']"
      ]
     },
     "execution_count": 18,
     "metadata": {},
     "output_type": "execute_result"
    }
   ],
   "source": [
    "list(set(df_correlaciones[\"variable\"]) - set(df_correlaciones[\"var2\"]))"
   ]
  },
  {
   "cell_type": "code",
   "execution_count": 19,
   "id": "8bb8b028",
   "metadata": {},
   "outputs": [],
   "source": [
    "# Utilice esta celda para eliminar las variables altamente correlacionadas y la variable shares\n",
    "#   Para identificar las variables con alta correlacion a eliminar utilice:\n",
    "#      list(set(df_correlaciones[\"variable\"]) - set(df_correlaciones[\"var2\"]))\n",
    "#   Guarde en una nueva variable X_mat el dataframe con las columnas eliminadas\n",
    "#   Almacene en una variable y el vector objetivo class, que también se debe eliminar de X_mat\n",
    "\n",
    "X_mat = df.drop(columns = ['kw_max_max',\n",
    "                            'max_positive_polarity',\n",
    "                            'kw_avg_min',\n",
    "                            'LDA_04',\n",
    "                            'abs_title_sentiment_polarity',\n",
    "                            'rate_negative_words',\n",
    "                            'n_non_stop_unique_tokens',\n",
    "                            'kw_avg_avg',\n",
    "                            'is_weekend',\n",
    "                            'self_reference_avg_sharess',\n",
    "                            'rate_positive_words',\n",
    "                            'min_negative_polarity',\n",
    "                            'LDA_00',\n",
    "                            'LDA_02',\n",
    "                            'class'])"
   ]
  },
  {
   "cell_type": "code",
   "execution_count": 20,
   "id": "8760b22d",
   "metadata": {},
   "outputs": [
    {
     "name": "stdout",
     "output_type": "stream",
     "text": [
      "<class 'pandas.core.frame.DataFrame'>\n",
      "RangeIndex: 39644 entries, 0 to 39643\n",
      "Data columns (total 44 columns):\n",
      " #   Column                         Non-Null Count  Dtype  \n",
      "---  ------                         --------------  -----  \n",
      " 0   n_tokens_title                 39644 non-null  float64\n",
      " 1   n_tokens_content               39644 non-null  float64\n",
      " 2   n_unique_tokens                39644 non-null  float64\n",
      " 3   n_non_stop_words               39644 non-null  float64\n",
      " 4   num_hrefs                      39644 non-null  float64\n",
      " 5   num_self_hrefs                 39644 non-null  float64\n",
      " 6   num_imgs                       39644 non-null  float64\n",
      " 7   num_videos                     39644 non-null  float64\n",
      " 8   average_token_length           39644 non-null  float64\n",
      " 9   num_keywords                   39644 non-null  float64\n",
      " 10  data_channel_is_lifestyle      39644 non-null  float64\n",
      " 11  data_channel_is_entertainment  39644 non-null  float64\n",
      " 12  data_channel_is_bus            39644 non-null  float64\n",
      " 13  data_channel_is_socmed         39644 non-null  float64\n",
      " 14  data_channel_is_tech           39644 non-null  float64\n",
      " 15  data_channel_is_world          39644 non-null  float64\n",
      " 16  kw_min_min                     39644 non-null  float64\n",
      " 17  kw_max_min                     39644 non-null  float64\n",
      " 18  kw_min_max                     39644 non-null  float64\n",
      " 19  kw_avg_max                     39644 non-null  float64\n",
      " 20  kw_min_avg                     39644 non-null  float64\n",
      " 21  kw_max_avg                     39644 non-null  float64\n",
      " 22  self_reference_min_shares      39644 non-null  float64\n",
      " 23  self_reference_max_shares      39644 non-null  float64\n",
      " 24  weekday_is_monday              39644 non-null  float64\n",
      " 25  weekday_is_tuesday             39644 non-null  float64\n",
      " 26  weekday_is_wednesday           39644 non-null  float64\n",
      " 27  weekday_is_thursday            39644 non-null  float64\n",
      " 28  weekday_is_friday              39644 non-null  float64\n",
      " 29  weekday_is_saturday            39644 non-null  float64\n",
      " 30  weekday_is_sunday              39644 non-null  float64\n",
      " 31  LDA_01                         39644 non-null  float64\n",
      " 32  LDA_03                         39644 non-null  float64\n",
      " 33  global_subjectivity            39644 non-null  float64\n",
      " 34  global_sentiment_polarity      39644 non-null  float64\n",
      " 35  global_rate_positive_words     39644 non-null  float64\n",
      " 36  global_rate_negative_words     39644 non-null  float64\n",
      " 37  avg_positive_polarity          39644 non-null  float64\n",
      " 38  min_positive_polarity          39644 non-null  float64\n",
      " 39  avg_negative_polarity          39644 non-null  float64\n",
      " 40  max_negative_polarity          39644 non-null  float64\n",
      " 41  title_subjectivity             39644 non-null  float64\n",
      " 42  title_sentiment_polarity       39644 non-null  float64\n",
      " 43  abs_title_subjectivity         39644 non-null  float64\n",
      "dtypes: float64(44)\n",
      "memory usage: 13.3 MB\n"
     ]
    }
   ],
   "source": [
    "X_mat.info()"
   ]
  },
  {
   "cell_type": "code",
   "execution_count": 21,
   "id": "9b5e7f25",
   "metadata": {},
   "outputs": [
    {
     "data": {
      "text/plain": [
       "0        0\n",
       "1        0\n",
       "2        1\n",
       "3        0\n",
       "4        0\n",
       "        ..\n",
       "39639    1\n",
       "39640    1\n",
       "39641    1\n",
       "39642    0\n",
       "39643    0\n",
       "Name: class, Length: 39644, dtype: int32"
      ]
     },
     "execution_count": 21,
     "metadata": {},
     "output_type": "execute_result"
    }
   ],
   "source": [
    "# Utiliza esta celda para generar la división de muestras a partir de \"X_mat\" y de \"y\"\n",
    "y = df['class']\n",
    "y\n"
   ]
  },
  {
   "cell_type": "markdown",
   "id": "e0c13985",
   "metadata": {},
   "source": [
    "- A continuación se detalla los pasos para implementar PCA \"a mano\". Alternativamente, si lo desea puede hacer una implementación con Pipeline, que se tendría que hacer en los ejercicios siguientes, para cada modelo / ensamble."
   ]
  },
  {
   "cell_type": "code",
   "execution_count": 22,
   "id": "5576a674",
   "metadata": {},
   "outputs": [
    {
     "data": {
      "text/html": [
       "<style>#sk-container-id-1 {color: black;background-color: white;}#sk-container-id-1 pre{padding: 0;}#sk-container-id-1 div.sk-toggleable {background-color: white;}#sk-container-id-1 label.sk-toggleable__label {cursor: pointer;display: block;width: 100%;margin-bottom: 0;padding: 0.3em;box-sizing: border-box;text-align: center;}#sk-container-id-1 label.sk-toggleable__label-arrow:before {content: \"▸\";float: left;margin-right: 0.25em;color: #696969;}#sk-container-id-1 label.sk-toggleable__label-arrow:hover:before {color: black;}#sk-container-id-1 div.sk-estimator:hover label.sk-toggleable__label-arrow:before {color: black;}#sk-container-id-1 div.sk-toggleable__content {max-height: 0;max-width: 0;overflow: hidden;text-align: left;background-color: #f0f8ff;}#sk-container-id-1 div.sk-toggleable__content pre {margin: 0.2em;color: black;border-radius: 0.25em;background-color: #f0f8ff;}#sk-container-id-1 input.sk-toggleable__control:checked~div.sk-toggleable__content {max-height: 200px;max-width: 100%;overflow: auto;}#sk-container-id-1 input.sk-toggleable__control:checked~label.sk-toggleable__label-arrow:before {content: \"▾\";}#sk-container-id-1 div.sk-estimator input.sk-toggleable__control:checked~label.sk-toggleable__label {background-color: #d4ebff;}#sk-container-id-1 div.sk-label input.sk-toggleable__control:checked~label.sk-toggleable__label {background-color: #d4ebff;}#sk-container-id-1 input.sk-hidden--visually {border: 0;clip: rect(1px 1px 1px 1px);clip: rect(1px, 1px, 1px, 1px);height: 1px;margin: -1px;overflow: hidden;padding: 0;position: absolute;width: 1px;}#sk-container-id-1 div.sk-estimator {font-family: monospace;background-color: #f0f8ff;border: 1px dotted black;border-radius: 0.25em;box-sizing: border-box;margin-bottom: 0.5em;}#sk-container-id-1 div.sk-estimator:hover {background-color: #d4ebff;}#sk-container-id-1 div.sk-parallel-item::after {content: \"\";width: 100%;border-bottom: 1px solid gray;flex-grow: 1;}#sk-container-id-1 div.sk-label:hover label.sk-toggleable__label {background-color: #d4ebff;}#sk-container-id-1 div.sk-serial::before {content: \"\";position: absolute;border-left: 1px solid gray;box-sizing: border-box;top: 0;bottom: 0;left: 50%;z-index: 0;}#sk-container-id-1 div.sk-serial {display: flex;flex-direction: column;align-items: center;background-color: white;padding-right: 0.2em;padding-left: 0.2em;position: relative;}#sk-container-id-1 div.sk-item {position: relative;z-index: 1;}#sk-container-id-1 div.sk-parallel {display: flex;align-items: stretch;justify-content: center;background-color: white;position: relative;}#sk-container-id-1 div.sk-item::before, #sk-container-id-1 div.sk-parallel-item::before {content: \"\";position: absolute;border-left: 1px solid gray;box-sizing: border-box;top: 0;bottom: 0;left: 50%;z-index: -1;}#sk-container-id-1 div.sk-parallel-item {display: flex;flex-direction: column;z-index: 1;position: relative;background-color: white;}#sk-container-id-1 div.sk-parallel-item:first-child::after {align-self: flex-end;width: 50%;}#sk-container-id-1 div.sk-parallel-item:last-child::after {align-self: flex-start;width: 50%;}#sk-container-id-1 div.sk-parallel-item:only-child::after {width: 0;}#sk-container-id-1 div.sk-dashed-wrapped {border: 1px dashed gray;margin: 0 0.4em 0.5em 0.4em;box-sizing: border-box;padding-bottom: 0.4em;background-color: white;}#sk-container-id-1 div.sk-label label {font-family: monospace;font-weight: bold;display: inline-block;line-height: 1.2em;}#sk-container-id-1 div.sk-label-container {text-align: center;}#sk-container-id-1 div.sk-container {/* jupyter's `normalize.less` sets `[hidden] { display: none; }` but bootstrap.min.css set `[hidden] { display: none !important; }` so we also need the `!important` here to be able to override the default hidden behavior on the sphinx rendered scikit-learn.org. See: https://github.com/scikit-learn/scikit-learn/issues/21755 */display: inline-block !important;position: relative;}#sk-container-id-1 div.sk-text-repr-fallback {display: none;}</style><div id=\"sk-container-id-1\" class=\"sk-top-container\"><div class=\"sk-text-repr-fallback\"><pre>PCA(n_components=30)</pre><b>In a Jupyter environment, please rerun this cell to show the HTML representation or trust the notebook. <br />On GitHub, the HTML representation is unable to render, please try loading this page with nbviewer.org.</b></div><div class=\"sk-container\" hidden><div class=\"sk-item\"><div class=\"sk-estimator sk-toggleable\"><input class=\"sk-toggleable__control sk-hidden--visually\" id=\"sk-estimator-id-1\" type=\"checkbox\" checked><label for=\"sk-estimator-id-1\" class=\"sk-toggleable__label sk-toggleable__label-arrow\">PCA</label><div class=\"sk-toggleable__content\"><pre>PCA(n_components=30)</pre></div></div></div></div></div>"
      ],
      "text/plain": [
       "PCA(n_components=30)"
      ]
     },
     "execution_count": 22,
     "metadata": {},
     "output_type": "execute_result"
    }
   ],
   "source": [
    "# Utiliza esta celda para estandarizar X_train (primero entrenando, y en otro paso transformando), ya que PCA funciona sobre datos estandarizados\n",
    "#    NOTA: Las variables binarias no debiesen incluirse en la estandarización ni en el PCA\n",
    "#    Considerando que es un ejercicio, en este caso las puede conservar incluyéndolas en la estandarización y en PCA\n",
    "# Almacene los datos estandarizados en X_train_std\n",
    "pca_pipe = make_pipeline(StandardScaler(), PCA(n_components = 30))\n",
    "X_mat = pca_pipe.fit_transform(X_mat)\n",
    "# Se extrae el modelo entrenado del pipeline\n",
    "modelo_pca = pca_pipe.named_steps['pca']\n",
    "modelo_pca"
   ]
  },
  {
   "cell_type": "code",
   "execution_count": 23,
   "id": "d81bd10f",
   "metadata": {},
   "outputs": [],
   "source": [
    "X_train, X_test, y_train, y_test = train_test_split(X_mat, y, random_state = 15820, test_size = .33)"
   ]
  },
  {
   "cell_type": "code",
   "execution_count": 24,
   "id": "5150ceb5",
   "metadata": {},
   "outputs": [
    {
     "data": {
      "text/plain": [
       "(26561, 30)"
      ]
     },
     "execution_count": 24,
     "metadata": {},
     "output_type": "execute_result"
    }
   ],
   "source": [
    "# X_train PCA matriz de atributos de entrenamiento con los 30 componenetes principales dados por el PCA\n",
    "X_train.shape"
   ]
  },
  {
   "cell_type": "code",
   "execution_count": 25,
   "id": "8f1e4f34",
   "metadata": {},
   "outputs": [
    {
     "data": {
      "text/plain": [
       "(13083, 30)"
      ]
     },
     "execution_count": 25,
     "metadata": {},
     "output_type": "execute_result"
    }
   ],
   "source": [
    "# X_train PCA matriz de atributos de validacion con los 30 componenetes principales dados por el PCA\n",
    "X_test.shape"
   ]
  },
  {
   "cell_type": "code",
   "execution_count": 26,
   "id": "81488ba6",
   "metadata": {},
   "outputs": [
    {
     "data": {
      "text/plain": [
       "array(['pca0', 'pca1', 'pca2', 'pca3', 'pca4', 'pca5', 'pca6', 'pca7',\n",
       "       'pca8', 'pca9', 'pca10', 'pca11', 'pca12', 'pca13', 'pca14',\n",
       "       'pca15', 'pca16', 'pca17', 'pca18', 'pca19', 'pca20', 'pca21',\n",
       "       'pca22', 'pca23', 'pca24', 'pca25', 'pca26', 'pca27', 'pca28',\n",
       "       'pca29'], dtype=object)"
      ]
     },
     "execution_count": 26,
     "metadata": {},
     "output_type": "execute_result"
    }
   ],
   "source": [
    "# PCA con 30 componentes sobre X_mat\n",
    "modelo_pca.get_feature_names_out()"
   ]
  },
  {
   "cell_type": "markdown",
   "id": "e0591d3c",
   "metadata": {},
   "source": [
    "### Ejercicio 2 - Evaluación de modelos individuales\n",
    "- A continuación generará una serie de modelos que se incorporarán posteriormente al comité de votación. Para ello, se solicita que:\n",
    "    - Importe los módulos correctamente.\n",
    "    - Para cada uno de ellos, genere un reporte en las métricas de desempeño respecto a Precision, Recall, F1. Puede hacer uso de la función `plot_classification_report` disponible en el archivo `helpers.py`.\n",
    "    ```python\n",
    "    plt.figure(figsize=(10, 10))\n",
    "    for index, value in enumerate(estimators):\n",
    "        plt.subplot(len(estimators), 1, index + 1)\n",
    "        plt.title(value[0])\n",
    "        class_pred = value[1].fit(X_train_pca, y_train).predict(X_test_pca)\n",
    "        helpers.lot_classification_report(y_test, class_pred)\n",
    "        plt.axvline(.5, label='.5 Boundary', linestyle='--')\n",
    "        plt.xlim((0.1, 1.0))\n",
    "        if (index + 1) % 2 == 0:\n",
    "            plt.legend(loc='center left', bbox_to_anchor=(1, 0.5))\n",
    "    plt.tight_layout()\n",
    "    ```\n",
    "    - Comente el desempeño general de cada uno.\n",
    "<br />\n",
    "<br />\n",
    "\n",
    "\n",
    "- La lista de modelos es la siguiente. Cabe destacar que la mayoría de éstos corresponden a implementaciones vanilla, salvo que se indique lo contrario:\n",
    "    - Regresión Logística.\n",
    "    - K Nearest Neighbors con `n_neighbors=5`.\n",
    "    ```python\n",
    "    from sklearn.naive_bayes import GaussianNB\n",
    "    nb = GaussianNB()\n",
    "    ```\n",
    "    - Árbol de Clasificación con un `max_depth=1`.\n",
    "    - Árbol de Clasificación con un `max_depth=4`."
   ]
  },
  {
   "cell_type": "code",
   "execution_count": 27,
   "id": "d63da256",
   "metadata": {},
   "outputs": [],
   "source": [
    "# definimos el comité de clasificadores en una lista de tuplas\n",
    "estimators = [('Naives Bayes Gaussian', GaussianNB()),\n",
    "            ('Logistic Regression', LogisticRegression(random_state = rep_seed)),\n",
    "            ('Decision Tree Classifier max_depth = 1', DecisionTreeClassifier(random_state = rep_seed, max_depth = 1)),\n",
    "            ('Decision Tree Classifier max_depth = 4', DecisionTreeClassifier(random_state = rep_seed, max_depth = 4))]"
   ]
  },
  {
   "cell_type": "code",
   "execution_count": 28,
   "id": "f10aa311",
   "metadata": {},
   "outputs": [
    {
     "data": {
      "image/png": "[encoded data removed]",
      "text/plain": [
       "<Figure size 720x720 with 4 Axes>"
      ]
     },
     "metadata": {
      "needs_background": "light"
     },
     "output_type": "display_data"
    }
   ],
   "source": [
    "plt.figure(figsize = (10, 10))\n",
    "for index, value in enumerate(estimators):\n",
    "    plt.subplot(len(estimators), 1, index + 1)\n",
    "    plt.title(value[0])\n",
    "    class_pred = value[1].fit(X_train, y_train).predict(X_test)\n",
    "    gfx.plot_classification_report(y_test, class_pred)\n",
    "    plt.axvline(.5, label = '.5 Boundary', linestyle = '--')\n",
    "    plt.xlim((0.1, 1.0))\n",
    "    if (index + 1) % 2 == 0:\n",
    "        plt.legend(loc = 'center left', bbox_to_anchor = (1, 0.5))\n",
    "    plt.tight_layout()"
   ]
  },
  {
   "cell_type": "markdown",
   "id": "67382d98",
   "metadata": {},
   "source": [
    "Logistic regression presenta un mejor desempeño sobre los demas modelos, dado que tiene un comportamiento mas homogeneo a la prediccion de unos y ceros, ademas es el que mas se acerca al 100% de la prediccion.\n",
    "\n",
    "Decision Tree Classifier con max_depth = 1, presenta el segundo mejor desempeño y un comportamiento similar a Logistic regression\n",
    "\n",
    "Naives Bayes Gaussian y Decision Tree Classifier max_depth = 4, presentan las peores metricas destacando a Naives Bayes como el modelo con metricas mas debiles."
   ]
  },
  {
   "cell_type": "markdown",
   "id": "8229b7cf",
   "metadata": {},
   "source": [
    "### Ejercicio 3 - Entrenamiento de Comité\n",
    "- Entrene el comité de clasificadores sin modificar el esquema de votación.\n",
    "- Reporte el desempeño a nivel de cada clase para cada métrica."
   ]
  },
  {
   "cell_type": "code",
   "execution_count": 29,
   "id": "d0a4cf39",
   "metadata": {},
   "outputs": [],
   "source": [
    "# Utilice esta celda para entrenar VotingClassifier, y generar predicciones sobre X_test_pca\n",
    "# VotingClassifier requiere de la lista de tuplas que definimos arriba\n",
    "voting_classifier = VotingClassifier(estimators).fit(X_train, y_train)"
   ]
  },
  {
   "cell_type": "code",
   "execution_count": 30,
   "id": "cefd5eaa",
   "metadata": {},
   "outputs": [
    {
     "data": {
      "text/plain": [
       "<matplotlib.legend.Legend at 0x1f7b55fd0f0>"
      ]
     },
     "execution_count": 30,
     "metadata": {},
     "output_type": "execute_result"
    },
    {
     "data": {
      "image/png": "[encoded data removed]",
      "text/plain": [
       "<Figure size 432x288 with 1 Axes>"
      ]
     },
     "metadata": {
      "needs_background": "light"
     },
     "output_type": "display_data"
    }
   ],
   "source": [
    "# Utilice esta celda para reportar desempeño utilizando helpers.plot_classification_report\n",
    "gfx.plot_classification_report(y_test,voting_classifier.fit(X_train,y_train).predict(X_test))\n",
    "plt.xlim((0.4, 1.0))\n",
    "plt.title('Voting Classifier hard')\n",
    "plt.legend(loc = 'center left', bbox_to_anchor = (1, 0.5))"
   ]
  },
  {
   "cell_type": "markdown",
   "id": "c1ba588d",
   "metadata": {},
   "source": [
    "### Ejercicio 4 - Calibración de Comité con Ponderadores\n",
    "- En base al comportamiento de los clasificadores individuales del ensamble, proponga dos esquemas de ponderación para mejorar el desempeño del modelo.\n",
    "- Reporte el desempeño del mejor ensamble heterogéneo"
   ]
  },
  {
   "cell_type": "code",
   "execution_count": 31,
   "id": "9f566103",
   "metadata": {},
   "outputs": [],
   "source": [
    "# Utilice esta celda para definir los esquemas de pesos, definimos un diccionario con el esquema de ponderación a aplicar\n",
    "weights_hyperparams = {'Esquema_1': [.166, .166, .166, .166],\n",
    "                    'Esquema_2': [.125, .125, .20, .30]}"
   ]
  },
  {
   "cell_type": "code",
   "execution_count": 32,
   "id": "872ca8b8",
   "metadata": {},
   "outputs": [
    {
     "data": {
      "image/png": "[encoded data removed]",
      "text/plain": [
       "<Figure size 432x288 with 2 Axes>"
      ]
     },
     "metadata": {
      "needs_background": "light"
     },
     "output_type": "display_data"
    }
   ],
   "source": [
    "gfx.weighting_schedule(voting_classifier, X_train, X_test, y_train, y_test, weights_hyperparams)"
   ]
  },
  {
   "cell_type": "code",
   "execution_count": 35,
   "id": "a0587a6f",
   "metadata": {},
   "outputs": [
    {
     "data": {
      "text/plain": [
       "Text(0.5, 1.0, 'Relevancia de cada clasificador en el ensamble')"
      ]
     },
     "execution_count": 35,
     "metadata": {},
     "output_type": "execute_result"
    },
    {
     "data": {
      "image/png": "[encoded data removed]",
      "text/plain": [
       "<Figure size 432x288 with 1 Axes>"
      ]
     },
     "metadata": {
      "needs_background": "light"
     },
     "output_type": "display_data"
    }
   ],
   "source": [
    "gfx.committee_voting(voting_classifier, X_train, X_test, y_train, y_test)\n",
    "plt.title('Relevancia de cada clasificador en el ensamble')"
   ]
  }
 ],
 "metadata": {
  "kernelspec": {
   "display_name": "Python 3.10.8 64-bit",
   "language": "python",
   "name": "python3"
  },
  "language_info": {
   "codemirror_mode": {
    "name": "ipython",
    "version": 3
   },
   "file_extension": ".py",
   "mimetype": "text/x-python",
   "name": "python",
   "nbconvert_exporter": "python",
   "pygments_lexer": "ipython3",
   "version": "3.10.8"
  },
  "vscode": {
   "interpreter": {
    "hash": "5fe23d4cdea1a1fdeea398f38169f58ea6e36b10f84ee4017a8f0fee693ee786"
   }
  }
 },
 "nbformat": 4,
 "nbformat_minor": 5
}
