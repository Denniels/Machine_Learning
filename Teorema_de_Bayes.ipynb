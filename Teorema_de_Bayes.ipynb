{
 "cells": [
  {
   "cell_type": "code",
   "execution_count": 1,
   "metadata": {},
   "outputs": [],
   "source": [
    "import pandas as pd\n",
    "import numpy as np\n",
    "import matplotlib.pyplot as plt\n",
    "import lec3_graphs as afx\n",
    "import warnings\n",
    "warnings,warnings.simplefilter('ignore')\n",
    "plt.rcParams['figure.figsize'] = (10, 6)\n",
    "plt.style.use('seaborn')"
   ]
  },
  {
   "cell_type": "markdown",
   "metadata": {},
   "source": [
    "### Experimento: ¿Que pasa cuando una persona te sonrrie cada vez que te ve?\n",
    "\n",
    "$$Pr(A posteriori) = {Pr(Verosimilitud) \\times Pr(A priori) \\over Pr(Evidencia)} $$\n",
    "\n",
    "$$Pr(Le gusto | Me sonrrie) = {Pr(Me sonrrie | Le gusto) \\times Pr(Le gusto) \\over Pr(Sonrrie)} $$\n",
    "\n",
    "- Pr(Le gusto | Me sonrrie) = es la probavilidad de que le guste sabiendo que te sonrrie cuando te ve. Esta es nuetsra incognita a resolver\n",
    "- Pr(Me sonrrie | Le gusto) = es la probavilidad que sonrria asumiendo que le sonrrie a la gente que le gusta. Esta es la informacion que asumimos, que hay una probabilida del 95% que sonrria  las personas que le gusta\n",
    "- Pr(Le gusto) = es la probabilidad que le guste una persona al azar. Sabemos que hay un 1% de chances que esa persona le guste alguien al azar.\n",
    "- Pr(Sonrrie) = es la probabilidad que le sonrria a alguien al azar. Por ultimo, tambien sabemos que hay una 10% de que esa persona sonrria al azar a un extraño"
   ]
  },
  {
   "cell_type": "code",
   "execution_count": 4,
   "metadata": {},
   "outputs": [],
   "source": [
    "def bayes_solver(likelihood = .95, prior = 0.01, evidence = 0.1):\n",
    "        return round(likelihood * prior / evidence, 3)"
   ]
  },
  {
   "cell_type": "code",
   "execution_count": 5,
   "metadata": {},
   "outputs": [
    {
     "data": {
      "text/plain": [
       "0.095"
      ]
     },
     "execution_count": 5,
     "metadata": {},
     "output_type": "execute_result"
    }
   ],
   "source": [
    "bayes_solver()"
   ]
  },
  {
   "cell_type": "code",
   "execution_count": 7,
   "metadata": {},
   "outputs": [
    {
     "data": {
      "text/plain": [
       "0.047"
      ]
     },
     "execution_count": 7,
     "metadata": {},
     "output_type": "execute_result"
    }
   ],
   "source": [
    "bayes_solver(evidence = .20)"
   ]
  },
  {
   "cell_type": "code",
   "execution_count": 8,
   "metadata": {},
   "outputs": [
    {
     "data": {
      "text/plain": [
       "0.95"
      ]
     },
     "execution_count": 8,
     "metadata": {},
     "output_type": "execute_result"
    }
   ],
   "source": [
    "bayes_solver(prior = 0.2, evidence = .20)"
   ]
  }
 ],
 "metadata": {
  "kernelspec": {
   "display_name": "Python 3 (ipykernel)",
   "language": "python",
   "name": "python3"
  },
  "language_info": {
   "codemirror_mode": {
    "name": "ipython",
    "version": 3
   },
   "file_extension": ".py",
   "mimetype": "text/x-python",
   "name": "python",
   "nbconvert_exporter": "python",
   "pygments_lexer": "ipython3",
   "version": "3.10.8"
  },
  "vscode": {
   "interpreter": {
    "hash": "5fe23d4cdea1a1fdeea398f38169f58ea6e36b10f84ee4017a8f0fee693ee786"
   }
  }
 },
 "nbformat": 4,
 "nbformat_minor": 4
}
