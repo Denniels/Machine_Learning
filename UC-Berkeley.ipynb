{
 "cells": [
  {
   "cell_type": "code",
   "execution_count": 1,
   "id": "5c914f81-d386-4a59-ae6f-a6b8456354cc",
   "metadata": {},
   "outputs": [],
   "source": [
    "# añadimos las librerías clásicas\n",
    "import numpy as np\n",
    "import pandas as pd\n",
    "import matplotlib.pyplot as plt\n",
    "import lec3_graphs as gfx\n",
    "\n",
    "# importamos los módulos de sklearn\n",
    "from sklearn.naive_bayes import BernoulliNB\n",
    "from sklearn.preprocessing import LabelEncoder\n",
    "from sklearn.model_selection import train_test_split\n",
    "from sklearn.metrics import confusion_matrix\n",
    "from sklearn.metrics import classification_report\n",
    "from sklearn.metrics import roc_curve, roc_auc_score\n",
    "\n",
    "# añadimos seaborn\n",
    "import seaborn as sns\n",
    "plt.style.use('seaborn')\n",
    "plt.rcParams['figure.figsize'] = (10, 6)\n"
   ]
  },
  {
   "cell_type": "markdown",
   "id": "ae2f724f-3672-40d3-9993-9cb28fad58bd",
   "metadata": {},
   "source": [
    "Con nuestro ambiente de trabajo ya listo, vamos a importar ucbaddmissions.csv con\n",
    "read_csv y nos aseguraremos de eliminar la columna Unnamed: 0 que se genera de forma\n",
    "automática."
   ]
  },
  {
   "cell_type": "code",
   "execution_count": 2,
   "id": "babb32f1-c11a-4df2-844d-92355e3a7c0b",
   "metadata": {},
   "outputs": [
    {
     "data": {
      "text/html": [
       "<div>\n",
       "<style scoped>\n",
       "    .dataframe tbody tr th:only-of-type {\n",
       "        vertical-align: middle;\n",
       "    }\n",
       "\n",
       "    .dataframe tbody tr th {\n",
       "        vertical-align: top;\n",
       "    }\n",
       "\n",
       "    .dataframe thead th {\n",
       "        text-align: right;\n",
       "    }\n",
       "</style>\n",
       "<table border=\"1\" class=\"dataframe\">\n",
       "  <thead>\n",
       "    <tr style=\"text-align: right;\">\n",
       "      <th></th>\n",
       "      <th>Admit</th>\n",
       "      <th>Gender</th>\n",
       "      <th>Dept</th>\n",
       "      <th>Freq</th>\n",
       "    </tr>\n",
       "  </thead>\n",
       "  <tbody>\n",
       "    <tr>\n",
       "      <th>0</th>\n",
       "      <td>Admitted</td>\n",
       "      <td>Male</td>\n",
       "      <td>A</td>\n",
       "      <td>512</td>\n",
       "    </tr>\n",
       "    <tr>\n",
       "      <th>1</th>\n",
       "      <td>Rejected</td>\n",
       "      <td>Male</td>\n",
       "      <td>A</td>\n",
       "      <td>313</td>\n",
       "    </tr>\n",
       "    <tr>\n",
       "      <th>2</th>\n",
       "      <td>Admitted</td>\n",
       "      <td>Female</td>\n",
       "      <td>A</td>\n",
       "      <td>89</td>\n",
       "    </tr>\n",
       "    <tr>\n",
       "      <th>3</th>\n",
       "      <td>Rejected</td>\n",
       "      <td>Female</td>\n",
       "      <td>A</td>\n",
       "      <td>19</td>\n",
       "    </tr>\n",
       "    <tr>\n",
       "      <th>4</th>\n",
       "      <td>Admitted</td>\n",
       "      <td>Male</td>\n",
       "      <td>B</td>\n",
       "      <td>353</td>\n",
       "    </tr>\n",
       "  </tbody>\n",
       "</table>\n",
       "</div>"
      ],
      "text/plain": [
       "      Admit  Gender Dept  Freq\n",
       "0  Admitted    Male    A   512\n",
       "1  Rejected    Male    A   313\n",
       "2  Admitted  Female    A    89\n",
       "3  Rejected  Female    A    19\n",
       "4  Admitted    Male    B   353"
      ]
     },
     "execution_count": 2,
     "metadata": {},
     "output_type": "execute_result"
    }
   ],
   "source": [
    "df = pd.read_csv('Datasets/ucbadmissions.csv').drop(columns='Unnamed: 0')\n",
    "df.head(5)\n"
   ]
  },
  {
   "cell_type": "markdown",
   "id": "78402fb3-dfbc-48aa-ac98-f91c2f4dc1eb",
   "metadata": {},
   "source": [
    "Como primer paso exploratorio, veamos cuál es la distribución de cada atributo en nuestra\n",
    "base. Un problema que encontraremos es que nuestro DataFrame es una tabla procesada\n",
    "que muestra la frecuencia de la combinación de valores en 'Admit', 'Gender' y 'Dept'.\n",
    "Esto nos generará problemas posteriormente cuando queramos implementar nuestro\n",
    "modelo, dado la baja cantidad de datos.\n",
    "\n",
    "Nuestra estrategia es aumentar artificialmente cada combinación de valores dada la\n",
    "frecuencia.\n",
    "\n",
    "Para ello implementaremos una función que tome como argumento de ingreso la tabla\n",
    "agregada, y devuelva la cantidad de observaciones correctas mediante\n",
    "deaggregate_statistics."
   ]
  },
  {
   "cell_type": "code",
   "execution_count": 3,
   "id": "6032828c-d5bf-4c7c-bc0a-42389be782f6",
   "metadata": {},
   "outputs": [],
   "source": [
    "# dado lo verboso de la función, ésta se encuentra en el archivo auxiliar\n",
    "df_deagg = gfx.deaggregate_statistics(df)\n"
   ]
  },
  {
   "cell_type": "markdown",
   "id": "862057e6-012f-4b99-a426-1cee8e17982a",
   "metadata": {},
   "source": [
    "Antes de seguir con nuestro análisis, debemos procurar que nuestra base desagregada\n",
    "represente la suma de df['Freq']. Esto lo logramos con una operación booleana simple. El\n",
    "resultado nos confiere que el procedimiento está bien hecho. Con nuestra base procesada,\n",
    "realizamos una serie de gráficos de barras por cada elemento."
   ]
  },
  {
   "cell_type": "code",
   "execution_count": 4,
   "id": "527061d0-810f-407c-bbf2-7791f0ef27d4",
   "metadata": {},
   "outputs": [
    {
     "data": {
      "text/plain": [
       "True"
      ]
     },
     "execution_count": 4,
     "metadata": {},
     "output_type": "execute_result"
    }
   ],
   "source": [
    "# devuelve un booleano que compare la cantidad de observaciones en ambas bases\n",
    "df_deagg.shape[0] == sum(df['Freq'])\n"
   ]
  },
  {
   "cell_type": "markdown",
   "id": "cfabf279-d6a8-46ef-9e95-77bf396f9229",
   "metadata": {},
   "source": [
    "Ahora podemos graficar:"
   ]
  },
  {
   "cell_type": "code",
   "execution_count": 5,
   "id": "5703b94e-93cf-46fc-bafe-45c6162fd426",
   "metadata": {},
   "outputs": [
    {
     "data": {
      "image/png": "[encoded data removed]",
      "text/plain": [
       "<Figure size 576x288 with 3 Axes>"
      ]
     },
     "metadata": {
      "needs_background": "light"
     },
     "output_type": "display_data"
    }
   ],
   "source": [
    "# definimos un canvas con tamaños fijos para mejorar la presentación\n",
    "plt.figure(figsize=(8, 4))\n",
    "# para cada elemento de nuestra columna, devuelve un número (n) y el elemento (i)\n",
    "for n, i in enumerate(['Admit', 'Gender', 'Dept']):\n",
    "    # generamos tres subplots en una fila\n",
    "    plt.subplot(1, 3, n + 1)\n",
    "    # generamos un contador de frecuencia con seaborn\n",
    "    sns.countplot(y= df_deagg[i],\n",
    "    # ordenamos las frecuencias de mayor a menor\n",
    "    order = df_deagg[i].value_counts().index)\n",
    "# agregamos el título\n",
    "plt.title('Frecuencias para {}'.format(i))\n",
    "# mejoramos los márgenes\n",
    "plt.tight_layout()"
   ]
  },
  {
   "cell_type": "markdown",
   "id": "102c0e4c-a66f-4133-846f-12742a541e50",
   "metadata": {},
   "source": [
    "UC Berkeley es una universidad pública de élite, por lo que las tasas de rechazo no resultan\n",
    "sorprendentes. Aproximadamente el 61% de los postulantes fueron rechazados. La mayoría\n",
    "de los postulantes fueron a los departamentos A y C (ambos con un 20%), pero en general la\n",
    "postulación fue homogénea. La mayoría de los postulantes fueron hombres (cercano al\n",
    "60%) y el restante fueron mujeres."
   ]
  },
  {
   "cell_type": "code",
   "execution_count": 6,
   "id": "46eed833-846e-40bb-b4e2-d55aa722932b",
   "metadata": {},
   "outputs": [
    {
     "name": "stdout",
     "output_type": "stream",
     "text": [
      "Rejected    0.61224\n",
      "Admitted    0.38776\n",
      "Name: Admit, dtype: float64 \n",
      "\n",
      "Male      0.594565\n",
      "Female    0.405435\n",
      "Name: Gender, dtype: float64 \n",
      "\n",
      "A    0.206142\n",
      "C    0.202828\n",
      "D    0.174989\n",
      "F    0.157755\n",
      "B    0.129253\n",
      "E    0.129032\n",
      "Name: Dept, dtype: float64 \n",
      "\n"
     ]
    }
   ],
   "source": [
    "for _ , i in df_deagg.iteritems():\n",
    "    print(i.value_counts('%'),\"\\n\")"
   ]
  },
  {
   "cell_type": "code",
   "execution_count": 7,
   "id": "e4c74f25-e6bb-47c5-afec-e15a0628bf6f",
   "metadata": {},
   "outputs": [
    {
     "data": {
      "text/plain": [
       "array(['A', 'B', 'C', 'D', 'E', 'F'], dtype=object)"
      ]
     },
     "execution_count": 7,
     "metadata": {},
     "output_type": "execute_result"
    }
   ],
   "source": [
    "df_deagg['Dept'].unique()"
   ]
  },
  {
   "cell_type": "markdown",
   "id": "e0b37be3-bcbd-489d-8c72-8ae1834660d5",
   "metadata": {},
   "source": [
    "### Implementado un algoritmo Naive Bayes\n",
    "Para implementar el modelo, utilizaremos la clase BernoulliNB dentro del módulo\n",
    "linear_model de la librería sklearn. Como el algoritmo NB es un problema de clasificación\n",
    "supervisada dado que tenemos conocimiento sobre la cantidad de clases y en un espacio\n",
    "finito 𝑌 debemos importar de manera adicional las métricas de desempeño más comunes\n",
    "como roc_auc_score, roc_curve, confusion_matrix.\n",
    "\n",
    "Considerando que todos los registros en la base desagregada son strings, debemos\n",
    "transformar estos atributos categóricos a numéricos para facilitarle el trabajo a Sklearn.\n",
    "Para ello implementaremos la clase LabelEncoder que se encuentra en el módulo\n",
    "preprocessing de sklearn. Nuestro primer paso es convertir los atributos. LabelEncoder\n",
    "genera un encoding entre 0 y la cantidad de clases -1. Para generar nuestra recodificación,\n",
    "posterior a la inicialización de la clase LabelEncoder implementamos el método\n",
    "fit_transform que devuelve las etiquetas numéricas. El modelo que implementaremos\n",
    "sólo admite variables binarias, por lo que implementaremos el método pd.get_dummies\n",
    "para extraer una serie de binarias por cada categoría de departamentos.\n"
   ]
  },
  {
   "cell_type": "code",
   "execution_count": 8,
   "id": "7ee0d42b-9f3a-49a3-9471-03ad7dd5c90c",
   "metadata": {},
   "outputs": [],
   "source": [
    "# instanciamos el objeto\n",
    "lbl = LabelEncoder()"
   ]
  },
  {
   "cell_type": "code",
   "execution_count": 9,
   "id": "1a50fb62-e14e-4014-b317-cd021d30519c",
   "metadata": {},
   "outputs": [],
   "source": [
    "# Implementamos el método fit_transform para actualizar y sobreescribir cada columna de atributos\n",
    "df_deagg['Gender'] = lbl.fit_transform(df_deagg['Gender'])\n",
    "df_deagg['Admit'] = lbl.fit_transform(df_deagg['Admit'])\n",
    "\n",
    "# generamos una serie de dummies en base a Dept y las concatenamos a nuestra base.\n",
    "# posteriormente, eliminamos la columna Dept\n",
    "df_deagg = pd.concat([df_deagg, pd.get_dummies(df_deagg['Dept'],\n",
    "prefix='dept')], axis=1).drop(columns='Dept')"
   ]
  },
  {
   "cell_type": "code",
   "execution_count": 10,
   "id": "7e3183fb-2f54-401d-8261-a11c13b43acf",
   "metadata": {},
   "outputs": [
    {
     "data": {
      "text/html": [
       "<div>\n",
       "<style scoped>\n",
       "    .dataframe tbody tr th:only-of-type {\n",
       "        vertical-align: middle;\n",
       "    }\n",
       "\n",
       "    .dataframe tbody tr th {\n",
       "        vertical-align: top;\n",
       "    }\n",
       "\n",
       "    .dataframe thead th {\n",
       "        text-align: right;\n",
       "    }\n",
       "</style>\n",
       "<table border=\"1\" class=\"dataframe\">\n",
       "  <thead>\n",
       "    <tr style=\"text-align: right;\">\n",
       "      <th></th>\n",
       "      <th>Admit</th>\n",
       "      <th>Gender</th>\n",
       "      <th>dept_A</th>\n",
       "      <th>dept_B</th>\n",
       "      <th>dept_C</th>\n",
       "      <th>dept_D</th>\n",
       "      <th>dept_E</th>\n",
       "      <th>dept_F</th>\n",
       "    </tr>\n",
       "  </thead>\n",
       "  <tbody>\n",
       "    <tr>\n",
       "      <th>4521</th>\n",
       "      <td>1</td>\n",
       "      <td>0</td>\n",
       "      <td>0</td>\n",
       "      <td>0</td>\n",
       "      <td>0</td>\n",
       "      <td>0</td>\n",
       "      <td>0</td>\n",
       "      <td>1</td>\n",
       "    </tr>\n",
       "    <tr>\n",
       "      <th>4522</th>\n",
       "      <td>1</td>\n",
       "      <td>0</td>\n",
       "      <td>0</td>\n",
       "      <td>0</td>\n",
       "      <td>0</td>\n",
       "      <td>0</td>\n",
       "      <td>0</td>\n",
       "      <td>1</td>\n",
       "    </tr>\n",
       "    <tr>\n",
       "      <th>4523</th>\n",
       "      <td>1</td>\n",
       "      <td>0</td>\n",
       "      <td>0</td>\n",
       "      <td>0</td>\n",
       "      <td>0</td>\n",
       "      <td>0</td>\n",
       "      <td>0</td>\n",
       "      <td>1</td>\n",
       "    </tr>\n",
       "    <tr>\n",
       "      <th>4524</th>\n",
       "      <td>1</td>\n",
       "      <td>0</td>\n",
       "      <td>0</td>\n",
       "      <td>0</td>\n",
       "      <td>0</td>\n",
       "      <td>0</td>\n",
       "      <td>0</td>\n",
       "      <td>1</td>\n",
       "    </tr>\n",
       "    <tr>\n",
       "      <th>4525</th>\n",
       "      <td>1</td>\n",
       "      <td>0</td>\n",
       "      <td>0</td>\n",
       "      <td>0</td>\n",
       "      <td>0</td>\n",
       "      <td>0</td>\n",
       "      <td>0</td>\n",
       "      <td>1</td>\n",
       "    </tr>\n",
       "  </tbody>\n",
       "</table>\n",
       "</div>"
      ],
      "text/plain": [
       "      Admit  Gender  dept_A  dept_B  dept_C  dept_D  dept_E  dept_F\n",
       "4521      1       0       0       0       0       0       0       1\n",
       "4522      1       0       0       0       0       0       0       1\n",
       "4523      1       0       0       0       0       0       0       1\n",
       "4524      1       0       0       0       0       0       0       1\n",
       "4525      1       0       0       0       0       0       0       1"
      ]
     },
     "execution_count": 10,
     "metadata": {},
     "output_type": "execute_result"
    }
   ],
   "source": [
    "# solicitemos las últimas 5 observaciones de nuestra base\n",
    "df_deagg.tail()"
   ]
  },
  {
   "cell_type": "code",
   "execution_count": 11,
   "id": "48486dcc-2cbd-4c1a-ac91-399fccec06a2",
   "metadata": {},
   "outputs": [
    {
     "data": {
      "text/plain": [
       "1    0.61224\n",
       "0    0.38776\n",
       "Name: Admit, dtype: float64"
      ]
     },
     "execution_count": 11,
     "metadata": {},
     "output_type": "execute_result"
    }
   ],
   "source": [
    "# Verifiquemos que la variable Admit esta lista para ser procesada por el clasificador\n",
    "df_deagg['Admit'].value_counts('%')"
   ]
  },
  {
   "cell_type": "markdown",
   "id": "eb372be0-6899-4bca-808f-8a0969b4e3b9",
   "metadata": {},
   "source": [
    "Posterior a la reconversión de los valores, seguimos con nuestro flujo básico de trabajo\n",
    "generando muestras de entrenamiento y validación con train_test_split, dejando un\n",
    "30% de la muestra como validación y declarando una semilla pseudoaleatoria."
   ]
  },
  {
   "cell_type": "code",
   "execution_count": 12,
   "id": "ffb0cec4-e8f0-4e5a-a2c8-cd8c278db890",
   "metadata": {},
   "outputs": [
    {
     "data": {
      "text/plain": [
       "(3168, 7)"
      ]
     },
     "execution_count": 12,
     "metadata": {},
     "output_type": "execute_result"
    }
   ],
   "source": [
    "X_train_mat, X_test_mat, y_train_vec, y_test_vec = train_test_split(df_deagg.loc[:, 'Gender':'dept_F'], df_deagg['Admit'],\n",
    "                                                                    test_size=.30, random_state=11238)\n",
    "X_train_mat.shape"
   ]
  },
  {
   "cell_type": "markdown",
   "id": "c61ae003-2418-4c6d-93df-b9213d582bbd",
   "metadata": {},
   "source": [
    "#### El clasificador BernoulliNB()\n",
    "Siguiendo el flujo de trabajo, lo que debemos hacer es generar una instancia del Clasificador.\n",
    "La documentación de BernoulliNB() hace referencia a 4 hiper parámetros a considerar:\n",
    "1. alpha: Añade un parámetro aditivo a la probabilidad 𝑃𝑟(𝑋 . Esta adición permite\n",
    "𝑘\n",
    "|𝑦)\n",
    "superar el problema del floating point underflow cuando nos encontramos con\n",
    "probabilidades 𝑃𝑟(𝑋 . Cuando alpha=1, se llama suavización de Laplace y\n",
    "𝑘\n",
    "|𝑦) = 0\n",
    "cuando alpha es un decimal entre 0 y 1 se conoce como suavización de Lidstone.\n",
    "2. binarize: Implementado cuando los atributos son continuos y se necesita declarar\n",
    "un umbral para la binarización.\n",
    "3. fit_prior: Por defecto calcula la probabilidad a priori de cada clase en la muestra\n",
    "de entrenamiento. Si es False, asume una distribución uniforme en base a 1/𝑁\n",
    "𝑦∈𝑌\n",
    ".\n",
    "4. class_prior: Permite ingresar la probabilidad a priori para cada clase en el\n",
    "algoritmo de entrenamiento. Por defecto es None.\n",
    "Nuestro primer modelo tomará los argumentos por defecto de la clase. Partimos por\n",
    "instanciar un objeto y posteriormente implementar el método .fit donde ingresamos\n",
    "nuestra matriz de atributos (X_train_mat) y vector objetivo (y_train_vec). Python nos\n",
    "informa sobre los hiper parámetros especificados en la clase. Por defecto asume una\n",
    "suavización con un alpha=1 y sin un umbral de binarización declarado, dado que nuestros\n",
    "atributos ya están binarizados de forma previa. Para este modelo inicial no añadiremos\n",
    "información a priori.\n"
   ]
  },
  {
   "cell_type": "code",
   "execution_count": 13,
   "id": "2530ab66-f587-4a86-92c8-a2920a1089fe",
   "metadata": {},
   "outputs": [
    {
     "data": {
      "text/html": [
       "<style>#sk-container-id-1 {color: black;background-color: white;}#sk-container-id-1 pre{padding: 0;}#sk-container-id-1 div.sk-toggleable {background-color: white;}#sk-container-id-1 label.sk-toggleable__label {cursor: pointer;display: block;width: 100%;margin-bottom: 0;padding: 0.3em;box-sizing: border-box;text-align: center;}#sk-container-id-1 label.sk-toggleable__label-arrow:before {content: \"▸\";float: left;margin-right: 0.25em;color: #696969;}#sk-container-id-1 label.sk-toggleable__label-arrow:hover:before {color: black;}#sk-container-id-1 div.sk-estimator:hover label.sk-toggleable__label-arrow:before {color: black;}#sk-container-id-1 div.sk-toggleable__content {max-height: 0;max-width: 0;overflow: hidden;text-align: left;background-color: #f0f8ff;}#sk-container-id-1 div.sk-toggleable__content pre {margin: 0.2em;color: black;border-radius: 0.25em;background-color: #f0f8ff;}#sk-container-id-1 input.sk-toggleable__control:checked~div.sk-toggleable__content {max-height: 200px;max-width: 100%;overflow: auto;}#sk-container-id-1 input.sk-toggleable__control:checked~label.sk-toggleable__label-arrow:before {content: \"▾\";}#sk-container-id-1 div.sk-estimator input.sk-toggleable__control:checked~label.sk-toggleable__label {background-color: #d4ebff;}#sk-container-id-1 div.sk-label input.sk-toggleable__control:checked~label.sk-toggleable__label {background-color: #d4ebff;}#sk-container-id-1 input.sk-hidden--visually {border: 0;clip: rect(1px 1px 1px 1px);clip: rect(1px, 1px, 1px, 1px);height: 1px;margin: -1px;overflow: hidden;padding: 0;position: absolute;width: 1px;}#sk-container-id-1 div.sk-estimator {font-family: monospace;background-color: #f0f8ff;border: 1px dotted black;border-radius: 0.25em;box-sizing: border-box;margin-bottom: 0.5em;}#sk-container-id-1 div.sk-estimator:hover {background-color: #d4ebff;}#sk-container-id-1 div.sk-parallel-item::after {content: \"\";width: 100%;border-bottom: 1px solid gray;flex-grow: 1;}#sk-container-id-1 div.sk-label:hover label.sk-toggleable__label {background-color: #d4ebff;}#sk-container-id-1 div.sk-serial::before {content: \"\";position: absolute;border-left: 1px solid gray;box-sizing: border-box;top: 0;bottom: 0;left: 50%;z-index: 0;}#sk-container-id-1 div.sk-serial {display: flex;flex-direction: column;align-items: center;background-color: white;padding-right: 0.2em;padding-left: 0.2em;position: relative;}#sk-container-id-1 div.sk-item {position: relative;z-index: 1;}#sk-container-id-1 div.sk-parallel {display: flex;align-items: stretch;justify-content: center;background-color: white;position: relative;}#sk-container-id-1 div.sk-item::before, #sk-container-id-1 div.sk-parallel-item::before {content: \"\";position: absolute;border-left: 1px solid gray;box-sizing: border-box;top: 0;bottom: 0;left: 50%;z-index: -1;}#sk-container-id-1 div.sk-parallel-item {display: flex;flex-direction: column;z-index: 1;position: relative;background-color: white;}#sk-container-id-1 div.sk-parallel-item:first-child::after {align-self: flex-end;width: 50%;}#sk-container-id-1 div.sk-parallel-item:last-child::after {align-self: flex-start;width: 50%;}#sk-container-id-1 div.sk-parallel-item:only-child::after {width: 0;}#sk-container-id-1 div.sk-dashed-wrapped {border: 1px dashed gray;margin: 0 0.4em 0.5em 0.4em;box-sizing: border-box;padding-bottom: 0.4em;background-color: white;}#sk-container-id-1 div.sk-label label {font-family: monospace;font-weight: bold;display: inline-block;line-height: 1.2em;}#sk-container-id-1 div.sk-label-container {text-align: center;}#sk-container-id-1 div.sk-container {/* jupyter's `normalize.less` sets `[hidden] { display: none; }` but bootstrap.min.css set `[hidden] { display: none !important; }` so we also need the `!important` here to be able to override the default hidden behavior on the sphinx rendered scikit-learn.org. See: https://github.com/scikit-learn/scikit-learn/issues/21755 */display: inline-block !important;position: relative;}#sk-container-id-1 div.sk-text-repr-fallback {display: none;}</style><div id=\"sk-container-id-1\" class=\"sk-top-container\"><div class=\"sk-text-repr-fallback\"><pre>BernoulliNB()</pre><b>In a Jupyter environment, please rerun this cell to show the HTML representation or trust the notebook. <br />On GitHub, the HTML representation is unable to render, please try loading this page with nbviewer.org.</b></div><div class=\"sk-container\" hidden><div class=\"sk-item\"><div class=\"sk-estimator sk-toggleable\"><input class=\"sk-toggleable__control sk-hidden--visually\" id=\"sk-estimator-id-1\" type=\"checkbox\" checked><label for=\"sk-estimator-id-1\" class=\"sk-toggleable__label sk-toggleable__label-arrow\">BernoulliNB</label><div class=\"sk-toggleable__content\"><pre>BernoulliNB()</pre></div></div></div></div></div>"
      ],
      "text/plain": [
       "BernoulliNB()"
      ]
     },
     "execution_count": 13,
     "metadata": {},
     "output_type": "execute_result"
    }
   ],
   "source": [
    "nb_classifier = BernoulliNB()\n",
    "nb_classifier.fit(X_train_mat, y_train_vec)\n",
    "BernoulliNB(alpha=1.0, binarize=0.0, class_prior=None, fit_prior=True)"
   ]
  },
  {
   "cell_type": "markdown",
   "id": "a7ddbc9e-9497-4ec6-9e70-613b4bc28785",
   "metadata": {},
   "source": [
    "Una vez realizado el fit de nuestro modelo, el siguiente paso es realizar las predicciones.\n",
    "Siguiendo el flujo clásico del aprendizaje de máquinas, debemos ingresar la matriz de\n",
    "atributos reservada para validación. Como todo modelo de clasificación implementado de\n",
    "sklearn, podemos extraer tres predicciones a partir de nuestro modelo entrenado.\n",
    "\n",
    "#### El logaritmo de la probabilidad\n",
    "La primera opción es extraer el logaritmo de la probabilidad con predict_log_proba para\n",
    "cada una de las clases 𝑦 ∈ 𝑌.\n",
    "Este es el resultado directo de resolver 𝑎𝑟𝑔𝑚𝑎𝑥.\n",
    "\n",
    "𝑦 ∈ 𝑌\n",
    "\n",
    "Si ingresamos nuestra matriz de validación y solicitamos por el logaritmo de la probabilidad\n",
    "para cada una de las clases estimadas. En este ejemplo deseamos saber cuáles son los\n",
    "valores para la primera observación. Observamos que la clase 0 tiene un menor logaritmo de\n",
    "la probabilidad.\n"
   ]
  },
  {
   "cell_type": "code",
   "execution_count": 14,
   "id": "48599376-c5d5-4004-ac15-799231231a8e",
   "metadata": {},
   "outputs": [
    {
     "data": {
      "text/plain": [
       "array([-0.46562497, -0.9881699 ])"
      ]
     },
     "execution_count": 14,
     "metadata": {},
     "output_type": "execute_result"
    }
   ],
   "source": [
    "nb_log_prob_pred = nb_classifier.predict_log_proba(X_test_mat)\n",
    "nb_log_prob_pred[0]"
   ]
  },
  {
   "cell_type": "markdown",
   "id": "8f572fee-0824-4919-85da-5066a7d47899",
   "metadata": {},
   "source": [
    "### La probabilidad\n",
    "El problema del logaritmo de la probabilidad es que es intuitivo para el computador (porque\n",
    "evita trabajar con productoras), pero poco intuitivo para el ser humano. Resulta que si\n",
    "exponemos cada uno de los elementos, obtendremos la probabilidad de pertenencia a cada\n",
    "clase mediante el método predict_proba."
   ]
  },
  {
   "cell_type": "code",
   "execution_count": 15,
   "id": "b087ab20-21f7-45c4-ad9f-2ad155cb3104",
   "metadata": {},
   "outputs": [
    {
     "data": {
      "text/plain": [
       "array([0.62774266, 0.37225734])"
      ]
     },
     "execution_count": 15,
     "metadata": {},
     "output_type": "execute_result"
    }
   ],
   "source": [
    "nb_prob_pred = nb_classifier.predict_proba(X_test_mat)\n",
    "nb_prob_pred[0]"
   ]
  },
  {
   "cell_type": "markdown",
   "id": "60381d9d-bedd-4cac-9759-555d9f35ab89",
   "metadata": {},
   "source": [
    "Como toda probabilidad, la suma de todos los eventos debe ser 1."
   ]
  },
  {
   "cell_type": "code",
   "execution_count": 16,
   "id": "8c0a9020-60a7-4706-b006-7fff32876141",
   "metadata": {},
   "outputs": [
    {
     "data": {
      "text/plain": [
       "1.0"
      ]
     },
     "execution_count": 16,
     "metadata": {},
     "output_type": "execute_result"
    }
   ],
   "source": [
    "np.sum(nb_prob_pred[0]).round(2)"
   ]
  },
  {
   "cell_type": "markdown",
   "id": "0fde9638-dbae-469f-a08b-77e14b7c9c09",
   "metadata": {},
   "source": [
    "Para asegurarnos que la exponenciación de nb_log_prob_pred sea igual a los resultados\n",
    "entregados por nb_prob_pred podemos ejecutar una expresión booleana preguntando si\n",
    "los valores de ambos objetos son iguales."
   ]
  },
  {
   "cell_type": "code",
   "execution_count": 17,
   "id": "930dc670-20a4-43ca-9fb5-299767faa1b6",
   "metadata": {},
   "outputs": [
    {
     "data": {
      "text/plain": [
       "array([ True,  True])"
      ]
     },
     "execution_count": 17,
     "metadata": {},
     "output_type": "execute_result"
    }
   ],
   "source": [
    "nb_prob_pred[0] == np.exp(nb_log_prob_pred[0])"
   ]
  },
  {
   "cell_type": "markdown",
   "id": "af3487df-708f-42fc-a93f-4bb7a449f362",
   "metadata": {},
   "source": [
    "La clase asignada siguiendo el principio máximo a posteriori de la probabilidad.\n",
    "\n",
    "Finalmente, se asigna la clase en base a la maximización del estimado a posteriori."
   ]
  },
  {
   "cell_type": "code",
   "execution_count": 18,
   "id": "aebae962-2189-4c47-862b-6004cdaba9d6",
   "metadata": {},
   "outputs": [
    {
     "data": {
      "text/plain": [
       "0"
      ]
     },
     "execution_count": 18,
     "metadata": {},
     "output_type": "execute_result"
    }
   ],
   "source": [
    "nb_class_pred = nb_classifier.predict(X_test_mat)\n",
    "nb_class_pred[0]"
   ]
  },
  {
   "cell_type": "markdown",
   "id": "87367f62-6bbb-4d43-8427-8700766e44d0",
   "metadata": {},
   "source": [
    "#### Métricas de desempeño en el algoritmo NB\n",
    "Dado que el problema que busca resolver el algoritmo es el de asignar alguna clase en un\n",
    "espacio finito a una observación específica, implementamos una estrategia supervisada\n",
    "donde analizamos el desempeño del algoritmo en clasificar de manera adecuada los casos\n",
    "correctamente predichos. Esto lo logramos mediante el contraste entre las predicciones en\n",
    "nuestra muestra de validación y las clases verdaderas.\n",
    "\n",
    "El primer elemento lo logramos mediante una matriz de confusión, que permite contrastar\n",
    "las clases verdaderas con el pronóstico del modelo. Mediante este cruce extraemos\n",
    "información sobre la tasa de verdaderos (Clasificaciones correctamente predichas) y falsos\n",
    "(Clasificaciones incorrectas).\n",
    "Para implementar una matriz de confusión importamos el método confusion_matrix del\n",
    "módulo metrics de la librería sklearn"
   ]
  },
  {
   "cell_type": "code",
   "execution_count": 19,
   "id": "1593339a-0d53-4781-9f15-28769dd67850",
   "metadata": {},
   "outputs": [],
   "source": [
    "# en base a un vector de clases predichas\n",
    "y_hat = nb_classifier.predict(X_test_mat)\n",
    "# generar una matriz confusa donde el primer argumento es el vector de prueba\n",
    "# y el segundo es el vector de clases predichas.\n",
    "# el resultado lo dividimos por el largo del vector de prueba\n",
    "# para obtener un porcentaje por sobre la cantidad de casos\n",
    "cnf = confusion_matrix(y_test_vec, y_hat)/len(y_test_vec)\n",
    "\n",
    "# guardamos las etiquetas de las clases\n",
    "target_label = ['Admitted', 'Rejected']"
   ]
  },
  {
   "cell_type": "code",
   "execution_count": 20,
   "id": "294a41c5-64b6-436c-8a41-79c7adf06ba5",
   "metadata": {},
   "outputs": [
    {
     "data": {
      "image/png": "[encoded data removed]",
      "text/plain": [
       "<Figure size 432x288 with 1 Axes>"
      ]
     },
     "metadata": {
      "needs_background": "light"
     },
     "output_type": "display_data"
    }
   ],
   "source": [
    "# Implementamos un mapa de calor definiendo las clases\n",
    "sns.heatmap(cnf, xticklabels=target_label, yticklabels=target_label,\n",
    "                # generamos las anotaciones en términos porcentuales\n",
    "                annot=True, fmt=\".1%\",\n",
    "                # evitamos la barra y cambiamos el colormap\n",
    "                cbar=False, cmap='Blues');\n"
   ]
  },
  {
   "cell_type": "markdown",
   "id": "a60aff4a-e7fa-48b3-9bf4-88b238e5394e",
   "metadata": {},
   "source": [
    "Nuestro modelo clasifica de forma correcta aproximadamente el 70% de los casos como\n",
    "positivos o negativos. El modelo tiende a desempeñarse de peor manera para predecir los\n",
    "casos aceptados, en comparación a los casos rechazados.\n",
    "\n",
    "Otra manera de observar esto es mediante la obtención de métricas de desempeño como el\n",
    "classification_report, que entrega la precisión (Porcentaje de identificaciones positivas\n",
    "correctas por sobre el total de predicciones como positivas), el recall (Porcentaje de\n",
    "identificaciones positivas por sobre el total de predicciones correctas) y el F1 (Media\n",
    "armónica entre Precision y Recall).\n"
   ]
  },
  {
   "cell_type": "code",
   "execution_count": 21,
   "id": "f5561c49-8676-4370-8a6b-9261a7f27f18",
   "metadata": {},
   "outputs": [
    {
     "name": "stdout",
     "output_type": "stream",
     "text": [
      "              precision    recall  f1-score   support\n",
      "\n",
      "           0       0.63      0.55      0.58       533\n",
      "           1       0.73      0.79      0.76       825\n",
      "\n",
      "    accuracy                           0.69      1358\n",
      "   macro avg       0.68      0.67      0.67      1358\n",
      "weighted avg       0.69      0.69      0.69      1358\n",
      "\n"
     ]
    }
   ],
   "source": [
    "# generar un reporte de métricas de precisión, recall y f1\n",
    "print(classification_report(y_test_vec, y_hat))"
   ]
  },
  {
   "cell_type": "markdown",
   "id": "60a3229f-39f8-437e-92b0-9f656c6498a2",
   "metadata": {},
   "source": [
    "Las métricas reportadas apoyan el diagnóstico realizado con la matriz de confusión. El\n",
    "modelo tiene un mejor desempeño para predecir correctamente los rechazados por sobre\n",
    "los aceptados. Las métricas tienen valores más altos para los casos clasificados como\n",
    "rechazados. Para todas las métricas, los puntajes son mayores que en comparación al\n",
    "promedio global de la muestra.\n",
    "\n",
    "#### Digresión: Métricas de Desempeño en problemas de clasificación\n",
    "\n",
    "Ya tenemos conocimiento sobre la variante más simple para evaluar un problema de\n",
    "clasificación: La exactitud (Accuracy) promedio del modelo. Estrictamente, la exactitud\n",
    "informa sobre la cantidad de clases positivas y negativas correctamente identificadas. Uno\n",
    "de los problemas asociados a la exactitud es que no funciona de manera adecuada cuando\n",
    "nuestras clases son desbalanceadas.\n",
    "\n",
    "También tenemos conocimiento sobre la matriz de confusión, la frecuencia entre lo predicho\n",
    "y lo observado para cada una de las clases. Resulta que por lo general procesaremos esta\n",
    "matriz de confusión para obtener una serie de métricas más informativas:\n",
    "\n",
    "- La primera es la precisión (Precision) del modelo: Busca medir la exactitud de las\n",
    "predicciones sólo en las clases positivas. De esta manera, si estamos interesados en\n",
    "identificar sólo una clase e ignorar el desempeño del modelo en las demás clases,\n",
    "estaremos interesados en tener buenas métricas de precisión.\n",
    "- Por lo general la precisión del modelo suele acompañarse con la métrica de memoria\n",
    "(Recall): busca medir la exactitud de las predicciones positivas identificadas\n",
    "correctamente por sobre la cantidad de casos relevantes.\n",
    "\n",
    "- Ambas métricas se pueden promediar en el puntaje F1, que ajusta la relación entre Precision y Recall.\n",
    "\n",
    "Por último, siempre es bueno graficar el rango de errores con el cual opera nuestro modelo.\n",
    "Para ello implementamos la curva ROC (Receiving Operating Characteristics), que evalúa la\n",
    "relación entre falsos positivos (cuando el modelo etiqueta erróneamente) y falsos negativos\n",
    "(cuando el modelo ignora etiquetas). También solicitaremos el área bajo la curva ROC.\n",
    "Para implementarlo ocupamos los métodos roc_curve y roc_auc_score del módulo\n",
    "metrics de la librería sklearn.\n"
   ]
  },
  {
   "cell_type": "code",
   "execution_count": 22,
   "id": "44789338-b9d1-4fcd-b5c4-2d79d32ea77a",
   "metadata": {},
   "outputs": [],
   "source": [
    "# para implementar el área bajo la curva necesitamos el puntaje\n",
    "# de probabilidad, no la clase predicha. Para ello implementamos predict_proba\n",
    "y_hat_pr = nb_classifier.predict_proba(X_test_mat)[:,1]\n",
    "# el método roc_curve devuelve 3 elementos: falsos positivos, verdaderos positivos,\n",
    "# y threshold. Este último lo podemos ignorar con _\n",
    "fpr, tpr, _ = roc_curve(y_test_vec, y_hat_pr)\n",
    "# podemos obtener el área bajo la curva roc con roc_auc_score\n",
    "auc = round(roc_auc_score(y_test_vec, y_hat_pr), 3)\n"
   ]
  },
  {
   "cell_type": "code",
   "execution_count": 23,
   "id": "f019461c-55c8-4664-b159-15d72f291dc5",
   "metadata": {},
   "outputs": [
    {
     "data": {
      "image/png": "[encoded data removed]",
      "text/plain": [
       "<Figure size 432x288 with 1 Axes>"
      ]
     },
     "metadata": {
      "needs_background": "light"
     },
     "output_type": "display_data"
    }
   ],
   "source": [
    "# graficamos\n",
    "plt.plot(fpr, tpr, label=\"AUC = {}\".format(auc), color='tomato', lw=4)\n",
    "plt.xlabel('False Positive')\n",
    "plt.ylabel('True Positive')\n",
    "plt.axis([0, 1, 0, 1])\n",
    "# graficamos el clasificador por chance.\n",
    "plt.plot([0, 1], [0, 1], color='slategrey')\n",
    "plt.legend();"
   ]
  },
  {
   "cell_type": "markdown",
   "id": "280d9261-815e-4f62-b49a-0b05bfc78ee5",
   "metadata": {},
   "source": [
    "Para evaluar la idoneidad de nuestro modelo y su capacidad predictiva, necesitamos generar\n",
    "un benchmark analítico, que generalmente se traduce en un clasificador correcto por\n",
    "chance. Éste toma la forma matemática de 1/𝑌.\n",
    "\n",
    "En este caso estamos trabajando con dos clases, por lo que la probabilidad de tener una\n",
    "clasificación correcta dado que la etiquetamos al azar es del 50%. Nuestros modelos deben\n",
    "superar este benchmark para considerarlos eficientes. En este caso, nuestro modelo tiene\n",
    "un desempeño un 20% superior a clasificar correctamente al azar una observación.\n",
    "\n",
    "\n",
    "### Efecto de la probabilidad a priori en el modelo\n",
    "Un aspecto a considerar en el algoritmo NB (y de manera más general en el marco analítico\n",
    "Bayesiano), es la ventaja de poder ingresar información previa sobre cómo se comportan\n",
    "nuestras clases. Esta información conocida como probabilidad a priori, interactúa con la\n",
    "verosimilitud del evento para actualizarlo en función del comportamiento pasado.\n",
    "\n",
    "Por defecto, BernoulliNB infiere las clases a priori a partir de la frecuencia empírica de\n",
    "ocurrencia de estas. Una vez inicializado nuestro modelo podemos ingresar al logaritmo de\n",
    "la probabilidad con BernoulliNB().class_log_prior_. Exponenciando este array\n",
    "obtenemos la probabilidad a priori de la ocurrencia de cada clase.\n"
   ]
  },
  {
   "cell_type": "code",
   "execution_count": 24,
   "id": "99e512d9-63ef-43b8-816d-50ce2ab6b64f",
   "metadata": {},
   "outputs": [
    {
     "data": {
      "text/plain": [
       "array([0.39, 0.61])"
      ]
     },
     "execution_count": 24,
     "metadata": {},
     "output_type": "execute_result"
    }
   ],
   "source": [
    "np.exp(nb_classifier.class_log_prior_).round(2)"
   ]
  },
  {
   "cell_type": "markdown",
   "id": "3963f8d9-63ad-4b4d-82ac-31da7180364b",
   "metadata": {},
   "source": [
    "Podemos asegurarnos que el modelo aprenderá la información a priori a partir de la\n",
    "frecuencia de ocurrencia del vector objetivo, de manera tal de no intervenir el modelo. Si\n",
    "solicitamos el value counts de nuestro vector objetivo antes de ser segmentado\n",
    "obtendremos resultados similares."
   ]
  },
  {
   "cell_type": "code",
   "execution_count": 25,
   "id": "e2f05e29-4750-4b39-bcc6-40aa757aaa0b",
   "metadata": {},
   "outputs": [
    {
     "data": {
      "text/plain": [
       "1    0.61\n",
       "0    0.39\n",
       "Name: Admit, dtype: float64"
      ]
     },
     "execution_count": 25,
     "metadata": {},
     "output_type": "execute_result"
    }
   ],
   "source": [
    "df_deagg['Admit'].value_counts('%').round(2)"
   ]
  },
  {
   "cell_type": "markdown",
   "id": "7c665993-d96c-4141-b0fc-949efeb31ed9",
   "metadata": {},
   "source": [
    "Ahora generamos un experimento donde someteremos nuestro algoritmo clasificador a\n",
    "distintas especificaciones sobre la ocurrencia previa de las clases. En la función\n",
    "compare_priors comparamos las métricas Accuracy, Recall, Precision, F1 y AUC para las\n",
    "siguientes especificaciones, dado los priors y las muestras de entrenamiento y validación:"
   ]
  },
  {
   "cell_type": "markdown",
   "id": "1171103d-c068-459d-aea7-24683c33874e",
   "metadata": {},
   "source": [
    "#### Caso 1: a priori no informativo\n",
    "En este caso las métricas son idénticas a las reportadas en el modelo, puesto que por\n",
    "defecto infiere la frecuencia de cada clase."
   ]
  },
  {
   "cell_type": "code",
   "execution_count": 26,
   "id": "1dd290fe-2436-463c-9f08-9c74fbcd1fc1",
   "metadata": {},
   "outputs": [
    {
     "name": "stdout",
     "output_type": "stream",
     "text": [
      "A priori: [0.39, 0.61]\n",
      "Accuracy: 0.694\n",
      "Recall: 0.79\n",
      "Precision: 0.729\n",
      "F1: 0.759\n",
      "AUC: 0.708\n",
      "\n"
     ]
    }
   ],
   "source": [
    "gfx.compare_priors(X_train=X_train_mat, X_test=X_test_mat, y_train=y_train_vec, y_test=y_test_vec, prior=[0.39, 0.61])"
   ]
  },
  {
   "cell_type": "markdown",
   "id": "11bd2c07-67d2-4a75-8c81-c0812ebdb653",
   "metadata": {},
   "source": [
    "#### Caso 2: A priori, clases extremadamente balanceadas\n",
    "Al asumir que ambas clases tienen iguales chances de ocurrir. En este escenario hay un\n",
    "empeoramiento general del modelo, ya que hay una disminución en el desempeño de las\n",
    "métricas. El modelo asume en base a la información previa que como antes habían más\n",
    "postulantes aceptados y menos rechazados, la verosimilitud tiende a incorporar ésta\n",
    "información conllevando a una pérdida en la tasa general de clasificaciones correctas\n",
    "(Accuracy)."
   ]
  },
  {
   "cell_type": "code",
   "execution_count": 27,
   "id": "015bc0fd-e632-4ce4-b115-7f260f6286e7",
   "metadata": {},
   "outputs": [
    {
     "name": "stdout",
     "output_type": "stream",
     "text": [
      "A priori: [0.5, 0.5]\n",
      "Accuracy: 0.672\n",
      "Recall: 0.713\n",
      "Precision: 0.738\n",
      "F1: 0.725\n",
      "AUC: 0.708\n",
      "\n"
     ]
    }
   ],
   "source": [
    "gfx.compare_priors(X_train=X_train_mat, X_test=X_test_mat, y_train=y_train_vec, y_test=y_test_vec, prior=[.5, .5])"
   ]
  },
  {
   "cell_type": "markdown",
   "id": "7e1b335b-a525-4a31-8915-408dc2fadcaa",
   "metadata": {},
   "source": [
    "#### Caso 3: Clases desbalanceadas. 4 de 5 entran\n",
    "En este caso se encuentra una mayor precisión en el modelo, lo que significa que identifica\n",
    "bien quienes están clasificados como rechazados entre los correctamente clasificados. Esto\n",
    "se debe a que estamos aumentando de manera sustancial el efecto de la información a\n",
    "priori en los aceptados.\n"
   ]
  },
  {
   "cell_type": "code",
   "execution_count": 28,
   "id": "b142ca51-7b4e-424e-8544-38e84e8aea6b",
   "metadata": {},
   "outputs": [
    {
     "name": "stdout",
     "output_type": "stream",
     "text": [
      "A priori: [0.8, 0.2]\n",
      "Accuracy: 0.513\n",
      "Recall: 0.216\n",
      "Precision: 0.927\n",
      "F1: 0.35\n",
      "AUC: 0.708\n",
      "\n"
     ]
    }
   ],
   "source": [
    "gfx.compare_priors(X_train=X_train_mat, X_test=X_test_mat, y_train=y_train_vec, y_test=y_test_vec, prior=[.8, .2])"
   ]
  },
  {
   "cell_type": "markdown",
   "id": "bc5532ec-08ee-4b24-92c9-02691e3768a1",
   "metadata": {},
   "source": [
    "#### Caso 4: Berkeley en el 2015\n",
    "Podemos actualizar nuestro algoritmo para ver cómo se comportarían ésta muestra en base\n",
    "a los últimos datos disponibles sobre las tasas de aceptación. La información disponible en\n",
    "el sitio web de Berkeley sugiere que aproximadamente un 17% de los postulantes son\n",
    "aceptados, con un 83% rechazados. ¿Cómo se comportaría nuestra predicción en base a\n",
    "esta información?\n",
    "Resulta que al implementar priors correspondientes al 2015, nuestro modelo mejora en su\n",
    "puntaje F1, así como en el Recall, por lo que nuestro modelo mejora en la capacidad de\n",
    "predecir correctamente tanto positivos como negativos."
   ]
  },
  {
   "cell_type": "code",
   "execution_count": 29,
   "id": "ea630481-b2aa-4ab1-b8f1-28e8b22a0c63",
   "metadata": {},
   "outputs": [
    {
     "name": "stdout",
     "output_type": "stream",
     "text": [
      "A priori: [0.17, 0.83]\n",
      "Accuracy: 0.643\n",
      "Recall: 0.872\n",
      "Precision: 0.655\n",
      "F1: 0.748\n",
      "AUC: 0.708\n",
      "\n"
     ]
    }
   ],
   "source": [
    "gfx.compare_priors(X_train=X_train_mat, X_test=X_test_mat, y_train=y_train_vec, y_test=y_test_vec, prior=[.17, .83])"
   ]
  }
 ],
 "metadata": {
  "kernelspec": {
   "display_name": "Python 3 (ipykernel)",
   "language": "python",
   "name": "python3"
  },
  "language_info": {
   "codemirror_mode": {
    "name": "ipython",
    "version": 3
   },
   "file_extension": ".py",
   "mimetype": "text/x-python",
   "name": "python",
   "nbconvert_exporter": "python",
   "pygments_lexer": "ipython3",
   "version": "3.10.5"
  }
 },
 "nbformat": 4,
 "nbformat_minor": 5
}
