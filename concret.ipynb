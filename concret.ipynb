{
 "cells": [
  {
   "cell_type": "code",
   "execution_count": 1,
   "metadata": {},
   "outputs": [],
   "source": [
    "# Triada calsica\n",
    "import pandas as pd\n",
    "import numpy as np\n",
    "import matplotlib.pyplot as plt\n",
    "\n",
    "import seaborn as sns\n",
    "import warnings\n",
    "import missingno as msngo\n",
    "\n",
    "# Machine Learning\n",
    "from sklearn.preprocessing import StandardScaler\n",
    "from sklearn.model_selection import train_test_split\n",
    "from sklearn.linear_model import Ridge, RidgeCV, Lasso, LassoCV, ElasticNet, ElasticNetCV\n",
    "from sklearn.metrics import mean_squared_error, median_absolute_error, r2_score\n",
    "from sklearn.preprocessing import LabelEncoder\n",
    "\n",
    "# Modulo de funciones especiales y graficos\n",
    "import func as gfx\n",
    "\n",
    "# Otras librerias, configuraciones e instancias\n",
    "labelencoder = LabelEncoder()\n",
    "warnings.filterwarnings('ignore')\n",
    "plt.rcParams['figure.figsize'] = (20, 10)\n",
    "plt.style.use('seaborn-darkgrid')"
   ]
  },
  {
   "cell_type": "code",
   "execution_count": 2,
   "metadata": {},
   "outputs": [
    {
     "data": {
      "text/html": [
       "<div>\n",
       "<style scoped>\n",
       "    .dataframe tbody tr th:only-of-type {\n",
       "        vertical-align: middle;\n",
       "    }\n",
       "\n",
       "    .dataframe tbody tr th {\n",
       "        vertical-align: top;\n",
       "    }\n",
       "\n",
       "    .dataframe thead th {\n",
       "        text-align: right;\n",
       "    }\n",
       "</style>\n",
       "<table border=\"1\" class=\"dataframe\">\n",
       "  <thead>\n",
       "    <tr style=\"text-align: right;\">\n",
       "      <th></th>\n",
       "      <th>Cement (component 1)(kg in a m^3 mixture)</th>\n",
       "      <th>Blast Furnace Slag (component 2)(kg in a m^3 mixture)</th>\n",
       "      <th>Fly Ash (component 3)(kg in a m^3 mixture)</th>\n",
       "      <th>Water  (component 4)(kg in a m^3 mixture)</th>\n",
       "      <th>Superplasticizer (component 5)(kg in a m^3 mixture)</th>\n",
       "      <th>Coarse Aggregate  (component 6)(kg in a m^3 mixture)</th>\n",
       "      <th>Fine Aggregate (component 7)(kg in a m^3 mixture)</th>\n",
       "      <th>Age (day)</th>\n",
       "      <th>Concrete compressive strength(MPa, megapascals)</th>\n",
       "    </tr>\n",
       "  </thead>\n",
       "  <tbody>\n",
       "    <tr>\n",
       "      <th>0</th>\n",
       "      <td>540.0</td>\n",
       "      <td>0.0</td>\n",
       "      <td>0.0</td>\n",
       "      <td>162.0</td>\n",
       "      <td>2.5</td>\n",
       "      <td>1040.0</td>\n",
       "      <td>676.0</td>\n",
       "      <td>28</td>\n",
       "      <td>79.99</td>\n",
       "    </tr>\n",
       "    <tr>\n",
       "      <th>1</th>\n",
       "      <td>540.0</td>\n",
       "      <td>0.0</td>\n",
       "      <td>0.0</td>\n",
       "      <td>162.0</td>\n",
       "      <td>2.5</td>\n",
       "      <td>1055.0</td>\n",
       "      <td>676.0</td>\n",
       "      <td>28</td>\n",
       "      <td>61.89</td>\n",
       "    </tr>\n",
       "    <tr>\n",
       "      <th>2</th>\n",
       "      <td>332.5</td>\n",
       "      <td>142.5</td>\n",
       "      <td>0.0</td>\n",
       "      <td>228.0</td>\n",
       "      <td>0.0</td>\n",
       "      <td>932.0</td>\n",
       "      <td>594.0</td>\n",
       "      <td>270</td>\n",
       "      <td>40.27</td>\n",
       "    </tr>\n",
       "    <tr>\n",
       "      <th>3</th>\n",
       "      <td>332.5</td>\n",
       "      <td>142.5</td>\n",
       "      <td>0.0</td>\n",
       "      <td>228.0</td>\n",
       "      <td>0.0</td>\n",
       "      <td>932.0</td>\n",
       "      <td>594.0</td>\n",
       "      <td>365</td>\n",
       "      <td>41.05</td>\n",
       "    </tr>\n",
       "    <tr>\n",
       "      <th>4</th>\n",
       "      <td>198.6</td>\n",
       "      <td>132.4</td>\n",
       "      <td>0.0</td>\n",
       "      <td>192.0</td>\n",
       "      <td>0.0</td>\n",
       "      <td>978.4</td>\n",
       "      <td>825.5</td>\n",
       "      <td>360</td>\n",
       "      <td>44.30</td>\n",
       "    </tr>\n",
       "  </tbody>\n",
       "</table>\n",
       "</div>"
      ],
      "text/plain": [
       "   Cement (component 1)(kg in a m^3 mixture)  \\\n",
       "0                                      540.0   \n",
       "1                                      540.0   \n",
       "2                                      332.5   \n",
       "3                                      332.5   \n",
       "4                                      198.6   \n",
       "\n",
       "   Blast Furnace Slag (component 2)(kg in a m^3 mixture)  \\\n",
       "0                                                0.0       \n",
       "1                                                0.0       \n",
       "2                                              142.5       \n",
       "3                                              142.5       \n",
       "4                                              132.4       \n",
       "\n",
       "   Fly Ash (component 3)(kg in a m^3 mixture)  \\\n",
       "0                                         0.0   \n",
       "1                                         0.0   \n",
       "2                                         0.0   \n",
       "3                                         0.0   \n",
       "4                                         0.0   \n",
       "\n",
       "   Water  (component 4)(kg in a m^3 mixture)  \\\n",
       "0                                      162.0   \n",
       "1                                      162.0   \n",
       "2                                      228.0   \n",
       "3                                      228.0   \n",
       "4                                      192.0   \n",
       "\n",
       "   Superplasticizer (component 5)(kg in a m^3 mixture)  \\\n",
       "0                                                2.5     \n",
       "1                                                2.5     \n",
       "2                                                0.0     \n",
       "3                                                0.0     \n",
       "4                                                0.0     \n",
       "\n",
       "   Coarse Aggregate  (component 6)(kg in a m^3 mixture)  \\\n",
       "0                                             1040.0      \n",
       "1                                             1055.0      \n",
       "2                                              932.0      \n",
       "3                                              932.0      \n",
       "4                                              978.4      \n",
       "\n",
       "   Fine Aggregate (component 7)(kg in a m^3 mixture)  Age (day)  \\\n",
       "0                                              676.0         28   \n",
       "1                                              676.0         28   \n",
       "2                                              594.0        270   \n",
       "3                                              594.0        365   \n",
       "4                                              825.5        360   \n",
       "\n",
       "   Concrete compressive strength(MPa, megapascals)   \n",
       "0                                             79.99  \n",
       "1                                             61.89  \n",
       "2                                             40.27  \n",
       "3                                             41.05  \n",
       "4                                             44.30  "
      ]
     },
     "execution_count": 2,
     "metadata": {},
     "output_type": "execute_result"
    }
   ],
   "source": [
    "df = pd.read_csv('Datasets/compresive_strength_concrete.csv')\n",
    "df.head()"
   ]
  },
  {
   "cell_type": "code",
   "execution_count": 3,
   "metadata": {},
   "outputs": [],
   "source": [
    "df.columns = df.columns.map(lambda x: str(x).lower().replace(' ', '_'))\n",
    "df.columns = df.columns.map(lambda x: str(x).lower().replace('(', ''))\n",
    "df.columns = df.columns.map(lambda x: str(x).lower().replace(')', ''))"
   ]
  },
  {
   "cell_type": "code",
   "execution_count": 4,
   "metadata": {},
   "outputs": [
    {
     "data": {
      "text/html": [
       "<div>\n",
       "<style scoped>\n",
       "    .dataframe tbody tr th:only-of-type {\n",
       "        vertical-align: middle;\n",
       "    }\n",
       "\n",
       "    .dataframe tbody tr th {\n",
       "        vertical-align: top;\n",
       "    }\n",
       "\n",
       "    .dataframe thead th {\n",
       "        text-align: right;\n",
       "    }\n",
       "</style>\n",
       "<table border=\"1\" class=\"dataframe\">\n",
       "  <thead>\n",
       "    <tr style=\"text-align: right;\">\n",
       "      <th></th>\n",
       "      <th>cement</th>\n",
       "      <th>blast_furnace</th>\n",
       "      <th>fly_ash</th>\n",
       "      <th>water</th>\n",
       "      <th>superplasticizer</th>\n",
       "      <th>coarse_aggregate</th>\n",
       "      <th>fine_aggregate</th>\n",
       "      <th>age_day</th>\n",
       "      <th>concrete</th>\n",
       "    </tr>\n",
       "  </thead>\n",
       "  <tbody>\n",
       "    <tr>\n",
       "      <th>0</th>\n",
       "      <td>540.0</td>\n",
       "      <td>0.0</td>\n",
       "      <td>0.0</td>\n",
       "      <td>162.0</td>\n",
       "      <td>2.5</td>\n",
       "      <td>1040.0</td>\n",
       "      <td>676.0</td>\n",
       "      <td>28</td>\n",
       "      <td>79.99</td>\n",
       "    </tr>\n",
       "    <tr>\n",
       "      <th>1</th>\n",
       "      <td>540.0</td>\n",
       "      <td>0.0</td>\n",
       "      <td>0.0</td>\n",
       "      <td>162.0</td>\n",
       "      <td>2.5</td>\n",
       "      <td>1055.0</td>\n",
       "      <td>676.0</td>\n",
       "      <td>28</td>\n",
       "      <td>61.89</td>\n",
       "    </tr>\n",
       "    <tr>\n",
       "      <th>2</th>\n",
       "      <td>332.5</td>\n",
       "      <td>142.5</td>\n",
       "      <td>0.0</td>\n",
       "      <td>228.0</td>\n",
       "      <td>0.0</td>\n",
       "      <td>932.0</td>\n",
       "      <td>594.0</td>\n",
       "      <td>270</td>\n",
       "      <td>40.27</td>\n",
       "    </tr>\n",
       "    <tr>\n",
       "      <th>3</th>\n",
       "      <td>332.5</td>\n",
       "      <td>142.5</td>\n",
       "      <td>0.0</td>\n",
       "      <td>228.0</td>\n",
       "      <td>0.0</td>\n",
       "      <td>932.0</td>\n",
       "      <td>594.0</td>\n",
       "      <td>365</td>\n",
       "      <td>41.05</td>\n",
       "    </tr>\n",
       "    <tr>\n",
       "      <th>4</th>\n",
       "      <td>198.6</td>\n",
       "      <td>132.4</td>\n",
       "      <td>0.0</td>\n",
       "      <td>192.0</td>\n",
       "      <td>0.0</td>\n",
       "      <td>978.4</td>\n",
       "      <td>825.5</td>\n",
       "      <td>360</td>\n",
       "      <td>44.30</td>\n",
       "    </tr>\n",
       "  </tbody>\n",
       "</table>\n",
       "</div>"
      ],
      "text/plain": [
       "   cement  blast_furnace  fly_ash  water  superplasticizer  coarse_aggregate  \\\n",
       "0   540.0            0.0      0.0  162.0               2.5            1040.0   \n",
       "1   540.0            0.0      0.0  162.0               2.5            1055.0   \n",
       "2   332.5          142.5      0.0  228.0               0.0             932.0   \n",
       "3   332.5          142.5      0.0  228.0               0.0             932.0   \n",
       "4   198.6          132.4      0.0  192.0               0.0             978.4   \n",
       "\n",
       "   fine_aggregate  age_day  concrete  \n",
       "0           676.0       28     79.99  \n",
       "1           676.0       28     61.89  \n",
       "2           594.0      270     40.27  \n",
       "3           594.0      365     41.05  \n",
       "4           825.5      360     44.30  "
      ]
     },
     "execution_count": 4,
     "metadata": {},
     "output_type": "execute_result"
    }
   ],
   "source": [
    "df = df.rename(columns = {'cement_component_1kg_in_a_m^3_mixture':'cement',\n",
    "                        'blast_furnace_slag_component_2kg_in_a_m^3_mixture':'blast_furnace',\n",
    "                        'fly_ash_component_3kg_in_a_m^3_mixture':'fly_ash',\n",
    "                        'water__component_4kg_in_a_m^3_mixture':'water',\n",
    "                        'superplasticizer_component_5kg_in_a_m^3_mixture':'superplasticizer',\n",
    "                        'coarse_aggregate__component_6kg_in_a_m^3_mixture':'coarse_aggregate',\n",
    "                        'fine_aggregate_component_7kg_in_a_m^3_mixture':'fine_aggregate',\n",
    "                        'concrete_compressive_strengthmpa,_megapascals_':'concrete'})\n",
    "\n",
    "df.head()"
   ]
  },
  {
   "cell_type": "code",
   "execution_count": 5,
   "metadata": {},
   "outputs": [
    {
     "data": {
      "text/plain": [
       "cement              float64\n",
       "blast_furnace       float64\n",
       "fly_ash             float64\n",
       "water               float64\n",
       "superplasticizer    float64\n",
       "coarse_aggregate    float64\n",
       "fine_aggregate      float64\n",
       "age_day               int64\n",
       "concrete            float64\n",
       "dtype: object"
      ]
     },
     "execution_count": 5,
     "metadata": {},
     "output_type": "execute_result"
    }
   ],
   "source": [
    "df.dtypes"
   ]
  },
  {
   "cell_type": "code",
   "execution_count": 6,
   "metadata": {},
   "outputs": [
    {
     "name": "stdout",
     "output_type": "stream",
     "text": [
      "La base de datos se compone de las siguientes observaciones\n",
      "Numero de filas: 1030\n",
      "Numero de columnas: 9\n"
     ]
    }
   ],
   "source": [
    "print(f'''La base de datos se compone de las siguientes observaciones\n",
    "Numero de filas: {df.shape[0]}\n",
    "Numero de columnas: {df.shape[1]}''')"
   ]
  },
  {
   "cell_type": "code",
   "execution_count": 7,
   "metadata": {},
   "outputs": [
    {
     "data": {
      "text/plain": [
       "<AxesSubplot:>"
      ]
     },
     "execution_count": 7,
     "metadata": {},
     "output_type": "execute_result"
    },
    {
     "data": {
      "image/png": "[encoded data removed]",
      "text/plain": [
       "<Figure size 1800x720 with 2 Axes>"
      ]
     },
     "metadata": {
      "needs_background": "light"
     },
     "output_type": "display_data"
    }
   ],
   "source": [
    "msngo.matrix(df)"
   ]
  },
  {
   "cell_type": "code",
   "execution_count": 8,
   "metadata": {},
   "outputs": [
    {
     "data": {
      "text/html": [
       "<div>\n",
       "<style scoped>\n",
       "    .dataframe tbody tr th:only-of-type {\n",
       "        vertical-align: middle;\n",
       "    }\n",
       "\n",
       "    .dataframe tbody tr th {\n",
       "        vertical-align: top;\n",
       "    }\n",
       "\n",
       "    .dataframe thead th {\n",
       "        text-align: right;\n",
       "    }\n",
       "</style>\n",
       "<table border=\"1\" class=\"dataframe\">\n",
       "  <thead>\n",
       "    <tr style=\"text-align: right;\">\n",
       "      <th></th>\n",
       "      <th>cement</th>\n",
       "      <th>blast_furnace</th>\n",
       "      <th>fly_ash</th>\n",
       "      <th>water</th>\n",
       "      <th>superplasticizer</th>\n",
       "      <th>coarse_aggregate</th>\n",
       "      <th>fine_aggregate</th>\n",
       "      <th>age_day</th>\n",
       "      <th>concrete</th>\n",
       "    </tr>\n",
       "  </thead>\n",
       "  <tbody>\n",
       "    <tr>\n",
       "      <th>0</th>\n",
       "      <td>2.477915</td>\n",
       "      <td>-0.856888</td>\n",
       "      <td>-0.847144</td>\n",
       "      <td>-0.916764</td>\n",
       "      <td>-0.620448</td>\n",
       "      <td>0.863154</td>\n",
       "      <td>-1.217670</td>\n",
       "      <td>-0.279733</td>\n",
       "      <td>4.381902</td>\n",
       "    </tr>\n",
       "    <tr>\n",
       "      <th>1</th>\n",
       "      <td>2.477915</td>\n",
       "      <td>-0.856888</td>\n",
       "      <td>-0.847144</td>\n",
       "      <td>-0.916764</td>\n",
       "      <td>-0.620448</td>\n",
       "      <td>1.056164</td>\n",
       "      <td>-1.217670</td>\n",
       "      <td>-0.279733</td>\n",
       "      <td>4.125359</td>\n",
       "    </tr>\n",
       "    <tr>\n",
       "      <th>2</th>\n",
       "      <td>0.491425</td>\n",
       "      <td>0.795526</td>\n",
       "      <td>-0.847144</td>\n",
       "      <td>2.175461</td>\n",
       "      <td>-1.039143</td>\n",
       "      <td>-0.526517</td>\n",
       "      <td>-2.240917</td>\n",
       "      <td>3.553066</td>\n",
       "      <td>3.695607</td>\n",
       "    </tr>\n",
       "    <tr>\n",
       "      <th>3</th>\n",
       "      <td>0.491425</td>\n",
       "      <td>0.795526</td>\n",
       "      <td>-0.847144</td>\n",
       "      <td>2.175461</td>\n",
       "      <td>-1.039143</td>\n",
       "      <td>-0.526517</td>\n",
       "      <td>-2.240917</td>\n",
       "      <td>5.057677</td>\n",
       "      <td>3.714791</td>\n",
       "    </tr>\n",
       "    <tr>\n",
       "      <th>4</th>\n",
       "      <td>-0.790459</td>\n",
       "      <td>0.678408</td>\n",
       "      <td>-0.847144</td>\n",
       "      <td>0.488793</td>\n",
       "      <td>-1.039143</td>\n",
       "      <td>0.070527</td>\n",
       "      <td>0.647884</td>\n",
       "      <td>4.978487</td>\n",
       "      <td>3.790985</td>\n",
       "    </tr>\n",
       "  </tbody>\n",
       "</table>\n",
       "</div>"
      ],
      "text/plain": [
       "     cement  blast_furnace   fly_ash     water  superplasticizer  \\\n",
       "0  2.477915      -0.856888 -0.847144 -0.916764         -0.620448   \n",
       "1  2.477915      -0.856888 -0.847144 -0.916764         -0.620448   \n",
       "2  0.491425       0.795526 -0.847144  2.175461         -1.039143   \n",
       "3  0.491425       0.795526 -0.847144  2.175461         -1.039143   \n",
       "4 -0.790459       0.678408 -0.847144  0.488793         -1.039143   \n",
       "\n",
       "   coarse_aggregate  fine_aggregate   age_day  concrete  \n",
       "0          0.863154       -1.217670 -0.279733  4.381902  \n",
       "1          1.056164       -1.217670 -0.279733  4.125359  \n",
       "2         -0.526517       -2.240917  3.553066  3.695607  \n",
       "3         -0.526517       -2.240917  5.057677  3.714791  \n",
       "4          0.070527        0.647884  4.978487  3.790985  "
      ]
     },
     "execution_count": 8,
     "metadata": {},
     "output_type": "execute_result"
    }
   ],
   "source": [
    "scaler = StandardScaler()\n",
    "df_scaled = pd.DataFrame(scaler.fit_transform(df), columns = df.columns)\n",
    "df_scaled['concrete'] = np.log(df['concrete']).to_numpy()\n",
    "df_scaled.head()"
   ]
  },
  {
   "cell_type": "code",
   "execution_count": 9,
   "metadata": {},
   "outputs": [
    {
     "data": {
      "text/plain": [
       "Text(0.5, 1.0, 'Histograma Logaritmo de concrete')"
      ]
     },
     "execution_count": 9,
     "metadata": {},
     "output_type": "execute_result"
    },
    {
     "data": {
      "image/png": "[encoded data removed]",
      "text/plain": [
       "<Figure size 432x288 with 2 Axes>"
      ]
     },
     "metadata": {
      "needs_background": "light"
     },
     "output_type": "display_data"
    }
   ],
   "source": [
    "fig, ax = plt.subplots(1, 2)\n",
    "sns.distplot(df['concrete'], bins = 'fd', ax = ax[0])\n",
    "ax[0].set_title('Histograma de concrete')\n",
    "sns.distplot(df_scaled['concrete'], bins = 'fd', ax = ax[1])\n",
    "ax[1].set_title('Histograma Logaritmo de concrete')"
   ]
  },
  {
   "cell_type": "code",
   "execution_count": 10,
   "metadata": {},
   "outputs": [],
   "source": [
    "X = df_scaled.iloc[:, 1:]\n",
    "N = X.shape[0]\n",
    "X.insert(X.shape[1], 'intercept', np.ones(N))\n",
    "y = df_scaled['concrete']\n",
    "X_train, X_test, y_train, y_test = train_test_split(X, y, test_size = .33, random_state = 15820)"
   ]
  },
  {
   "cell_type": "code",
   "execution_count": 11,
   "metadata": {},
   "outputs": [
    {
     "data": {
      "text/plain": [
       "array([1.00000000e+00, 1.38949549e+00, 1.93069773e+00, 2.68269580e+00,\n",
       "       3.72759372e+00, 5.17947468e+00, 7.19685673e+00, 1.00000000e+01,\n",
       "       1.38949549e+01, 1.93069773e+01, 2.68269580e+01, 3.72759372e+01,\n",
       "       5.17947468e+01, 7.19685673e+01, 1.00000000e+02, 1.38949549e+02,\n",
       "       1.93069773e+02, 2.68269580e+02, 3.72759372e+02, 5.17947468e+02,\n",
       "       7.19685673e+02, 1.00000000e+03, 1.38949549e+03, 1.93069773e+03,\n",
       "       2.68269580e+03, 3.72759372e+03, 5.17947468e+03, 7.19685673e+03,\n",
       "       1.00000000e+04, 1.38949549e+04, 1.93069773e+04, 2.68269580e+04,\n",
       "       3.72759372e+04, 5.17947468e+04, 7.19685673e+04, 1.00000000e+05,\n",
       "       1.38949549e+05, 1.93069773e+05, 2.68269580e+05, 3.72759372e+05,\n",
       "       5.17947468e+05, 7.19685673e+05, 1.00000000e+06, 1.38949549e+06,\n",
       "       1.93069773e+06, 2.68269580e+06, 3.72759372e+06, 5.17947468e+06,\n",
       "       7.19685673e+06, 1.00000000e+07])"
      ]
     },
     "execution_count": 11,
     "metadata": {},
     "output_type": "execute_result"
    }
   ],
   "source": [
    "alphas = np.logspace(0, 7, base = 10)\n",
    "alphas"
   ]
  },
  {
   "cell_type": "code",
   "execution_count": 12,
   "metadata": {},
   "outputs": [
    {
     "data": {
      "text/plain": [
       "Index(['blast_furnace', 'fly_ash', 'water', 'superplasticizer',\n",
       "       'coarse_aggregate', 'fine_aggregate', 'age_day', 'concrete',\n",
       "       'intercept'],\n",
       "      dtype='object')"
      ]
     },
     "execution_count": 12,
     "metadata": {},
     "output_type": "execute_result"
    }
   ],
   "source": [
    "names_regressors = X_train.columns\n",
    "names_regressors"
   ]
  },
  {
   "cell_type": "code",
   "execution_count": 13,
   "metadata": {},
   "outputs": [],
   "source": [
    "coefs_ridge, cv_err_ridge = [], []\n",
    "model_ridge = Ridge(fit_intercept = True)"
   ]
  },
  {
   "cell_type": "code",
   "execution_count": 14,
   "metadata": {},
   "outputs": [],
   "source": [
    "for a in alphas:\n",
    "        model_ridge.set_params(alpha = a)\n",
    "        model_ridge.fit(X_train, y_train)\n",
    "        coefs_ridge.append(model_ridge.coef_)\n",
    "        dummy, cv_err_estimates = gfx.cv_error(X_train, y_train, k = 10, method = 'ridge', alpha = a)\n",
    "        cv_err_ridge.append(np.mean(cv_err_estimates))"
   ]
  },
  {
   "cell_type": "code",
   "execution_count": 15,
   "metadata": {},
   "outputs": [
    {
     "data": {
      "text/plain": [
       "<matplotlib.legend.Legend at 0x2c0094e3fd0>"
      ]
     },
     "execution_count": 15,
     "metadata": {},
     "output_type": "execute_result"
    },
    {
     "data": {
      "image/png": "[encoded data removed]",
      "text/plain": [
       "<Figure size 432x288 with 1 Axes>"
      ]
     },
     "metadata": {
      "needs_background": "light"
     },
     "output_type": "display_data"
    }
   ],
   "source": [
    "ax = plt.gca()\n",
    "\n",
    "for y_arr, label in zip(np.squeeze(coefs_ridge).T, names_regressors):\n",
    "        plt.plot(alphas, y_arr, label = label)\n",
    "\n",
    "ax.set_xscale('log')\n",
    "plt.legend(loc = 1)"
   ]
  },
  {
   "cell_type": "code",
   "execution_count": 16,
   "metadata": {},
   "outputs": [
    {
     "data": {
      "image/png": "[encoded data removed]",
      "text/plain": [
       "<Figure size 432x288 with 1 Axes>"
      ]
     },
     "metadata": {
      "needs_background": "light"
     },
     "output_type": "display_data"
    }
   ],
   "source": [
    "ax = plt.gca()\n",
    "plt.plot(alphas, np.sqrt(cv_err_ridge), 'o-')\n",
    "ax.set_xscale('log')"
   ]
  },
  {
   "cell_type": "code",
   "execution_count": 17,
   "metadata": {},
   "outputs": [],
   "source": [
    "ridge_cv = RidgeCV(cv = 10)\n",
    "model_ridge_cv = ridge_cv.fit(X_train, y_train)"
   ]
  },
  {
   "cell_type": "code",
   "execution_count": 18,
   "metadata": {},
   "outputs": [
    {
     "data": {
      "text/plain": [
       "0.1"
      ]
     },
     "execution_count": 18,
     "metadata": {},
     "output_type": "execute_result"
    }
   ],
   "source": [
    "model_ridge_cv.alpha_"
   ]
  },
  {
   "cell_type": "code",
   "execution_count": 19,
   "metadata": {},
   "outputs": [
    {
     "data": {
      "text/plain": [
       "array([-5.72080412e-05, -9.58185274e-05, -2.90383714e-04,  6.31854027e-05,\n",
       "       -1.90396747e-04, -2.48745514e-04,  1.95240478e-04,  9.99078179e-01,\n",
       "        0.00000000e+00])"
      ]
     },
     "execution_count": 19,
     "metadata": {},
     "output_type": "execute_result"
    }
   ],
   "source": [
    "model_ridge_cv.coef_"
   ]
  },
  {
   "cell_type": "code",
   "execution_count": 20,
   "metadata": {},
   "outputs": [
    {
     "name": "stdout",
     "output_type": "stream",
     "text": [
      "0.9999995867960646\n"
     ]
    }
   ],
   "source": [
    "print(r2_score(model_ridge_cv.predict(X_test), y_test))"
   ]
  },
  {
   "cell_type": "code",
   "execution_count": 21,
   "metadata": {},
   "outputs": [
    {
     "data": {
      "text/plain": [
       "array([1.        , 0.86851137, 0.75431201, 0.65512856, 0.5689866 ,\n",
       "       0.49417134, 0.42919343, 0.37275937, 0.32374575, 0.28117687,\n",
       "       0.24420531, 0.21209509, 0.184207  , 0.15998587, 0.13894955,\n",
       "       0.12067926, 0.10481131, 0.09102982, 0.07906043, 0.06866488,\n",
       "       0.05963623, 0.05179475, 0.04498433, 0.0390694 , 0.03393222,\n",
       "       0.02947052, 0.02559548, 0.02222996, 0.01930698, 0.01676833,\n",
       "       0.01456348, 0.01264855, 0.01098541, 0.00954095, 0.00828643,\n",
       "       0.00719686, 0.00625055, 0.00542868, 0.00471487, 0.00409492,\n",
       "       0.00355648, 0.00308884, 0.0026827 , 0.00232995, 0.00202359,\n",
       "       0.00175751, 0.00152642, 0.00132571, 0.0011514 , 0.001     ])"
      ]
     },
     "execution_count": 21,
     "metadata": {},
     "output_type": "execute_result"
    }
   ],
   "source": [
    "alphas = np.logspace(0, -3, base = 10)\n",
    "alphas"
   ]
  },
  {
   "cell_type": "code",
   "execution_count": 22,
   "metadata": {},
   "outputs": [],
   "source": [
    "coefs_lasso, cv_err_lasso = [], []\n",
    "model_lasso = Lasso(fit_intercept = True)\n",
    "\n",
    "for a in alphas:\n",
    "        model_lasso.set_params(alpha = a)\n",
    "        model_lasso.fit(X_train, y_train)\n",
    "        coefs_lasso.append(model_lasso.coef_)\n",
    "        dummy, cv_err_estimates = gfx.cv_error(X_train, y_train, k = 10, method = 'ridge', alpha = a)\n",
    "        cv_err_lasso.append(np.mean(cv_err_estimates))"
   ]
  },
  {
   "cell_type": "code",
   "execution_count": 23,
   "metadata": {},
   "outputs": [
    {
     "data": {
      "text/plain": [
       "<matplotlib.legend.Legend at 0x2c0096ea2c0>"
      ]
     },
     "execution_count": 23,
     "metadata": {},
     "output_type": "execute_result"
    },
    {
     "data": {
      "image/png": "[encoded data removed]",
      "text/plain": [
       "<Figure size 432x288 with 1 Axes>"
      ]
     },
     "metadata": {
      "needs_background": "light"
     },
     "output_type": "display_data"
    }
   ],
   "source": [
    "ax = plt.gca()\n",
    "\n",
    "for y_arr, label in zip(np.squeeze(coefs_lasso).T, names_regressors):\n",
    "        plt.plot(alphas, y_arr, label = label)\n",
    "\n",
    "ax.set_xscale('log')\n",
    "plt.legend(loc = 1)"
   ]
  },
  {
   "cell_type": "code",
   "execution_count": 24,
   "metadata": {},
   "outputs": [
    {
     "data": {
      "image/png": "[encoded data removed]",
      "text/plain": [
       "<Figure size 432x288 with 1 Axes>"
      ]
     },
     "metadata": {
      "needs_background": "light"
     },
     "output_type": "display_data"
    }
   ],
   "source": [
    "ax = plt.gca()\n",
    "plt.plot(alphas, np.sqrt(cv_err_lasso), 'o-')\n",
    "ax.set_xscale('log')"
   ]
  },
  {
   "cell_type": "code",
   "execution_count": 25,
   "metadata": {},
   "outputs": [],
   "source": [
    "lasso_cv = LassoCV()\n",
    "model_lasso_cv = lasso_cv.fit(X_train, y_train)"
   ]
  },
  {
   "cell_type": "code",
   "execution_count": 26,
   "metadata": {},
   "outputs": [
    {
     "data": {
      "text/plain": [
       "0.0002973658665179665"
      ]
     },
     "execution_count": 26,
     "metadata": {},
     "output_type": "execute_result"
    }
   ],
   "source": [
    "model_lasso_cv.alpha_"
   ]
  },
  {
   "cell_type": "code",
   "execution_count": 27,
   "metadata": {},
   "outputs": [
    {
     "data": {
      "text/plain": [
       "array([ 0.   , -0.   , -0.   ,  0.   , -0.   , -0.   ,  0.   ,  0.999,\n",
       "        0.   ])"
      ]
     },
     "execution_count": 27,
     "metadata": {},
     "output_type": "execute_result"
    }
   ],
   "source": [
    "model_lasso_cv.coef_"
   ]
  },
  {
   "cell_type": "code",
   "execution_count": 28,
   "metadata": {},
   "outputs": [
    {
     "name": "stdout",
     "output_type": "stream",
     "text": [
      "0.9999989934040124\n"
     ]
    }
   ],
   "source": [
    "print(r2_score(model_lasso_cv.predict(X_test), y_test))"
   ]
  },
  {
   "cell_type": "code",
   "execution_count": 29,
   "metadata": {},
   "outputs": [
    {
     "data": {
      "text/plain": [
       "array([1.        , 0.86851137, 0.75431201, 0.65512856, 0.5689866 ,\n",
       "       0.49417134, 0.42919343, 0.37275937, 0.32374575, 0.28117687,\n",
       "       0.24420531, 0.21209509, 0.184207  , 0.15998587, 0.13894955,\n",
       "       0.12067926, 0.10481131, 0.09102982, 0.07906043, 0.06866488,\n",
       "       0.05963623, 0.05179475, 0.04498433, 0.0390694 , 0.03393222,\n",
       "       0.02947052, 0.02559548, 0.02222996, 0.01930698, 0.01676833,\n",
       "       0.01456348, 0.01264855, 0.01098541, 0.00954095, 0.00828643,\n",
       "       0.00719686, 0.00625055, 0.00542868, 0.00471487, 0.00409492,\n",
       "       0.00355648, 0.00308884, 0.0026827 , 0.00232995, 0.00202359,\n",
       "       0.00175751, 0.00152642, 0.00132571, 0.0011514 , 0.001     ])"
      ]
     },
     "execution_count": 29,
     "metadata": {},
     "output_type": "execute_result"
    }
   ],
   "source": [
    "alphas = np.logspace(0, -3, base = 10)\n",
    "alphas"
   ]
  },
  {
   "cell_type": "code",
   "execution_count": 30,
   "metadata": {},
   "outputs": [],
   "source": [
    "coefs_elastic_net, cv_err_elastic_net = [], []\n",
    "model_elastic_net = ElasticNet(fit_intercept = True)\n",
    "\n",
    "for a in alphas:\n",
    "        model_elastic_net.set_params(alpha = a)\n",
    "        model_elastic_net.fit(X_train, y_train)\n",
    "        coefs_elastic_net.append(model_elastic_net.coef_)\n",
    "        dummy, cv_err_estimates = gfx.cv_error(X_train, y_train, method = 'enet', k = 10, alpha = a)\n",
    "        cv_err_elastic_net.append(np.mean(cv_err_estimates))"
   ]
  },
  {
   "cell_type": "code",
   "execution_count": 31,
   "metadata": {},
   "outputs": [
    {
     "data": {
      "text/plain": [
       "<matplotlib.legend.Legend at 0x2c00cef56c0>"
      ]
     },
     "execution_count": 31,
     "metadata": {},
     "output_type": "execute_result"
    },
    {
     "data": {
      "image/png": "[encoded data removed]",
      "text/plain": [
       "<Figure size 432x288 with 1 Axes>"
      ]
     },
     "metadata": {
      "needs_background": "light"
     },
     "output_type": "display_data"
    }
   ],
   "source": [
    "ax = plt.gca()\n",
    "\n",
    "for y_arr, label in zip(np.squeeze(coefs_elastic_net).T, names_regressors):\n",
    "        plt.plot(alphas, y_arr, label = label)\n",
    "\n",
    "ax.set_xscale('log')\n",
    "plt.legend(loc = 1)"
   ]
  },
  {
   "cell_type": "code",
   "execution_count": 32,
   "metadata": {},
   "outputs": [
    {
     "data": {
      "image/png": "[encoded data removed]",
      "text/plain": [
       "<Figure size 432x288 with 1 Axes>"
      ]
     },
     "metadata": {
      "needs_background": "light"
     },
     "output_type": "display_data"
    }
   ],
   "source": [
    "ax = plt.gca()\n",
    "plt.plot(alphas, np.sqrt(cv_err_elastic_net), 'o-')\n",
    "ax.set_xscale('log')"
   ]
  },
  {
   "cell_type": "code",
   "execution_count": 33,
   "metadata": {},
   "outputs": [
    {
     "data": {
      "text/plain": [
       "0.0005947317330359331"
      ]
     },
     "execution_count": 33,
     "metadata": {},
     "output_type": "execute_result"
    }
   ],
   "source": [
    "elastic_cv = ElasticNetCV(cv = 10)\n",
    "model_elastic_net_cv = elastic_cv.fit(X_train, y_train)\n",
    "model_elastic_net_cv.alpha_"
   ]
  },
  {
   "cell_type": "code",
   "execution_count": 34,
   "metadata": {},
   "outputs": [
    {
     "data": {
      "text/plain": [
       "array([ 0.00000000e+00, -0.00000000e+00, -0.00000000e+00,  1.89158899e-04,\n",
       "       -0.00000000e+00, -0.00000000e+00,  1.41980616e-04,  9.97783924e-01,\n",
       "        0.00000000e+00])"
      ]
     },
     "execution_count": 34,
     "metadata": {},
     "output_type": "execute_result"
    }
   ],
   "source": [
    "model_elastic_net_cv.coef_"
   ]
  },
  {
   "cell_type": "code",
   "execution_count": 35,
   "metadata": {},
   "outputs": [
    {
     "name": "stdout",
     "output_type": "stream",
     "text": [
      "0.9999957336483718\n"
     ]
    }
   ],
   "source": [
    "print(r2_score(model_elastic_net_cv.predict(X_test), y_test))"
   ]
  }
 ],
 "metadata": {
  "kernelspec": {
   "display_name": "Python 3",
   "language": "python",
   "name": "python3"
  },
  "language_info": {
   "codemirror_mode": {
    "name": "ipython",
    "version": 3
   },
   "file_extension": ".py",
   "mimetype": "text/x-python",
   "name": "python",
   "nbconvert_exporter": "python",
   "pygments_lexer": "ipython3",
   "version": "3.10.5"
  },
  "orig_nbformat": 4,
  "vscode": {
   "interpreter": {
    "hash": "5fe23d4cdea1a1fdeea398f38169f58ea6e36b10f84ee4017a8f0fee693ee786"
   }
  }
 },
 "nbformat": 4,
 "nbformat_minor": 2
}
