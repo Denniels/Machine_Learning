{
 "cells": [
  {
   "cell_type": "markdown",
   "metadata": {},
   "source": [
    "## Desafío - Inferencia de tópicos con EM\n",
    "- Para realizar este desafío debes haber estudiado previamente todo el material disponibilizado correspondiente a la unidad.\n",
    "- Una vez terminado el desafío, comprime la carpeta que contiene el desarrollo de los requerimientos solicitados y sube el .zip en el LMS.\n",
    "- Desarrollo desafío:\n",
    "        - El desafío se debe desarrollar de manera Individual.\n",
    "        - Para la realización del desafío necesitarás apoyarte del archivo Apoyo Desafío Inferencia de tópicos con EM.\n",
    "\n",
    "### Requerimientos\n",
    "- En esta sesión trabajaremos con una serie de base de datos sobre letras musicales de distintos artistas. Cada uno de los csv se    encuentra en la carpeta dump.\n",
    "- Cada csv tiene el nombre del artista a analizar. Los archivos contienen el nombre del artista, el género musical del artista, el nombre de la canción y las letras.\n",
    "- En base a esta información, el objetivo del ejercicio es generar un modelo probabilístico que pueda identificar el género musical más probable dado la letra de una canción.\n",
    "- Para ello implementaremos un modelo conocido como Latent Dirichlet Allocation que hace uso de una variante del algoritmo EM para inferir clases latentes a partir de una matriz de documentos.\n",
    "\n",
    "### Ejercicio 1: Preparar el ambiente de trabajo\n",
    "- Importe los módulos numpy, pandas, matplotlib, seaborn, glob y os siguiendo las\n",
    "  buenas prácticas. Los últimos dos módulos permitirán realizar la importación de\n",
    "  múltiples archivos dentro de la carpeta dump.\n",
    "- Para ello genere un objeto que guarde en una lista todos los archivos alojados en\n",
    "  dump utilizando glob.glob y os.getcwd() para extraer las rutas absolutas.\n",
    "  Posteriormente genere un objeto pd.DataFrame que contenga todos los csv.\n",
    "- Asegúrese de eliminar la columna Unnamed: 0 que se genera por defecto.\n"
   ]
  },
  {
   "cell_type": "code",
   "execution_count": 1,
   "metadata": {},
   "outputs": [],
   "source": [
    "# Triada calsica.\n",
    "import pandas as pd\n",
    "import numpy as np\n",
    "import matplotlib.pyplot as plt\n",
    "\n",
    "# Graficos seaborn, warnings y datos perdidos.\n",
    "import seaborn as sns\n",
    "import warnings\n",
    "import missingno as msngo\n",
    "\n",
    "# Importaciones especificas de este desafio.\n",
    "import glob, os\n",
    "\n",
    "# Machine learning\n",
    "from sklearn.feature_extraction.text import CountVectorizer\n",
    "from sklearn.decomposition import LatentDirichletAllocation\n",
    "from sklearn.metrics import confusion_matrix, classification_report\n",
    "from sklearn.model_selection import train_test_split, GridSearchCV\n",
    "from sklearn.pipeline import Pipeline\n",
    "from sklearn.preprocessing import LabelEncoder, StandardScaler\n",
    "\n",
    "# Otras librerias, configuraciones e instancias.\n",
    "labelencoder = LabelEncoder()\n",
    "warnings.filterwarnings('ignore')\n",
    "plt.rcParams['figure.figsize'] = (20, 10)\n",
    "plt.style.use('seaborn-darkgrid')"
   ]
  },
  {
   "cell_type": "code",
   "execution_count": 2,
   "metadata": {},
   "outputs": [],
   "source": [
    "csv_list = glob.glob('Datasets/dump/*.csv')\n",
    "name_csv = []"
   ]
  },
  {
   "cell_type": "code",
   "execution_count": 3,
   "metadata": {},
   "outputs": [],
   "source": [
    "for i in csv_list:\n",
    "        name_csv.append(pd.read_csv(i, index_col = None, header = 0).drop(columns = 'Unnamed: 0'))\n",
    "\n",
    "df_letras = pd.concat(name_csv)\n",
    "df_letras.columns = ['Artista', 'Genero', 'Cancion', 'Letra']"
   ]
  },
  {
   "cell_type": "code",
   "execution_count": 4,
   "metadata": {},
   "outputs": [
    {
     "data": {
      "text/html": [
       "<div>\n",
       "<style scoped>\n",
       "    .dataframe tbody tr th:only-of-type {\n",
       "        vertical-align: middle;\n",
       "    }\n",
       "\n",
       "    .dataframe tbody tr th {\n",
       "        vertical-align: top;\n",
       "    }\n",
       "\n",
       "    .dataframe thead th {\n",
       "        text-align: right;\n",
       "    }\n",
       "</style>\n",
       "<table border=\"1\" class=\"dataframe\">\n",
       "  <thead>\n",
       "    <tr style=\"text-align: right;\">\n",
       "      <th></th>\n",
       "      <th>Artista</th>\n",
       "      <th>Genero</th>\n",
       "      <th>Cancion</th>\n",
       "      <th>Letra</th>\n",
       "    </tr>\n",
       "  </thead>\n",
       "  <tbody>\n",
       "    <tr>\n",
       "      <th>0</th>\n",
       "      <td>Anthrax</td>\n",
       "      <td>metal</td>\n",
       "      <td>Deathrider</td>\n",
       "      <td>Riding hard, high in the saddle \\n Winged stee...</td>\n",
       "    </tr>\n",
       "    <tr>\n",
       "      <th>1</th>\n",
       "      <td>Anthrax</td>\n",
       "      <td>metal</td>\n",
       "      <td>Metal Thrashing Mad</td>\n",
       "      <td>Racing down the road \\n In a street machine of...</td>\n",
       "    </tr>\n",
       "    <tr>\n",
       "      <th>2</th>\n",
       "      <td>Anthrax</td>\n",
       "      <td>metal</td>\n",
       "      <td>I'm Eighteen</td>\n",
       "      <td>Lines form on my face and hands \\n Lines form ...</td>\n",
       "    </tr>\n",
       "    <tr>\n",
       "      <th>3</th>\n",
       "      <td>Anthrax</td>\n",
       "      <td>metal</td>\n",
       "      <td>Panic</td>\n",
       "      <td>Move it to the front \\n Reaching for the light...</td>\n",
       "    </tr>\n",
       "    <tr>\n",
       "      <th>4</th>\n",
       "      <td>Anthrax</td>\n",
       "      <td>metal</td>\n",
       "      <td>Subjugator</td>\n",
       "      <td>Out in the streets \\n We're fighting tonight \\...</td>\n",
       "    </tr>\n",
       "  </tbody>\n",
       "</table>\n",
       "</div>"
      ],
      "text/plain": [
       "   Artista Genero              Cancion  \\\n",
       "0  Anthrax  metal           Deathrider   \n",
       "1  Anthrax  metal  Metal Thrashing Mad   \n",
       "2  Anthrax  metal         I'm Eighteen   \n",
       "3  Anthrax  metal                Panic   \n",
       "4  Anthrax  metal           Subjugator   \n",
       "\n",
       "                                               Letra  \n",
       "0  Riding hard, high in the saddle \\n Winged stee...  \n",
       "1  Racing down the road \\n In a street machine of...  \n",
       "2  Lines form on my face and hands \\n Lines form ...  \n",
       "3  Move it to the front \\n Reaching for the light...  \n",
       "4  Out in the streets \\n We're fighting tonight \\...  "
      ]
     },
     "execution_count": 4,
     "metadata": {},
     "output_type": "execute_result"
    }
   ],
   "source": [
    "df_letras.head()"
   ]
  },
  {
   "cell_type": "markdown",
   "metadata": {},
   "source": [
    "### Ejercicio 2: Matriz de ocurrencias\n",
    "- Importe la clase CountVectorizer dentro de los módulos\n",
    "  feature_extraction.text de la librería sklearn.\n",
    "- Aplique la clase para extraer las 5000 palabras más repetidas en toda la base de\n",
    "  datos.\n",
    "- Con la clase inicializada, incorpore las letras con el método fit_transform y guarde\n",
    "  los resultados en un nuevo objeto."
   ]
  },
  {
   "cell_type": "code",
   "execution_count": 5,
   "metadata": {},
   "outputs": [],
   "source": [
    "# instanciamos un objeto CountVectorizer()\n",
    "count_vectorizer = CountVectorizer(stop_words = 'english')"
   ]
  },
  {
   "cell_type": "code",
   "execution_count": 6,
   "metadata": {},
   "outputs": [],
   "source": [
    "# Implementamos los pasos fit y transform\n",
    "count_vectorizer_fit = count_vectorizer.fit_transform(df_letras.Letra)"
   ]
  },
  {
   "cell_type": "code",
   "execution_count": 7,
   "metadata": {},
   "outputs": [
    {
     "data": {
      "text/plain": [
       "['00', '000', '007', '01', '019', '02', '0281', '03', '04', '05']"
      ]
     },
     "execution_count": 7,
     "metadata": {},
     "output_type": "execute_result"
    }
   ],
   "source": [
    "# Extraemos tokens (palabras)\n",
    "words  = count_vectorizer.get_feature_names()\n",
    "words[:10]"
   ]
  },
  {
   "cell_type": "code",
   "execution_count": 8,
   "metadata": {},
   "outputs": [
    {
     "data": {
      "text/plain": [
       "array([14, 42,  2, 13,  3,  3,  1,  4,  3,  5], dtype=int64)"
      ]
     },
     "execution_count": 8,
     "metadata": {},
     "output_type": "execute_result"
    }
   ],
   "source": [
    "# extraemos frecuencia\n",
    "words_freq = count_vectorizer_fit.toarray().sum(axis = 0)\n",
    "words_freq[:10]"
   ]
  },
  {
   "cell_type": "code",
   "execution_count": 9,
   "metadata": {},
   "outputs": [
    {
     "data": {
      "text/html": [
       "<div>\n",
       "<style scoped>\n",
       "    .dataframe tbody tr th:only-of-type {\n",
       "        vertical-align: middle;\n",
       "    }\n",
       "\n",
       "    .dataframe tbody tr th {\n",
       "        vertical-align: top;\n",
       "    }\n",
       "\n",
       "    .dataframe thead th {\n",
       "        text-align: right;\n",
       "    }\n",
       "</style>\n",
       "<table border=\"1\" class=\"dataframe\">\n",
       "  <thead>\n",
       "    <tr style=\"text-align: right;\">\n",
       "      <th></th>\n",
       "      <th>0</th>\n",
       "      <th>1</th>\n",
       "    </tr>\n",
       "  </thead>\n",
       "  <tbody>\n",
       "    <tr>\n",
       "      <th>0</th>\n",
       "      <td>00</td>\n",
       "      <td>14</td>\n",
       "    </tr>\n",
       "    <tr>\n",
       "      <th>1</th>\n",
       "      <td>000</td>\n",
       "      <td>42</td>\n",
       "    </tr>\n",
       "    <tr>\n",
       "      <th>2</th>\n",
       "      <td>007</td>\n",
       "      <td>2</td>\n",
       "    </tr>\n",
       "    <tr>\n",
       "      <th>3</th>\n",
       "      <td>01</td>\n",
       "      <td>13</td>\n",
       "    </tr>\n",
       "    <tr>\n",
       "      <th>4</th>\n",
       "      <td>019</td>\n",
       "      <td>3</td>\n",
       "    </tr>\n",
       "  </tbody>\n",
       "</table>\n",
       "</div>"
      ],
      "text/plain": [
       "     0   1\n",
       "0   00  14\n",
       "1  000  42\n",
       "2  007   2\n",
       "3   01  13\n",
       "4  019   3"
      ]
     },
     "execution_count": 9,
     "metadata": {},
     "output_type": "execute_result"
    }
   ],
   "source": [
    "# creamos un nuevo dataframe\n",
    "words_freq_df = pd.DataFrame([list(words), list(words_freq)]).T\n",
    "words_freq_df.head()"
   ]
  },
  {
   "cell_type": "code",
   "execution_count": 10,
   "metadata": {},
   "outputs": [
    {
     "data": {
      "text/html": [
       "<div>\n",
       "<style scoped>\n",
       "    .dataframe tbody tr th:only-of-type {\n",
       "        vertical-align: middle;\n",
       "    }\n",
       "\n",
       "    .dataframe tbody tr th {\n",
       "        vertical-align: top;\n",
       "    }\n",
       "\n",
       "    .dataframe thead th {\n",
       "        text-align: right;\n",
       "    }\n",
       "</style>\n",
       "<table border=\"1\" class=\"dataframe\">\n",
       "  <thead>\n",
       "    <tr style=\"text-align: right;\">\n",
       "      <th></th>\n",
       "      <th>word</th>\n",
       "      <th>freq</th>\n",
       "    </tr>\n",
       "  </thead>\n",
       "  <tbody>\n",
       "    <tr>\n",
       "      <th>24950</th>\n",
       "      <td>like</td>\n",
       "      <td>19629</td>\n",
       "    </tr>\n",
       "    <tr>\n",
       "      <th>12859</th>\n",
       "      <td>don</td>\n",
       "      <td>17398</td>\n",
       "    </tr>\n",
       "    <tr>\n",
       "      <th>23856</th>\n",
       "      <td>know</td>\n",
       "      <td>14962</td>\n",
       "    </tr>\n",
       "    <tr>\n",
       "      <th>18439</th>\n",
       "      <td>got</td>\n",
       "      <td>14171</td>\n",
       "    </tr>\n",
       "    <tr>\n",
       "      <th>23287</th>\n",
       "      <td>just</td>\n",
       "      <td>13978</td>\n",
       "    </tr>\n",
       "  </tbody>\n",
       "</table>\n",
       "</div>"
      ],
      "text/plain": [
       "       word   freq\n",
       "24950  like  19629\n",
       "12859   don  17398\n",
       "23856  know  14962\n",
       "18439   got  14171\n",
       "23287  just  13978"
      ]
     },
     "execution_count": 10,
     "metadata": {},
     "output_type": "execute_result"
    }
   ],
   "source": [
    "words_freq_df.columns= ['word', 'freq']\n",
    "words_freq_df = words_freq_df.sort_values(by='freq', ascending = False).iloc[0:5000, :]\n",
    "words_freq_df.head()"
   ]
  },
  {
   "cell_type": "markdown",
   "metadata": {},
   "source": [
    "### Ejercicio 3: Entrenamiento del Modelo\n",
    "- Importe sklearn.decomposition.LatentDirichletAllocation y\n",
    "  sklearn.model_selection.GridSearchCV.\n",
    "- Genere una búsqueda de grilla con los siguientes hiper parámetros:\n",
    "        - n_components: [5, 10, 15].\n",
    "        - learning_decay: [0.7, 0.5].\n",
    "- Entrene la búsqueda de grilla con las letras en un formato vectorizado con\n",
    "  CountVectorizer.\n",
    "- Reporte brevemente cuál es la mejor combinación de hiper parámetros.\n",
    "\n",
    "#### Digresión: Latent Dirichlet Allocation\n",
    "Latent Dirichlet Allocatio (LDA) es un modelo probabilístico generativo basado en Inferencia\n",
    "Variacional EM. La principal utilidad de esto es la identificación de tópicos en un corpus de\n",
    "texto. El proceso de inferencia se puede resumir en los siguientes pasos:\n",
    "\n",
    "- Cada documento dentro del corpus se puede entender como una mezcla de tópicos\n",
    "  comunes a nivel de corpus.\n",
    "- Esta mezcla de tópicos es latente: sólo observamos los documentos registrados y\n",
    "  sus palabras.\n",
    "La API de sklearn.decomposition.LatentDirichletAllocation presenta la\n",
    "misma funcionalidad de todo modelo de sklearn. Algunos puntos a considerar en la\n",
    "inicialización de la clase son:\n",
    "\n",
    "  - n_components: Cantidad de tópicos a inferir en un corpus.\n",
    "  - learning_method: Forma en la que entran los datos en entrenamiento.\n",
    "    Cuando es 'batch', se ingresa la matriz de entrenamiento completa. Cuando\n",
    "    es 'online', la matriz de entrenamiento ingresa de manera secuencial en\n",
    "    parcelas pequeñas.\n",
    "  - learning_decay: Tasa de aprendizaje en la función de pérdida. Cuando se\n",
    "    implementa con learning_method='online', el modelo se entrena con\n",
    "    Gradiente Estocástico Descendente.\n",
    "  - Perplejidad: Busca aproximar el número óptimo de tópicos a inferir.\n",
    "    Técnicamente evalúa qué tan bien predice una muestra específica. En función\n",
    "    a un número de tópicos, define la distribución teórica de palabras\n",
    "    representada por los tópicos y la compara con la ocurrencia empírica de\n",
    "    palabras en tópicos.\n"
   ]
  },
  {
   "cell_type": "code",
   "execution_count": 11,
   "metadata": {},
   "outputs": [],
   "source": [
    "param_grid = {'n_components': [5, 10, 15], 'learning_decay': [0.7, 0.5]}"
   ]
  },
  {
   "cell_type": "code",
   "execution_count": 12,
   "metadata": {},
   "outputs": [],
   "source": [
    "lda = LatentDirichletAllocation()\n",
    "#lda.fit()"
   ]
  },
  {
   "cell_type": "code",
   "execution_count": 13,
   "metadata": {},
   "outputs": [],
   "source": [
    "# n_jobs = -1 significa usar todos los procesadores disponiobles\n",
    "# verbose = 3 significa que los índices de parámetros de \n",
    "# pliegue y candidato también se muestran junto con la hora de inicio del cálculo.\n",
    "# cv significa las validaciones cruzadas a realizar\n",
    "model_gridcv = GridSearchCV(lda, param_grid, cv = 5, n_jobs = -1, verbose = 3)"
   ]
  },
  {
   "cell_type": "code",
   "execution_count": 14,
   "metadata": {},
   "outputs": [
    {
     "name": "stdout",
     "output_type": "stream",
     "text": [
      "Fitting 5 folds for each of 6 candidates, totalling 30 fits\n"
     ]
    },
    {
     "data": {
      "text/html": [
       "<style>#sk-container-id-1 {color: black;background-color: white;}#sk-container-id-1 pre{padding: 0;}#sk-container-id-1 div.sk-toggleable {background-color: white;}#sk-container-id-1 label.sk-toggleable__label {cursor: pointer;display: block;width: 100%;margin-bottom: 0;padding: 0.3em;box-sizing: border-box;text-align: center;}#sk-container-id-1 label.sk-toggleable__label-arrow:before {content: \"▸\";float: left;margin-right: 0.25em;color: #696969;}#sk-container-id-1 label.sk-toggleable__label-arrow:hover:before {color: black;}#sk-container-id-1 div.sk-estimator:hover label.sk-toggleable__label-arrow:before {color: black;}#sk-container-id-1 div.sk-toggleable__content {max-height: 0;max-width: 0;overflow: hidden;text-align: left;background-color: #f0f8ff;}#sk-container-id-1 div.sk-toggleable__content pre {margin: 0.2em;color: black;border-radius: 0.25em;background-color: #f0f8ff;}#sk-container-id-1 input.sk-toggleable__control:checked~div.sk-toggleable__content {max-height: 200px;max-width: 100%;overflow: auto;}#sk-container-id-1 input.sk-toggleable__control:checked~label.sk-toggleable__label-arrow:before {content: \"▾\";}#sk-container-id-1 div.sk-estimator input.sk-toggleable__control:checked~label.sk-toggleable__label {background-color: #d4ebff;}#sk-container-id-1 div.sk-label input.sk-toggleable__control:checked~label.sk-toggleable__label {background-color: #d4ebff;}#sk-container-id-1 input.sk-hidden--visually {border: 0;clip: rect(1px 1px 1px 1px);clip: rect(1px, 1px, 1px, 1px);height: 1px;margin: -1px;overflow: hidden;padding: 0;position: absolute;width: 1px;}#sk-container-id-1 div.sk-estimator {font-family: monospace;background-color: #f0f8ff;border: 1px dotted black;border-radius: 0.25em;box-sizing: border-box;margin-bottom: 0.5em;}#sk-container-id-1 div.sk-estimator:hover {background-color: #d4ebff;}#sk-container-id-1 div.sk-parallel-item::after {content: \"\";width: 100%;border-bottom: 1px solid gray;flex-grow: 1;}#sk-container-id-1 div.sk-label:hover label.sk-toggleable__label {background-color: #d4ebff;}#sk-container-id-1 div.sk-serial::before {content: \"\";position: absolute;border-left: 1px solid gray;box-sizing: border-box;top: 0;bottom: 0;left: 50%;z-index: 0;}#sk-container-id-1 div.sk-serial {display: flex;flex-direction: column;align-items: center;background-color: white;padding-right: 0.2em;padding-left: 0.2em;position: relative;}#sk-container-id-1 div.sk-item {position: relative;z-index: 1;}#sk-container-id-1 div.sk-parallel {display: flex;align-items: stretch;justify-content: center;background-color: white;position: relative;}#sk-container-id-1 div.sk-item::before, #sk-container-id-1 div.sk-parallel-item::before {content: \"\";position: absolute;border-left: 1px solid gray;box-sizing: border-box;top: 0;bottom: 0;left: 50%;z-index: -1;}#sk-container-id-1 div.sk-parallel-item {display: flex;flex-direction: column;z-index: 1;position: relative;background-color: white;}#sk-container-id-1 div.sk-parallel-item:first-child::after {align-self: flex-end;width: 50%;}#sk-container-id-1 div.sk-parallel-item:last-child::after {align-self: flex-start;width: 50%;}#sk-container-id-1 div.sk-parallel-item:only-child::after {width: 0;}#sk-container-id-1 div.sk-dashed-wrapped {border: 1px dashed gray;margin: 0 0.4em 0.5em 0.4em;box-sizing: border-box;padding-bottom: 0.4em;background-color: white;}#sk-container-id-1 div.sk-label label {font-family: monospace;font-weight: bold;display: inline-block;line-height: 1.2em;}#sk-container-id-1 div.sk-label-container {text-align: center;}#sk-container-id-1 div.sk-container {/* jupyter's `normalize.less` sets `[hidden] { display: none; }` but bootstrap.min.css set `[hidden] { display: none !important; }` so we also need the `!important` here to be able to override the default hidden behavior on the sphinx rendered scikit-learn.org. See: https://github.com/scikit-learn/scikit-learn/issues/21755 */display: inline-block !important;position: relative;}#sk-container-id-1 div.sk-text-repr-fallback {display: none;}</style><div id=\"sk-container-id-1\" class=\"sk-top-container\"><div class=\"sk-text-repr-fallback\"><pre>GridSearchCV(cv=5, estimator=LatentDirichletAllocation(), n_jobs=-1,\n",
       "             param_grid={&#x27;learning_decay&#x27;: [0.7, 0.5],\n",
       "                         &#x27;n_components&#x27;: [5, 10, 15]},\n",
       "             verbose=3)</pre><b>In a Jupyter environment, please rerun this cell to show the HTML representation or trust the notebook. <br />On GitHub, the HTML representation is unable to render, please try loading this page with nbviewer.org.</b></div><div class=\"sk-container\" hidden><div class=\"sk-item sk-dashed-wrapped\"><div class=\"sk-label-container\"><div class=\"sk-label sk-toggleable\"><input class=\"sk-toggleable__control sk-hidden--visually\" id=\"sk-estimator-id-1\" type=\"checkbox\" ><label for=\"sk-estimator-id-1\" class=\"sk-toggleable__label sk-toggleable__label-arrow\">GridSearchCV</label><div class=\"sk-toggleable__content\"><pre>GridSearchCV(cv=5, estimator=LatentDirichletAllocation(), n_jobs=-1,\n",
       "             param_grid={&#x27;learning_decay&#x27;: [0.7, 0.5],\n",
       "                         &#x27;n_components&#x27;: [5, 10, 15]},\n",
       "             verbose=3)</pre></div></div></div><div class=\"sk-parallel\"><div class=\"sk-parallel-item\"><div class=\"sk-item\"><div class=\"sk-label-container\"><div class=\"sk-label sk-toggleable\"><input class=\"sk-toggleable__control sk-hidden--visually\" id=\"sk-estimator-id-2\" type=\"checkbox\" ><label for=\"sk-estimator-id-2\" class=\"sk-toggleable__label sk-toggleable__label-arrow\">estimator: LatentDirichletAllocation</label><div class=\"sk-toggleable__content\"><pre>LatentDirichletAllocation()</pre></div></div></div><div class=\"sk-serial\"><div class=\"sk-item\"><div class=\"sk-estimator sk-toggleable\"><input class=\"sk-toggleable__control sk-hidden--visually\" id=\"sk-estimator-id-3\" type=\"checkbox\" ><label for=\"sk-estimator-id-3\" class=\"sk-toggleable__label sk-toggleable__label-arrow\">LatentDirichletAllocation</label><div class=\"sk-toggleable__content\"><pre>LatentDirichletAllocation()</pre></div></div></div></div></div></div></div></div></div></div>"
      ],
      "text/plain": [
       "GridSearchCV(cv=5, estimator=LatentDirichletAllocation(), n_jobs=-1,\n",
       "             param_grid={'learning_decay': [0.7, 0.5],\n",
       "                         'n_components': [5, 10, 15]},\n",
       "             verbose=3)"
      ]
     },
     "execution_count": 14,
     "metadata": {},
     "output_type": "execute_result"
    }
   ],
   "source": [
    "model_gridcv.fit(count_vectorizer_fit)"
   ]
  },
  {
   "cell_type": "code",
   "execution_count": 15,
   "metadata": {},
   "outputs": [
    {
     "name": "stdout",
     "output_type": "stream",
     "text": [
      "\n",
      "Mejores hiper parametros: {'learning_decay': 0.5, 'n_components': 5}\n",
      "Mejor Puntaje: -2577570.389652352\n"
     ]
    }
   ],
   "source": [
    "print(f'''\n",
    "Mejores hiper parametros: {model_gridcv.best_params_}\n",
    "Mejor Puntaje: {model_gridcv.best_score_}''')"
   ]
  },
  {
   "cell_type": "markdown",
   "metadata": {},
   "source": []
  },
  {
   "cell_type": "markdown",
   "metadata": {},
   "source": [
    "### Ejercicio 4 : Inferencia e Identificación de Tópicos\n",
    "- En base a la mejor combinación de hiper parámetros, entrene el modelo con la matriz\n",
    "  de atributos de las letras.\n",
    "- Para identificar de qué se trata cada tópico, necesitamos identificar las principales\n",
    "  15 palabras asociadas con éste. Puede implementar la siguiente línea de código para\n",
    "  identificar las principales palabras en un tópico:"
   ]
  },
  {
   "cell_type": "code",
   "execution_count": 16,
   "metadata": {},
   "outputs": [],
   "source": [
    "count_vectorizer_i = CountVectorizer(stop_words = 'english')"
   ]
  },
  {
   "cell_type": "code",
   "execution_count": 17,
   "metadata": {},
   "outputs": [],
   "source": [
    "\n",
    "count = count_vectorizer_i.fit_transform(df_letras.Letra)"
   ]
  },
  {
   "cell_type": "code",
   "execution_count": 18,
   "metadata": {},
   "outputs": [],
   "source": [
    "# n_jobs = -1 significa usar todos los procesadores disponibles\n",
    "# verbose = 3 significa que los índices de parámetros de \n",
    "# pliegue y candidato también se muestran junto con la hora de inicio del cálculo.\n",
    "# cv significa las validaciones cruzadas a realizar\n",
    "model_gridcv_i = GridSearchCV(lda, {'n_components': [5], 'learning_decay': [0.7]}, cv = 5, n_jobs = -1, verbose = 3)"
   ]
  },
  {
   "cell_type": "code",
   "execution_count": 19,
   "metadata": {},
   "outputs": [
    {
     "name": "stdout",
     "output_type": "stream",
     "text": [
      "Fitting 5 folds for each of 1 candidates, totalling 5 fits\n"
     ]
    },
    {
     "data": {
      "text/html": [
       "<style>#sk-container-id-2 {color: black;background-color: white;}#sk-container-id-2 pre{padding: 0;}#sk-container-id-2 div.sk-toggleable {background-color: white;}#sk-container-id-2 label.sk-toggleable__label {cursor: pointer;display: block;width: 100%;margin-bottom: 0;padding: 0.3em;box-sizing: border-box;text-align: center;}#sk-container-id-2 label.sk-toggleable__label-arrow:before {content: \"▸\";float: left;margin-right: 0.25em;color: #696969;}#sk-container-id-2 label.sk-toggleable__label-arrow:hover:before {color: black;}#sk-container-id-2 div.sk-estimator:hover label.sk-toggleable__label-arrow:before {color: black;}#sk-container-id-2 div.sk-toggleable__content {max-height: 0;max-width: 0;overflow: hidden;text-align: left;background-color: #f0f8ff;}#sk-container-id-2 div.sk-toggleable__content pre {margin: 0.2em;color: black;border-radius: 0.25em;background-color: #f0f8ff;}#sk-container-id-2 input.sk-toggleable__control:checked~div.sk-toggleable__content {max-height: 200px;max-width: 100%;overflow: auto;}#sk-container-id-2 input.sk-toggleable__control:checked~label.sk-toggleable__label-arrow:before {content: \"▾\";}#sk-container-id-2 div.sk-estimator input.sk-toggleable__control:checked~label.sk-toggleable__label {background-color: #d4ebff;}#sk-container-id-2 div.sk-label input.sk-toggleable__control:checked~label.sk-toggleable__label {background-color: #d4ebff;}#sk-container-id-2 input.sk-hidden--visually {border: 0;clip: rect(1px 1px 1px 1px);clip: rect(1px, 1px, 1px, 1px);height: 1px;margin: -1px;overflow: hidden;padding: 0;position: absolute;width: 1px;}#sk-container-id-2 div.sk-estimator {font-family: monospace;background-color: #f0f8ff;border: 1px dotted black;border-radius: 0.25em;box-sizing: border-box;margin-bottom: 0.5em;}#sk-container-id-2 div.sk-estimator:hover {background-color: #d4ebff;}#sk-container-id-2 div.sk-parallel-item::after {content: \"\";width: 100%;border-bottom: 1px solid gray;flex-grow: 1;}#sk-container-id-2 div.sk-label:hover label.sk-toggleable__label {background-color: #d4ebff;}#sk-container-id-2 div.sk-serial::before {content: \"\";position: absolute;border-left: 1px solid gray;box-sizing: border-box;top: 0;bottom: 0;left: 50%;z-index: 0;}#sk-container-id-2 div.sk-serial {display: flex;flex-direction: column;align-items: center;background-color: white;padding-right: 0.2em;padding-left: 0.2em;position: relative;}#sk-container-id-2 div.sk-item {position: relative;z-index: 1;}#sk-container-id-2 div.sk-parallel {display: flex;align-items: stretch;justify-content: center;background-color: white;position: relative;}#sk-container-id-2 div.sk-item::before, #sk-container-id-2 div.sk-parallel-item::before {content: \"\";position: absolute;border-left: 1px solid gray;box-sizing: border-box;top: 0;bottom: 0;left: 50%;z-index: -1;}#sk-container-id-2 div.sk-parallel-item {display: flex;flex-direction: column;z-index: 1;position: relative;background-color: white;}#sk-container-id-2 div.sk-parallel-item:first-child::after {align-self: flex-end;width: 50%;}#sk-container-id-2 div.sk-parallel-item:last-child::after {align-self: flex-start;width: 50%;}#sk-container-id-2 div.sk-parallel-item:only-child::after {width: 0;}#sk-container-id-2 div.sk-dashed-wrapped {border: 1px dashed gray;margin: 0 0.4em 0.5em 0.4em;box-sizing: border-box;padding-bottom: 0.4em;background-color: white;}#sk-container-id-2 div.sk-label label {font-family: monospace;font-weight: bold;display: inline-block;line-height: 1.2em;}#sk-container-id-2 div.sk-label-container {text-align: center;}#sk-container-id-2 div.sk-container {/* jupyter's `normalize.less` sets `[hidden] { display: none; }` but bootstrap.min.css set `[hidden] { display: none !important; }` so we also need the `!important` here to be able to override the default hidden behavior on the sphinx rendered scikit-learn.org. See: https://github.com/scikit-learn/scikit-learn/issues/21755 */display: inline-block !important;position: relative;}#sk-container-id-2 div.sk-text-repr-fallback {display: none;}</style><div id=\"sk-container-id-2\" class=\"sk-top-container\"><div class=\"sk-text-repr-fallback\"><pre>GridSearchCV(cv=5, estimator=LatentDirichletAllocation(), n_jobs=-1,\n",
       "             param_grid={&#x27;learning_decay&#x27;: [0.7], &#x27;n_components&#x27;: [5]},\n",
       "             verbose=3)</pre><b>In a Jupyter environment, please rerun this cell to show the HTML representation or trust the notebook. <br />On GitHub, the HTML representation is unable to render, please try loading this page with nbviewer.org.</b></div><div class=\"sk-container\" hidden><div class=\"sk-item sk-dashed-wrapped\"><div class=\"sk-label-container\"><div class=\"sk-label sk-toggleable\"><input class=\"sk-toggleable__control sk-hidden--visually\" id=\"sk-estimator-id-4\" type=\"checkbox\" ><label for=\"sk-estimator-id-4\" class=\"sk-toggleable__label sk-toggleable__label-arrow\">GridSearchCV</label><div class=\"sk-toggleable__content\"><pre>GridSearchCV(cv=5, estimator=LatentDirichletAllocation(), n_jobs=-1,\n",
       "             param_grid={&#x27;learning_decay&#x27;: [0.7], &#x27;n_components&#x27;: [5]},\n",
       "             verbose=3)</pre></div></div></div><div class=\"sk-parallel\"><div class=\"sk-parallel-item\"><div class=\"sk-item\"><div class=\"sk-label-container\"><div class=\"sk-label sk-toggleable\"><input class=\"sk-toggleable__control sk-hidden--visually\" id=\"sk-estimator-id-5\" type=\"checkbox\" ><label for=\"sk-estimator-id-5\" class=\"sk-toggleable__label sk-toggleable__label-arrow\">estimator: LatentDirichletAllocation</label><div class=\"sk-toggleable__content\"><pre>LatentDirichletAllocation()</pre></div></div></div><div class=\"sk-serial\"><div class=\"sk-item\"><div class=\"sk-estimator sk-toggleable\"><input class=\"sk-toggleable__control sk-hidden--visually\" id=\"sk-estimator-id-6\" type=\"checkbox\" ><label for=\"sk-estimator-id-6\" class=\"sk-toggleable__label sk-toggleable__label-arrow\">LatentDirichletAllocation</label><div class=\"sk-toggleable__content\"><pre>LatentDirichletAllocation()</pre></div></div></div></div></div></div></div></div></div></div>"
      ],
      "text/plain": [
       "GridSearchCV(cv=5, estimator=LatentDirichletAllocation(), n_jobs=-1,\n",
       "             param_grid={'learning_decay': [0.7], 'n_components': [5]},\n",
       "             verbose=3)"
      ]
     },
     "execution_count": 19,
     "metadata": {},
     "output_type": "execute_result"
    }
   ],
   "source": [
    "model_gridcv_i.fit(count)"
   ]
  },
  {
   "cell_type": "code",
   "execution_count": 20,
   "metadata": {},
   "outputs": [
    {
     "name": "stdout",
     "output_type": "stream",
     "text": [
      "\n",
      "Mejores hiper parametros: {'learning_decay': 0.7, 'n_components': 5}\n",
      "Mejor Puntaje: -2581732.7589787445\n"
     ]
    }
   ],
   "source": [
    "print(f'''\n",
    "Mejores hiper parametros: {model_gridcv_i.best_params_}\n",
    "Mejor Puntaje: {model_gridcv_i.best_score_}''')"
   ]
  },
  {
   "cell_type": "code",
   "execution_count": 21,
   "metadata": {},
   "outputs": [
    {
     "data": {
      "text/html": [
       "<style>#sk-container-id-3 {color: black;background-color: white;}#sk-container-id-3 pre{padding: 0;}#sk-container-id-3 div.sk-toggleable {background-color: white;}#sk-container-id-3 label.sk-toggleable__label {cursor: pointer;display: block;width: 100%;margin-bottom: 0;padding: 0.3em;box-sizing: border-box;text-align: center;}#sk-container-id-3 label.sk-toggleable__label-arrow:before {content: \"▸\";float: left;margin-right: 0.25em;color: #696969;}#sk-container-id-3 label.sk-toggleable__label-arrow:hover:before {color: black;}#sk-container-id-3 div.sk-estimator:hover label.sk-toggleable__label-arrow:before {color: black;}#sk-container-id-3 div.sk-toggleable__content {max-height: 0;max-width: 0;overflow: hidden;text-align: left;background-color: #f0f8ff;}#sk-container-id-3 div.sk-toggleable__content pre {margin: 0.2em;color: black;border-radius: 0.25em;background-color: #f0f8ff;}#sk-container-id-3 input.sk-toggleable__control:checked~div.sk-toggleable__content {max-height: 200px;max-width: 100%;overflow: auto;}#sk-container-id-3 input.sk-toggleable__control:checked~label.sk-toggleable__label-arrow:before {content: \"▾\";}#sk-container-id-3 div.sk-estimator input.sk-toggleable__control:checked~label.sk-toggleable__label {background-color: #d4ebff;}#sk-container-id-3 div.sk-label input.sk-toggleable__control:checked~label.sk-toggleable__label {background-color: #d4ebff;}#sk-container-id-3 input.sk-hidden--visually {border: 0;clip: rect(1px 1px 1px 1px);clip: rect(1px, 1px, 1px, 1px);height: 1px;margin: -1px;overflow: hidden;padding: 0;position: absolute;width: 1px;}#sk-container-id-3 div.sk-estimator {font-family: monospace;background-color: #f0f8ff;border: 1px dotted black;border-radius: 0.25em;box-sizing: border-box;margin-bottom: 0.5em;}#sk-container-id-3 div.sk-estimator:hover {background-color: #d4ebff;}#sk-container-id-3 div.sk-parallel-item::after {content: \"\";width: 100%;border-bottom: 1px solid gray;flex-grow: 1;}#sk-container-id-3 div.sk-label:hover label.sk-toggleable__label {background-color: #d4ebff;}#sk-container-id-3 div.sk-serial::before {content: \"\";position: absolute;border-left: 1px solid gray;box-sizing: border-box;top: 0;bottom: 0;left: 50%;z-index: 0;}#sk-container-id-3 div.sk-serial {display: flex;flex-direction: column;align-items: center;background-color: white;padding-right: 0.2em;padding-left: 0.2em;position: relative;}#sk-container-id-3 div.sk-item {position: relative;z-index: 1;}#sk-container-id-3 div.sk-parallel {display: flex;align-items: stretch;justify-content: center;background-color: white;position: relative;}#sk-container-id-3 div.sk-item::before, #sk-container-id-3 div.sk-parallel-item::before {content: \"\";position: absolute;border-left: 1px solid gray;box-sizing: border-box;top: 0;bottom: 0;left: 50%;z-index: -1;}#sk-container-id-3 div.sk-parallel-item {display: flex;flex-direction: column;z-index: 1;position: relative;background-color: white;}#sk-container-id-3 div.sk-parallel-item:first-child::after {align-self: flex-end;width: 50%;}#sk-container-id-3 div.sk-parallel-item:last-child::after {align-self: flex-start;width: 50%;}#sk-container-id-3 div.sk-parallel-item:only-child::after {width: 0;}#sk-container-id-3 div.sk-dashed-wrapped {border: 1px dashed gray;margin: 0 0.4em 0.5em 0.4em;box-sizing: border-box;padding-bottom: 0.4em;background-color: white;}#sk-container-id-3 div.sk-label label {font-family: monospace;font-weight: bold;display: inline-block;line-height: 1.2em;}#sk-container-id-3 div.sk-label-container {text-align: center;}#sk-container-id-3 div.sk-container {/* jupyter's `normalize.less` sets `[hidden] { display: none; }` but bootstrap.min.css set `[hidden] { display: none !important; }` so we also need the `!important` here to be able to override the default hidden behavior on the sphinx rendered scikit-learn.org. See: https://github.com/scikit-learn/scikit-learn/issues/21755 */display: inline-block !important;position: relative;}#sk-container-id-3 div.sk-text-repr-fallback {display: none;}</style><div id=\"sk-container-id-3\" class=\"sk-top-container\"><div class=\"sk-text-repr-fallback\"><pre>LatentDirichletAllocation(n_components=5)</pre><b>In a Jupyter environment, please rerun this cell to show the HTML representation or trust the notebook. <br />On GitHub, the HTML representation is unable to render, please try loading this page with nbviewer.org.</b></div><div class=\"sk-container\" hidden><div class=\"sk-item\"><div class=\"sk-estimator sk-toggleable\"><input class=\"sk-toggleable__control sk-hidden--visually\" id=\"sk-estimator-id-7\" type=\"checkbox\" checked><label for=\"sk-estimator-id-7\" class=\"sk-toggleable__label sk-toggleable__label-arrow\">LatentDirichletAllocation</label><div class=\"sk-toggleable__content\"><pre>LatentDirichletAllocation(n_components=5)</pre></div></div></div></div></div>"
      ],
      "text/plain": [
       "LatentDirichletAllocation(n_components=5)"
      ]
     },
     "execution_count": 21,
     "metadata": {},
     "output_type": "execute_result"
    }
   ],
   "source": [
    "best_estimator = model_gridcv_i.best_estimator_\n",
    "best_estimator "
   ]
  },
  {
   "cell_type": "code",
   "execution_count": 22,
   "metadata": {},
   "outputs": [
    {
     "name": "stdout",
     "output_type": "stream",
     "text": [
      "tópico: 1\n",
      "don love know just yeah oh ll baby like got let want ve time come\n",
      "tópico: 2\n",
      "like got shit don ain yo know nigga fuck man em cause just ya niggas\n",
      "tópico: 3\n",
      "oh like just home got yeah said little man know ll night come old don\n",
      "tópico: 4\n",
      "ah don man like know yeah cause ma got doo song say people future tell\n",
      "tópico: 5\n",
      "death life god world blood die dead eyes time light na ll soul pain day\n"
     ]
    }
   ],
   "source": [
    "\n",
    "# mediante .components_ podemos extraer una matriz que entrega las\n",
    "# distribución de palabras por cada tópico.\n",
    "for topic_id, topic_name in enumerate(best_estimator.components_):\n",
    "        # para cada tópico\n",
    "        print(\"tópico: {}\".format(topic_id + 1))\n",
    "        # mediante argsort logramos ordenar los elementos por magnitud\n",
    "        # para los elementos más relevantes ordenados por argsort, buscamos su correlativo\n",
    "        # en la matriz dispersa y devolvemos el nombre.\n",
    "        # finalmente concatenamos las palabras\n",
    "        print(\" \".join([count_vectorizer.get_feature_names()[i] for i in topic_name.argsort()[:-15 - 1: -1]]))"
   ]
  },
  {
   "cell_type": "code",
   "execution_count": 23,
   "metadata": {},
   "outputs": [
    {
     "data": {
      "text/plain": [
       "array(['metal', 'hiphop', 'rock', 'pop'], dtype=object)"
      ]
     },
     "execution_count": 23,
     "metadata": {},
     "output_type": "execute_result"
    }
   ],
   "source": [
    "# Vista de clases\n",
    "df_letras['Genero'].unique()"
   ]
  },
  {
   "cell_type": "markdown",
   "metadata": {},
   "source": [
    "- Comente a qué tópicos está asociada cada clase inferida."
   ]
  },
  {
   "cell_type": "markdown",
   "metadata": {},
   "source": []
  },
  {
   "cell_type": "markdown",
   "metadata": {},
   "source": [
    "### Ejercicio 5: Identificación de probabilidades\n",
    "- En base a la información generada, es posible identificar cuales van a ser los géneros\n",
    "  más probables de ocurrir para un artista.\n",
    "- Para ello necesitamos guardar la probabilidad de cada canción en nuestra base de\n",
    "  datos original. Podemos implementar esto de la siguiente manera:"
   ]
  },
  {
   "cell_type": "code",
   "execution_count": 24,
   "metadata": {},
   "outputs": [],
   "source": [
    "# generamos una transformación de los datos a distribución de tópico por palabra en el documento\n",
    "fit_best_lda = best_estimator.transform(count_vectorizer_fit)\n",
    "# esta transformación la podemos coaccionar a un dataframe de la siguiente manera\n",
    "# pasamos esta matriz y la redondeamos en 3 decimales\n",
    "# agregamos un índice\n",
    "topics_for_each_doc = pd.DataFrame(np.round(fit_best_lda, 3), index = df_letras.index)\n",
    "# agregamos identificadores de columna\n",
    "topics_for_each_doc.columns = list(map(lambda x: \"T: {}\".format(x), range(1, best_estimator.n_components + 1)))\n",
    "# concatenamos las probabilidades de tópico por documento a nuestra matriz original\n",
    "concatenated_df = pd.concat([df_letras, topics_for_each_doc], axis=1)\n",
    "# argmax en la matriz de tópicos\n",
    "concatenated_df['highest_topic'] = np.argmax(topics_for_each_doc.values, axis=1) + 1"
   ]
  },
  {
   "cell_type": "code",
   "execution_count": 25,
   "metadata": {},
   "outputs": [
    {
     "data": {
      "text/html": [
       "<div>\n",
       "<style scoped>\n",
       "    .dataframe tbody tr th:only-of-type {\n",
       "        vertical-align: middle;\n",
       "    }\n",
       "\n",
       "    .dataframe tbody tr th {\n",
       "        vertical-align: top;\n",
       "    }\n",
       "\n",
       "    .dataframe thead th {\n",
       "        text-align: right;\n",
       "    }\n",
       "</style>\n",
       "<table border=\"1\" class=\"dataframe\">\n",
       "  <thead>\n",
       "    <tr style=\"text-align: right;\">\n",
       "      <th></th>\n",
       "      <th>Artista</th>\n",
       "      <th>Genero</th>\n",
       "      <th>Cancion</th>\n",
       "      <th>Letra</th>\n",
       "      <th>T: 1</th>\n",
       "      <th>T: 2</th>\n",
       "      <th>T: 3</th>\n",
       "      <th>T: 4</th>\n",
       "      <th>T: 5</th>\n",
       "      <th>highest_topic</th>\n",
       "    </tr>\n",
       "  </thead>\n",
       "  <tbody>\n",
       "    <tr>\n",
       "      <th>0</th>\n",
       "      <td>Anthrax</td>\n",
       "      <td>metal</td>\n",
       "      <td>Deathrider</td>\n",
       "      <td>Riding hard, high in the saddle \\n Winged stee...</td>\n",
       "      <td>0.094</td>\n",
       "      <td>0.004</td>\n",
       "      <td>0.089</td>\n",
       "      <td>0.004</td>\n",
       "      <td>0.810</td>\n",
       "      <td>5</td>\n",
       "    </tr>\n",
       "    <tr>\n",
       "      <th>1</th>\n",
       "      <td>Anthrax</td>\n",
       "      <td>metal</td>\n",
       "      <td>Metal Thrashing Mad</td>\n",
       "      <td>Racing down the road \\n In a street machine of...</td>\n",
       "      <td>0.004</td>\n",
       "      <td>0.004</td>\n",
       "      <td>0.530</td>\n",
       "      <td>0.004</td>\n",
       "      <td>0.457</td>\n",
       "      <td>3</td>\n",
       "    </tr>\n",
       "    <tr>\n",
       "      <th>2</th>\n",
       "      <td>Anthrax</td>\n",
       "      <td>metal</td>\n",
       "      <td>I'm Eighteen</td>\n",
       "      <td>Lines form on my face and hands \\n Lines form ...</td>\n",
       "      <td>0.528</td>\n",
       "      <td>0.002</td>\n",
       "      <td>0.467</td>\n",
       "      <td>0.002</td>\n",
       "      <td>0.002</td>\n",
       "      <td>1</td>\n",
       "    </tr>\n",
       "    <tr>\n",
       "      <th>3</th>\n",
       "      <td>Anthrax</td>\n",
       "      <td>metal</td>\n",
       "      <td>Panic</td>\n",
       "      <td>Move it to the front \\n Reaching for the light...</td>\n",
       "      <td>0.624</td>\n",
       "      <td>0.082</td>\n",
       "      <td>0.003</td>\n",
       "      <td>0.003</td>\n",
       "      <td>0.288</td>\n",
       "      <td>1</td>\n",
       "    </tr>\n",
       "    <tr>\n",
       "      <th>4</th>\n",
       "      <td>Anthrax</td>\n",
       "      <td>metal</td>\n",
       "      <td>Subjugator</td>\n",
       "      <td>Out in the streets \\n We're fighting tonight \\...</td>\n",
       "      <td>0.174</td>\n",
       "      <td>0.003</td>\n",
       "      <td>0.003</td>\n",
       "      <td>0.003</td>\n",
       "      <td>0.818</td>\n",
       "      <td>5</td>\n",
       "    </tr>\n",
       "  </tbody>\n",
       "</table>\n",
       "</div>"
      ],
      "text/plain": [
       "   Artista Genero              Cancion  \\\n",
       "0  Anthrax  metal           Deathrider   \n",
       "1  Anthrax  metal  Metal Thrashing Mad   \n",
       "2  Anthrax  metal         I'm Eighteen   \n",
       "3  Anthrax  metal                Panic   \n",
       "4  Anthrax  metal           Subjugator   \n",
       "\n",
       "                                               Letra   T: 1   T: 2   T: 3  \\\n",
       "0  Riding hard, high in the saddle \\n Winged stee...  0.094  0.004  0.089   \n",
       "1  Racing down the road \\n In a street machine of...  0.004  0.004  0.530   \n",
       "2  Lines form on my face and hands \\n Lines form ...  0.528  0.002  0.467   \n",
       "3  Move it to the front \\n Reaching for the light...  0.624  0.082  0.003   \n",
       "4  Out in the streets \\n We're fighting tonight \\...  0.174  0.003  0.003   \n",
       "\n",
       "    T: 4   T: 5  highest_topic  \n",
       "0  0.004  0.810              5  \n",
       "1  0.004  0.457              3  \n",
       "2  0.002  0.002              1  \n",
       "3  0.003  0.288              1  \n",
       "4  0.003  0.818              5  "
      ]
     },
     "execution_count": 25,
     "metadata": {},
     "output_type": "execute_result"
    }
   ],
   "source": [
    "# DataFrame con la probabilidad de los topicos para cada clase\n",
    "concatenated_df.head()"
   ]
  },
  {
   "cell_type": "code",
   "execution_count": 26,
   "metadata": {},
   "outputs": [
    {
     "data": {
      "text/html": [
       "<div>\n",
       "<style scoped>\n",
       "    .dataframe tbody tr th:only-of-type {\n",
       "        vertical-align: middle;\n",
       "    }\n",
       "\n",
       "    .dataframe tbody tr th {\n",
       "        vertical-align: top;\n",
       "    }\n",
       "\n",
       "    .dataframe thead th {\n",
       "        text-align: right;\n",
       "    }\n",
       "</style>\n",
       "<table border=\"1\" class=\"dataframe\">\n",
       "  <thead>\n",
       "    <tr style=\"text-align: right;\">\n",
       "      <th></th>\n",
       "      <th>Artista</th>\n",
       "      <th>Genero</th>\n",
       "      <th>Cancion</th>\n",
       "      <th>Letra</th>\n",
       "      <th>T: 1</th>\n",
       "      <th>T: 2</th>\n",
       "      <th>T: 3</th>\n",
       "      <th>T: 4</th>\n",
       "      <th>T: 5</th>\n",
       "      <th>highest_topic</th>\n",
       "    </tr>\n",
       "  </thead>\n",
       "  <tbody>\n",
       "    <tr>\n",
       "      <th>170</th>\n",
       "      <td>Raekwon</td>\n",
       "      <td>hiphop</td>\n",
       "      <td>The Red Carpet</td>\n",
       "      <td>I set it off in the sunny distance, no days ex...</td>\n",
       "      <td>0.221</td>\n",
       "      <td>0.581</td>\n",
       "      <td>0.001</td>\n",
       "      <td>0.001</td>\n",
       "      <td>0.196</td>\n",
       "      <td>2</td>\n",
       "    </tr>\n",
       "    <tr>\n",
       "      <th>143</th>\n",
       "      <td>Kanye West</td>\n",
       "      <td>hiphop</td>\n",
       "      <td>Don't Look Down</td>\n",
       "      <td>(Mos Def) \\n Don't look down, it's an impossib...</td>\n",
       "      <td>0.375</td>\n",
       "      <td>0.255</td>\n",
       "      <td>0.160</td>\n",
       "      <td>0.104</td>\n",
       "      <td>0.106</td>\n",
       "      <td>1</td>\n",
       "    </tr>\n",
       "    <tr>\n",
       "      <th>111</th>\n",
       "      <td>Eminem</td>\n",
       "      <td>hiphop</td>\n",
       "      <td>The Sauce</td>\n",
       "      <td>It's all bad now man, it's all bad \\n It's all...</td>\n",
       "      <td>0.215</td>\n",
       "      <td>0.783</td>\n",
       "      <td>0.001</td>\n",
       "      <td>0.001</td>\n",
       "      <td>0.001</td>\n",
       "      <td>2</td>\n",
       "    </tr>\n",
       "    <tr>\n",
       "      <th>82</th>\n",
       "      <td>Public Enemy</td>\n",
       "      <td>hiphop</td>\n",
       "      <td>He Got Game</td>\n",
       "      <td>If man is the father then the son \\n Is the ce...</td>\n",
       "      <td>0.268</td>\n",
       "      <td>0.464</td>\n",
       "      <td>0.001</td>\n",
       "      <td>0.137</td>\n",
       "      <td>0.131</td>\n",
       "      <td>2</td>\n",
       "    </tr>\n",
       "    <tr>\n",
       "      <th>30</th>\n",
       "      <td>Rage Against The Machine</td>\n",
       "      <td>rock</td>\n",
       "      <td>Testify</td>\n",
       "      <td>Unfortunately, we are not licensed to display ...</td>\n",
       "      <td>0.017</td>\n",
       "      <td>0.017</td>\n",
       "      <td>0.017</td>\n",
       "      <td>0.933</td>\n",
       "      <td>0.017</td>\n",
       "      <td>4</td>\n",
       "    </tr>\n",
       "    <tr>\n",
       "      <th>18</th>\n",
       "      <td>Bob Dylan</td>\n",
       "      <td>rock</td>\n",
       "      <td>A Hard Rain's A-Gonna Fall</td>\n",
       "      <td>Oh, where have you been \\n My blue-eyed son? \\...</td>\n",
       "      <td>0.323</td>\n",
       "      <td>0.001</td>\n",
       "      <td>0.386</td>\n",
       "      <td>0.023</td>\n",
       "      <td>0.267</td>\n",
       "      <td>3</td>\n",
       "    </tr>\n",
       "    <tr>\n",
       "      <th>61</th>\n",
       "      <td>Weezer</td>\n",
       "      <td>rock</td>\n",
       "      <td>Thought I Knew</td>\n",
       "      <td>Sorry about my past life \\n Sorry but we just ...</td>\n",
       "      <td>0.992</td>\n",
       "      <td>0.002</td>\n",
       "      <td>0.002</td>\n",
       "      <td>0.002</td>\n",
       "      <td>0.002</td>\n",
       "      <td>1</td>\n",
       "    </tr>\n",
       "    <tr>\n",
       "      <th>133</th>\n",
       "      <td>Nicki Minaj</td>\n",
       "      <td>pop</td>\n",
       "      <td>Inspirations (Outro)</td>\n",
       "      <td>Capleton, Beenie Man, Mavado, uh oh \\n Sizzla ...</td>\n",
       "      <td>0.096</td>\n",
       "      <td>0.428</td>\n",
       "      <td>0.003</td>\n",
       "      <td>0.189</td>\n",
       "      <td>0.284</td>\n",
       "      <td>2</td>\n",
       "    </tr>\n",
       "    <tr>\n",
       "      <th>79</th>\n",
       "      <td>Rush</td>\n",
       "      <td>rock</td>\n",
       "      <td>Turn The Page</td>\n",
       "      <td>Nothing can survive in a vacuum \\n No one can ...</td>\n",
       "      <td>0.273</td>\n",
       "      <td>0.001</td>\n",
       "      <td>0.526</td>\n",
       "      <td>0.143</td>\n",
       "      <td>0.056</td>\n",
       "      <td>3</td>\n",
       "    </tr>\n",
       "    <tr>\n",
       "      <th>12</th>\n",
       "      <td>Faith No More</td>\n",
       "      <td>rock</td>\n",
       "      <td>Death March</td>\n",
       "      <td>Washington boulevard, eastbound \\n Thirty thre...</td>\n",
       "      <td>0.511</td>\n",
       "      <td>0.157</td>\n",
       "      <td>0.003</td>\n",
       "      <td>0.003</td>\n",
       "      <td>0.326</td>\n",
       "      <td>1</td>\n",
       "    </tr>\n",
       "    <tr>\n",
       "      <th>244</th>\n",
       "      <td>Michael Jackson</td>\n",
       "      <td>pop</td>\n",
       "      <td>Lost Children</td>\n",
       "      <td>We pray for our fathers, pray for our mothers ...</td>\n",
       "      <td>0.657</td>\n",
       "      <td>0.003</td>\n",
       "      <td>0.003</td>\n",
       "      <td>0.003</td>\n",
       "      <td>0.335</td>\n",
       "      <td>1</td>\n",
       "    </tr>\n",
       "    <tr>\n",
       "      <th>58</th>\n",
       "      <td>Iron Maiden</td>\n",
       "      <td>metal</td>\n",
       "      <td>Stranger In A Strange Land</td>\n",
       "      <td>Was many years ago that I left home and came t...</td>\n",
       "      <td>0.001</td>\n",
       "      <td>0.001</td>\n",
       "      <td>0.233</td>\n",
       "      <td>0.001</td>\n",
       "      <td>0.763</td>\n",
       "      <td>5</td>\n",
       "    </tr>\n",
       "    <tr>\n",
       "      <th>220</th>\n",
       "      <td>Ghostface Killah</td>\n",
       "      <td>hiphop</td>\n",
       "      <td>Gatz</td>\n",
       "      <td>(Intro: Ghostface Killah) \\n Aiyo, come on duk...</td>\n",
       "      <td>0.001</td>\n",
       "      <td>0.996</td>\n",
       "      <td>0.001</td>\n",
       "      <td>0.001</td>\n",
       "      <td>0.001</td>\n",
       "      <td>2</td>\n",
       "    </tr>\n",
       "    <tr>\n",
       "      <th>26</th>\n",
       "      <td>Public Enemy</td>\n",
       "      <td>hiphop</td>\n",
       "      <td>Fight The Power</td>\n",
       "      <td>Yet our best trained, best educated, best equi...</td>\n",
       "      <td>0.244</td>\n",
       "      <td>0.505</td>\n",
       "      <td>0.001</td>\n",
       "      <td>0.001</td>\n",
       "      <td>0.250</td>\n",
       "      <td>2</td>\n",
       "    </tr>\n",
       "    <tr>\n",
       "      <th>8</th>\n",
       "      <td>Killer Mike</td>\n",
       "      <td>hiphop</td>\n",
       "      <td>U Know I Love You</td>\n",
       "      <td>Whoa, baby, whoa, baby, whoa, baby \\n La la la...</td>\n",
       "      <td>0.408</td>\n",
       "      <td>0.430</td>\n",
       "      <td>0.001</td>\n",
       "      <td>0.001</td>\n",
       "      <td>0.160</td>\n",
       "      <td>2</td>\n",
       "    </tr>\n",
       "    <tr>\n",
       "      <th>2</th>\n",
       "      <td>Pink Floyd</td>\n",
       "      <td>rock</td>\n",
       "      <td>Matilda Mother</td>\n",
       "      <td>There was a king who ruled the land \\n His maj...</td>\n",
       "      <td>0.102</td>\n",
       "      <td>0.003</td>\n",
       "      <td>0.461</td>\n",
       "      <td>0.003</td>\n",
       "      <td>0.431</td>\n",
       "      <td>3</td>\n",
       "    </tr>\n",
       "    <tr>\n",
       "      <th>171</th>\n",
       "      <td>Kanye West</td>\n",
       "      <td>hiphop</td>\n",
       "      <td>Half Price</td>\n",
       "      <td>(Intro: woman (Kanye West)) \\n (First of all, ...</td>\n",
       "      <td>0.156</td>\n",
       "      <td>0.841</td>\n",
       "      <td>0.001</td>\n",
       "      <td>0.001</td>\n",
       "      <td>0.001</td>\n",
       "      <td>2</td>\n",
       "    </tr>\n",
       "    <tr>\n",
       "      <th>26</th>\n",
       "      <td>Michael Jackson</td>\n",
       "      <td>pop</td>\n",
       "      <td>Euphoria</td>\n",
       "      <td>E-U-P-H-O-R-I-A \\n That's the new word for tod...</td>\n",
       "      <td>0.713</td>\n",
       "      <td>0.003</td>\n",
       "      <td>0.003</td>\n",
       "      <td>0.003</td>\n",
       "      <td>0.279</td>\n",
       "      <td>1</td>\n",
       "    </tr>\n",
       "    <tr>\n",
       "      <th>21</th>\n",
       "      <td>Tool</td>\n",
       "      <td>metal</td>\n",
       "      <td>Message To Harry Manback</td>\n",
       "      <td>Fuck off, fer- fer... you piece of shit \\n Fig...</td>\n",
       "      <td>0.011</td>\n",
       "      <td>0.344</td>\n",
       "      <td>0.002</td>\n",
       "      <td>0.642</td>\n",
       "      <td>0.002</td>\n",
       "      <td>4</td>\n",
       "    </tr>\n",
       "    <tr>\n",
       "      <th>139</th>\n",
       "      <td>Public Enemy</td>\n",
       "      <td>hiphop</td>\n",
       "      <td>Hard Truth Soldiers</td>\n",
       "      <td>(Verse 1: Chuck D) \\n Bring that beat back, we...</td>\n",
       "      <td>0.001</td>\n",
       "      <td>0.896</td>\n",
       "      <td>0.001</td>\n",
       "      <td>0.001</td>\n",
       "      <td>0.102</td>\n",
       "      <td>2</td>\n",
       "    </tr>\n",
       "    <tr>\n",
       "      <th>43</th>\n",
       "      <td>Kiss</td>\n",
       "      <td>rock</td>\n",
       "      <td>Baby Driver</td>\n",
       "      <td>Go baby driver \\n Been drivin' on down the roa...</td>\n",
       "      <td>0.994</td>\n",
       "      <td>0.001</td>\n",
       "      <td>0.001</td>\n",
       "      <td>0.001</td>\n",
       "      <td>0.001</td>\n",
       "      <td>1</td>\n",
       "    </tr>\n",
       "    <tr>\n",
       "      <th>45</th>\n",
       "      <td>The Smiths</td>\n",
       "      <td>rock</td>\n",
       "      <td>Asleep</td>\n",
       "      <td>Sing me to sleep, sing me to sleep \\n I'm tire...</td>\n",
       "      <td>0.986</td>\n",
       "      <td>0.003</td>\n",
       "      <td>0.003</td>\n",
       "      <td>0.003</td>\n",
       "      <td>0.003</td>\n",
       "      <td>1</td>\n",
       "    </tr>\n",
       "    <tr>\n",
       "      <th>97</th>\n",
       "      <td>Bruce Springsteen</td>\n",
       "      <td>rock</td>\n",
       "      <td>Chimes Of Freedom</td>\n",
       "      <td>Well far between sundown's finish and midnight...</td>\n",
       "      <td>0.001</td>\n",
       "      <td>0.025</td>\n",
       "      <td>0.066</td>\n",
       "      <td>0.001</td>\n",
       "      <td>0.907</td>\n",
       "      <td>5</td>\n",
       "    </tr>\n",
       "    <tr>\n",
       "      <th>157</th>\n",
       "      <td>Mobb Deep</td>\n",
       "      <td>hiphop</td>\n",
       "      <td>Block Life</td>\n",
       "      <td>(Feat. ACD) \\n (Verse 1: Prodigy) \\n Yo, my li...</td>\n",
       "      <td>0.001</td>\n",
       "      <td>0.997</td>\n",
       "      <td>0.001</td>\n",
       "      <td>0.001</td>\n",
       "      <td>0.001</td>\n",
       "      <td>2</td>\n",
       "    </tr>\n",
       "    <tr>\n",
       "      <th>167</th>\n",
       "      <td>Nicki Minaj</td>\n",
       "      <td>pop</td>\n",
       "      <td>Dope Dealer</td>\n",
       "      <td>There's three types of niggas in life \\n Nigga...</td>\n",
       "      <td>0.001</td>\n",
       "      <td>0.843</td>\n",
       "      <td>0.001</td>\n",
       "      <td>0.155</td>\n",
       "      <td>0.001</td>\n",
       "      <td>2</td>\n",
       "    </tr>\n",
       "    <tr>\n",
       "      <th>279</th>\n",
       "      <td>Bruce Springsteen</td>\n",
       "      <td>rock</td>\n",
       "      <td>Turn! Turn! Turn!</td>\n",
       "      <td>To everything \\n Turn, Turn, Turn \\n There is ...</td>\n",
       "      <td>0.670</td>\n",
       "      <td>0.002</td>\n",
       "      <td>0.002</td>\n",
       "      <td>0.002</td>\n",
       "      <td>0.324</td>\n",
       "      <td>1</td>\n",
       "    </tr>\n",
       "    <tr>\n",
       "      <th>115</th>\n",
       "      <td>Kendrick Lamar</td>\n",
       "      <td>hiphop</td>\n",
       "      <td>I Hate U</td>\n",
       "      <td>Let me start off this letter saying I don't li...</td>\n",
       "      <td>0.536</td>\n",
       "      <td>0.289</td>\n",
       "      <td>0.001</td>\n",
       "      <td>0.035</td>\n",
       "      <td>0.139</td>\n",
       "      <td>1</td>\n",
       "    </tr>\n",
       "    <tr>\n",
       "      <th>113</th>\n",
       "      <td>Anthrax</td>\n",
       "      <td>metal</td>\n",
       "      <td>Cadillac Rock Box</td>\n",
       "      <td>\"Yo G money, this ciao here ringin' you from t...</td>\n",
       "      <td>0.140</td>\n",
       "      <td>0.572</td>\n",
       "      <td>0.242</td>\n",
       "      <td>0.002</td>\n",
       "      <td>0.044</td>\n",
       "      <td>2</td>\n",
       "    </tr>\n",
       "    <tr>\n",
       "      <th>79</th>\n",
       "      <td>Bob Dylan</td>\n",
       "      <td>rock</td>\n",
       "      <td>Obviously 5 Believers</td>\n",
       "      <td>Early in the mornin', early in the mornin' \\n ...</td>\n",
       "      <td>0.728</td>\n",
       "      <td>0.002</td>\n",
       "      <td>0.265</td>\n",
       "      <td>0.002</td>\n",
       "      <td>0.002</td>\n",
       "      <td>1</td>\n",
       "    </tr>\n",
       "    <tr>\n",
       "      <th>51</th>\n",
       "      <td>The Beatles</td>\n",
       "      <td>rock</td>\n",
       "      <td>Every Little Thing</td>\n",
       "      <td>When I'm walking beside her \\n People tell me ...</td>\n",
       "      <td>0.987</td>\n",
       "      <td>0.003</td>\n",
       "      <td>0.003</td>\n",
       "      <td>0.003</td>\n",
       "      <td>0.003</td>\n",
       "      <td>1</td>\n",
       "    </tr>\n",
       "    <tr>\n",
       "      <th>140</th>\n",
       "      <td>The Beatles</td>\n",
       "      <td>rock</td>\n",
       "      <td>Everybody's Got Something To Hide Except Me An...</td>\n",
       "      <td>Come on, come on \\n Come on, come on \\n Come o...</td>\n",
       "      <td>0.991</td>\n",
       "      <td>0.002</td>\n",
       "      <td>0.002</td>\n",
       "      <td>0.002</td>\n",
       "      <td>0.002</td>\n",
       "      <td>1</td>\n",
       "    </tr>\n",
       "    <tr>\n",
       "      <th>164</th>\n",
       "      <td>Mobb Deep</td>\n",
       "      <td>hiphop</td>\n",
       "      <td>Crazy 8S</td>\n",
       "      <td>* Send corrections to the typist \\n (Lake Luci...</td>\n",
       "      <td>0.094</td>\n",
       "      <td>0.904</td>\n",
       "      <td>0.000</td>\n",
       "      <td>0.000</td>\n",
       "      <td>0.000</td>\n",
       "      <td>2</td>\n",
       "    </tr>\n",
       "    <tr>\n",
       "      <th>10</th>\n",
       "      <td>Britney Spears</td>\n",
       "      <td>pop</td>\n",
       "      <td>E-Mail My Heart</td>\n",
       "      <td>Forever... \\n It's been hours, seems like days...</td>\n",
       "      <td>0.993</td>\n",
       "      <td>0.002</td>\n",
       "      <td>0.002</td>\n",
       "      <td>0.002</td>\n",
       "      <td>0.002</td>\n",
       "      <td>1</td>\n",
       "    </tr>\n",
       "    <tr>\n",
       "      <th>76</th>\n",
       "      <td>Iron Maiden</td>\n",
       "      <td>metal</td>\n",
       "      <td>Holy Smoke</td>\n",
       "      <td>Believe in me and send no money \\n I died on t...</td>\n",
       "      <td>0.215</td>\n",
       "      <td>0.234</td>\n",
       "      <td>0.241</td>\n",
       "      <td>0.001</td>\n",
       "      <td>0.308</td>\n",
       "      <td>5</td>\n",
       "    </tr>\n",
       "    <tr>\n",
       "      <th>19</th>\n",
       "      <td>Tool</td>\n",
       "      <td>metal</td>\n",
       "      <td>H.</td>\n",
       "      <td>What's coming through is alive \\n What's holdi...</td>\n",
       "      <td>0.198</td>\n",
       "      <td>0.002</td>\n",
       "      <td>0.002</td>\n",
       "      <td>0.159</td>\n",
       "      <td>0.640</td>\n",
       "      <td>5</td>\n",
       "    </tr>\n",
       "    <tr>\n",
       "      <th>52</th>\n",
       "      <td>Meshuggah</td>\n",
       "      <td>metal</td>\n",
       "      <td>Sum</td>\n",
       "      <td>Vision will blind. Severance ties. Median am I...</td>\n",
       "      <td>0.026</td>\n",
       "      <td>0.025</td>\n",
       "      <td>0.025</td>\n",
       "      <td>0.026</td>\n",
       "      <td>0.899</td>\n",
       "      <td>5</td>\n",
       "    </tr>\n",
       "    <tr>\n",
       "      <th>268</th>\n",
       "      <td>Michael Jackson</td>\n",
       "      <td>pop</td>\n",
       "      <td>Twelve O'Clock/Do You Know Where Your Children...</td>\n",
       "      <td>(INTRO TO SONG ... real version doesn't have i...</td>\n",
       "      <td>0.265</td>\n",
       "      <td>0.269</td>\n",
       "      <td>0.465</td>\n",
       "      <td>0.001</td>\n",
       "      <td>0.001</td>\n",
       "      <td>3</td>\n",
       "    </tr>\n",
       "    <tr>\n",
       "      <th>121</th>\n",
       "      <td>Pink Floyd</td>\n",
       "      <td>rock</td>\n",
       "      <td>Take It Back</td>\n",
       "      <td>Her love rains down on me easy as the breeze \\...</td>\n",
       "      <td>0.590</td>\n",
       "      <td>0.003</td>\n",
       "      <td>0.003</td>\n",
       "      <td>0.003</td>\n",
       "      <td>0.400</td>\n",
       "      <td>1</td>\n",
       "    </tr>\n",
       "    <tr>\n",
       "      <th>46</th>\n",
       "      <td>Opeth</td>\n",
       "      <td>metal</td>\n",
       "      <td>Hope Leaves</td>\n",
       "      <td>In the corner \\n Beside my window \\n There han...</td>\n",
       "      <td>0.360</td>\n",
       "      <td>0.004</td>\n",
       "      <td>0.004</td>\n",
       "      <td>0.004</td>\n",
       "      <td>0.629</td>\n",
       "      <td>5</td>\n",
       "    </tr>\n",
       "    <tr>\n",
       "      <th>81</th>\n",
       "      <td>Raekwon</td>\n",
       "      <td>hiphop</td>\n",
       "      <td>Catalina</td>\n",
       "      <td>Where is he? \\n Concentrating on the job \\n Do...</td>\n",
       "      <td>0.029</td>\n",
       "      <td>0.774</td>\n",
       "      <td>0.195</td>\n",
       "      <td>0.001</td>\n",
       "      <td>0.001</td>\n",
       "      <td>2</td>\n",
       "    </tr>\n",
       "    <tr>\n",
       "      <th>13</th>\n",
       "      <td>Anthrax</td>\n",
       "      <td>metal</td>\n",
       "      <td>The Enemy</td>\n",
       "      <td>The plans, of a race gone mad \\n A final solut...</td>\n",
       "      <td>0.121</td>\n",
       "      <td>0.002</td>\n",
       "      <td>0.002</td>\n",
       "      <td>0.002</td>\n",
       "      <td>0.874</td>\n",
       "      <td>5</td>\n",
       "    </tr>\n",
       "    <tr>\n",
       "      <th>217</th>\n",
       "      <td>Bob Dylan</td>\n",
       "      <td>rock</td>\n",
       "      <td>A Satisfied Mind</td>\n",
       "      <td>How many times have you heard someone say \\n \"...</td>\n",
       "      <td>0.910</td>\n",
       "      <td>0.003</td>\n",
       "      <td>0.003</td>\n",
       "      <td>0.080</td>\n",
       "      <td>0.003</td>\n",
       "      <td>1</td>\n",
       "    </tr>\n",
       "    <tr>\n",
       "      <th>105</th>\n",
       "      <td>Public Enemy</td>\n",
       "      <td>hiphop</td>\n",
       "      <td>What What</td>\n",
       "      <td>When flav starts to get busy \\n Grabbin the mi...</td>\n",
       "      <td>0.157</td>\n",
       "      <td>0.839</td>\n",
       "      <td>0.001</td>\n",
       "      <td>0.001</td>\n",
       "      <td>0.001</td>\n",
       "      <td>2</td>\n",
       "    </tr>\n",
       "    <tr>\n",
       "      <th>99</th>\n",
       "      <td>Mos Def</td>\n",
       "      <td>hiphop</td>\n",
       "      <td>K. O. S. (Determination)</td>\n",
       "      <td>(Talib Kweli) \\n So many emcees focusing on bl...</td>\n",
       "      <td>0.377</td>\n",
       "      <td>0.340</td>\n",
       "      <td>0.001</td>\n",
       "      <td>0.001</td>\n",
       "      <td>0.282</td>\n",
       "      <td>1</td>\n",
       "    </tr>\n",
       "    <tr>\n",
       "      <th>392</th>\n",
       "      <td>Eminem</td>\n",
       "      <td>hiphop</td>\n",
       "      <td>Nuttin' To Do (Clean Radio Version)</td>\n",
       "      <td>[Royce] What? Uhh.. \\n [Em] The Bad.. \\n [Royc...</td>\n",
       "      <td>0.014</td>\n",
       "      <td>0.985</td>\n",
       "      <td>0.000</td>\n",
       "      <td>0.000</td>\n",
       "      <td>0.000</td>\n",
       "      <td>2</td>\n",
       "    </tr>\n",
       "    <tr>\n",
       "      <th>207</th>\n",
       "      <td>The Smashing Pumpkins</td>\n",
       "      <td>rock</td>\n",
       "      <td>Violet Rays</td>\n",
       "      <td>Faithless moors \\n Pulling up your oars \\n Fro...</td>\n",
       "      <td>0.643</td>\n",
       "      <td>0.004</td>\n",
       "      <td>0.004</td>\n",
       "      <td>0.004</td>\n",
       "      <td>0.346</td>\n",
       "      <td>1</td>\n",
       "    </tr>\n",
       "    <tr>\n",
       "      <th>0</th>\n",
       "      <td>De La Soul</td>\n",
       "      <td>hiphop</td>\n",
       "      <td>Jenifa Taught Me (Derwin's Revenge)</td>\n",
       "      <td>DOVE: \\n Access to her code \\n Lovestruck was ...</td>\n",
       "      <td>0.001</td>\n",
       "      <td>0.001</td>\n",
       "      <td>0.846</td>\n",
       "      <td>0.150</td>\n",
       "      <td>0.001</td>\n",
       "      <td>3</td>\n",
       "    </tr>\n",
       "    <tr>\n",
       "      <th>316</th>\n",
       "      <td>Bob Dylan</td>\n",
       "      <td>rock</td>\n",
       "      <td>Dirt Road Blues</td>\n",
       "      <td>Gon' walk down that dirt road till someone let...</td>\n",
       "      <td>0.608</td>\n",
       "      <td>0.130</td>\n",
       "      <td>0.010</td>\n",
       "      <td>0.002</td>\n",
       "      <td>0.250</td>\n",
       "      <td>1</td>\n",
       "    </tr>\n",
       "    <tr>\n",
       "      <th>42</th>\n",
       "      <td>The Doors</td>\n",
       "      <td>rock</td>\n",
       "      <td>Shaman's Blues</td>\n",
       "      <td>Unfortunately, we are not licensed to display ...</td>\n",
       "      <td>0.017</td>\n",
       "      <td>0.017</td>\n",
       "      <td>0.017</td>\n",
       "      <td>0.933</td>\n",
       "      <td>0.017</td>\n",
       "      <td>4</td>\n",
       "    </tr>\n",
       "    <tr>\n",
       "      <th>52</th>\n",
       "      <td>The Smashing Pumpkins</td>\n",
       "      <td>rock</td>\n",
       "      <td>Cupid De Locke</td>\n",
       "      <td>Cupid hath pulled back his sweetheart's bow \\n...</td>\n",
       "      <td>0.161</td>\n",
       "      <td>0.003</td>\n",
       "      <td>0.097</td>\n",
       "      <td>0.003</td>\n",
       "      <td>0.737</td>\n",
       "      <td>5</td>\n",
       "    </tr>\n",
       "  </tbody>\n",
       "</table>\n",
       "</div>"
      ],
      "text/plain": [
       "                      Artista  Genero  \\\n",
       "170                   Raekwon  hiphop   \n",
       "143                Kanye West  hiphop   \n",
       "111                    Eminem  hiphop   \n",
       "82               Public Enemy  hiphop   \n",
       "30   Rage Against The Machine    rock   \n",
       "18                  Bob Dylan    rock   \n",
       "61                     Weezer    rock   \n",
       "133               Nicki Minaj     pop   \n",
       "79                       Rush    rock   \n",
       "12              Faith No More    rock   \n",
       "244           Michael Jackson     pop   \n",
       "58                Iron Maiden   metal   \n",
       "220          Ghostface Killah  hiphop   \n",
       "26               Public Enemy  hiphop   \n",
       "8                 Killer Mike  hiphop   \n",
       "2                  Pink Floyd    rock   \n",
       "171                Kanye West  hiphop   \n",
       "26            Michael Jackson     pop   \n",
       "21                       Tool   metal   \n",
       "139              Public Enemy  hiphop   \n",
       "43                       Kiss    rock   \n",
       "45                 The Smiths    rock   \n",
       "97          Bruce Springsteen    rock   \n",
       "157                 Mobb Deep  hiphop   \n",
       "167               Nicki Minaj     pop   \n",
       "279         Bruce Springsteen    rock   \n",
       "115            Kendrick Lamar  hiphop   \n",
       "113                   Anthrax   metal   \n",
       "79                  Bob Dylan    rock   \n",
       "51                The Beatles    rock   \n",
       "140               The Beatles    rock   \n",
       "164                 Mobb Deep  hiphop   \n",
       "10             Britney Spears     pop   \n",
       "76                Iron Maiden   metal   \n",
       "19                       Tool   metal   \n",
       "52                  Meshuggah   metal   \n",
       "268           Michael Jackson     pop   \n",
       "121                Pink Floyd    rock   \n",
       "46                      Opeth   metal   \n",
       "81                    Raekwon  hiphop   \n",
       "13                    Anthrax   metal   \n",
       "217                 Bob Dylan    rock   \n",
       "105              Public Enemy  hiphop   \n",
       "99                    Mos Def  hiphop   \n",
       "392                    Eminem  hiphop   \n",
       "207     The Smashing Pumpkins    rock   \n",
       "0                  De La Soul  hiphop   \n",
       "316                 Bob Dylan    rock   \n",
       "42                  The Doors    rock   \n",
       "52      The Smashing Pumpkins    rock   \n",
       "\n",
       "                                               Cancion  \\\n",
       "170                                     The Red Carpet   \n",
       "143                                    Don't Look Down   \n",
       "111                                          The Sauce   \n",
       "82                                         He Got Game   \n",
       "30                                             Testify   \n",
       "18                          A Hard Rain's A-Gonna Fall   \n",
       "61                                      Thought I Knew   \n",
       "133                               Inspirations (Outro)   \n",
       "79                                       Turn The Page   \n",
       "12                                         Death March   \n",
       "244                                      Lost Children   \n",
       "58                          Stranger In A Strange Land   \n",
       "220                                               Gatz   \n",
       "26                                     Fight The Power   \n",
       "8                                    U Know I Love You   \n",
       "2                                       Matilda Mother   \n",
       "171                                         Half Price   \n",
       "26                                            Euphoria   \n",
       "21                            Message To Harry Manback   \n",
       "139                                Hard Truth Soldiers   \n",
       "43                                         Baby Driver   \n",
       "45                                              Asleep   \n",
       "97                                   Chimes Of Freedom   \n",
       "157                                         Block Life   \n",
       "167                                        Dope Dealer   \n",
       "279                                  Turn! Turn! Turn!   \n",
       "115                                           I Hate U   \n",
       "113                                  Cadillac Rock Box   \n",
       "79                               Obviously 5 Believers   \n",
       "51                                  Every Little Thing   \n",
       "140  Everybody's Got Something To Hide Except Me An...   \n",
       "164                                           Crazy 8S   \n",
       "10                                     E-Mail My Heart   \n",
       "76                                          Holy Smoke   \n",
       "19                                                  H.   \n",
       "52                                                 Sum   \n",
       "268  Twelve O'Clock/Do You Know Where Your Children...   \n",
       "121                                       Take It Back   \n",
       "46                                         Hope Leaves   \n",
       "81                                            Catalina   \n",
       "13                                           The Enemy   \n",
       "217                                   A Satisfied Mind   \n",
       "105                                          What What   \n",
       "99                            K. O. S. (Determination)   \n",
       "392                Nuttin' To Do (Clean Radio Version)   \n",
       "207                                        Violet Rays   \n",
       "0                  Jenifa Taught Me (Derwin's Revenge)   \n",
       "316                                    Dirt Road Blues   \n",
       "42                                      Shaman's Blues   \n",
       "52                                      Cupid De Locke   \n",
       "\n",
       "                                                 Letra   T: 1   T: 2   T: 3  \\\n",
       "170  I set it off in the sunny distance, no days ex...  0.221  0.581  0.001   \n",
       "143  (Mos Def) \\n Don't look down, it's an impossib...  0.375  0.255  0.160   \n",
       "111  It's all bad now man, it's all bad \\n It's all...  0.215  0.783  0.001   \n",
       "82   If man is the father then the son \\n Is the ce...  0.268  0.464  0.001   \n",
       "30   Unfortunately, we are not licensed to display ...  0.017  0.017  0.017   \n",
       "18   Oh, where have you been \\n My blue-eyed son? \\...  0.323  0.001  0.386   \n",
       "61   Sorry about my past life \\n Sorry but we just ...  0.992  0.002  0.002   \n",
       "133  Capleton, Beenie Man, Mavado, uh oh \\n Sizzla ...  0.096  0.428  0.003   \n",
       "79   Nothing can survive in a vacuum \\n No one can ...  0.273  0.001  0.526   \n",
       "12   Washington boulevard, eastbound \\n Thirty thre...  0.511  0.157  0.003   \n",
       "244  We pray for our fathers, pray for our mothers ...  0.657  0.003  0.003   \n",
       "58   Was many years ago that I left home and came t...  0.001  0.001  0.233   \n",
       "220  (Intro: Ghostface Killah) \\n Aiyo, come on duk...  0.001  0.996  0.001   \n",
       "26   Yet our best trained, best educated, best equi...  0.244  0.505  0.001   \n",
       "8    Whoa, baby, whoa, baby, whoa, baby \\n La la la...  0.408  0.430  0.001   \n",
       "2    There was a king who ruled the land \\n His maj...  0.102  0.003  0.461   \n",
       "171  (Intro: woman (Kanye West)) \\n (First of all, ...  0.156  0.841  0.001   \n",
       "26   E-U-P-H-O-R-I-A \\n That's the new word for tod...  0.713  0.003  0.003   \n",
       "21   Fuck off, fer- fer... you piece of shit \\n Fig...  0.011  0.344  0.002   \n",
       "139  (Verse 1: Chuck D) \\n Bring that beat back, we...  0.001  0.896  0.001   \n",
       "43   Go baby driver \\n Been drivin' on down the roa...  0.994  0.001  0.001   \n",
       "45   Sing me to sleep, sing me to sleep \\n I'm tire...  0.986  0.003  0.003   \n",
       "97   Well far between sundown's finish and midnight...  0.001  0.025  0.066   \n",
       "157  (Feat. ACD) \\n (Verse 1: Prodigy) \\n Yo, my li...  0.001  0.997  0.001   \n",
       "167  There's three types of niggas in life \\n Nigga...  0.001  0.843  0.001   \n",
       "279  To everything \\n Turn, Turn, Turn \\n There is ...  0.670  0.002  0.002   \n",
       "115  Let me start off this letter saying I don't li...  0.536  0.289  0.001   \n",
       "113  \"Yo G money, this ciao here ringin' you from t...  0.140  0.572  0.242   \n",
       "79   Early in the mornin', early in the mornin' \\n ...  0.728  0.002  0.265   \n",
       "51   When I'm walking beside her \\n People tell me ...  0.987  0.003  0.003   \n",
       "140  Come on, come on \\n Come on, come on \\n Come o...  0.991  0.002  0.002   \n",
       "164  * Send corrections to the typist \\n (Lake Luci...  0.094  0.904  0.000   \n",
       "10   Forever... \\n It's been hours, seems like days...  0.993  0.002  0.002   \n",
       "76   Believe in me and send no money \\n I died on t...  0.215  0.234  0.241   \n",
       "19   What's coming through is alive \\n What's holdi...  0.198  0.002  0.002   \n",
       "52   Vision will blind. Severance ties. Median am I...  0.026  0.025  0.025   \n",
       "268  (INTRO TO SONG ... real version doesn't have i...  0.265  0.269  0.465   \n",
       "121  Her love rains down on me easy as the breeze \\...  0.590  0.003  0.003   \n",
       "46   In the corner \\n Beside my window \\n There han...  0.360  0.004  0.004   \n",
       "81   Where is he? \\n Concentrating on the job \\n Do...  0.029  0.774  0.195   \n",
       "13   The plans, of a race gone mad \\n A final solut...  0.121  0.002  0.002   \n",
       "217  How many times have you heard someone say \\n \"...  0.910  0.003  0.003   \n",
       "105  When flav starts to get busy \\n Grabbin the mi...  0.157  0.839  0.001   \n",
       "99   (Talib Kweli) \\n So many emcees focusing on bl...  0.377  0.340  0.001   \n",
       "392  [Royce] What? Uhh.. \\n [Em] The Bad.. \\n [Royc...  0.014  0.985  0.000   \n",
       "207  Faithless moors \\n Pulling up your oars \\n Fro...  0.643  0.004  0.004   \n",
       "0    DOVE: \\n Access to her code \\n Lovestruck was ...  0.001  0.001  0.846   \n",
       "316  Gon' walk down that dirt road till someone let...  0.608  0.130  0.010   \n",
       "42   Unfortunately, we are not licensed to display ...  0.017  0.017  0.017   \n",
       "52   Cupid hath pulled back his sweetheart's bow \\n...  0.161  0.003  0.097   \n",
       "\n",
       "      T: 4   T: 5  highest_topic  \n",
       "170  0.001  0.196              2  \n",
       "143  0.104  0.106              1  \n",
       "111  0.001  0.001              2  \n",
       "82   0.137  0.131              2  \n",
       "30   0.933  0.017              4  \n",
       "18   0.023  0.267              3  \n",
       "61   0.002  0.002              1  \n",
       "133  0.189  0.284              2  \n",
       "79   0.143  0.056              3  \n",
       "12   0.003  0.326              1  \n",
       "244  0.003  0.335              1  \n",
       "58   0.001  0.763              5  \n",
       "220  0.001  0.001              2  \n",
       "26   0.001  0.250              2  \n",
       "8    0.001  0.160              2  \n",
       "2    0.003  0.431              3  \n",
       "171  0.001  0.001              2  \n",
       "26   0.003  0.279              1  \n",
       "21   0.642  0.002              4  \n",
       "139  0.001  0.102              2  \n",
       "43   0.001  0.001              1  \n",
       "45   0.003  0.003              1  \n",
       "97   0.001  0.907              5  \n",
       "157  0.001  0.001              2  \n",
       "167  0.155  0.001              2  \n",
       "279  0.002  0.324              1  \n",
       "115  0.035  0.139              1  \n",
       "113  0.002  0.044              2  \n",
       "79   0.002  0.002              1  \n",
       "51   0.003  0.003              1  \n",
       "140  0.002  0.002              1  \n",
       "164  0.000  0.000              2  \n",
       "10   0.002  0.002              1  \n",
       "76   0.001  0.308              5  \n",
       "19   0.159  0.640              5  \n",
       "52   0.026  0.899              5  \n",
       "268  0.001  0.001              3  \n",
       "121  0.003  0.400              1  \n",
       "46   0.004  0.629              5  \n",
       "81   0.001  0.001              2  \n",
       "13   0.002  0.874              5  \n",
       "217  0.080  0.003              1  \n",
       "105  0.001  0.001              2  \n",
       "99   0.001  0.282              1  \n",
       "392  0.000  0.000              2  \n",
       "207  0.004  0.346              1  \n",
       "0    0.150  0.001              3  \n",
       "316  0.002  0.250              1  \n",
       "42   0.933  0.017              4  \n",
       "52   0.003  0.737              5  "
      ]
     },
     "execution_count": 26,
     "metadata": {},
     "output_type": "execute_result"
    }
   ],
   "source": [
    "concatenated_df.sample(50)"
   ]
  },
  {
   "cell_type": "code",
   "execution_count": 27,
   "metadata": {},
   "outputs": [
    {
     "data": {
      "text/html": [
       "<div>\n",
       "<style scoped>\n",
       "    .dataframe tbody tr th:only-of-type {\n",
       "        vertical-align: middle;\n",
       "    }\n",
       "\n",
       "    .dataframe tbody tr th {\n",
       "        vertical-align: top;\n",
       "    }\n",
       "\n",
       "    .dataframe thead th {\n",
       "        text-align: right;\n",
       "    }\n",
       "</style>\n",
       "<table border=\"1\" class=\"dataframe\">\n",
       "  <thead>\n",
       "    <tr style=\"text-align: right;\">\n",
       "      <th></th>\n",
       "      <th>Artista</th>\n",
       "      <th>Genero</th>\n",
       "      <th>Cancion</th>\n",
       "      <th>Letra</th>\n",
       "      <th>T: 1</th>\n",
       "      <th>T: 2</th>\n",
       "      <th>T: 3</th>\n",
       "      <th>T: 4</th>\n",
       "      <th>T: 5</th>\n",
       "      <th>highest_topic</th>\n",
       "    </tr>\n",
       "  </thead>\n",
       "  <tbody>\n",
       "    <tr>\n",
       "      <th>246</th>\n",
       "      <td>Weezer</td>\n",
       "      <td>rock</td>\n",
       "      <td>Thief, You've Taken All That Was Me</td>\n",
       "      <td>Thief, of silent dreams \\n Of golden scenes \\n...</td>\n",
       "      <td>0.134</td>\n",
       "      <td>0.003</td>\n",
       "      <td>0.357</td>\n",
       "      <td>0.003</td>\n",
       "      <td>0.503</td>\n",
       "      <td>5</td>\n",
       "    </tr>\n",
       "    <tr>\n",
       "      <th>247</th>\n",
       "      <td>Weezer</td>\n",
       "      <td>rock</td>\n",
       "      <td>We Are All In Love</td>\n",
       "      <td>When your out with your friends \\n In your new...</td>\n",
       "      <td>0.826</td>\n",
       "      <td>0.048</td>\n",
       "      <td>0.120</td>\n",
       "      <td>0.002</td>\n",
       "      <td>0.002</td>\n",
       "      <td>1</td>\n",
       "    </tr>\n",
       "    <tr>\n",
       "      <th>248</th>\n",
       "      <td>Weezer</td>\n",
       "      <td>rock</td>\n",
       "      <td>We Go Together</td>\n",
       "      <td>We go together \\n And that's to stay \\n And in...</td>\n",
       "      <td>0.880</td>\n",
       "      <td>0.005</td>\n",
       "      <td>0.005</td>\n",
       "      <td>0.105</td>\n",
       "      <td>0.005</td>\n",
       "      <td>1</td>\n",
       "    </tr>\n",
       "    <tr>\n",
       "      <th>249</th>\n",
       "      <td>Weezer</td>\n",
       "      <td>rock</td>\n",
       "      <td>What Is This I Find?</td>\n",
       "      <td>[Jonas]: \\n What is this I find? \\n [Wuan]: \\n...</td>\n",
       "      <td>0.907</td>\n",
       "      <td>0.075</td>\n",
       "      <td>0.006</td>\n",
       "      <td>0.006</td>\n",
       "      <td>0.006</td>\n",
       "      <td>1</td>\n",
       "    </tr>\n",
       "    <tr>\n",
       "      <th>250</th>\n",
       "      <td>Weezer</td>\n",
       "      <td>rock</td>\n",
       "      <td>Zep Jamb</td>\n",
       "      <td>Alright \\n Say baby \\n Love me \\n Lay your mon...</td>\n",
       "      <td>0.978</td>\n",
       "      <td>0.006</td>\n",
       "      <td>0.005</td>\n",
       "      <td>0.005</td>\n",
       "      <td>0.006</td>\n",
       "      <td>1</td>\n",
       "    </tr>\n",
       "  </tbody>\n",
       "</table>\n",
       "</div>"
      ],
      "text/plain": [
       "    Artista Genero                              Cancion  \\\n",
       "246  Weezer   rock  Thief, You've Taken All That Was Me   \n",
       "247  Weezer   rock                   We Are All In Love   \n",
       "248  Weezer   rock                       We Go Together   \n",
       "249  Weezer   rock                 What Is This I Find?   \n",
       "250  Weezer   rock                             Zep Jamb   \n",
       "\n",
       "                                                 Letra   T: 1   T: 2   T: 3  \\\n",
       "246  Thief, of silent dreams \\n Of golden scenes \\n...  0.134  0.003  0.357   \n",
       "247  When your out with your friends \\n In your new...  0.826  0.048  0.120   \n",
       "248  We go together \\n And that's to stay \\n And in...  0.880  0.005  0.005   \n",
       "249  [Jonas]: \\n What is this I find? \\n [Wuan]: \\n...  0.907  0.075  0.006   \n",
       "250  Alright \\n Say baby \\n Love me \\n Lay your mon...  0.978  0.006  0.005   \n",
       "\n",
       "      T: 4   T: 5  highest_topic  \n",
       "246  0.003  0.503              5  \n",
       "247  0.002  0.002              1  \n",
       "248  0.105  0.005              1  \n",
       "249  0.006  0.006              1  \n",
       "250  0.005  0.006              1  "
      ]
     },
     "execution_count": 27,
     "metadata": {},
     "output_type": "execute_result"
    }
   ],
   "source": [
    "concatenated_df.tail()"
   ]
  },
  {
   "cell_type": "code",
   "execution_count": 43,
   "metadata": {},
   "outputs": [
    {
     "data": {
      "text/html": [
       "<div>\n",
       "<style scoped>\n",
       "    .dataframe tbody tr th:only-of-type {\n",
       "        vertical-align: middle;\n",
       "    }\n",
       "\n",
       "    .dataframe tbody tr th {\n",
       "        vertical-align: top;\n",
       "    }\n",
       "\n",
       "    .dataframe thead th {\n",
       "        text-align: right;\n",
       "    }\n",
       "</style>\n",
       "<table border=\"1\" class=\"dataframe\">\n",
       "  <thead>\n",
       "    <tr style=\"text-align: right;\">\n",
       "      <th></th>\n",
       "      <th>T: 1</th>\n",
       "      <th>T: 2</th>\n",
       "      <th>T: 3</th>\n",
       "      <th>T: 4</th>\n",
       "      <th>T: 5</th>\n",
       "    </tr>\n",
       "  </thead>\n",
       "  <tbody>\n",
       "    <tr>\n",
       "      <th>0</th>\n",
       "      <td>0.094</td>\n",
       "      <td>0.004</td>\n",
       "      <td>0.089</td>\n",
       "      <td>0.004</td>\n",
       "      <td>0.810</td>\n",
       "    </tr>\n",
       "    <tr>\n",
       "      <th>1</th>\n",
       "      <td>0.004</td>\n",
       "      <td>0.004</td>\n",
       "      <td>0.530</td>\n",
       "      <td>0.004</td>\n",
       "      <td>0.457</td>\n",
       "    </tr>\n",
       "    <tr>\n",
       "      <th>2</th>\n",
       "      <td>0.528</td>\n",
       "      <td>0.002</td>\n",
       "      <td>0.467</td>\n",
       "      <td>0.002</td>\n",
       "      <td>0.002</td>\n",
       "    </tr>\n",
       "    <tr>\n",
       "      <th>3</th>\n",
       "      <td>0.624</td>\n",
       "      <td>0.082</td>\n",
       "      <td>0.003</td>\n",
       "      <td>0.003</td>\n",
       "      <td>0.288</td>\n",
       "    </tr>\n",
       "    <tr>\n",
       "      <th>4</th>\n",
       "      <td>0.174</td>\n",
       "      <td>0.003</td>\n",
       "      <td>0.003</td>\n",
       "      <td>0.003</td>\n",
       "      <td>0.818</td>\n",
       "    </tr>\n",
       "  </tbody>\n",
       "</table>\n",
       "</div>"
      ],
      "text/plain": [
       "    T: 1   T: 2   T: 3   T: 4   T: 5\n",
       "0  0.094  0.004  0.089  0.004  0.810\n",
       "1  0.004  0.004  0.530  0.004  0.457\n",
       "2  0.528  0.002  0.467  0.002  0.002\n",
       "3  0.624  0.082  0.003  0.003  0.288\n",
       "4  0.174  0.003  0.003  0.003  0.818"
      ]
     },
     "execution_count": 43,
     "metadata": {},
     "output_type": "execute_result"
    }
   ],
   "source": [
    "df_corr = concatenated_df.loc[:, 'T: 1': 'T: 5']\n",
    "df_corr.head()"
   ]
  },
  {
   "cell_type": "code",
   "execution_count": 29,
   "metadata": {},
   "outputs": [
    {
     "data": {
      "text/plain": [
       "<AxesSubplot:>"
      ]
     },
     "execution_count": 29,
     "metadata": {},
     "output_type": "execute_result"
    },
    {
     "data": {
      "image/png": "[encoded data removed]",
      "text/plain": [
       "<Figure size 432x288 with 2 Axes>"
      ]
     },
     "metadata": {
      "needs_background": "light"
     },
     "output_type": "display_data"
    }
   ],
   "source": [
    "sns.heatmap(df_corr.corr(), annot=True, cmap='Blues')"
   ]
  },
  {
   "cell_type": "code",
   "execution_count": 30,
   "metadata": {},
   "outputs": [],
   "source": [
    "def grouped_scatterplot(dataframe, x, y, group_by):\n",
    "    '''\n",
    "    grouped_scatterplot: Funcion encargada de mostrar la distribucion segun el agrupamiento\n",
    "    inputs:\n",
    "            dataframe:\n",
    "            x:\n",
    "            y:\n",
    "            group_by:\n",
    "    returns:\n",
    "            scatterplot en subplots\n",
    "            ----------\n",
    "            |   +    |   |\n",
    "            ----------   v\n",
    "    '''\n",
    "    tmp = dataframe\n",
    "    stratify_by = tmp[group_by].unique()\n",
    "    if len(stratify_by) / 2 > 3:\n",
    "        fig, ax = plt.subplots(2, len(stratify_by),sharey=True)\n",
    "    else:\n",
    "        fig, ax = plt.subplots(1, len(stratify_by),sharey=True)\n",
    "    for i, n in enumerate(stratify_by):\n",
    "        tmp_group_plt = tmp[tmp[group_by] == n]\n",
    "        ax[i].plot(tmp_group_plt[x], tmp_group_plt[y], 'o')\n",
    "        ax[i].set_title(n)"
   ]
  },
  {
   "cell_type": "code",
   "execution_count": 31,
   "metadata": {},
   "outputs": [
    {
     "data": {
      "image/png": "[encoded data removed]",
      "text/plain": [
       "<Figure size 432x288 with 4 Axes>"
      ]
     },
     "metadata": {
      "needs_background": "light"
     },
     "output_type": "display_data"
    },
    {
     "data": {
      "image/png": "[encoded data removed]",
      "text/plain": [
       "<Figure size 432x288 with 4 Axes>"
      ]
     },
     "metadata": {
      "needs_background": "light"
     },
     "output_type": "display_data"
    },
    {
     "data": {
      "image/png": "[encoded data removed]",
      "text/plain": [
       "<Figure size 432x288 with 4 Axes>"
      ]
     },
     "metadata": {
      "needs_background": "light"
     },
     "output_type": "display_data"
    },
    {
     "data": {
      "image/png": "[encoded data removed]",
      "text/plain": [
       "<Figure size 432x288 with 4 Axes>"
      ]
     },
     "metadata": {
      "needs_background": "light"
     },
     "output_type": "display_data"
    },
    {
     "data": {
      "image/png": "[encoded data removed]",
      "text/plain": [
       "<Figure size 432x288 with 4 Axes>"
      ]
     },
     "metadata": {
      "needs_background": "light"
     },
     "output_type": "display_data"
    }
   ],
   "source": [
    "list_name = ['T: 1', 'T: 2', 'T: 3', 'T: 4', 'T: 5']\n",
    "for i, colname in enumerate(list_name):\n",
    "        grouped_scatterplot(concatenated_df, 'highest_topic', colname, 'Genero')"
   ]
  },
  {
   "cell_type": "code",
   "execution_count": 32,
   "metadata": {},
   "outputs": [],
   "source": [
    "def selec_df_artist(df, artista):\n",
    "        return df[df['Artista'] == artista].loc[:, 'T: 1':'T: 5']"
   ]
  },
  {
   "cell_type": "code",
   "execution_count": 33,
   "metadata": {},
   "outputs": [
    {
     "data": {
      "text/plain": [
       "(251, 5)"
      ]
     },
     "execution_count": 33,
     "metadata": {},
     "output_type": "execute_result"
    }
   ],
   "source": [
    "# extraemos probabilidades de tópicos\n",
    "weezer_df = selec_df_artist(concatenated_df, 'Weezer')\n",
    "weezer_df.shape"
   ]
  },
  {
   "cell_type": "code",
   "execution_count": 41,
   "metadata": {},
   "outputs": [
    {
     "data": {
      "text/html": [
       "<div>\n",
       "<style scoped>\n",
       "    .dataframe tbody tr th:only-of-type {\n",
       "        vertical-align: middle;\n",
       "    }\n",
       "\n",
       "    .dataframe tbody tr th {\n",
       "        vertical-align: top;\n",
       "    }\n",
       "\n",
       "    .dataframe thead th {\n",
       "        text-align: right;\n",
       "    }\n",
       "</style>\n",
       "<table border=\"1\" class=\"dataframe\">\n",
       "  <thead>\n",
       "    <tr style=\"text-align: right;\">\n",
       "      <th></th>\n",
       "      <th>T: 1</th>\n",
       "      <th>T: 2</th>\n",
       "      <th>T: 3</th>\n",
       "      <th>T: 4</th>\n",
       "      <th>T: 5</th>\n",
       "    </tr>\n",
       "  </thead>\n",
       "  <tbody>\n",
       "    <tr>\n",
       "      <th>0</th>\n",
       "      <td>0.017</td>\n",
       "      <td>0.017</td>\n",
       "      <td>0.017</td>\n",
       "      <td>0.933</td>\n",
       "      <td>0.017</td>\n",
       "    </tr>\n",
       "    <tr>\n",
       "      <th>1</th>\n",
       "      <td>0.017</td>\n",
       "      <td>0.017</td>\n",
       "      <td>0.017</td>\n",
       "      <td>0.933</td>\n",
       "      <td>0.017</td>\n",
       "    </tr>\n",
       "    <tr>\n",
       "      <th>2</th>\n",
       "      <td>0.017</td>\n",
       "      <td>0.017</td>\n",
       "      <td>0.017</td>\n",
       "      <td>0.933</td>\n",
       "      <td>0.017</td>\n",
       "    </tr>\n",
       "    <tr>\n",
       "      <th>3</th>\n",
       "      <td>0.017</td>\n",
       "      <td>0.017</td>\n",
       "      <td>0.017</td>\n",
       "      <td>0.933</td>\n",
       "      <td>0.017</td>\n",
       "    </tr>\n",
       "    <tr>\n",
       "      <th>4</th>\n",
       "      <td>0.017</td>\n",
       "      <td>0.017</td>\n",
       "      <td>0.017</td>\n",
       "      <td>0.933</td>\n",
       "      <td>0.017</td>\n",
       "    </tr>\n",
       "    <tr>\n",
       "      <th>...</th>\n",
       "      <td>...</td>\n",
       "      <td>...</td>\n",
       "      <td>...</td>\n",
       "      <td>...</td>\n",
       "      <td>...</td>\n",
       "    </tr>\n",
       "    <tr>\n",
       "      <th>246</th>\n",
       "      <td>0.134</td>\n",
       "      <td>0.003</td>\n",
       "      <td>0.357</td>\n",
       "      <td>0.003</td>\n",
       "      <td>0.503</td>\n",
       "    </tr>\n",
       "    <tr>\n",
       "      <th>247</th>\n",
       "      <td>0.826</td>\n",
       "      <td>0.048</td>\n",
       "      <td>0.120</td>\n",
       "      <td>0.002</td>\n",
       "      <td>0.002</td>\n",
       "    </tr>\n",
       "    <tr>\n",
       "      <th>248</th>\n",
       "      <td>0.880</td>\n",
       "      <td>0.005</td>\n",
       "      <td>0.005</td>\n",
       "      <td>0.105</td>\n",
       "      <td>0.005</td>\n",
       "    </tr>\n",
       "    <tr>\n",
       "      <th>249</th>\n",
       "      <td>0.907</td>\n",
       "      <td>0.075</td>\n",
       "      <td>0.006</td>\n",
       "      <td>0.006</td>\n",
       "      <td>0.006</td>\n",
       "    </tr>\n",
       "    <tr>\n",
       "      <th>250</th>\n",
       "      <td>0.978</td>\n",
       "      <td>0.006</td>\n",
       "      <td>0.005</td>\n",
       "      <td>0.005</td>\n",
       "      <td>0.006</td>\n",
       "    </tr>\n",
       "  </tbody>\n",
       "</table>\n",
       "<p>251 rows × 5 columns</p>\n",
       "</div>"
      ],
      "text/plain": [
       "      T: 1   T: 2   T: 3   T: 4   T: 5\n",
       "0    0.017  0.017  0.017  0.933  0.017\n",
       "1    0.017  0.017  0.017  0.933  0.017\n",
       "2    0.017  0.017  0.017  0.933  0.017\n",
       "3    0.017  0.017  0.017  0.933  0.017\n",
       "4    0.017  0.017  0.017  0.933  0.017\n",
       "..     ...    ...    ...    ...    ...\n",
       "246  0.134  0.003  0.357  0.003  0.503\n",
       "247  0.826  0.048  0.120  0.002  0.002\n",
       "248  0.880  0.005  0.005  0.105  0.005\n",
       "249  0.907  0.075  0.006  0.006  0.006\n",
       "250  0.978  0.006  0.005  0.005  0.006\n",
       "\n",
       "[251 rows x 5 columns]"
      ]
     },
     "execution_count": 41,
     "metadata": {},
     "output_type": "execute_result"
    }
   ],
   "source": [
    "weezer_df"
   ]
  },
  {
   "cell_type": "code",
   "execution_count": 40,
   "metadata": {},
   "outputs": [
    {
     "data": {
      "text/plain": [
       "<AxesSubplot:>"
      ]
     },
     "execution_count": 40,
     "metadata": {},
     "output_type": "execute_result"
    },
    {
     "data": {
      "image/png": "[encoded data removed]",
      "text/plain": [
       "<Figure size 432x288 with 2 Axes>"
      ]
     },
     "metadata": {
      "needs_background": "light"
     },
     "output_type": "display_data"
    }
   ],
   "source": [
    "sns.heatmap(weezer_df.corr(), annot=True, cmap='Blues')"
   ]
  },
  {
   "cell_type": "code",
   "execution_count": 34,
   "metadata": {},
   "outputs": [
    {
     "data": {
      "text/plain": [
       "T: 1    0.360522\n",
       "T: 2    0.027518\n",
       "T: 3    0.073080\n",
       "T: 4    0.473100\n",
       "T: 5    0.066295\n",
       "dtype: float64"
      ]
     },
     "execution_count": 34,
     "metadata": {},
     "output_type": "execute_result"
    }
   ],
   "source": [
    "weezer_df.mean()"
   ]
  },
  {
   "cell_type": "code",
   "execution_count": 35,
   "metadata": {},
   "outputs": [
    {
     "data": {
      "image/png": "[encoded data removed]",
      "text/plain": [
       "<Figure size 432x288 with 1 Axes>"
      ]
     },
     "metadata": {
      "needs_background": "light"
     },
     "output_type": "display_data"
    },
    {
     "data": {
      "image/png": "[encoded data removed]",
      "text/plain": [
       "<Figure size 432x288 with 1 Axes>"
      ]
     },
     "metadata": {
      "needs_background": "light"
     },
     "output_type": "display_data"
    },
    {
     "data": {
      "image/png": "[encoded data removed]",
      "text/plain": [
       "<Figure size 432x288 with 1 Axes>"
      ]
     },
     "metadata": {
      "needs_background": "light"
     },
     "output_type": "display_data"
    },
    {
     "data": {
      "image/png": "[encoded data removed]",
      "text/plain": [
       "<Figure size 432x288 with 1 Axes>"
      ]
     },
     "metadata": {
      "needs_background": "light"
     },
     "output_type": "display_data"
    },
    {
     "data": {
      "image/png": "[encoded data removed]",
      "text/plain": [
       "<Figure size 432x288 with 1 Axes>"
      ]
     },
     "metadata": {
      "needs_background": "light"
     },
     "output_type": "display_data"
    }
   ],
   "source": [
    "for col in weezer_df.columns:\n",
    "        sns.scatterplot(data = weezer_df[col])\n",
    "        plt.title(f'Probabilidades para la banda {\"Weezer\"} considerando el tópico {col}')\n",
    "        plt.ylabel('Pertenencia a uno de los tópicos')\n",
    "        plt.xlabel('Observaciónes')\n",
    "        plt.show()"
   ]
  },
  {
   "cell_type": "code",
   "execution_count": 36,
   "metadata": {},
   "outputs": [
    {
     "data": {
      "text/html": [
       "<div>\n",
       "<style scoped>\n",
       "    .dataframe tbody tr th:only-of-type {\n",
       "        vertical-align: middle;\n",
       "    }\n",
       "\n",
       "    .dataframe tbody tr th {\n",
       "        vertical-align: top;\n",
       "    }\n",
       "\n",
       "    .dataframe thead th {\n",
       "        text-align: right;\n",
       "    }\n",
       "</style>\n",
       "<table border=\"1\" class=\"dataframe\">\n",
       "  <thead>\n",
       "    <tr style=\"text-align: right;\">\n",
       "      <th></th>\n",
       "      <th>Genero</th>\n",
       "      <th>T: 1</th>\n",
       "      <th>T: 2</th>\n",
       "      <th>T: 3</th>\n",
       "      <th>T: 4</th>\n",
       "      <th>T: 5</th>\n",
       "    </tr>\n",
       "  </thead>\n",
       "  <tbody>\n",
       "    <tr>\n",
       "      <th>0</th>\n",
       "      <td>hiphop</td>\n",
       "      <td>0.191378</td>\n",
       "      <td>0.648613</td>\n",
       "      <td>0.041749</td>\n",
       "      <td>0.061423</td>\n",
       "      <td>0.057040</td>\n",
       "    </tr>\n",
       "    <tr>\n",
       "      <th>1</th>\n",
       "      <td>metal</td>\n",
       "      <td>0.216912</td>\n",
       "      <td>0.033231</td>\n",
       "      <td>0.064734</td>\n",
       "      <td>0.041709</td>\n",
       "      <td>0.643435</td>\n",
       "    </tr>\n",
       "    <tr>\n",
       "      <th>2</th>\n",
       "      <td>pop</td>\n",
       "      <td>0.637730</td>\n",
       "      <td>0.170145</td>\n",
       "      <td>0.065926</td>\n",
       "      <td>0.063300</td>\n",
       "      <td>0.062950</td>\n",
       "    </tr>\n",
       "    <tr>\n",
       "      <th>3</th>\n",
       "      <td>rock</td>\n",
       "      <td>0.506741</td>\n",
       "      <td>0.052649</td>\n",
       "      <td>0.174155</td>\n",
       "      <td>0.114492</td>\n",
       "      <td>0.152018</td>\n",
       "    </tr>\n",
       "  </tbody>\n",
       "</table>\n",
       "</div>"
      ],
      "text/plain": [
       "   Genero      T: 1      T: 2      T: 3      T: 4      T: 5\n",
       "0  hiphop  0.191378  0.648613  0.041749  0.061423  0.057040\n",
       "1   metal  0.216912  0.033231  0.064734  0.041709  0.643435\n",
       "2     pop  0.637730  0.170145  0.065926  0.063300  0.062950\n",
       "3    rock  0.506741  0.052649  0.174155  0.114492  0.152018"
      ]
     },
     "execution_count": 36,
     "metadata": {},
     "output_type": "execute_result"
    }
   ],
   "source": [
    "\n",
    "df_result_weezer = concatenated_df[['Genero', 'T: 1', 'T: 2', 'T: 3', 'T: 4', 'T: 5']].groupby('Genero').mean().reset_index()\n",
    "df_result_weezer"
   ]
  },
  {
   "cell_type": "code",
   "execution_count": 44,
   "metadata": {},
   "outputs": [
    {
     "data": {
      "text/plain": [
       "<AxesSubplot:>"
      ]
     },
     "execution_count": 44,
     "metadata": {},
     "output_type": "execute_result"
    },
    {
     "data": {
      "image/png": "[encoded data removed]",
      "text/plain": [
       "<Figure size 432x288 with 2 Axes>"
      ]
     },
     "metadata": {
      "needs_background": "light"
     },
     "output_type": "display_data"
    }
   ],
   "source": [
    "sns.heatmap(df_result_weezer.corr(), annot=True, cmap='Blues')"
   ]
  },
  {
   "cell_type": "code",
   "execution_count": 37,
   "metadata": {},
   "outputs": [
    {
     "data": {
      "text/plain": [
       "(81, 5)"
      ]
     },
     "execution_count": 37,
     "metadata": {},
     "output_type": "execute_result"
    }
   ],
   "source": [
    "meshuggah_df = selec_df_artist(concatenated_df, 'Meshuggah')\n",
    "meshuggah_df.shape"
   ]
  },
  {
   "cell_type": "code",
   "execution_count": 38,
   "metadata": {},
   "outputs": [
    {
     "data": {
      "text/plain": [
       "T: 1    0.066494\n",
       "T: 2    0.012654\n",
       "T: 3    0.063309\n",
       "T: 4    0.042025\n",
       "T: 5    0.815519\n",
       "dtype: float64"
      ]
     },
     "execution_count": 38,
     "metadata": {},
     "output_type": "execute_result"
    }
   ],
   "source": [
    "meshuggah_df.mean()"
   ]
  },
  {
   "cell_type": "code",
   "execution_count": 39,
   "metadata": {},
   "outputs": [
    {
     "data": {
      "image/png": "[encoded data removed]",
      "text/plain": [
       "<Figure size 432x288 with 1 Axes>"
      ]
     },
     "metadata": {
      "needs_background": "light"
     },
     "output_type": "display_data"
    },
    {
     "data": {
      "image/png": "[encoded data removed]",
      "text/plain": [
       "<Figure size 432x288 with 1 Axes>"
      ]
     },
     "metadata": {
      "needs_background": "light"
     },
     "output_type": "display_data"
    },
    {
     "data": {
      "image/png": "[encoded data removed]",
      "text/plain": [
       "<Figure size 432x288 with 1 Axes>"
      ]
     },
     "metadata": {
      "needs_background": "light"
     },
     "output_type": "display_data"
    },
    {
     "data": {
      "image/png": "[encoded data removed]",
      "text/plain": [
       "<Figure size 432x288 with 1 Axes>"
      ]
     },
     "metadata": {
      "needs_background": "light"
     },
     "output_type": "display_data"
    },
    {
     "data": {
      "image/png": "[encoded data removed]",
      "text/plain": [
       "<Figure size 432x288 with 1 Axes>"
      ]
     },
     "metadata": {
      "needs_background": "light"
     },
     "output_type": "display_data"
    }
   ],
   "source": [
    "for col in meshuggah_df.columns:\n",
    "        sns.scatterplot(data = meshuggah_df[col])\n",
    "        plt.title(f'Probabilidades para la banda {\"Weezer\"} considerando el tópico {col}')\n",
    "        plt.ylabel('Pertenencia a uno de los tópicos')\n",
    "        plt.xlabel('Observaciónes')\n",
    "        plt.show()"
   ]
  }
 ],
 "metadata": {
  "kernelspec": {
   "display_name": "Python 3.10.8 64-bit",
   "language": "python",
   "name": "python3"
  },
  "language_info": {
   "codemirror_mode": {
    "name": "ipython",
    "version": 3
   },
   "file_extension": ".py",
   "mimetype": "text/x-python",
   "name": "python",
   "nbconvert_exporter": "python",
   "pygments_lexer": "ipython3",
   "version": "3.10.8"
  },
  "orig_nbformat": 4,
  "vscode": {
   "interpreter": {
    "hash": "5fe23d4cdea1a1fdeea398f38169f58ea6e36b10f84ee4017a8f0fee693ee786"
   }
  }
 },
 "nbformat": 4,
 "nbformat_minor": 2
}
