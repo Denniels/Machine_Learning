{
 "cells": [
  {
   "cell_type": "markdown",
   "metadata": {},
   "source": [
    "## Desafío - Inferencia de tópicos con EM\n",
    "- Para realizar este desafío debes haber estudiado previamente todo el material disponibilizado correspondiente a la unidad.\n",
    "- Una vez terminado el desafío, comprime la carpeta que contiene el desarrollo de los requerimientos solicitados y sube el .zip en el LMS.\n",
    "- Desarrollo desafío:\n",
    "        - El desafío se debe desarrollar de manera Individual.\n",
    "        - Para la realización del desafío necesitarás apoyarte del archivo Apoyo Desafío Inferencia de tópicos con EM.\n",
    "\n",
    "### Requerimientos\n",
    "- En esta sesión trabajaremos con una serie de base de datos sobre letras musicales de distintos artistas. Cada uno de los csv se    encuentra en la carpeta dump.\n",
    "- Cada csv tiene el nombre del artista a analizar. Los archivos contienen el nombre del artista, el género musical del artista, el nombre de la canción y las letras.\n",
    "- En base a esta información, el objetivo del ejercicio es generar un modelo probabilístico que pueda identificar el género musical más probable dado la letra de una canción.\n",
    "- Para ello implementaremos un modelo conocido como Latent Dirichlet Allocation que hace uso de una variante del algoritmo EM para inferir clases latentes a partir de una matriz de documentos.\n",
    "\n",
    "### Ejercicio 1: Preparar el ambiente de trabajo\n",
    "- Importe los módulos numpy, pandas, matplotlib, seaborn, glob y os siguiendo las\n",
    "  buenas prácticas. Los últimos dos módulos permitirán realizar la importación de\n",
    "  múltiples archivos dentro de la carpeta dump.\n",
    "- Para ello genere un objeto que guarde en una lista todos los archivos alojados en\n",
    "  dump utilizando glob.glob y os.getcwd() para extraer las rutas absolutas.\n",
    "  Posteriormente genere un objeto pd.DataFrame que contenga todos los csv.\n",
    "- Asegúrese de eliminar la columna Unnamed: 0 que se genera por defecto.\n"
   ]
  },
  {
   "cell_type": "code",
   "execution_count": 1,
   "metadata": {},
   "outputs": [],
   "source": [
    "# Triada calsica.\n",
    "import pandas as pd\n",
    "import numpy as np\n",
    "import matplotlib.pyplot as plt\n",
    "\n",
    "# Graficos seaborn, warnings y datos perdidos.\n",
    "import seaborn as sns\n",
    "import warnings\n",
    "import missingno as msngo\n",
    "\n",
    "# Importaciones especificas de este desafio.\n",
    "import glob, os\n",
    "\n",
    "# Machine learning\n",
    "from sklearn.feature_extraction.text import CountVectorizer\n",
    "from sklearn.decomposition import LatentDirichletAllocation\n",
    "from sklearn.metrics import confusion_matrix, classification_report\n",
    "from sklearn.model_selection import train_test_split, GridSearchCV\n",
    "from sklearn.pipeline import Pipeline\n",
    "from sklearn.preprocessing import LabelEncoder, StandardScaler\n",
    "\n",
    "# Otras librerias, configuraciones e instancias.\n",
    "labelencoder = LabelEncoder()\n",
    "warnings.filterwarnings('ignore')\n",
    "plt.rcParams['figure.figsize'] = (20, 10)\n",
    "plt.style.use('seaborn-darkgrid')"
   ]
  },
  {
   "cell_type": "code",
   "execution_count": 2,
   "metadata": {},
   "outputs": [],
   "source": [
    "csv_list = glob.glob('Datasets/dump/*.csv')\n",
    "name_csv = []"
   ]
  },
  {
   "cell_type": "code",
   "execution_count": 3,
   "metadata": {},
   "outputs": [],
   "source": [
    "for i in csv_list:\n",
    "        name_csv.append(pd.read_csv(i, index_col = None, header = 0).drop(columns = 'Unnamed: 0'))\n",
    "\n",
    "df_letras = pd.concat(name_csv)\n",
    "df_letras.columns = ['Artista', 'Genero', 'Cancion', 'Letra']"
   ]
  },
  {
   "cell_type": "code",
   "execution_count": 4,
   "metadata": {},
   "outputs": [
    {
     "data": {
      "text/html": [
       "<div>\n",
       "<style scoped>\n",
       "    .dataframe tbody tr th:only-of-type {\n",
       "        vertical-align: middle;\n",
       "    }\n",
       "\n",
       "    .dataframe tbody tr th {\n",
       "        vertical-align: top;\n",
       "    }\n",
       "\n",
       "    .dataframe thead th {\n",
       "        text-align: right;\n",
       "    }\n",
       "</style>\n",
       "<table border=\"1\" class=\"dataframe\">\n",
       "  <thead>\n",
       "    <tr style=\"text-align: right;\">\n",
       "      <th></th>\n",
       "      <th>Artista</th>\n",
       "      <th>Genero</th>\n",
       "      <th>Cancion</th>\n",
       "      <th>Letra</th>\n",
       "    </tr>\n",
       "  </thead>\n",
       "  <tbody>\n",
       "    <tr>\n",
       "      <th>0</th>\n",
       "      <td>Anthrax</td>\n",
       "      <td>metal</td>\n",
       "      <td>Deathrider</td>\n",
       "      <td>Riding hard, high in the saddle \\n Winged stee...</td>\n",
       "    </tr>\n",
       "    <tr>\n",
       "      <th>1</th>\n",
       "      <td>Anthrax</td>\n",
       "      <td>metal</td>\n",
       "      <td>Metal Thrashing Mad</td>\n",
       "      <td>Racing down the road \\n In a street machine of...</td>\n",
       "    </tr>\n",
       "    <tr>\n",
       "      <th>2</th>\n",
       "      <td>Anthrax</td>\n",
       "      <td>metal</td>\n",
       "      <td>I'm Eighteen</td>\n",
       "      <td>Lines form on my face and hands \\n Lines form ...</td>\n",
       "    </tr>\n",
       "    <tr>\n",
       "      <th>3</th>\n",
       "      <td>Anthrax</td>\n",
       "      <td>metal</td>\n",
       "      <td>Panic</td>\n",
       "      <td>Move it to the front \\n Reaching for the light...</td>\n",
       "    </tr>\n",
       "    <tr>\n",
       "      <th>4</th>\n",
       "      <td>Anthrax</td>\n",
       "      <td>metal</td>\n",
       "      <td>Subjugator</td>\n",
       "      <td>Out in the streets \\n We're fighting tonight \\...</td>\n",
       "    </tr>\n",
       "  </tbody>\n",
       "</table>\n",
       "</div>"
      ],
      "text/plain": [
       "   Artista Genero              Cancion  \\\n",
       "0  Anthrax  metal           Deathrider   \n",
       "1  Anthrax  metal  Metal Thrashing Mad   \n",
       "2  Anthrax  metal         I'm Eighteen   \n",
       "3  Anthrax  metal                Panic   \n",
       "4  Anthrax  metal           Subjugator   \n",
       "\n",
       "                                               Letra  \n",
       "0  Riding hard, high in the saddle \\n Winged stee...  \n",
       "1  Racing down the road \\n In a street machine of...  \n",
       "2  Lines form on my face and hands \\n Lines form ...  \n",
       "3  Move it to the front \\n Reaching for the light...  \n",
       "4  Out in the streets \\n We're fighting tonight \\...  "
      ]
     },
     "execution_count": 4,
     "metadata": {},
     "output_type": "execute_result"
    }
   ],
   "source": [
    "df_letras.head()"
   ]
  },
  {
   "cell_type": "markdown",
   "metadata": {},
   "source": [
    "### Ejercicio 2: Matriz de ocurrencias\n",
    "- Importe la clase CountVectorizer dentro de los módulos\n",
    "  feature_extraction.text de la librería sklearn.\n",
    "- Aplique la clase para extraer las 5000 palabras más repetidas en toda la base de\n",
    "  datos.\n",
    "- Con la clase inicializada, incorpore las letras con el método fit_transform y guarde\n",
    "  los resultados en un nuevo objeto."
   ]
  },
  {
   "cell_type": "code",
   "execution_count": 5,
   "metadata": {},
   "outputs": [],
   "source": [
    "# instanciamos un objeto CountVectorizer()\n",
    "count_vectorizer = CountVectorizer(stop_words = 'english')"
   ]
  },
  {
   "cell_type": "code",
   "execution_count": 6,
   "metadata": {},
   "outputs": [],
   "source": [
    "# Implementamos los pasos fit y transform\n",
    "count_vectorizer_fit = count_vectorizer.fit_transform(df_letras.Letra)"
   ]
  },
  {
   "cell_type": "code",
   "execution_count": 7,
   "metadata": {},
   "outputs": [
    {
     "data": {
      "text/plain": [
       "['00', '000', '007', '01', '019', '02', '0281', '03', '04', '05']"
      ]
     },
     "execution_count": 7,
     "metadata": {},
     "output_type": "execute_result"
    }
   ],
   "source": [
    "# Extraemos tokens (palabras)\n",
    "words  = count_vectorizer.get_feature_names()\n",
    "words[:10]"
   ]
  },
  {
   "cell_type": "code",
   "execution_count": 8,
   "metadata": {},
   "outputs": [
    {
     "data": {
      "text/plain": [
       "array([14, 42,  2, 13,  3,  3,  1,  4,  3,  5], dtype=int64)"
      ]
     },
     "execution_count": 8,
     "metadata": {},
     "output_type": "execute_result"
    }
   ],
   "source": [
    "# extraemos frecuencia\n",
    "words_freq = count_vectorizer_fit.toarray().sum(axis = 0)\n",
    "words_freq[:10]"
   ]
  },
  {
   "cell_type": "code",
   "execution_count": 9,
   "metadata": {},
   "outputs": [
    {
     "data": {
      "text/html": [
       "<div>\n",
       "<style scoped>\n",
       "    .dataframe tbody tr th:only-of-type {\n",
       "        vertical-align: middle;\n",
       "    }\n",
       "\n",
       "    .dataframe tbody tr th {\n",
       "        vertical-align: top;\n",
       "    }\n",
       "\n",
       "    .dataframe thead th {\n",
       "        text-align: right;\n",
       "    }\n",
       "</style>\n",
       "<table border=\"1\" class=\"dataframe\">\n",
       "  <thead>\n",
       "    <tr style=\"text-align: right;\">\n",
       "      <th></th>\n",
       "      <th>0</th>\n",
       "      <th>1</th>\n",
       "    </tr>\n",
       "  </thead>\n",
       "  <tbody>\n",
       "    <tr>\n",
       "      <th>0</th>\n",
       "      <td>00</td>\n",
       "      <td>14</td>\n",
       "    </tr>\n",
       "    <tr>\n",
       "      <th>1</th>\n",
       "      <td>000</td>\n",
       "      <td>42</td>\n",
       "    </tr>\n",
       "    <tr>\n",
       "      <th>2</th>\n",
       "      <td>007</td>\n",
       "      <td>2</td>\n",
       "    </tr>\n",
       "    <tr>\n",
       "      <th>3</th>\n",
       "      <td>01</td>\n",
       "      <td>13</td>\n",
       "    </tr>\n",
       "    <tr>\n",
       "      <th>4</th>\n",
       "      <td>019</td>\n",
       "      <td>3</td>\n",
       "    </tr>\n",
       "  </tbody>\n",
       "</table>\n",
       "</div>"
      ],
      "text/plain": [
       "     0   1\n",
       "0   00  14\n",
       "1  000  42\n",
       "2  007   2\n",
       "3   01  13\n",
       "4  019   3"
      ]
     },
     "execution_count": 9,
     "metadata": {},
     "output_type": "execute_result"
    }
   ],
   "source": [
    "# creamos un nuevo dataframe\n",
    "words_freq_df = pd.DataFrame([list(words), list(words_freq)]).T\n",
    "words_freq_df.head()"
   ]
  },
  {
   "cell_type": "code",
   "execution_count": 10,
   "metadata": {},
   "outputs": [
    {
     "data": {
      "text/html": [
       "<div>\n",
       "<style scoped>\n",
       "    .dataframe tbody tr th:only-of-type {\n",
       "        vertical-align: middle;\n",
       "    }\n",
       "\n",
       "    .dataframe tbody tr th {\n",
       "        vertical-align: top;\n",
       "    }\n",
       "\n",
       "    .dataframe thead th {\n",
       "        text-align: right;\n",
       "    }\n",
       "</style>\n",
       "<table border=\"1\" class=\"dataframe\">\n",
       "  <thead>\n",
       "    <tr style=\"text-align: right;\">\n",
       "      <th></th>\n",
       "      <th>word</th>\n",
       "      <th>freq</th>\n",
       "    </tr>\n",
       "  </thead>\n",
       "  <tbody>\n",
       "    <tr>\n",
       "      <th>24950</th>\n",
       "      <td>like</td>\n",
       "      <td>19629</td>\n",
       "    </tr>\n",
       "    <tr>\n",
       "      <th>12859</th>\n",
       "      <td>don</td>\n",
       "      <td>17398</td>\n",
       "    </tr>\n",
       "    <tr>\n",
       "      <th>23856</th>\n",
       "      <td>know</td>\n",
       "      <td>14962</td>\n",
       "    </tr>\n",
       "    <tr>\n",
       "      <th>18439</th>\n",
       "      <td>got</td>\n",
       "      <td>14171</td>\n",
       "    </tr>\n",
       "    <tr>\n",
       "      <th>23287</th>\n",
       "      <td>just</td>\n",
       "      <td>13978</td>\n",
       "    </tr>\n",
       "  </tbody>\n",
       "</table>\n",
       "</div>"
      ],
      "text/plain": [
       "       word   freq\n",
       "24950  like  19629\n",
       "12859   don  17398\n",
       "23856  know  14962\n",
       "18439   got  14171\n",
       "23287  just  13978"
      ]
     },
     "execution_count": 10,
     "metadata": {},
     "output_type": "execute_result"
    }
   ],
   "source": [
    "words_freq_df.columns= ['word', 'freq']\n",
    "words_freq_df = words_freq_df.sort_values(by='freq', ascending = False).iloc[0:5000, :]\n",
    "words_freq_df.head()"
   ]
  },
  {
   "cell_type": "markdown",
   "metadata": {},
   "source": [
    "### Ejercicio 3: Entrenamiento del Modelo\n",
    "- Importe sklearn.decomposition.LatentDirichletAllocation y\n",
    "  sklearn.model_selection.GridSearchCV.\n",
    "- Genere una búsqueda de grilla con los siguientes hiper parámetros:\n",
    "        - n_components: [5, 10, 15].\n",
    "        - learning_decay: [0.7, 0.5].\n",
    "- Entrene la búsqueda de grilla con las letras en un formato vectorizado con\n",
    "  CountVectorizer.\n",
    "- Reporte brevemente cuál es la mejor combinación de hiper parámetros.\n",
    "\n",
    "#### Digresión: Latent Dirichlet Allocation\n",
    "Latent Dirichlet Allocatio (LDA) es un modelo probabilístico generativo basado en Inferencia\n",
    "Variacional EM. La principal utilidad de esto es la identificación de tópicos en un corpus de\n",
    "texto. El proceso de inferencia se puede resumir en los siguientes pasos:\n",
    "\n",
    "- Cada documento dentro del corpus se puede entender como una mezcla de tópicos\n",
    "  comunes a nivel de corpus.\n",
    "- Esta mezcla de tópicos es latente: sólo observamos los documentos registrados y\n",
    "  sus palabras.\n",
    "La API de sklearn.decomposition.LatentDirichletAllocation presenta la\n",
    "misma funcionalidad de todo modelo de sklearn. Algunos puntos a considerar en la\n",
    "inicialización de la clase son:\n",
    "\n",
    "  - n_components: Cantidad de tópicos a inferir en un corpus.\n",
    "  - learning_method: Forma en la que entran los datos en entrenamiento.\n",
    "    Cuando es 'batch', se ingresa la matriz de entrenamiento completa. Cuando\n",
    "    es 'online', la matriz de entrenamiento ingresa de manera secuencial en\n",
    "    parcelas pequeñas.\n",
    "  - learning_decay: Tasa de aprendizaje en la función de pérdida. Cuando se\n",
    "    implementa con learning_method='online', el modelo se entrena con\n",
    "    Gradiente Estocástico Descendente.\n",
    "  - Perplejidad: Busca aproximar el número óptimo de tópicos a inferir.\n",
    "    Técnicamente evalúa qué tan bien predice una muestra específica. En función\n",
    "    a un número de tópicos, define la distribución teórica de palabras\n",
    "    representada por los tópicos y la compara con la ocurrencia empírica de\n",
    "    palabras en tópicos.\n"
   ]
  },
  {
   "cell_type": "code",
   "execution_count": 11,
   "metadata": {},
   "outputs": [],
   "source": [
    "param_grid = {'n_components': [5, 10, 15], 'learning_decay': [0.7, 0.5]}"
   ]
  },
  {
   "cell_type": "code",
   "execution_count": 12,
   "metadata": {},
   "outputs": [],
   "source": [
    "lda = LatentDirichletAllocation(learning_method = 'online')"
   ]
  },
  {
   "cell_type": "code",
   "execution_count": 13,
   "metadata": {},
   "outputs": [],
   "source": [
    "# n_jobs = -1 significa usar todos los procesadores disponiobles\n",
    "# verbose = 3 significa que los índices de parámetros de \n",
    "# pliegue y candidato también se muestran junto con la hora de inicio del cálculo.\n",
    "# cv significa las validaciones cruzadas a realizar\n",
    "model_gridcv = GridSearchCV(lda, param_grid, cv = 5, n_jobs = -1, verbose = 3)"
   ]
  },
  {
   "cell_type": "code",
   "execution_count": 14,
   "metadata": {},
   "outputs": [
    {
     "name": "stdout",
     "output_type": "stream",
     "text": [
      "Fitting 5 folds for each of 6 candidates, totalling 30 fits\n"
     ]
    },
    {
     "data": {
      "text/html": [
       "<style>#sk-container-id-1 {color: black;background-color: white;}#sk-container-id-1 pre{padding: 0;}#sk-container-id-1 div.sk-toggleable {background-color: white;}#sk-container-id-1 label.sk-toggleable__label {cursor: pointer;display: block;width: 100%;margin-bottom: 0;padding: 0.3em;box-sizing: border-box;text-align: center;}#sk-container-id-1 label.sk-toggleable__label-arrow:before {content: \"▸\";float: left;margin-right: 0.25em;color: #696969;}#sk-container-id-1 label.sk-toggleable__label-arrow:hover:before {color: black;}#sk-container-id-1 div.sk-estimator:hover label.sk-toggleable__label-arrow:before {color: black;}#sk-container-id-1 div.sk-toggleable__content {max-height: 0;max-width: 0;overflow: hidden;text-align: left;background-color: #f0f8ff;}#sk-container-id-1 div.sk-toggleable__content pre {margin: 0.2em;color: black;border-radius: 0.25em;background-color: #f0f8ff;}#sk-container-id-1 input.sk-toggleable__control:checked~div.sk-toggleable__content {max-height: 200px;max-width: 100%;overflow: auto;}#sk-container-id-1 input.sk-toggleable__control:checked~label.sk-toggleable__label-arrow:before {content: \"▾\";}#sk-container-id-1 div.sk-estimator input.sk-toggleable__control:checked~label.sk-toggleable__label {background-color: #d4ebff;}#sk-container-id-1 div.sk-label input.sk-toggleable__control:checked~label.sk-toggleable__label {background-color: #d4ebff;}#sk-container-id-1 input.sk-hidden--visually {border: 0;clip: rect(1px 1px 1px 1px);clip: rect(1px, 1px, 1px, 1px);height: 1px;margin: -1px;overflow: hidden;padding: 0;position: absolute;width: 1px;}#sk-container-id-1 div.sk-estimator {font-family: monospace;background-color: #f0f8ff;border: 1px dotted black;border-radius: 0.25em;box-sizing: border-box;margin-bottom: 0.5em;}#sk-container-id-1 div.sk-estimator:hover {background-color: #d4ebff;}#sk-container-id-1 div.sk-parallel-item::after {content: \"\";width: 100%;border-bottom: 1px solid gray;flex-grow: 1;}#sk-container-id-1 div.sk-label:hover label.sk-toggleable__label {background-color: #d4ebff;}#sk-container-id-1 div.sk-serial::before {content: \"\";position: absolute;border-left: 1px solid gray;box-sizing: border-box;top: 0;bottom: 0;left: 50%;z-index: 0;}#sk-container-id-1 div.sk-serial {display: flex;flex-direction: column;align-items: center;background-color: white;padding-right: 0.2em;padding-left: 0.2em;position: relative;}#sk-container-id-1 div.sk-item {position: relative;z-index: 1;}#sk-container-id-1 div.sk-parallel {display: flex;align-items: stretch;justify-content: center;background-color: white;position: relative;}#sk-container-id-1 div.sk-item::before, #sk-container-id-1 div.sk-parallel-item::before {content: \"\";position: absolute;border-left: 1px solid gray;box-sizing: border-box;top: 0;bottom: 0;left: 50%;z-index: -1;}#sk-container-id-1 div.sk-parallel-item {display: flex;flex-direction: column;z-index: 1;position: relative;background-color: white;}#sk-container-id-1 div.sk-parallel-item:first-child::after {align-self: flex-end;width: 50%;}#sk-container-id-1 div.sk-parallel-item:last-child::after {align-self: flex-start;width: 50%;}#sk-container-id-1 div.sk-parallel-item:only-child::after {width: 0;}#sk-container-id-1 div.sk-dashed-wrapped {border: 1px dashed gray;margin: 0 0.4em 0.5em 0.4em;box-sizing: border-box;padding-bottom: 0.4em;background-color: white;}#sk-container-id-1 div.sk-label label {font-family: monospace;font-weight: bold;display: inline-block;line-height: 1.2em;}#sk-container-id-1 div.sk-label-container {text-align: center;}#sk-container-id-1 div.sk-container {/* jupyter's `normalize.less` sets `[hidden] { display: none; }` but bootstrap.min.css set `[hidden] { display: none !important; }` so we also need the `!important` here to be able to override the default hidden behavior on the sphinx rendered scikit-learn.org. See: https://github.com/scikit-learn/scikit-learn/issues/21755 */display: inline-block !important;position: relative;}#sk-container-id-1 div.sk-text-repr-fallback {display: none;}</style><div id=\"sk-container-id-1\" class=\"sk-top-container\"><div class=\"sk-text-repr-fallback\"><pre>GridSearchCV(cv=5,\n",
       "             estimator=LatentDirichletAllocation(learning_method=&#x27;online&#x27;),\n",
       "             n_jobs=-1,\n",
       "             param_grid={&#x27;learning_decay&#x27;: [0.7, 0.5],\n",
       "                         &#x27;n_components&#x27;: [5, 10, 15]},\n",
       "             verbose=3)</pre><b>In a Jupyter environment, please rerun this cell to show the HTML representation or trust the notebook. <br />On GitHub, the HTML representation is unable to render, please try loading this page with nbviewer.org.</b></div><div class=\"sk-container\" hidden><div class=\"sk-item sk-dashed-wrapped\"><div class=\"sk-label-container\"><div class=\"sk-label sk-toggleable\"><input class=\"sk-toggleable__control sk-hidden--visually\" id=\"sk-estimator-id-1\" type=\"checkbox\" ><label for=\"sk-estimator-id-1\" class=\"sk-toggleable__label sk-toggleable__label-arrow\">GridSearchCV</label><div class=\"sk-toggleable__content\"><pre>GridSearchCV(cv=5,\n",
       "             estimator=LatentDirichletAllocation(learning_method=&#x27;online&#x27;),\n",
       "             n_jobs=-1,\n",
       "             param_grid={&#x27;learning_decay&#x27;: [0.7, 0.5],\n",
       "                         &#x27;n_components&#x27;: [5, 10, 15]},\n",
       "             verbose=3)</pre></div></div></div><div class=\"sk-parallel\"><div class=\"sk-parallel-item\"><div class=\"sk-item\"><div class=\"sk-label-container\"><div class=\"sk-label sk-toggleable\"><input class=\"sk-toggleable__control sk-hidden--visually\" id=\"sk-estimator-id-2\" type=\"checkbox\" ><label for=\"sk-estimator-id-2\" class=\"sk-toggleable__label sk-toggleable__label-arrow\">estimator: LatentDirichletAllocation</label><div class=\"sk-toggleable__content\"><pre>LatentDirichletAllocation(learning_method=&#x27;online&#x27;)</pre></div></div></div><div class=\"sk-serial\"><div class=\"sk-item\"><div class=\"sk-estimator sk-toggleable\"><input class=\"sk-toggleable__control sk-hidden--visually\" id=\"sk-estimator-id-3\" type=\"checkbox\" ><label for=\"sk-estimator-id-3\" class=\"sk-toggleable__label sk-toggleable__label-arrow\">LatentDirichletAllocation</label><div class=\"sk-toggleable__content\"><pre>LatentDirichletAllocation(learning_method=&#x27;online&#x27;)</pre></div></div></div></div></div></div></div></div></div></div>"
      ],
      "text/plain": [
       "GridSearchCV(cv=5,\n",
       "             estimator=LatentDirichletAllocation(learning_method='online'),\n",
       "             n_jobs=-1,\n",
       "             param_grid={'learning_decay': [0.7, 0.5],\n",
       "                         'n_components': [5, 10, 15]},\n",
       "             verbose=3)"
      ]
     },
     "execution_count": 14,
     "metadata": {},
     "output_type": "execute_result"
    }
   ],
   "source": [
    "model_gridcv.fit(count_vectorizer_fit)"
   ]
  },
  {
   "cell_type": "code",
   "execution_count": 15,
   "metadata": {},
   "outputs": [
    {
     "name": "stdout",
     "output_type": "stream",
     "text": [
      "\n",
      "Mejores hiper parametros: {'learning_decay': 0.5, 'n_components': 5}\n",
      "Mejor Puntaje: -2555345.5907315593\n"
     ]
    }
   ],
   "source": [
    "print(f'''\n",
    "Mejores hiper parametros: {model_gridcv.best_params_}\n",
    "Mejor Puntaje: {model_gridcv.best_score_}''')"
   ]
  },
  {
   "cell_type": "markdown",
   "metadata": {},
   "source": []
  },
  {
   "cell_type": "markdown",
   "metadata": {},
   "source": [
    "### Ejercicio 4 : Inferencia e Identificación de Tópicos\n",
    "- En base a la mejor combinación de hiper parámetros, entrene el modelo con la matriz\n",
    "  de atributos de las letras.\n",
    "- Para identificar de qué se trata cada tópico, necesitamos identificar las principales\n",
    "  15 palabras asociadas con éste. Puede implementar la siguiente línea de código para\n",
    "  identificar las principales palabras en un tópico:"
   ]
  },
  {
   "cell_type": "code",
   "execution_count": 16,
   "metadata": {},
   "outputs": [],
   "source": [
    "count_vectorizer_i = CountVectorizer(stop_words = 'english')"
   ]
  },
  {
   "cell_type": "code",
   "execution_count": 17,
   "metadata": {},
   "outputs": [],
   "source": [
    "\n",
    "count = count_vectorizer_i.fit_transform(df_letras.Letra)"
   ]
  },
  {
   "cell_type": "code",
   "execution_count": 18,
   "metadata": {},
   "outputs": [],
   "source": [
    "# n_jobs = -1 significa usar todos los procesadores disponibles\n",
    "# verbose = 3 significa que los índices de parámetros de \n",
    "# pliegue y candidato también se muestran junto con la hora de inicio del cálculo.\n",
    "# cv significa las validaciones cruzadas a realizar\n",
    "model_gridcv_i = GridSearchCV(lda, {'n_components': [5], 'learning_decay': [0.5]}, cv = 5, n_jobs = -1, verbose = 3)"
   ]
  },
  {
   "cell_type": "code",
   "execution_count": 19,
   "metadata": {},
   "outputs": [
    {
     "name": "stdout",
     "output_type": "stream",
     "text": [
      "Fitting 5 folds for each of 1 candidates, totalling 5 fits\n"
     ]
    },
    {
     "data": {
      "text/html": [
       "<style>#sk-container-id-2 {color: black;background-color: white;}#sk-container-id-2 pre{padding: 0;}#sk-container-id-2 div.sk-toggleable {background-color: white;}#sk-container-id-2 label.sk-toggleable__label {cursor: pointer;display: block;width: 100%;margin-bottom: 0;padding: 0.3em;box-sizing: border-box;text-align: center;}#sk-container-id-2 label.sk-toggleable__label-arrow:before {content: \"▸\";float: left;margin-right: 0.25em;color: #696969;}#sk-container-id-2 label.sk-toggleable__label-arrow:hover:before {color: black;}#sk-container-id-2 div.sk-estimator:hover label.sk-toggleable__label-arrow:before {color: black;}#sk-container-id-2 div.sk-toggleable__content {max-height: 0;max-width: 0;overflow: hidden;text-align: left;background-color: #f0f8ff;}#sk-container-id-2 div.sk-toggleable__content pre {margin: 0.2em;color: black;border-radius: 0.25em;background-color: #f0f8ff;}#sk-container-id-2 input.sk-toggleable__control:checked~div.sk-toggleable__content {max-height: 200px;max-width: 100%;overflow: auto;}#sk-container-id-2 input.sk-toggleable__control:checked~label.sk-toggleable__label-arrow:before {content: \"▾\";}#sk-container-id-2 div.sk-estimator input.sk-toggleable__control:checked~label.sk-toggleable__label {background-color: #d4ebff;}#sk-container-id-2 div.sk-label input.sk-toggleable__control:checked~label.sk-toggleable__label {background-color: #d4ebff;}#sk-container-id-2 input.sk-hidden--visually {border: 0;clip: rect(1px 1px 1px 1px);clip: rect(1px, 1px, 1px, 1px);height: 1px;margin: -1px;overflow: hidden;padding: 0;position: absolute;width: 1px;}#sk-container-id-2 div.sk-estimator {font-family: monospace;background-color: #f0f8ff;border: 1px dotted black;border-radius: 0.25em;box-sizing: border-box;margin-bottom: 0.5em;}#sk-container-id-2 div.sk-estimator:hover {background-color: #d4ebff;}#sk-container-id-2 div.sk-parallel-item::after {content: \"\";width: 100%;border-bottom: 1px solid gray;flex-grow: 1;}#sk-container-id-2 div.sk-label:hover label.sk-toggleable__label {background-color: #d4ebff;}#sk-container-id-2 div.sk-serial::before {content: \"\";position: absolute;border-left: 1px solid gray;box-sizing: border-box;top: 0;bottom: 0;left: 50%;z-index: 0;}#sk-container-id-2 div.sk-serial {display: flex;flex-direction: column;align-items: center;background-color: white;padding-right: 0.2em;padding-left: 0.2em;position: relative;}#sk-container-id-2 div.sk-item {position: relative;z-index: 1;}#sk-container-id-2 div.sk-parallel {display: flex;align-items: stretch;justify-content: center;background-color: white;position: relative;}#sk-container-id-2 div.sk-item::before, #sk-container-id-2 div.sk-parallel-item::before {content: \"\";position: absolute;border-left: 1px solid gray;box-sizing: border-box;top: 0;bottom: 0;left: 50%;z-index: -1;}#sk-container-id-2 div.sk-parallel-item {display: flex;flex-direction: column;z-index: 1;position: relative;background-color: white;}#sk-container-id-2 div.sk-parallel-item:first-child::after {align-self: flex-end;width: 50%;}#sk-container-id-2 div.sk-parallel-item:last-child::after {align-self: flex-start;width: 50%;}#sk-container-id-2 div.sk-parallel-item:only-child::after {width: 0;}#sk-container-id-2 div.sk-dashed-wrapped {border: 1px dashed gray;margin: 0 0.4em 0.5em 0.4em;box-sizing: border-box;padding-bottom: 0.4em;background-color: white;}#sk-container-id-2 div.sk-label label {font-family: monospace;font-weight: bold;display: inline-block;line-height: 1.2em;}#sk-container-id-2 div.sk-label-container {text-align: center;}#sk-container-id-2 div.sk-container {/* jupyter's `normalize.less` sets `[hidden] { display: none; }` but bootstrap.min.css set `[hidden] { display: none !important; }` so we also need the `!important` here to be able to override the default hidden behavior on the sphinx rendered scikit-learn.org. See: https://github.com/scikit-learn/scikit-learn/issues/21755 */display: inline-block !important;position: relative;}#sk-container-id-2 div.sk-text-repr-fallback {display: none;}</style><div id=\"sk-container-id-2\" class=\"sk-top-container\"><div class=\"sk-text-repr-fallback\"><pre>GridSearchCV(cv=5,\n",
       "             estimator=LatentDirichletAllocation(learning_method=&#x27;online&#x27;),\n",
       "             n_jobs=-1,\n",
       "             param_grid={&#x27;learning_decay&#x27;: [0.5], &#x27;n_components&#x27;: [5]},\n",
       "             verbose=3)</pre><b>In a Jupyter environment, please rerun this cell to show the HTML representation or trust the notebook. <br />On GitHub, the HTML representation is unable to render, please try loading this page with nbviewer.org.</b></div><div class=\"sk-container\" hidden><div class=\"sk-item sk-dashed-wrapped\"><div class=\"sk-label-container\"><div class=\"sk-label sk-toggleable\"><input class=\"sk-toggleable__control sk-hidden--visually\" id=\"sk-estimator-id-4\" type=\"checkbox\" ><label for=\"sk-estimator-id-4\" class=\"sk-toggleable__label sk-toggleable__label-arrow\">GridSearchCV</label><div class=\"sk-toggleable__content\"><pre>GridSearchCV(cv=5,\n",
       "             estimator=LatentDirichletAllocation(learning_method=&#x27;online&#x27;),\n",
       "             n_jobs=-1,\n",
       "             param_grid={&#x27;learning_decay&#x27;: [0.5], &#x27;n_components&#x27;: [5]},\n",
       "             verbose=3)</pre></div></div></div><div class=\"sk-parallel\"><div class=\"sk-parallel-item\"><div class=\"sk-item\"><div class=\"sk-label-container\"><div class=\"sk-label sk-toggleable\"><input class=\"sk-toggleable__control sk-hidden--visually\" id=\"sk-estimator-id-5\" type=\"checkbox\" ><label for=\"sk-estimator-id-5\" class=\"sk-toggleable__label sk-toggleable__label-arrow\">estimator: LatentDirichletAllocation</label><div class=\"sk-toggleable__content\"><pre>LatentDirichletAllocation(learning_method=&#x27;online&#x27;)</pre></div></div></div><div class=\"sk-serial\"><div class=\"sk-item\"><div class=\"sk-estimator sk-toggleable\"><input class=\"sk-toggleable__control sk-hidden--visually\" id=\"sk-estimator-id-6\" type=\"checkbox\" ><label for=\"sk-estimator-id-6\" class=\"sk-toggleable__label sk-toggleable__label-arrow\">LatentDirichletAllocation</label><div class=\"sk-toggleable__content\"><pre>LatentDirichletAllocation(learning_method=&#x27;online&#x27;)</pre></div></div></div></div></div></div></div></div></div></div>"
      ],
      "text/plain": [
       "GridSearchCV(cv=5,\n",
       "             estimator=LatentDirichletAllocation(learning_method='online'),\n",
       "             n_jobs=-1,\n",
       "             param_grid={'learning_decay': [0.5], 'n_components': [5]},\n",
       "             verbose=3)"
      ]
     },
     "execution_count": 19,
     "metadata": {},
     "output_type": "execute_result"
    }
   ],
   "source": [
    "model_gridcv_i.fit(count)"
   ]
  },
  {
   "cell_type": "code",
   "execution_count": 20,
   "metadata": {},
   "outputs": [
    {
     "name": "stdout",
     "output_type": "stream",
     "text": [
      "\n",
      "Mejores hiper parametros: {'learning_decay': 0.5, 'n_components': 5}\n",
      "Mejor Puntaje: -2554322.3985871635\n"
     ]
    }
   ],
   "source": [
    "print(f'''\n",
    "Mejores hiper parametros: {model_gridcv_i.best_params_}\n",
    "Mejor Puntaje: {model_gridcv_i.best_score_}''')"
   ]
  },
  {
   "cell_type": "code",
   "execution_count": 21,
   "metadata": {},
   "outputs": [
    {
     "data": {
      "text/html": [
       "<style>#sk-container-id-3 {color: black;background-color: white;}#sk-container-id-3 pre{padding: 0;}#sk-container-id-3 div.sk-toggleable {background-color: white;}#sk-container-id-3 label.sk-toggleable__label {cursor: pointer;display: block;width: 100%;margin-bottom: 0;padding: 0.3em;box-sizing: border-box;text-align: center;}#sk-container-id-3 label.sk-toggleable__label-arrow:before {content: \"▸\";float: left;margin-right: 0.25em;color: #696969;}#sk-container-id-3 label.sk-toggleable__label-arrow:hover:before {color: black;}#sk-container-id-3 div.sk-estimator:hover label.sk-toggleable__label-arrow:before {color: black;}#sk-container-id-3 div.sk-toggleable__content {max-height: 0;max-width: 0;overflow: hidden;text-align: left;background-color: #f0f8ff;}#sk-container-id-3 div.sk-toggleable__content pre {margin: 0.2em;color: black;border-radius: 0.25em;background-color: #f0f8ff;}#sk-container-id-3 input.sk-toggleable__control:checked~div.sk-toggleable__content {max-height: 200px;max-width: 100%;overflow: auto;}#sk-container-id-3 input.sk-toggleable__control:checked~label.sk-toggleable__label-arrow:before {content: \"▾\";}#sk-container-id-3 div.sk-estimator input.sk-toggleable__control:checked~label.sk-toggleable__label {background-color: #d4ebff;}#sk-container-id-3 div.sk-label input.sk-toggleable__control:checked~label.sk-toggleable__label {background-color: #d4ebff;}#sk-container-id-3 input.sk-hidden--visually {border: 0;clip: rect(1px 1px 1px 1px);clip: rect(1px, 1px, 1px, 1px);height: 1px;margin: -1px;overflow: hidden;padding: 0;position: absolute;width: 1px;}#sk-container-id-3 div.sk-estimator {font-family: monospace;background-color: #f0f8ff;border: 1px dotted black;border-radius: 0.25em;box-sizing: border-box;margin-bottom: 0.5em;}#sk-container-id-3 div.sk-estimator:hover {background-color: #d4ebff;}#sk-container-id-3 div.sk-parallel-item::after {content: \"\";width: 100%;border-bottom: 1px solid gray;flex-grow: 1;}#sk-container-id-3 div.sk-label:hover label.sk-toggleable__label {background-color: #d4ebff;}#sk-container-id-3 div.sk-serial::before {content: \"\";position: absolute;border-left: 1px solid gray;box-sizing: border-box;top: 0;bottom: 0;left: 50%;z-index: 0;}#sk-container-id-3 div.sk-serial {display: flex;flex-direction: column;align-items: center;background-color: white;padding-right: 0.2em;padding-left: 0.2em;position: relative;}#sk-container-id-3 div.sk-item {position: relative;z-index: 1;}#sk-container-id-3 div.sk-parallel {display: flex;align-items: stretch;justify-content: center;background-color: white;position: relative;}#sk-container-id-3 div.sk-item::before, #sk-container-id-3 div.sk-parallel-item::before {content: \"\";position: absolute;border-left: 1px solid gray;box-sizing: border-box;top: 0;bottom: 0;left: 50%;z-index: -1;}#sk-container-id-3 div.sk-parallel-item {display: flex;flex-direction: column;z-index: 1;position: relative;background-color: white;}#sk-container-id-3 div.sk-parallel-item:first-child::after {align-self: flex-end;width: 50%;}#sk-container-id-3 div.sk-parallel-item:last-child::after {align-self: flex-start;width: 50%;}#sk-container-id-3 div.sk-parallel-item:only-child::after {width: 0;}#sk-container-id-3 div.sk-dashed-wrapped {border: 1px dashed gray;margin: 0 0.4em 0.5em 0.4em;box-sizing: border-box;padding-bottom: 0.4em;background-color: white;}#sk-container-id-3 div.sk-label label {font-family: monospace;font-weight: bold;display: inline-block;line-height: 1.2em;}#sk-container-id-3 div.sk-label-container {text-align: center;}#sk-container-id-3 div.sk-container {/* jupyter's `normalize.less` sets `[hidden] { display: none; }` but bootstrap.min.css set `[hidden] { display: none !important; }` so we also need the `!important` here to be able to override the default hidden behavior on the sphinx rendered scikit-learn.org. See: https://github.com/scikit-learn/scikit-learn/issues/21755 */display: inline-block !important;position: relative;}#sk-container-id-3 div.sk-text-repr-fallback {display: none;}</style><div id=\"sk-container-id-3\" class=\"sk-top-container\"><div class=\"sk-text-repr-fallback\"><pre>LatentDirichletAllocation(learning_decay=0.5, learning_method=&#x27;online&#x27;,\n",
       "                          n_components=5)</pre><b>In a Jupyter environment, please rerun this cell to show the HTML representation or trust the notebook. <br />On GitHub, the HTML representation is unable to render, please try loading this page with nbviewer.org.</b></div><div class=\"sk-container\" hidden><div class=\"sk-item\"><div class=\"sk-estimator sk-toggleable\"><input class=\"sk-toggleable__control sk-hidden--visually\" id=\"sk-estimator-id-7\" type=\"checkbox\" checked><label for=\"sk-estimator-id-7\" class=\"sk-toggleable__label sk-toggleable__label-arrow\">LatentDirichletAllocation</label><div class=\"sk-toggleable__content\"><pre>LatentDirichletAllocation(learning_decay=0.5, learning_method=&#x27;online&#x27;,\n",
       "                          n_components=5)</pre></div></div></div></div></div>"
      ],
      "text/plain": [
       "LatentDirichletAllocation(learning_decay=0.5, learning_method='online',\n",
       "                          n_components=5)"
      ]
     },
     "execution_count": 21,
     "metadata": {},
     "output_type": "execute_result"
    }
   ],
   "source": [
    "best_estimator = model_gridcv_i.best_estimator_\n",
    "best_estimator "
   ]
  },
  {
   "cell_type": "code",
   "execution_count": 22,
   "metadata": {},
   "outputs": [
    {
     "name": "stdout",
     "output_type": "stream",
     "text": [
      "tópico: 1\n",
      "ah future da song moment page lyrics able random display hopefully licensed unfortunately doo ba\n",
      "tópico: 2\n",
      "don love know oh yeah just got ll want let say like baby come ve\n",
      "tópico: 3\n",
      "like got shit yo nigga ain fuck man em niggas don cause ya know bitch\n",
      "tópico: 4\n",
      "life god world la die death soul eyes blood dead time pain ve mind war\n",
      "tópico: 5\n",
      "like night man home day sun ll just old light days time away run said\n"
     ]
    }
   ],
   "source": [
    "\n",
    "# mediante .components_ podemos extraer una matriz que entrega las\n",
    "# distribución de palabras por cada tópico.\n",
    "for topic_id, topic_name in enumerate(best_estimator.components_):\n",
    "        # para cada tópico\n",
    "        print(\"tópico: {}\".format(topic_id + 1))\n",
    "        # mediante argsort logramos ordenar los elementos por magnitud\n",
    "        # para los elementos más relevantes ordenados por argsort, buscamos su correlativo\n",
    "        # en la matriz dispersa y devolvemos el nombre.\n",
    "        # finalmente concatenamos las palabras\n",
    "        print(\" \".join([count_vectorizer.get_feature_names()[i] for i in topic_name.argsort()[:-15 - 1: -1]]))"
   ]
  },
  {
   "cell_type": "code",
   "execution_count": 23,
   "metadata": {},
   "outputs": [
    {
     "data": {
      "text/plain": [
       "array(['metal', 'hiphop', 'rock', 'pop'], dtype=object)"
      ]
     },
     "execution_count": 23,
     "metadata": {},
     "output_type": "execute_result"
    }
   ],
   "source": [
    "# Vista de clases\n",
    "df_letras['Genero'].unique()"
   ]
  },
  {
   "cell_type": "markdown",
   "metadata": {},
   "source": [
    "- Comente a qué tópicos está asociada cada clase inferida."
   ]
  },
  {
   "cell_type": "markdown",
   "metadata": {},
   "source": []
  },
  {
   "cell_type": "markdown",
   "metadata": {},
   "source": [
    "### Ejercicio 5: Identificación de probabilidades\n",
    "- En base a la información generada, es posible identificar cuales van a ser los géneros\n",
    "  más probables de ocurrir para un artista.\n",
    "- Para ello necesitamos guardar la probabilidad de cada canción en nuestra base de\n",
    "  datos original. Podemos implementar esto de la siguiente manera:"
   ]
  },
  {
   "cell_type": "code",
   "execution_count": 24,
   "metadata": {},
   "outputs": [],
   "source": [
    "# generamos una transformación de los datos a distribución de tópico por palabra en el documento\n",
    "fit_best_lda = best_estimator.transform(count_vectorizer_fit)\n",
    "# esta transformación la podemos coaccionar a un dataframe de la siguiente manera\n",
    "# pasamos esta matriz y la redondeamos en 3 decimales\n",
    "# agregamos un índice\n",
    "topics_for_each_doc = pd.DataFrame(np.round(fit_best_lda, 3), index = df_letras.index)\n",
    "# agregamos identificadores de columna\n",
    "topics_for_each_doc.columns = list(map(lambda x: \"T: {}\".format(x), range(1, best_estimator.n_components + 1)))\n",
    "# concatenamos las probabilidades de tópico por documento a nuestra matriz original\n",
    "concatenated_df = pd.concat([df_letras, topics_for_each_doc], axis=1)\n",
    "# argmax en la matriz de tópicos\n",
    "concatenated_df['highest_topic'] = np.argmax(topics_for_each_doc.values, axis=1) + 1"
   ]
  },
  {
   "cell_type": "code",
   "execution_count": 25,
   "metadata": {},
   "outputs": [
    {
     "data": {
      "text/html": [
       "<div>\n",
       "<style scoped>\n",
       "    .dataframe tbody tr th:only-of-type {\n",
       "        vertical-align: middle;\n",
       "    }\n",
       "\n",
       "    .dataframe tbody tr th {\n",
       "        vertical-align: top;\n",
       "    }\n",
       "\n",
       "    .dataframe thead th {\n",
       "        text-align: right;\n",
       "    }\n",
       "</style>\n",
       "<table border=\"1\" class=\"dataframe\">\n",
       "  <thead>\n",
       "    <tr style=\"text-align: right;\">\n",
       "      <th></th>\n",
       "      <th>Artista</th>\n",
       "      <th>Genero</th>\n",
       "      <th>Cancion</th>\n",
       "      <th>Letra</th>\n",
       "      <th>T: 1</th>\n",
       "      <th>T: 2</th>\n",
       "      <th>T: 3</th>\n",
       "      <th>T: 4</th>\n",
       "      <th>T: 5</th>\n",
       "      <th>highest_topic</th>\n",
       "    </tr>\n",
       "  </thead>\n",
       "  <tbody>\n",
       "    <tr>\n",
       "      <th>0</th>\n",
       "      <td>Anthrax</td>\n",
       "      <td>metal</td>\n",
       "      <td>Deathrider</td>\n",
       "      <td>Riding hard, high in the saddle \\n Winged stee...</td>\n",
       "      <td>0.004</td>\n",
       "      <td>0.056</td>\n",
       "      <td>0.057</td>\n",
       "      <td>0.556</td>\n",
       "      <td>0.328</td>\n",
       "      <td>4</td>\n",
       "    </tr>\n",
       "    <tr>\n",
       "      <th>1</th>\n",
       "      <td>Anthrax</td>\n",
       "      <td>metal</td>\n",
       "      <td>Metal Thrashing Mad</td>\n",
       "      <td>Racing down the road \\n In a street machine of...</td>\n",
       "      <td>0.004</td>\n",
       "      <td>0.198</td>\n",
       "      <td>0.004</td>\n",
       "      <td>0.004</td>\n",
       "      <td>0.790</td>\n",
       "      <td>5</td>\n",
       "    </tr>\n",
       "    <tr>\n",
       "      <th>2</th>\n",
       "      <td>Anthrax</td>\n",
       "      <td>metal</td>\n",
       "      <td>I'm Eighteen</td>\n",
       "      <td>Lines form on my face and hands \\n Lines form ...</td>\n",
       "      <td>0.049</td>\n",
       "      <td>0.480</td>\n",
       "      <td>0.002</td>\n",
       "      <td>0.002</td>\n",
       "      <td>0.468</td>\n",
       "      <td>2</td>\n",
       "    </tr>\n",
       "    <tr>\n",
       "      <th>3</th>\n",
       "      <td>Anthrax</td>\n",
       "      <td>metal</td>\n",
       "      <td>Panic</td>\n",
       "      <td>Move it to the front \\n Reaching for the light...</td>\n",
       "      <td>0.003</td>\n",
       "      <td>0.483</td>\n",
       "      <td>0.058</td>\n",
       "      <td>0.275</td>\n",
       "      <td>0.182</td>\n",
       "      <td>2</td>\n",
       "    </tr>\n",
       "    <tr>\n",
       "      <th>4</th>\n",
       "      <td>Anthrax</td>\n",
       "      <td>metal</td>\n",
       "      <td>Subjugator</td>\n",
       "      <td>Out in the streets \\n We're fighting tonight \\...</td>\n",
       "      <td>0.003</td>\n",
       "      <td>0.003</td>\n",
       "      <td>0.036</td>\n",
       "      <td>0.539</td>\n",
       "      <td>0.420</td>\n",
       "      <td>4</td>\n",
       "    </tr>\n",
       "  </tbody>\n",
       "</table>\n",
       "</div>"
      ],
      "text/plain": [
       "   Artista Genero              Cancion  \\\n",
       "0  Anthrax  metal           Deathrider   \n",
       "1  Anthrax  metal  Metal Thrashing Mad   \n",
       "2  Anthrax  metal         I'm Eighteen   \n",
       "3  Anthrax  metal                Panic   \n",
       "4  Anthrax  metal           Subjugator   \n",
       "\n",
       "                                               Letra   T: 1   T: 2   T: 3  \\\n",
       "0  Riding hard, high in the saddle \\n Winged stee...  0.004  0.056  0.057   \n",
       "1  Racing down the road \\n In a street machine of...  0.004  0.198  0.004   \n",
       "2  Lines form on my face and hands \\n Lines form ...  0.049  0.480  0.002   \n",
       "3  Move it to the front \\n Reaching for the light...  0.003  0.483  0.058   \n",
       "4  Out in the streets \\n We're fighting tonight \\...  0.003  0.003  0.036   \n",
       "\n",
       "    T: 4   T: 5  highest_topic  \n",
       "0  0.556  0.328              4  \n",
       "1  0.004  0.790              5  \n",
       "2  0.002  0.468              2  \n",
       "3  0.275  0.182              2  \n",
       "4  0.539  0.420              4  "
      ]
     },
     "execution_count": 25,
     "metadata": {},
     "output_type": "execute_result"
    }
   ],
   "source": [
    "# DataFrame con la probabilidad de los topicos para cada clase\n",
    "concatenated_df.head()"
   ]
  },
  {
   "cell_type": "code",
   "execution_count": 26,
   "metadata": {},
   "outputs": [
    {
     "data": {
      "text/html": [
       "<div>\n",
       "<style scoped>\n",
       "    .dataframe tbody tr th:only-of-type {\n",
       "        vertical-align: middle;\n",
       "    }\n",
       "\n",
       "    .dataframe tbody tr th {\n",
       "        vertical-align: top;\n",
       "    }\n",
       "\n",
       "    .dataframe thead th {\n",
       "        text-align: right;\n",
       "    }\n",
       "</style>\n",
       "<table border=\"1\" class=\"dataframe\">\n",
       "  <thead>\n",
       "    <tr style=\"text-align: right;\">\n",
       "      <th></th>\n",
       "      <th>Artista</th>\n",
       "      <th>Genero</th>\n",
       "      <th>Cancion</th>\n",
       "      <th>Letra</th>\n",
       "      <th>T: 1</th>\n",
       "      <th>T: 2</th>\n",
       "      <th>T: 3</th>\n",
       "      <th>T: 4</th>\n",
       "      <th>T: 5</th>\n",
       "      <th>highest_topic</th>\n",
       "    </tr>\n",
       "  </thead>\n",
       "  <tbody>\n",
       "    <tr>\n",
       "      <th>136</th>\n",
       "      <td>The Clash</td>\n",
       "      <td>rock</td>\n",
       "      <td>First Night Back In London</td>\n",
       "      <td>The mini cab \\n The driver is black \\n This ti...</td>\n",
       "      <td>0.004</td>\n",
       "      <td>0.067</td>\n",
       "      <td>0.274</td>\n",
       "      <td>0.004</td>\n",
       "      <td>0.651</td>\n",
       "      <td>5</td>\n",
       "    </tr>\n",
       "    <tr>\n",
       "      <th>295</th>\n",
       "      <td>Bruce Springsteen</td>\n",
       "      <td>rock</td>\n",
       "      <td>Outside Looking In</td>\n",
       "      <td>It's all over now, the thing we had \\n I ain't...</td>\n",
       "      <td>0.002</td>\n",
       "      <td>0.671</td>\n",
       "      <td>0.002</td>\n",
       "      <td>0.065</td>\n",
       "      <td>0.259</td>\n",
       "      <td>2</td>\n",
       "    </tr>\n",
       "    <tr>\n",
       "      <th>126</th>\n",
       "      <td>The Beatles</td>\n",
       "      <td>rock</td>\n",
       "      <td>While My Guitar Gently Weeps</td>\n",
       "      <td>I look at you all \\n See the love there that's...</td>\n",
       "      <td>0.003</td>\n",
       "      <td>0.487</td>\n",
       "      <td>0.003</td>\n",
       "      <td>0.290</td>\n",
       "      <td>0.217</td>\n",
       "      <td>2</td>\n",
       "    </tr>\n",
       "    <tr>\n",
       "      <th>434</th>\n",
       "      <td>Bruce Springsteen</td>\n",
       "      <td>rock</td>\n",
       "      <td>Arabian Nights</td>\n",
       "      <td>Shrieks of Sheiks as they run across the movie...</td>\n",
       "      <td>0.008</td>\n",
       "      <td>0.270</td>\n",
       "      <td>0.134</td>\n",
       "      <td>0.120</td>\n",
       "      <td>0.467</td>\n",
       "      <td>5</td>\n",
       "    </tr>\n",
       "    <tr>\n",
       "      <th>215</th>\n",
       "      <td>The Smashing Pumpkins</td>\n",
       "      <td>rock</td>\n",
       "      <td>Inkless</td>\n",
       "      <td>The stars are out tonight \\n And what you need...</td>\n",
       "      <td>0.003</td>\n",
       "      <td>0.499</td>\n",
       "      <td>0.003</td>\n",
       "      <td>0.262</td>\n",
       "      <td>0.233</td>\n",
       "      <td>2</td>\n",
       "    </tr>\n",
       "    <tr>\n",
       "      <th>57</th>\n",
       "      <td>Megadeth</td>\n",
       "      <td>metal</td>\n",
       "      <td>Millennium Of The Blind</td>\n",
       "      <td>At the start of time \\n Many centuries ago \\n ...</td>\n",
       "      <td>0.009</td>\n",
       "      <td>0.009</td>\n",
       "      <td>0.009</td>\n",
       "      <td>0.783</td>\n",
       "      <td>0.190</td>\n",
       "      <td>4</td>\n",
       "    </tr>\n",
       "    <tr>\n",
       "      <th>184</th>\n",
       "      <td>Britney Spears</td>\n",
       "      <td>pop</td>\n",
       "      <td>Right Now (Taste The Victory)</td>\n",
       "      <td>Are you ready for me? \\n Yeah! I Thought So \\n...</td>\n",
       "      <td>0.002</td>\n",
       "      <td>0.849</td>\n",
       "      <td>0.002</td>\n",
       "      <td>0.145</td>\n",
       "      <td>0.002</td>\n",
       "      <td>2</td>\n",
       "    </tr>\n",
       "    <tr>\n",
       "      <th>145</th>\n",
       "      <td>Cannibal Corpse</td>\n",
       "      <td>metal</td>\n",
       "      <td>Rabid</td>\n",
       "      <td>Like a virus of the mind \\n My rage will sprea...</td>\n",
       "      <td>0.140</td>\n",
       "      <td>0.002</td>\n",
       "      <td>0.023</td>\n",
       "      <td>0.755</td>\n",
       "      <td>0.080</td>\n",
       "      <td>4</td>\n",
       "    </tr>\n",
       "    <tr>\n",
       "      <th>51</th>\n",
       "      <td>Tool</td>\n",
       "      <td>metal</td>\n",
       "      <td>Rosetta Stoned</td>\n",
       "      <td>All righty, then... picture this if you will \\...</td>\n",
       "      <td>0.028</td>\n",
       "      <td>0.533</td>\n",
       "      <td>0.204</td>\n",
       "      <td>0.130</td>\n",
       "      <td>0.104</td>\n",
       "      <td>2</td>\n",
       "    </tr>\n",
       "    <tr>\n",
       "      <th>42</th>\n",
       "      <td>Eminem</td>\n",
       "      <td>hiphop</td>\n",
       "      <td>Stan</td>\n",
       "      <td>My tea's gone cold I'm wondering why I \\n Got ...</td>\n",
       "      <td>0.000</td>\n",
       "      <td>0.493</td>\n",
       "      <td>0.299</td>\n",
       "      <td>0.017</td>\n",
       "      <td>0.191</td>\n",
       "      <td>2</td>\n",
       "    </tr>\n",
       "    <tr>\n",
       "      <th>171</th>\n",
       "      <td>Kanye West</td>\n",
       "      <td>hiphop</td>\n",
       "      <td>Half Price</td>\n",
       "      <td>(Intro: woman (Kanye West)) \\n (First of all, ...</td>\n",
       "      <td>0.001</td>\n",
       "      <td>0.299</td>\n",
       "      <td>0.645</td>\n",
       "      <td>0.001</td>\n",
       "      <td>0.055</td>\n",
       "      <td>3</td>\n",
       "    </tr>\n",
       "    <tr>\n",
       "      <th>104</th>\n",
       "      <td>Incubus</td>\n",
       "      <td>rock</td>\n",
       "      <td>Thieves</td>\n",
       "      <td>You're happy all the time \\n I just don't unde...</td>\n",
       "      <td>0.012</td>\n",
       "      <td>0.418</td>\n",
       "      <td>0.002</td>\n",
       "      <td>0.146</td>\n",
       "      <td>0.422</td>\n",
       "      <td>5</td>\n",
       "    </tr>\n",
       "    <tr>\n",
       "      <th>244</th>\n",
       "      <td>Michael Jackson</td>\n",
       "      <td>pop</td>\n",
       "      <td>Lost Children</td>\n",
       "      <td>We pray for our fathers, pray for our mothers ...</td>\n",
       "      <td>0.003</td>\n",
       "      <td>0.034</td>\n",
       "      <td>0.003</td>\n",
       "      <td>0.163</td>\n",
       "      <td>0.797</td>\n",
       "      <td>5</td>\n",
       "    </tr>\n",
       "    <tr>\n",
       "      <th>85</th>\n",
       "      <td>Opeth</td>\n",
       "      <td>metal</td>\n",
       "      <td>Persephone</td>\n",
       "      <td>A beloved name inside my heart \\n A fleeting g...</td>\n",
       "      <td>0.015</td>\n",
       "      <td>0.016</td>\n",
       "      <td>0.016</td>\n",
       "      <td>0.825</td>\n",
       "      <td>0.128</td>\n",
       "      <td>4</td>\n",
       "    </tr>\n",
       "    <tr>\n",
       "      <th>78</th>\n",
       "      <td>Kanye West</td>\n",
       "      <td>hiphop</td>\n",
       "      <td>Blame Game</td>\n",
       "      <td>Whose fault? \\n John Legend: \\n Let's play the...</td>\n",
       "      <td>0.008</td>\n",
       "      <td>0.496</td>\n",
       "      <td>0.386</td>\n",
       "      <td>0.057</td>\n",
       "      <td>0.053</td>\n",
       "      <td>2</td>\n",
       "    </tr>\n",
       "    <tr>\n",
       "      <th>34</th>\n",
       "      <td>The Smashing Pumpkins</td>\n",
       "      <td>rock</td>\n",
       "      <td>Pissant</td>\n",
       "      <td>Got me a raygun \\n Got me an altitude \\n Can't...</td>\n",
       "      <td>0.003</td>\n",
       "      <td>0.874</td>\n",
       "      <td>0.003</td>\n",
       "      <td>0.117</td>\n",
       "      <td>0.003</td>\n",
       "      <td>2</td>\n",
       "    </tr>\n",
       "    <tr>\n",
       "      <th>12</th>\n",
       "      <td>Mobb Deep</td>\n",
       "      <td>hiphop</td>\n",
       "      <td>Flavor For The Non Believes</td>\n",
       "      <td>(Havoc) \\n Yo... this is flavor for the non be...</td>\n",
       "      <td>0.021</td>\n",
       "      <td>0.102</td>\n",
       "      <td>0.723</td>\n",
       "      <td>0.091</td>\n",
       "      <td>0.063</td>\n",
       "      <td>3</td>\n",
       "    </tr>\n",
       "    <tr>\n",
       "      <th>210</th>\n",
       "      <td>Bruce Springsteen</td>\n",
       "      <td>rock</td>\n",
       "      <td>Countin' On A Miracle</td>\n",
       "      <td>It's a fairytale so tragic \\n There's no princ...</td>\n",
       "      <td>0.001</td>\n",
       "      <td>0.704</td>\n",
       "      <td>0.010</td>\n",
       "      <td>0.233</td>\n",
       "      <td>0.051</td>\n",
       "      <td>2</td>\n",
       "    </tr>\n",
       "    <tr>\n",
       "      <th>126</th>\n",
       "      <td>Michael Jackson</td>\n",
       "      <td>pop</td>\n",
       "      <td>Heartbreaker</td>\n",
       "      <td>Deceitful eyes, she's got those come get me th...</td>\n",
       "      <td>0.007</td>\n",
       "      <td>0.835</td>\n",
       "      <td>0.001</td>\n",
       "      <td>0.083</td>\n",
       "      <td>0.074</td>\n",
       "      <td>2</td>\n",
       "    </tr>\n",
       "    <tr>\n",
       "      <th>46</th>\n",
       "      <td>Nicki Minaj</td>\n",
       "      <td>pop</td>\n",
       "      <td>Dang A Lang</td>\n",
       "      <td>Excuse me, can I see your dang a lang brother ...</td>\n",
       "      <td>0.204</td>\n",
       "      <td>0.079</td>\n",
       "      <td>0.518</td>\n",
       "      <td>0.003</td>\n",
       "      <td>0.196</td>\n",
       "      <td>3</td>\n",
       "    </tr>\n",
       "    <tr>\n",
       "      <th>200</th>\n",
       "      <td>Michael Jackson</td>\n",
       "      <td>pop</td>\n",
       "      <td>Worlds Together</td>\n",
       "      <td>(Start) \\n The first day I saw your face, \\n M...</td>\n",
       "      <td>0.003</td>\n",
       "      <td>0.400</td>\n",
       "      <td>0.004</td>\n",
       "      <td>0.416</td>\n",
       "      <td>0.177</td>\n",
       "      <td>4</td>\n",
       "    </tr>\n",
       "    <tr>\n",
       "      <th>45</th>\n",
       "      <td>The Smashing Pumpkins</td>\n",
       "      <td>rock</td>\n",
       "      <td>Jellybelly</td>\n",
       "      <td>Welcome to nowhere fast \\n Nothing here ever l...</td>\n",
       "      <td>0.006</td>\n",
       "      <td>0.506</td>\n",
       "      <td>0.006</td>\n",
       "      <td>0.476</td>\n",
       "      <td>0.006</td>\n",
       "      <td>2</td>\n",
       "    </tr>\n",
       "    <tr>\n",
       "      <th>63</th>\n",
       "      <td>The Smiths</td>\n",
       "      <td>rock</td>\n",
       "      <td>Paint A Vulgar Picture</td>\n",
       "      <td>At the record company meeting \\n On their hand...</td>\n",
       "      <td>0.011</td>\n",
       "      <td>0.397</td>\n",
       "      <td>0.121</td>\n",
       "      <td>0.128</td>\n",
       "      <td>0.343</td>\n",
       "      <td>2</td>\n",
       "    </tr>\n",
       "    <tr>\n",
       "      <th>218</th>\n",
       "      <td>Ghostface Killah</td>\n",
       "      <td>hiphop</td>\n",
       "      <td>Fast Life</td>\n",
       "      <td>(Feat. Andre Rison) \\n Yeah \\n Word \\n No doub...</td>\n",
       "      <td>0.001</td>\n",
       "      <td>0.134</td>\n",
       "      <td>0.392</td>\n",
       "      <td>0.201</td>\n",
       "      <td>0.272</td>\n",
       "      <td>3</td>\n",
       "    </tr>\n",
       "    <tr>\n",
       "      <th>48</th>\n",
       "      <td>Britney Spears</td>\n",
       "      <td>pop</td>\n",
       "      <td>Early Mornin'</td>\n",
       "      <td>spoken: \\n All right, \\n I was out a little la...</td>\n",
       "      <td>0.002</td>\n",
       "      <td>0.571</td>\n",
       "      <td>0.091</td>\n",
       "      <td>0.002</td>\n",
       "      <td>0.335</td>\n",
       "      <td>2</td>\n",
       "    </tr>\n",
       "    <tr>\n",
       "      <th>81</th>\n",
       "      <td>Slayer</td>\n",
       "      <td>metal</td>\n",
       "      <td>Perversions Of Pain</td>\n",
       "      <td>You better learn my name \\n Cause I'm the one ...</td>\n",
       "      <td>0.042</td>\n",
       "      <td>0.002</td>\n",
       "      <td>0.109</td>\n",
       "      <td>0.822</td>\n",
       "      <td>0.025</td>\n",
       "      <td>4</td>\n",
       "    </tr>\n",
       "    <tr>\n",
       "      <th>204</th>\n",
       "      <td>The Doors</td>\n",
       "      <td>rock</td>\n",
       "      <td>Queen Of The Magazines</td>\n",
       "      <td>All right, all right, all right \\n All right, ...</td>\n",
       "      <td>0.044</td>\n",
       "      <td>0.779</td>\n",
       "      <td>0.169</td>\n",
       "      <td>0.004</td>\n",
       "      <td>0.004</td>\n",
       "      <td>2</td>\n",
       "    </tr>\n",
       "    <tr>\n",
       "      <th>128</th>\n",
       "      <td>Pink Floyd</td>\n",
       "      <td>rock</td>\n",
       "      <td>Louder Than Words</td>\n",
       "      <td>We bitch and we fight \\n Diss each other on si...</td>\n",
       "      <td>0.002</td>\n",
       "      <td>0.137</td>\n",
       "      <td>0.058</td>\n",
       "      <td>0.353</td>\n",
       "      <td>0.449</td>\n",
       "      <td>5</td>\n",
       "    </tr>\n",
       "    <tr>\n",
       "      <th>352</th>\n",
       "      <td>Eminem</td>\n",
       "      <td>hiphop</td>\n",
       "      <td>I'm Gone</td>\n",
       "      <td>(Eminem) + (Obie Trice) \\n KaySlay! (Yeah) Yo....</td>\n",
       "      <td>0.012</td>\n",
       "      <td>0.256</td>\n",
       "      <td>0.651</td>\n",
       "      <td>0.081</td>\n",
       "      <td>0.001</td>\n",
       "      <td>3</td>\n",
       "    </tr>\n",
       "    <tr>\n",
       "      <th>20</th>\n",
       "      <td>Vital Remains</td>\n",
       "      <td>metal</td>\n",
       "      <td>Sanctity In Blasphemous Ruin</td>\n",
       "      <td>Welcome to my dwellings of unholiness \\n Uphel...</td>\n",
       "      <td>0.018</td>\n",
       "      <td>0.002</td>\n",
       "      <td>0.002</td>\n",
       "      <td>0.975</td>\n",
       "      <td>0.002</td>\n",
       "      <td>4</td>\n",
       "    </tr>\n",
       "    <tr>\n",
       "      <th>51</th>\n",
       "      <td>MF Doom</td>\n",
       "      <td>hiphop</td>\n",
       "      <td>Blunt Drunk (All Outta Ale Remix)</td>\n",
       "      <td>(MF Doom) \\n Smack it up, flip it, pulled out,...</td>\n",
       "      <td>0.016</td>\n",
       "      <td>0.218</td>\n",
       "      <td>0.517</td>\n",
       "      <td>0.016</td>\n",
       "      <td>0.234</td>\n",
       "      <td>3</td>\n",
       "    </tr>\n",
       "    <tr>\n",
       "      <th>66</th>\n",
       "      <td>System of a Down</td>\n",
       "      <td>rock</td>\n",
       "      <td>She's Like Heroin</td>\n",
       "      <td>She's like heroin \\n Sipping through a little ...</td>\n",
       "      <td>0.002</td>\n",
       "      <td>0.274</td>\n",
       "      <td>0.622</td>\n",
       "      <td>0.002</td>\n",
       "      <td>0.101</td>\n",
       "      <td>3</td>\n",
       "    </tr>\n",
       "    <tr>\n",
       "      <th>28</th>\n",
       "      <td>Cannibal Corpse</td>\n",
       "      <td>metal</td>\n",
       "      <td>Beyond The Cemetery</td>\n",
       "      <td>Nude and violated I raped the life from her bo...</td>\n",
       "      <td>0.034</td>\n",
       "      <td>0.002</td>\n",
       "      <td>0.002</td>\n",
       "      <td>0.829</td>\n",
       "      <td>0.134</td>\n",
       "      <td>4</td>\n",
       "    </tr>\n",
       "    <tr>\n",
       "      <th>29</th>\n",
       "      <td>SIA</td>\n",
       "      <td>pop</td>\n",
       "      <td>Natale's Song</td>\n",
       "      <td>I'm in the wars \\n Can't speak for crying \\n C...</td>\n",
       "      <td>0.154</td>\n",
       "      <td>0.005</td>\n",
       "      <td>0.005</td>\n",
       "      <td>0.542</td>\n",
       "      <td>0.294</td>\n",
       "      <td>4</td>\n",
       "    </tr>\n",
       "    <tr>\n",
       "      <th>17</th>\n",
       "      <td>Mobb Deep</td>\n",
       "      <td>hiphop</td>\n",
       "      <td>(Just Step Prelude)</td>\n",
       "      <td>(Havoc) \\n Sometimes I wish I had three differ...</td>\n",
       "      <td>0.002</td>\n",
       "      <td>0.103</td>\n",
       "      <td>0.487</td>\n",
       "      <td>0.075</td>\n",
       "      <td>0.333</td>\n",
       "      <td>3</td>\n",
       "    </tr>\n",
       "    <tr>\n",
       "      <th>56</th>\n",
       "      <td>Pink Floyd</td>\n",
       "      <td>rock</td>\n",
       "      <td>Money</td>\n",
       "      <td>Money, get away \\n Get a good job with more pa...</td>\n",
       "      <td>0.002</td>\n",
       "      <td>0.666</td>\n",
       "      <td>0.251</td>\n",
       "      <td>0.037</td>\n",
       "      <td>0.044</td>\n",
       "      <td>2</td>\n",
       "    </tr>\n",
       "    <tr>\n",
       "      <th>219</th>\n",
       "      <td>Michael Jackson</td>\n",
       "      <td>pop</td>\n",
       "      <td>Fight (Over Skit)</td>\n",
       "      <td>Do you ever wonder y we need to die or why do ...</td>\n",
       "      <td>0.002</td>\n",
       "      <td>0.821</td>\n",
       "      <td>0.021</td>\n",
       "      <td>0.153</td>\n",
       "      <td>0.002</td>\n",
       "      <td>2</td>\n",
       "    </tr>\n",
       "    <tr>\n",
       "      <th>32</th>\n",
       "      <td>Radiohead</td>\n",
       "      <td>rock</td>\n",
       "      <td>Street Spirit (Fade Out)</td>\n",
       "      <td>Rows of houses all bearing down on me \\n I can...</td>\n",
       "      <td>0.004</td>\n",
       "      <td>0.187</td>\n",
       "      <td>0.004</td>\n",
       "      <td>0.545</td>\n",
       "      <td>0.260</td>\n",
       "      <td>4</td>\n",
       "    </tr>\n",
       "    <tr>\n",
       "      <th>251</th>\n",
       "      <td>Britney Spears</td>\n",
       "      <td>pop</td>\n",
       "      <td>Love 2 Love U</td>\n",
       "      <td>I love to love ya \\n I can't stop dreamin' abo...</td>\n",
       "      <td>0.001</td>\n",
       "      <td>0.961</td>\n",
       "      <td>0.001</td>\n",
       "      <td>0.035</td>\n",
       "      <td>0.001</td>\n",
       "      <td>2</td>\n",
       "    </tr>\n",
       "    <tr>\n",
       "      <th>83</th>\n",
       "      <td>Opeth</td>\n",
       "      <td>metal</td>\n",
       "      <td>Voice Of Treason</td>\n",
       "      <td>The mist is sleeping on the water \\n And winte...</td>\n",
       "      <td>0.017</td>\n",
       "      <td>0.003</td>\n",
       "      <td>0.003</td>\n",
       "      <td>0.876</td>\n",
       "      <td>0.101</td>\n",
       "      <td>4</td>\n",
       "    </tr>\n",
       "    <tr>\n",
       "      <th>49</th>\n",
       "      <td>A Tribe Called Quest</td>\n",
       "      <td>hiphop</td>\n",
       "      <td>Mind Power</td>\n",
       "      <td>Featuring Consequence \\n Q-Tip: \\n Your new le...</td>\n",
       "      <td>0.010</td>\n",
       "      <td>0.130</td>\n",
       "      <td>0.740</td>\n",
       "      <td>0.065</td>\n",
       "      <td>0.055</td>\n",
       "      <td>3</td>\n",
       "    </tr>\n",
       "    <tr>\n",
       "      <th>16</th>\n",
       "      <td>Britney Spears</td>\n",
       "      <td>pop</td>\n",
       "      <td>Don't Go Knockin' On My Door</td>\n",
       "      <td>Don't go knock on my door \\n Don't go knock on...</td>\n",
       "      <td>0.001</td>\n",
       "      <td>0.871</td>\n",
       "      <td>0.107</td>\n",
       "      <td>0.002</td>\n",
       "      <td>0.019</td>\n",
       "      <td>2</td>\n",
       "    </tr>\n",
       "    <tr>\n",
       "      <th>44</th>\n",
       "      <td>Oasis</td>\n",
       "      <td>rock</td>\n",
       "      <td>Bonehead's Bank Holiday</td>\n",
       "      <td>You know I need a little break to get away for...</td>\n",
       "      <td>0.002</td>\n",
       "      <td>0.462</td>\n",
       "      <td>0.059</td>\n",
       "      <td>0.051</td>\n",
       "      <td>0.426</td>\n",
       "      <td>2</td>\n",
       "    </tr>\n",
       "    <tr>\n",
       "      <th>267</th>\n",
       "      <td>Michael Jackson</td>\n",
       "      <td>pop</td>\n",
       "      <td>Thriller Radio Disney Edit</td>\n",
       "      <td>It's close to midnight, and something evil's l...</td>\n",
       "      <td>0.130</td>\n",
       "      <td>0.357</td>\n",
       "      <td>0.019</td>\n",
       "      <td>0.289</td>\n",
       "      <td>0.205</td>\n",
       "      <td>2</td>\n",
       "    </tr>\n",
       "    <tr>\n",
       "      <th>9</th>\n",
       "      <td>MF Doom</td>\n",
       "      <td>hiphop</td>\n",
       "      <td>Who You Think I Am?</td>\n",
       "      <td>(Megalon) \\n Who you think I am, but who you w...</td>\n",
       "      <td>0.001</td>\n",
       "      <td>0.149</td>\n",
       "      <td>0.672</td>\n",
       "      <td>0.067</td>\n",
       "      <td>0.111</td>\n",
       "      <td>3</td>\n",
       "    </tr>\n",
       "    <tr>\n",
       "      <th>4</th>\n",
       "      <td>Necrophagist</td>\n",
       "      <td>metal</td>\n",
       "      <td>Culinary Hyperversity</td>\n",
       "      <td>Hateful I'm slashing, the head is removed \\n R...</td>\n",
       "      <td>0.278</td>\n",
       "      <td>0.002</td>\n",
       "      <td>0.147</td>\n",
       "      <td>0.545</td>\n",
       "      <td>0.028</td>\n",
       "      <td>4</td>\n",
       "    </tr>\n",
       "    <tr>\n",
       "      <th>209</th>\n",
       "      <td>Weezer</td>\n",
       "      <td>rock</td>\n",
       "      <td>Modern Dukes</td>\n",
       "      <td>Everytime that I turn around \\n And just hear ...</td>\n",
       "      <td>0.123</td>\n",
       "      <td>0.517</td>\n",
       "      <td>0.144</td>\n",
       "      <td>0.003</td>\n",
       "      <td>0.213</td>\n",
       "      <td>2</td>\n",
       "    </tr>\n",
       "    <tr>\n",
       "      <th>63</th>\n",
       "      <td>Faith No More</td>\n",
       "      <td>rock</td>\n",
       "      <td>Stripsearch</td>\n",
       "      <td>It's over today \\n The heat is gone \\n Time is...</td>\n",
       "      <td>0.004</td>\n",
       "      <td>0.631</td>\n",
       "      <td>0.004</td>\n",
       "      <td>0.004</td>\n",
       "      <td>0.357</td>\n",
       "      <td>2</td>\n",
       "    </tr>\n",
       "    <tr>\n",
       "      <th>308</th>\n",
       "      <td>Britney Spears</td>\n",
       "      <td>pop</td>\n",
       "      <td>Till The World Ends (The Femme Fatale Remix)</td>\n",
       "      <td>(Britney) \\n Till the world ends... Remix \\n (...</td>\n",
       "      <td>0.048</td>\n",
       "      <td>0.822</td>\n",
       "      <td>0.122</td>\n",
       "      <td>0.007</td>\n",
       "      <td>0.001</td>\n",
       "      <td>2</td>\n",
       "    </tr>\n",
       "    <tr>\n",
       "      <th>29</th>\n",
       "      <td>Kanye West</td>\n",
       "      <td>hiphop</td>\n",
       "      <td>Bring Me Down</td>\n",
       "      <td>Brandy: \\n I always knew that one day, they'd ...</td>\n",
       "      <td>0.001</td>\n",
       "      <td>0.662</td>\n",
       "      <td>0.333</td>\n",
       "      <td>0.001</td>\n",
       "      <td>0.001</td>\n",
       "      <td>2</td>\n",
       "    </tr>\n",
       "  </tbody>\n",
       "</table>\n",
       "</div>"
      ],
      "text/plain": [
       "                   Artista  Genero  \\\n",
       "136              The Clash    rock   \n",
       "295      Bruce Springsteen    rock   \n",
       "126            The Beatles    rock   \n",
       "434      Bruce Springsteen    rock   \n",
       "215  The Smashing Pumpkins    rock   \n",
       "57                Megadeth   metal   \n",
       "184         Britney Spears     pop   \n",
       "145        Cannibal Corpse   metal   \n",
       "51                    Tool   metal   \n",
       "42                  Eminem  hiphop   \n",
       "171             Kanye West  hiphop   \n",
       "104                Incubus    rock   \n",
       "244        Michael Jackson     pop   \n",
       "85                   Opeth   metal   \n",
       "78              Kanye West  hiphop   \n",
       "34   The Smashing Pumpkins    rock   \n",
       "12               Mobb Deep  hiphop   \n",
       "210      Bruce Springsteen    rock   \n",
       "126        Michael Jackson     pop   \n",
       "46             Nicki Minaj     pop   \n",
       "200        Michael Jackson     pop   \n",
       "45   The Smashing Pumpkins    rock   \n",
       "63              The Smiths    rock   \n",
       "218       Ghostface Killah  hiphop   \n",
       "48          Britney Spears     pop   \n",
       "81                  Slayer   metal   \n",
       "204              The Doors    rock   \n",
       "128             Pink Floyd    rock   \n",
       "352                 Eminem  hiphop   \n",
       "20           Vital Remains   metal   \n",
       "51                 MF Doom  hiphop   \n",
       "66        System of a Down    rock   \n",
       "28         Cannibal Corpse   metal   \n",
       "29                     SIA     pop   \n",
       "17               Mobb Deep  hiphop   \n",
       "56              Pink Floyd    rock   \n",
       "219        Michael Jackson     pop   \n",
       "32               Radiohead    rock   \n",
       "251         Britney Spears     pop   \n",
       "83                   Opeth   metal   \n",
       "49    A Tribe Called Quest  hiphop   \n",
       "16          Britney Spears     pop   \n",
       "44                   Oasis    rock   \n",
       "267        Michael Jackson     pop   \n",
       "9                  MF Doom  hiphop   \n",
       "4             Necrophagist   metal   \n",
       "209                 Weezer    rock   \n",
       "63           Faith No More    rock   \n",
       "308         Britney Spears     pop   \n",
       "29              Kanye West  hiphop   \n",
       "\n",
       "                                          Cancion  \\\n",
       "136                    First Night Back In London   \n",
       "295                            Outside Looking In   \n",
       "126                  While My Guitar Gently Weeps   \n",
       "434                                Arabian Nights   \n",
       "215                                       Inkless   \n",
       "57                        Millennium Of The Blind   \n",
       "184                 Right Now (Taste The Victory)   \n",
       "145                                         Rabid   \n",
       "51                                 Rosetta Stoned   \n",
       "42                                           Stan   \n",
       "171                                    Half Price   \n",
       "104                                       Thieves   \n",
       "244                                 Lost Children   \n",
       "85                                     Persephone   \n",
       "78                                     Blame Game   \n",
       "34                                        Pissant   \n",
       "12                    Flavor For The Non Believes   \n",
       "210                         Countin' On A Miracle   \n",
       "126                                  Heartbreaker   \n",
       "46                                    Dang A Lang   \n",
       "200                               Worlds Together   \n",
       "45                                     Jellybelly   \n",
       "63                         Paint A Vulgar Picture   \n",
       "218                                     Fast Life   \n",
       "48                                  Early Mornin'   \n",
       "81                            Perversions Of Pain   \n",
       "204                        Queen Of The Magazines   \n",
       "128                             Louder Than Words   \n",
       "352                                      I'm Gone   \n",
       "20                   Sanctity In Blasphemous Ruin   \n",
       "51              Blunt Drunk (All Outta Ale Remix)   \n",
       "66                              She's Like Heroin   \n",
       "28                            Beyond The Cemetery   \n",
       "29                                  Natale's Song   \n",
       "17                            (Just Step Prelude)   \n",
       "56                                          Money   \n",
       "219                             Fight (Over Skit)   \n",
       "32                       Street Spirit (Fade Out)   \n",
       "251                                 Love 2 Love U   \n",
       "83                               Voice Of Treason   \n",
       "49                                     Mind Power   \n",
       "16                   Don't Go Knockin' On My Door   \n",
       "44                        Bonehead's Bank Holiday   \n",
       "267                    Thriller Radio Disney Edit   \n",
       "9                             Who You Think I Am?   \n",
       "4                           Culinary Hyperversity   \n",
       "209                                  Modern Dukes   \n",
       "63                                    Stripsearch   \n",
       "308  Till The World Ends (The Femme Fatale Remix)   \n",
       "29                                  Bring Me Down   \n",
       "\n",
       "                                                 Letra   T: 1   T: 2   T: 3  \\\n",
       "136  The mini cab \\n The driver is black \\n This ti...  0.004  0.067  0.274   \n",
       "295  It's all over now, the thing we had \\n I ain't...  0.002  0.671  0.002   \n",
       "126  I look at you all \\n See the love there that's...  0.003  0.487  0.003   \n",
       "434  Shrieks of Sheiks as they run across the movie...  0.008  0.270  0.134   \n",
       "215  The stars are out tonight \\n And what you need...  0.003  0.499  0.003   \n",
       "57   At the start of time \\n Many centuries ago \\n ...  0.009  0.009  0.009   \n",
       "184  Are you ready for me? \\n Yeah! I Thought So \\n...  0.002  0.849  0.002   \n",
       "145  Like a virus of the mind \\n My rage will sprea...  0.140  0.002  0.023   \n",
       "51   All righty, then... picture this if you will \\...  0.028  0.533  0.204   \n",
       "42   My tea's gone cold I'm wondering why I \\n Got ...  0.000  0.493  0.299   \n",
       "171  (Intro: woman (Kanye West)) \\n (First of all, ...  0.001  0.299  0.645   \n",
       "104  You're happy all the time \\n I just don't unde...  0.012  0.418  0.002   \n",
       "244  We pray for our fathers, pray for our mothers ...  0.003  0.034  0.003   \n",
       "85   A beloved name inside my heart \\n A fleeting g...  0.015  0.016  0.016   \n",
       "78   Whose fault? \\n John Legend: \\n Let's play the...  0.008  0.496  0.386   \n",
       "34   Got me a raygun \\n Got me an altitude \\n Can't...  0.003  0.874  0.003   \n",
       "12   (Havoc) \\n Yo... this is flavor for the non be...  0.021  0.102  0.723   \n",
       "210  It's a fairytale so tragic \\n There's no princ...  0.001  0.704  0.010   \n",
       "126  Deceitful eyes, she's got those come get me th...  0.007  0.835  0.001   \n",
       "46   Excuse me, can I see your dang a lang brother ...  0.204  0.079  0.518   \n",
       "200  (Start) \\n The first day I saw your face, \\n M...  0.003  0.400  0.004   \n",
       "45   Welcome to nowhere fast \\n Nothing here ever l...  0.006  0.506  0.006   \n",
       "63   At the record company meeting \\n On their hand...  0.011  0.397  0.121   \n",
       "218  (Feat. Andre Rison) \\n Yeah \\n Word \\n No doub...  0.001  0.134  0.392   \n",
       "48   spoken: \\n All right, \\n I was out a little la...  0.002  0.571  0.091   \n",
       "81   You better learn my name \\n Cause I'm the one ...  0.042  0.002  0.109   \n",
       "204  All right, all right, all right \\n All right, ...  0.044  0.779  0.169   \n",
       "128  We bitch and we fight \\n Diss each other on si...  0.002  0.137  0.058   \n",
       "352  (Eminem) + (Obie Trice) \\n KaySlay! (Yeah) Yo....  0.012  0.256  0.651   \n",
       "20   Welcome to my dwellings of unholiness \\n Uphel...  0.018  0.002  0.002   \n",
       "51   (MF Doom) \\n Smack it up, flip it, pulled out,...  0.016  0.218  0.517   \n",
       "66   She's like heroin \\n Sipping through a little ...  0.002  0.274  0.622   \n",
       "28   Nude and violated I raped the life from her bo...  0.034  0.002  0.002   \n",
       "29   I'm in the wars \\n Can't speak for crying \\n C...  0.154  0.005  0.005   \n",
       "17   (Havoc) \\n Sometimes I wish I had three differ...  0.002  0.103  0.487   \n",
       "56   Money, get away \\n Get a good job with more pa...  0.002  0.666  0.251   \n",
       "219  Do you ever wonder y we need to die or why do ...  0.002  0.821  0.021   \n",
       "32   Rows of houses all bearing down on me \\n I can...  0.004  0.187  0.004   \n",
       "251  I love to love ya \\n I can't stop dreamin' abo...  0.001  0.961  0.001   \n",
       "83   The mist is sleeping on the water \\n And winte...  0.017  0.003  0.003   \n",
       "49   Featuring Consequence \\n Q-Tip: \\n Your new le...  0.010  0.130  0.740   \n",
       "16   Don't go knock on my door \\n Don't go knock on...  0.001  0.871  0.107   \n",
       "44   You know I need a little break to get away for...  0.002  0.462  0.059   \n",
       "267  It's close to midnight, and something evil's l...  0.130  0.357  0.019   \n",
       "9    (Megalon) \\n Who you think I am, but who you w...  0.001  0.149  0.672   \n",
       "4    Hateful I'm slashing, the head is removed \\n R...  0.278  0.002  0.147   \n",
       "209  Everytime that I turn around \\n And just hear ...  0.123  0.517  0.144   \n",
       "63   It's over today \\n The heat is gone \\n Time is...  0.004  0.631  0.004   \n",
       "308  (Britney) \\n Till the world ends... Remix \\n (...  0.048  0.822  0.122   \n",
       "29   Brandy: \\n I always knew that one day, they'd ...  0.001  0.662  0.333   \n",
       "\n",
       "      T: 4   T: 5  highest_topic  \n",
       "136  0.004  0.651              5  \n",
       "295  0.065  0.259              2  \n",
       "126  0.290  0.217              2  \n",
       "434  0.120  0.467              5  \n",
       "215  0.262  0.233              2  \n",
       "57   0.783  0.190              4  \n",
       "184  0.145  0.002              2  \n",
       "145  0.755  0.080              4  \n",
       "51   0.130  0.104              2  \n",
       "42   0.017  0.191              2  \n",
       "171  0.001  0.055              3  \n",
       "104  0.146  0.422              5  \n",
       "244  0.163  0.797              5  \n",
       "85   0.825  0.128              4  \n",
       "78   0.057  0.053              2  \n",
       "34   0.117  0.003              2  \n",
       "12   0.091  0.063              3  \n",
       "210  0.233  0.051              2  \n",
       "126  0.083  0.074              2  \n",
       "46   0.003  0.196              3  \n",
       "200  0.416  0.177              4  \n",
       "45   0.476  0.006              2  \n",
       "63   0.128  0.343              2  \n",
       "218  0.201  0.272              3  \n",
       "48   0.002  0.335              2  \n",
       "81   0.822  0.025              4  \n",
       "204  0.004  0.004              2  \n",
       "128  0.353  0.449              5  \n",
       "352  0.081  0.001              3  \n",
       "20   0.975  0.002              4  \n",
       "51   0.016  0.234              3  \n",
       "66   0.002  0.101              3  \n",
       "28   0.829  0.134              4  \n",
       "29   0.542  0.294              4  \n",
       "17   0.075  0.333              3  \n",
       "56   0.037  0.044              2  \n",
       "219  0.153  0.002              2  \n",
       "32   0.545  0.260              4  \n",
       "251  0.035  0.001              2  \n",
       "83   0.876  0.101              4  \n",
       "49   0.065  0.055              3  \n",
       "16   0.002  0.019              2  \n",
       "44   0.051  0.426              2  \n",
       "267  0.289  0.205              2  \n",
       "9    0.067  0.111              3  \n",
       "4    0.545  0.028              4  \n",
       "209  0.003  0.213              2  \n",
       "63   0.004  0.357              2  \n",
       "308  0.007  0.001              2  \n",
       "29   0.001  0.001              2  "
      ]
     },
     "execution_count": 26,
     "metadata": {},
     "output_type": "execute_result"
    }
   ],
   "source": [
    "concatenated_df.sample(50)"
   ]
  },
  {
   "cell_type": "code",
   "execution_count": 27,
   "metadata": {},
   "outputs": [
    {
     "data": {
      "text/html": [
       "<div>\n",
       "<style scoped>\n",
       "    .dataframe tbody tr th:only-of-type {\n",
       "        vertical-align: middle;\n",
       "    }\n",
       "\n",
       "    .dataframe tbody tr th {\n",
       "        vertical-align: top;\n",
       "    }\n",
       "\n",
       "    .dataframe thead th {\n",
       "        text-align: right;\n",
       "    }\n",
       "</style>\n",
       "<table border=\"1\" class=\"dataframe\">\n",
       "  <thead>\n",
       "    <tr style=\"text-align: right;\">\n",
       "      <th></th>\n",
       "      <th>Artista</th>\n",
       "      <th>Genero</th>\n",
       "      <th>Cancion</th>\n",
       "      <th>Letra</th>\n",
       "      <th>T: 1</th>\n",
       "      <th>T: 2</th>\n",
       "      <th>T: 3</th>\n",
       "      <th>T: 4</th>\n",
       "      <th>T: 5</th>\n",
       "      <th>highest_topic</th>\n",
       "    </tr>\n",
       "  </thead>\n",
       "  <tbody>\n",
       "    <tr>\n",
       "      <th>246</th>\n",
       "      <td>Weezer</td>\n",
       "      <td>rock</td>\n",
       "      <td>Thief, You've Taken All That Was Me</td>\n",
       "      <td>Thief, of silent dreams \\n Of golden scenes \\n...</td>\n",
       "      <td>0.003</td>\n",
       "      <td>0.003</td>\n",
       "      <td>0.003</td>\n",
       "      <td>0.644</td>\n",
       "      <td>0.348</td>\n",
       "      <td>4</td>\n",
       "    </tr>\n",
       "    <tr>\n",
       "      <th>247</th>\n",
       "      <td>Weezer</td>\n",
       "      <td>rock</td>\n",
       "      <td>We Are All In Love</td>\n",
       "      <td>When your out with your friends \\n In your new...</td>\n",
       "      <td>0.013</td>\n",
       "      <td>0.960</td>\n",
       "      <td>0.003</td>\n",
       "      <td>0.002</td>\n",
       "      <td>0.022</td>\n",
       "      <td>2</td>\n",
       "    </tr>\n",
       "    <tr>\n",
       "      <th>248</th>\n",
       "      <td>Weezer</td>\n",
       "      <td>rock</td>\n",
       "      <td>We Go Together</td>\n",
       "      <td>We go together \\n And that's to stay \\n And in...</td>\n",
       "      <td>0.127</td>\n",
       "      <td>0.858</td>\n",
       "      <td>0.005</td>\n",
       "      <td>0.005</td>\n",
       "      <td>0.005</td>\n",
       "      <td>2</td>\n",
       "    </tr>\n",
       "    <tr>\n",
       "      <th>249</th>\n",
       "      <td>Weezer</td>\n",
       "      <td>rock</td>\n",
       "      <td>What Is This I Find?</td>\n",
       "      <td>[Jonas]: \\n What is this I find? \\n [Wuan]: \\n...</td>\n",
       "      <td>0.371</td>\n",
       "      <td>0.364</td>\n",
       "      <td>0.061</td>\n",
       "      <td>0.006</td>\n",
       "      <td>0.198</td>\n",
       "      <td>1</td>\n",
       "    </tr>\n",
       "    <tr>\n",
       "      <th>250</th>\n",
       "      <td>Weezer</td>\n",
       "      <td>rock</td>\n",
       "      <td>Zep Jamb</td>\n",
       "      <td>Alright \\n Say baby \\n Love me \\n Lay your mon...</td>\n",
       "      <td>0.005</td>\n",
       "      <td>0.978</td>\n",
       "      <td>0.005</td>\n",
       "      <td>0.005</td>\n",
       "      <td>0.005</td>\n",
       "      <td>2</td>\n",
       "    </tr>\n",
       "  </tbody>\n",
       "</table>\n",
       "</div>"
      ],
      "text/plain": [
       "    Artista Genero                              Cancion  \\\n",
       "246  Weezer   rock  Thief, You've Taken All That Was Me   \n",
       "247  Weezer   rock                   We Are All In Love   \n",
       "248  Weezer   rock                       We Go Together   \n",
       "249  Weezer   rock                 What Is This I Find?   \n",
       "250  Weezer   rock                             Zep Jamb   \n",
       "\n",
       "                                                 Letra   T: 1   T: 2   T: 3  \\\n",
       "246  Thief, of silent dreams \\n Of golden scenes \\n...  0.003  0.003  0.003   \n",
       "247  When your out with your friends \\n In your new...  0.013  0.960  0.003   \n",
       "248  We go together \\n And that's to stay \\n And in...  0.127  0.858  0.005   \n",
       "249  [Jonas]: \\n What is this I find? \\n [Wuan]: \\n...  0.371  0.364  0.061   \n",
       "250  Alright \\n Say baby \\n Love me \\n Lay your mon...  0.005  0.978  0.005   \n",
       "\n",
       "      T: 4   T: 5  highest_topic  \n",
       "246  0.644  0.348              4  \n",
       "247  0.002  0.022              2  \n",
       "248  0.005  0.005              2  \n",
       "249  0.006  0.198              1  \n",
       "250  0.005  0.005              2  "
      ]
     },
     "execution_count": 27,
     "metadata": {},
     "output_type": "execute_result"
    }
   ],
   "source": [
    "concatenated_df.tail()"
   ]
  },
  {
   "cell_type": "code",
   "execution_count": 28,
   "metadata": {},
   "outputs": [
    {
     "data": {
      "text/html": [
       "<div>\n",
       "<style scoped>\n",
       "    .dataframe tbody tr th:only-of-type {\n",
       "        vertical-align: middle;\n",
       "    }\n",
       "\n",
       "    .dataframe tbody tr th {\n",
       "        vertical-align: top;\n",
       "    }\n",
       "\n",
       "    .dataframe thead th {\n",
       "        text-align: right;\n",
       "    }\n",
       "</style>\n",
       "<table border=\"1\" class=\"dataframe\">\n",
       "  <thead>\n",
       "    <tr style=\"text-align: right;\">\n",
       "      <th></th>\n",
       "      <th>Genero</th>\n",
       "      <th>T: 1</th>\n",
       "      <th>T: 2</th>\n",
       "      <th>T: 3</th>\n",
       "      <th>T: 4</th>\n",
       "      <th>T: 5</th>\n",
       "    </tr>\n",
       "  </thead>\n",
       "  <tbody>\n",
       "    <tr>\n",
       "      <th>0</th>\n",
       "      <td>hiphop</td>\n",
       "      <td>0.025589</td>\n",
       "      <td>0.239762</td>\n",
       "      <td>0.525945</td>\n",
       "      <td>0.075795</td>\n",
       "      <td>0.132963</td>\n",
       "    </tr>\n",
       "    <tr>\n",
       "      <th>1</th>\n",
       "      <td>metal</td>\n",
       "      <td>0.048625</td>\n",
       "      <td>0.165886</td>\n",
       "      <td>0.043073</td>\n",
       "      <td>0.577276</td>\n",
       "      <td>0.165114</td>\n",
       "    </tr>\n",
       "    <tr>\n",
       "      <th>2</th>\n",
       "      <td>pop</td>\n",
       "      <td>0.044116</td>\n",
       "      <td>0.590048</td>\n",
       "      <td>0.147575</td>\n",
       "      <td>0.093868</td>\n",
       "      <td>0.124379</td>\n",
       "    </tr>\n",
       "    <tr>\n",
       "      <th>3</th>\n",
       "      <td>rock</td>\n",
       "      <td>0.082484</td>\n",
       "      <td>0.426415</td>\n",
       "      <td>0.059059</td>\n",
       "      <td>0.153506</td>\n",
       "      <td>0.278584</td>\n",
       "    </tr>\n",
       "  </tbody>\n",
       "</table>\n",
       "</div>"
      ],
      "text/plain": [
       "   Genero      T: 1      T: 2      T: 3      T: 4      T: 5\n",
       "0  hiphop  0.025589  0.239762  0.525945  0.075795  0.132963\n",
       "1   metal  0.048625  0.165886  0.043073  0.577276  0.165114\n",
       "2     pop  0.044116  0.590048  0.147575  0.093868  0.124379\n",
       "3    rock  0.082484  0.426415  0.059059  0.153506  0.278584"
      ]
     },
     "execution_count": 28,
     "metadata": {},
     "output_type": "execute_result"
    }
   ],
   "source": [
    "df_result_topic = concatenated_df[['Genero', 'T: 1', 'T: 2', 'T: 3', 'T: 4', 'T: 5']].groupby('Genero').mean().reset_index()\n",
    "df_result_topic"
   ]
  },
  {
   "cell_type": "code",
   "execution_count": 29,
   "metadata": {},
   "outputs": [],
   "source": [
    "def selec_df_artist(df, artista):\n",
    "        return df[df['Artista'] == artista].loc[:, 'T: 1':'T: 5']"
   ]
  },
  {
   "cell_type": "code",
   "execution_count": 42,
   "metadata": {},
   "outputs": [
    {
     "data": {
      "text/plain": [
       "(279, 5)"
      ]
     },
     "execution_count": 42,
     "metadata": {},
     "output_type": "execute_result"
    }
   ],
   "source": [
    "# extraemos probabilidades de tópicos para la banda Weezer\n",
    "mj_df = selec_df_artist(concatenated_df, 'Michael Jackson')\n",
    "mj_df.shape"
   ]
  },
  {
   "cell_type": "code",
   "execution_count": 43,
   "metadata": {},
   "outputs": [
    {
     "data": {
      "text/plain": [
       "<AxesSubplot:>"
      ]
     },
     "execution_count": 43,
     "metadata": {},
     "output_type": "execute_result"
    },
    {
     "data": {
      "image/png": "[encoded data removed]",
      "text/plain": [
       "<Figure size 432x288 with 2 Axes>"
      ]
     },
     "metadata": {
      "needs_background": "light"
     },
     "output_type": "display_data"
    }
   ],
   "source": [
    "# Correlacion de topicos para la banda Weezer\n",
    "sns.heatmap(mj_df.corr(), annot=True, cmap='Blues')"
   ]
  },
  {
   "cell_type": "code",
   "execution_count": 44,
   "metadata": {},
   "outputs": [
    {
     "data": {
      "text/plain": [
       "T: 1    0.028810\n",
       "T: 2    0.652892\n",
       "T: 3    0.049161\n",
       "T: 4    0.129244\n",
       "T: 5    0.139821\n",
       "dtype: float64"
      ]
     },
     "execution_count": 44,
     "metadata": {},
     "output_type": "execute_result"
    }
   ],
   "source": [
    "mj_df.mean()"
   ]
  },
  {
   "cell_type": "code",
   "execution_count": 45,
   "metadata": {},
   "outputs": [
    {
     "data": {
      "image/png": "[encoded data removed]",
      "text/plain": [
       "<Figure size 432x288 with 1 Axes>"
      ]
     },
     "metadata": {
      "needs_background": "light"
     },
     "output_type": "display_data"
    },
    {
     "data": {
      "image/png": "[encoded data removed]",
      "text/plain": [
       "<Figure size 432x288 with 1 Axes>"
      ]
     },
     "metadata": {
      "needs_background": "light"
     },
     "output_type": "display_data"
    },
    {
     "data": {
      "image/png": "[encoded data removed]",
      "text/plain": [
       "<Figure size 432x288 with 1 Axes>"
      ]
     },
     "metadata": {
      "needs_background": "light"
     },
     "output_type": "display_data"
    },
    {
     "data": {
      "image/png": "[encoded data removed]",
      "text/plain": [
       "<Figure size 432x288 with 1 Axes>"
      ]
     },
     "metadata": {
      "needs_background": "light"
     },
     "output_type": "display_data"
    },
    {
     "data": {
      "image/png": "[encoded data removed]",
      "text/plain": [
       "<Figure size 432x288 with 1 Axes>"
      ]
     },
     "metadata": {
      "needs_background": "light"
     },
     "output_type": "display_data"
    }
   ],
   "source": [
    "for col in mj_df.columns:\n",
    "        sns.scatterplot(data = mj_df[col])\n",
    "        plt.title(f'Probabilidades para la banda {\"Michael Jackson\"} considerando el tópico {col}')\n",
    "        plt.ylabel('Pertenencia a uno de los tópicos')\n",
    "        plt.xlabel('Observaciónes')\n",
    "        plt.show()"
   ]
  },
  {
   "cell_type": "markdown",
   "metadata": {},
   "source": [
    "Se puede observar que Michael Jackson tiene mayor porcentaje de pertenencia al topicos T: 2, con un 65% de pertenencia al topico"
   ]
  },
  {
   "cell_type": "code",
   "execution_count": 34,
   "metadata": {},
   "outputs": [
    {
     "data": {
      "text/plain": [
       "(81, 5)"
      ]
     },
     "execution_count": 34,
     "metadata": {},
     "output_type": "execute_result"
    }
   ],
   "source": [
    "meshuggah_df = selec_df_artist(concatenated_df, 'Meshuggah')\n",
    "meshuggah_df.shape"
   ]
  },
  {
   "cell_type": "code",
   "execution_count": 35,
   "metadata": {},
   "outputs": [
    {
     "data": {
      "text/plain": [
       "<AxesSubplot:>"
      ]
     },
     "execution_count": 35,
     "metadata": {},
     "output_type": "execute_result"
    },
    {
     "data": {
      "image/png": "[encoded data removed]",
      "text/plain": [
       "<Figure size 432x288 with 2 Axes>"
      ]
     },
     "metadata": {
      "needs_background": "light"
     },
     "output_type": "display_data"
    }
   ],
   "source": [
    "# Correlacion de topicos para la banda Meshuggah\n",
    "sns.heatmap(meshuggah_df.corr(), annot=True, cmap='Blues')"
   ]
  },
  {
   "cell_type": "code",
   "execution_count": 36,
   "metadata": {},
   "outputs": [
    {
     "data": {
      "text/plain": [
       "T: 1    0.100617\n",
       "T: 2    0.033753\n",
       "T: 3    0.039519\n",
       "T: 4    0.726481\n",
       "T: 5    0.099593\n",
       "dtype: float64"
      ]
     },
     "execution_count": 36,
     "metadata": {},
     "output_type": "execute_result"
    }
   ],
   "source": [
    "meshuggah_df.mean()"
   ]
  },
  {
   "cell_type": "code",
   "execution_count": 37,
   "metadata": {},
   "outputs": [
    {
     "data": {
      "image/png": "[encoded data removed]",
      "text/plain": [
       "<Figure size 432x288 with 1 Axes>"
      ]
     },
     "metadata": {
      "needs_background": "light"
     },
     "output_type": "display_data"
    },
    {
     "data": {
      "image/png": "[encoded data removed]",
      "text/plain": [
       "<Figure size 432x288 with 1 Axes>"
      ]
     },
     "metadata": {
      "needs_background": "light"
     },
     "output_type": "display_data"
    },
    {
     "data": {
      "image/png": "[encoded data removed]",
      "text/plain": [
       "<Figure size 432x288 with 1 Axes>"
      ]
     },
     "metadata": {
      "needs_background": "light"
     },
     "output_type": "display_data"
    },
    {
     "data": {
      "image/png": "[encoded data removed]",
      "text/plain": [
       "<Figure size 432x288 with 1 Axes>"
      ]
     },
     "metadata": {
      "needs_background": "light"
     },
     "output_type": "display_data"
    },
    {
     "data": {
      "image/png": "[encoded data removed]",
      "text/plain": [
       "<Figure size 432x288 with 1 Axes>"
      ]
     },
     "metadata": {
      "needs_background": "light"
     },
     "output_type": "display_data"
    }
   ],
   "source": [
    "for col in meshuggah_df.columns:\n",
    "        sns.scatterplot(data = meshuggah_df[col])\n",
    "        plt.title(f'Probabilidades para la banda {\"Meshuggah\"} considerando el tópico {col}')\n",
    "        plt.ylabel('Pertenencia a uno de los tópicos')\n",
    "        plt.xlabel('Observaciónes')\n",
    "        plt.show()"
   ]
  },
  {
   "cell_type": "markdown",
   "metadata": {},
   "source": [
    "Se puede observar que la banda Meshuggah tiene mayor porcentaje de pertenencia al topico T: 4 y sin lugar a dudas corresponde al topico 4, lo que da un indicio de que el modelo es bueno prediciendo variables con pocos datos. En los graficos antes vistos podemos ver que si bien el modelo predice bien la ocurrencia para ambas bandas estudiadas, Meshuggah, que tiene mucho menos obsevaciones, presenta una clara tendencia al topico 5, al igual que Michael Jackson con un 65% de pertenencia al topico 2 con menos observaciones y los mismos hiper parametros."
   ]
  }
 ],
 "metadata": {
  "kernelspec": {
   "display_name": "Python 3.10.8 64-bit",
   "language": "python",
   "name": "python3"
  },
  "language_info": {
   "codemirror_mode": {
    "name": "ipython",
    "version": 3
   },
   "file_extension": ".py",
   "mimetype": "text/x-python",
   "name": "python",
   "nbconvert_exporter": "python",
   "pygments_lexer": "ipython3",
   "version": "3.10.8"
  },
  "orig_nbformat": 4,
  "vscode": {
   "interpreter": {
    "hash": "5fe23d4cdea1a1fdeea398f38169f58ea6e36b10f84ee4017a8f0fee693ee786"
   }
  }
 },
 "nbformat": 4,
 "nbformat_minor": 2
}
