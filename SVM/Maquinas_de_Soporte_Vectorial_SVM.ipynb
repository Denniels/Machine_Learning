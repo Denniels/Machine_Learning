{
 "cells": [
  {
   "cell_type": "markdown",
   "id": "254c5d7e",
   "metadata": {},
   "source": [
    "## El caso no separable: Máquinas de Soporte Vectorial\n",
    "\n",
    "Sigamos discutiendo sobre los clasificadores lineales en el contexto de SVM. Resulta que si\n",
    "flexibilizamos nuestra función para aceptar que algunas observaciones se sitúen entre los\n",
    "márgenes, estamos reconociendo que preferimos perder algo de nuestra forma funcional a\n",
    "cambio de una mayor flexibilidad. En la figura afx.svm_non_separable graficamos el caso\n",
    "donde permitimos la existencia de observaciones **`dentro`** del margen clasificador. Estos\n",
    "casos se conocen como slack variables (variables de holgura) en la literatura (Vapnik y\n",
    "Cortes, 1996 ; Hastie et al. 2009). En la figura se señalan dos casos de slacks:\n",
    "\n",
    "- ξ < 1: Caso donde la observación se posiciona sobre el margen de su clase, pero bajo el clasificador lineal. Esta es una situación esperable donde el vector tiene una sobreposición menor al margen.\n",
    "\n",
    "- ξ > 1: Caso donde la observación cruza el clasificador lineal y se posiciona en el margen de la clase contraria. Esta es una situación poco ideal, dado que estamos clasificando de forma errónea la observación.\n",
    "\n",
    "Resulta que éste último caso sirve como norma para evaluar qué tan bien nuestro modelo\n",
    "disminuye las clasificaciones erróneas (las observaciones ξ < 1 siguen siendo clasificadas\n",
    "como azul, sólo que con una menor precisión). Hastie et al. (2009) sugieren que la\n",
    "optimización del margen debe realizarse considerando ξ > 1.\n"
   ]
  },
  {
   "cell_type": "code",
   "execution_count": 1,
   "id": "6814ce10",
   "metadata": {},
   "outputs": [],
   "source": [
    "import pandas as pd\n",
    "import numpy as np\n",
    "import matplotlib.pyplot as plt\n",
    "import seaborn as sns\n",
    "\n",
    "from sklearn.svm import SVC\n",
    "from sklearn.model_selection import train_test_split, cross_val_score\n",
    "from sklearn.preprocessing import StandardScaler\n",
    "from sklearn.decomposition import PCA as RandomizedPCA\n",
    "from sklearn.linear_model import LinearRegression\n",
    "from sklearn.pipeline import Pipeline\n",
    "from sklearn.metrics import classification_report\n",
    "\n",
    "import warnings\n",
    "import lec5_graphs as afx\n",
    "from matplotlib.gridspec import GridSpec\n",
    "\n",
    "plt.style.use('seaborn-whitegrid')\n",
    "plt.rcParams['figure.figsize']=(15, 15)\n",
    "warnings.filterwarnings('ignore')"
   ]
  },
  {
   "cell_type": "code",
   "execution_count": 2,
   "id": "cef3bbd9",
   "metadata": {},
   "outputs": [
    {
     "data": {
      "image/png": "[encoded data removed]",
      "text/plain": [
       "<Figure size 432x288 with 1 Axes>"
      ]
     },
     "metadata": {
      "needs_background": "light"
     },
     "output_type": "display_data"
    }
   ],
   "source": [
    "afx.svm_non_separable(plot_slacks=True, plot_xi=True)"
   ]
  },
  {
   "cell_type": "markdown",
   "id": "9a1e50bf",
   "metadata": {},
   "source": [
    "Para optimizar la función, consideramos que ξ𝑖 representa la proporción en la que una\n",
    "predicción $f(x_i) = \\beta^T + \\beta_0$ se posiciona en el lado equivocado del margen. Mediante esta flexibilización de la norma, estamos generalizando el funcionamiento de SVM. Cabe destacar que hasta el momento la exposición de SVM se ha desarrollado con un caso canónico: una función lineal. En el ejercicio que desarrollaremos a continuación\n",
    "implementaremos un kernel radial basis function, una de las formas más comunes y\n",
    "estudiaremos cómo modificar el margen mediante hiper parámetros.\n",
    "\n",
    "### Clasificando la calidad de vinos\n",
    "Aplicaremos nuestra primera Máquina de Soporte Vectorial para clasificar la calidad de\n",
    "vinos dado una serie de atributos fisicoquímicas como la acidez, cantidad de sulfatos,\n",
    "porcentaje de alcohol. Los datos del ejemplo vienen de P. Cortez, A. Cerdeira, F. Almeida, T.\n",
    "Matos and J. Reis. Modeling wine preferences by data mining from physicochemical\n",
    "properties. In Decision Support Systems, Elsevier, 47(4):547-553. ISSN: 0167-9236. Partamos\n",
    "por exportar nuestros datos, previamente a la inclusión de los módulos correspondientes.\n",
    "\n"
   ]
  },
  {
   "cell_type": "code",
   "execution_count": 3,
   "id": "1fe82af3",
   "metadata": {},
   "outputs": [
    {
     "data": {
      "text/html": [
       "<div>\n",
       "<style scoped>\n",
       "    .dataframe tbody tr th:only-of-type {\n",
       "        vertical-align: middle;\n",
       "    }\n",
       "\n",
       "    .dataframe tbody tr th {\n",
       "        vertical-align: top;\n",
       "    }\n",
       "\n",
       "    .dataframe thead th {\n",
       "        text-align: right;\n",
       "    }\n",
       "</style>\n",
       "<table border=\"1\" class=\"dataframe\">\n",
       "  <thead>\n",
       "    <tr style=\"text-align: right;\">\n",
       "      <th></th>\n",
       "      <th>fixed.acidity</th>\n",
       "      <th>volatile.acidity</th>\n",
       "      <th>citric.acid</th>\n",
       "      <th>residual.sugar</th>\n",
       "      <th>chlorides</th>\n",
       "      <th>free.sulfur.dioxide</th>\n",
       "      <th>total.sulfur.dioxide</th>\n",
       "      <th>density</th>\n",
       "      <th>pH</th>\n",
       "      <th>sulphates</th>\n",
       "      <th>alcohol</th>\n",
       "      <th>quality</th>\n",
       "    </tr>\n",
       "  </thead>\n",
       "  <tbody>\n",
       "    <tr>\n",
       "      <th>0</th>\n",
       "      <td>7.4</td>\n",
       "      <td>0.70</td>\n",
       "      <td>0.00</td>\n",
       "      <td>1.9</td>\n",
       "      <td>0.076</td>\n",
       "      <td>11.0</td>\n",
       "      <td>34.0</td>\n",
       "      <td>0.9978</td>\n",
       "      <td>3.51</td>\n",
       "      <td>0.56</td>\n",
       "      <td>9.4</td>\n",
       "      <td>5</td>\n",
       "    </tr>\n",
       "    <tr>\n",
       "      <th>1</th>\n",
       "      <td>7.8</td>\n",
       "      <td>0.88</td>\n",
       "      <td>0.00</td>\n",
       "      <td>2.6</td>\n",
       "      <td>0.098</td>\n",
       "      <td>25.0</td>\n",
       "      <td>67.0</td>\n",
       "      <td>0.9968</td>\n",
       "      <td>3.20</td>\n",
       "      <td>0.68</td>\n",
       "      <td>9.8</td>\n",
       "      <td>5</td>\n",
       "    </tr>\n",
       "    <tr>\n",
       "      <th>2</th>\n",
       "      <td>7.8</td>\n",
       "      <td>0.76</td>\n",
       "      <td>0.04</td>\n",
       "      <td>2.3</td>\n",
       "      <td>0.092</td>\n",
       "      <td>15.0</td>\n",
       "      <td>54.0</td>\n",
       "      <td>0.9970</td>\n",
       "      <td>3.26</td>\n",
       "      <td>0.65</td>\n",
       "      <td>9.8</td>\n",
       "      <td>5</td>\n",
       "    </tr>\n",
       "    <tr>\n",
       "      <th>3</th>\n",
       "      <td>11.2</td>\n",
       "      <td>0.28</td>\n",
       "      <td>0.56</td>\n",
       "      <td>1.9</td>\n",
       "      <td>0.075</td>\n",
       "      <td>17.0</td>\n",
       "      <td>60.0</td>\n",
       "      <td>0.9980</td>\n",
       "      <td>3.16</td>\n",
       "      <td>0.58</td>\n",
       "      <td>9.8</td>\n",
       "      <td>6</td>\n",
       "    </tr>\n",
       "    <tr>\n",
       "      <th>4</th>\n",
       "      <td>7.4</td>\n",
       "      <td>0.70</td>\n",
       "      <td>0.00</td>\n",
       "      <td>1.9</td>\n",
       "      <td>0.076</td>\n",
       "      <td>11.0</td>\n",
       "      <td>34.0</td>\n",
       "      <td>0.9978</td>\n",
       "      <td>3.51</td>\n",
       "      <td>0.56</td>\n",
       "      <td>9.4</td>\n",
       "      <td>5</td>\n",
       "    </tr>\n",
       "  </tbody>\n",
       "</table>\n",
       "</div>"
      ],
      "text/plain": [
       "   fixed.acidity  volatile.acidity  citric.acid  residual.sugar  chlorides  \\\n",
       "0            7.4              0.70         0.00             1.9      0.076   \n",
       "1            7.8              0.88         0.00             2.6      0.098   \n",
       "2            7.8              0.76         0.04             2.3      0.092   \n",
       "3           11.2              0.28         0.56             1.9      0.075   \n",
       "4            7.4              0.70         0.00             1.9      0.076   \n",
       "\n",
       "   free.sulfur.dioxide  total.sulfur.dioxide  density    pH  sulphates  \\\n",
       "0                 11.0                  34.0   0.9978  3.51       0.56   \n",
       "1                 25.0                  67.0   0.9968  3.20       0.68   \n",
       "2                 15.0                  54.0   0.9970  3.26       0.65   \n",
       "3                 17.0                  60.0   0.9980  3.16       0.58   \n",
       "4                 11.0                  34.0   0.9978  3.51       0.56   \n",
       "\n",
       "   alcohol  quality  \n",
       "0      9.4        5  \n",
       "1      9.8        5  \n",
       "2      9.8        5  \n",
       "3      9.8        6  \n",
       "4      9.4        5  "
      ]
     },
     "execution_count": 3,
     "metadata": {},
     "output_type": "execute_result"
    }
   ],
   "source": [
    "df = pd.read_csv('Datasets/winequality_merged.csv').drop(columns='Unnamed: 0')\n",
    "df.head()"
   ]
  },
  {
   "cell_type": "markdown",
   "id": "aab7dd45",
   "metadata": {},
   "source": [
    "Generemos una serie de gráficos, donde visualizaremos las distribuciones si las variables\n",
    "son float y la frecuencia de ocurrencia si son integer. Observamos que en general los\n",
    "atributos se presentan en niveles bajos o moderados. En particular, los atributos que\n",
    "presentan una mayor dispersión en el rango de valores son alcohol, pH y\n",
    "total.sulfur.dioxide."
   ]
  },
  {
   "cell_type": "code",
   "execution_count": 4,
   "id": "587bdb66",
   "metadata": {},
   "outputs": [
    {
     "data": {
      "image/png": "[encoded data removed]",
      "text/plain": [
       "<Figure size 432x288 with 12 Axes>"
      ]
     },
     "metadata": {
      "needs_background": "light"
     },
     "output_type": "display_data"
    }
   ],
   "source": [
    "rows = 4\n",
    "cols = df.shape[1] / rows\n",
    "\n",
    "for index, (colname, serie) in enumerate(df.iteritems()):\n",
    "    plt.subplot(rows, int(cols), index + 1)\n",
    "    if pd.api.types.is_float_dtype(serie) is True:\n",
    "        sns.distplot(serie)\n",
    "        plt.axvline(np.mean(serie), color = 'tomato')\n",
    "    elif pd.api.types.is_integer_dtype(serie) is True:\n",
    "        sns.countplot(serie)\n",
    "    plt.title(colname, fontsize = 16)\n",
    "    plt.xlabel('');plt.ylabel('');plt.tight_layout()"
   ]
  },
  {
   "cell_type": "markdown",
   "id": "0af5d570",
   "metadata": {},
   "source": [
    "Para este ejemplo generamos una versión binarizada de la calidad de los vinos. Para ello\n",
    "vamos a asignar como 1 todas aquellas observaciones cuya calidad sea superior al\n",
    "promedio, y 0 de lo contrario. Observamos que cerca del 63% de los vinos tuvieron una nota\n",
    "mas alta que el promedio."
   ]
  },
  {
   "cell_type": "code",
   "execution_count": 5,
   "id": "9f9681ac",
   "metadata": {},
   "outputs": [
    {
     "data": {
      "text/html": [
       "<div>\n",
       "<style scoped>\n",
       "    .dataframe tbody tr th:only-of-type {\n",
       "        vertical-align: middle;\n",
       "    }\n",
       "\n",
       "    .dataframe tbody tr th {\n",
       "        vertical-align: top;\n",
       "    }\n",
       "\n",
       "    .dataframe thead th {\n",
       "        text-align: right;\n",
       "    }\n",
       "</style>\n",
       "<table border=\"1\" class=\"dataframe\">\n",
       "  <thead>\n",
       "    <tr style=\"text-align: right;\">\n",
       "      <th></th>\n",
       "      <th>fixed.acidity</th>\n",
       "      <th>volatile.acidity</th>\n",
       "      <th>citric.acid</th>\n",
       "      <th>residual.sugar</th>\n",
       "      <th>chlorides</th>\n",
       "      <th>free.sulfur.dioxide</th>\n",
       "      <th>total.sulfur.dioxide</th>\n",
       "      <th>density</th>\n",
       "      <th>pH</th>\n",
       "      <th>sulphates</th>\n",
       "      <th>alcohol</th>\n",
       "      <th>quality</th>\n",
       "      <th>quality_bin</th>\n",
       "    </tr>\n",
       "  </thead>\n",
       "  <tbody>\n",
       "    <tr>\n",
       "      <th>0</th>\n",
       "      <td>7.4</td>\n",
       "      <td>0.70</td>\n",
       "      <td>0.00</td>\n",
       "      <td>1.9</td>\n",
       "      <td>0.076</td>\n",
       "      <td>11.0</td>\n",
       "      <td>34.0</td>\n",
       "      <td>0.9978</td>\n",
       "      <td>3.51</td>\n",
       "      <td>0.56</td>\n",
       "      <td>9.4</td>\n",
       "      <td>5</td>\n",
       "      <td>0</td>\n",
       "    </tr>\n",
       "    <tr>\n",
       "      <th>1</th>\n",
       "      <td>7.8</td>\n",
       "      <td>0.88</td>\n",
       "      <td>0.00</td>\n",
       "      <td>2.6</td>\n",
       "      <td>0.098</td>\n",
       "      <td>25.0</td>\n",
       "      <td>67.0</td>\n",
       "      <td>0.9968</td>\n",
       "      <td>3.20</td>\n",
       "      <td>0.68</td>\n",
       "      <td>9.8</td>\n",
       "      <td>5</td>\n",
       "      <td>0</td>\n",
       "    </tr>\n",
       "    <tr>\n",
       "      <th>2</th>\n",
       "      <td>7.8</td>\n",
       "      <td>0.76</td>\n",
       "      <td>0.04</td>\n",
       "      <td>2.3</td>\n",
       "      <td>0.092</td>\n",
       "      <td>15.0</td>\n",
       "      <td>54.0</td>\n",
       "      <td>0.9970</td>\n",
       "      <td>3.26</td>\n",
       "      <td>0.65</td>\n",
       "      <td>9.8</td>\n",
       "      <td>5</td>\n",
       "      <td>0</td>\n",
       "    </tr>\n",
       "    <tr>\n",
       "      <th>3</th>\n",
       "      <td>11.2</td>\n",
       "      <td>0.28</td>\n",
       "      <td>0.56</td>\n",
       "      <td>1.9</td>\n",
       "      <td>0.075</td>\n",
       "      <td>17.0</td>\n",
       "      <td>60.0</td>\n",
       "      <td>0.9980</td>\n",
       "      <td>3.16</td>\n",
       "      <td>0.58</td>\n",
       "      <td>9.8</td>\n",
       "      <td>6</td>\n",
       "      <td>1</td>\n",
       "    </tr>\n",
       "    <tr>\n",
       "      <th>4</th>\n",
       "      <td>7.4</td>\n",
       "      <td>0.70</td>\n",
       "      <td>0.00</td>\n",
       "      <td>1.9</td>\n",
       "      <td>0.076</td>\n",
       "      <td>11.0</td>\n",
       "      <td>34.0</td>\n",
       "      <td>0.9978</td>\n",
       "      <td>3.51</td>\n",
       "      <td>0.56</td>\n",
       "      <td>9.4</td>\n",
       "      <td>5</td>\n",
       "      <td>0</td>\n",
       "    </tr>\n",
       "  </tbody>\n",
       "</table>\n",
       "</div>"
      ],
      "text/plain": [
       "   fixed.acidity  volatile.acidity  citric.acid  residual.sugar  chlorides  \\\n",
       "0            7.4              0.70         0.00             1.9      0.076   \n",
       "1            7.8              0.88         0.00             2.6      0.098   \n",
       "2            7.8              0.76         0.04             2.3      0.092   \n",
       "3           11.2              0.28         0.56             1.9      0.075   \n",
       "4            7.4              0.70         0.00             1.9      0.076   \n",
       "\n",
       "   free.sulfur.dioxide  total.sulfur.dioxide  density    pH  sulphates  \\\n",
       "0                 11.0                  34.0   0.9978  3.51       0.56   \n",
       "1                 25.0                  67.0   0.9968  3.20       0.68   \n",
       "2                 15.0                  54.0   0.9970  3.26       0.65   \n",
       "3                 17.0                  60.0   0.9980  3.16       0.58   \n",
       "4                 11.0                  34.0   0.9978  3.51       0.56   \n",
       "\n",
       "   alcohol  quality  quality_bin  \n",
       "0      9.4        5            0  \n",
       "1      9.8        5            0  \n",
       "2      9.8        5            0  \n",
       "3      9.8        6            1  \n",
       "4      9.4        5            0  "
      ]
     },
     "execution_count": 5,
     "metadata": {},
     "output_type": "execute_result"
    }
   ],
   "source": [
    "df['quality_bin'] = np.where(df['quality'] > np.mean(df['quality']), 1,0)\n",
    "df['quality_bin'].value_counts('%').round(3)\n",
    "df.head()"
   ]
  },
  {
   "cell_type": "markdown",
   "id": "0c8bf100",
   "metadata": {},
   "source": [
    "## Nuestro primer modelo\n",
    "Para nuestro primer modelo vamos a implementar un kernel lineal, siguiendo el ejemplo\n",
    "expositivo de arriba. Dado que nuestro objetivo es predecir si la clase de una observación es\n",
    "0 o 1, implementaremos la clase SVC del módulo svm en la librería sklearn. Como se señaló\n",
    "arriba, es importante reescalar los datos para evitar la influencia de outliers, para lo cual\n",
    "importamos la clase StandardScaler. Como en todo flujo de trabajo de modelos de\n",
    "clasificación, importamos las funciones train_test_split y classification_report.\n",
    "Finalmente importamos la clase Pipeline del módulo pipeline de la librería sklearn para\n",
    "poder concatenar pasos de ejecución.\n",
    "\n",
    "### Digresión: sklearn Pipelines\n",
    "La clase Pipeline del módulo sklearn.pipeline permite concatenar múltiples pasos de\n",
    "procesamiento y preprocesamiento en un estimador generado por algún método de\n",
    "scikit-learn. En sí, la clase cuenta con los métodos clásicos fit, predict y score y\n",
    "presenta un comportamiento idéntico a los demás objetos de scikit-learn. Uno de los\n",
    "usos más comunes es para concatenar pasos de preprocesamiento con un modelo.\n",
    "\n",
    "### Componentes de un Pipeline\n",
    "Imaginemos que deseamos implementar el siguiente modelo. Considerando un conjunto de\n",
    "datos, deseo Estandarlizarlo, posteriormente extraer sus principales componentes y\n",
    "finalmente aplicar un modelo de regresión lineal. Este flujo se puede reexpresar como:"
   ]
  },
  {
   "cell_type": "code",
   "execution_count": 6,
   "id": "4c20fca7",
   "metadata": {},
   "outputs": [
    {
     "data": {
      "text/plain": [
       "\"pipeline_model = Pipeline([('scale', StandardScaler()),\\n                           ('pca', RandomizedPCA(n_components = 3)),\\n                           ('model', LinearRegression())])\""
      ]
     },
     "execution_count": 6,
     "metadata": {},
     "output_type": "execute_result"
    }
   ],
   "source": [
    "'''pipeline_model = Pipeline([('scale', StandardScaler()),\n",
    "                           ('pca', RandomizedPCA(n_components = 3)),\n",
    "                           ('model', LinearRegression())])'''"
   ]
  },
  {
   "cell_type": "markdown",
   "id": "6ec01fcd",
   "metadata": {},
   "source": [
    "Algunos de los elementos a considerar:\n",
    "\n",
    "1. Cada paso se considera como una tupla, donde se declara el nombre del paso y la función a implementar. En este caso, nuestro primer paso es estandarizar la matriz, por lo que asociamos el método StandardScaler con el string scale.\n",
    "\n",
    "2. Todos los pasos declarados se incorporan en una lista, donde el orden de ingreso representa el orden de ejecución.\n",
    "\n",
    "Posteriormente el objeto creado puede utilizarse con los siguientes métodos.\n",
    "\n",
    "pipeline_model.fit(X_train, y_train)\n",
    "\n",
    "y_hat = pipeline_model.predict(y_test)"
   ]
  },
  {
   "cell_type": "code",
   "execution_count": 7,
   "id": "3c7ed465",
   "metadata": {},
   "outputs": [
    {
     "data": {
      "text/html": [
       "<div>\n",
       "<style scoped>\n",
       "    .dataframe tbody tr th:only-of-type {\n",
       "        vertical-align: middle;\n",
       "    }\n",
       "\n",
       "    .dataframe tbody tr th {\n",
       "        vertical-align: top;\n",
       "    }\n",
       "\n",
       "    .dataframe thead th {\n",
       "        text-align: right;\n",
       "    }\n",
       "</style>\n",
       "<table border=\"1\" class=\"dataframe\">\n",
       "  <thead>\n",
       "    <tr style=\"text-align: right;\">\n",
       "      <th></th>\n",
       "      <th>fixed.acidity</th>\n",
       "      <th>volatile.acidity</th>\n",
       "      <th>citric.acid</th>\n",
       "      <th>residual.sugar</th>\n",
       "      <th>chlorides</th>\n",
       "      <th>free.sulfur.dioxide</th>\n",
       "      <th>total.sulfur.dioxide</th>\n",
       "      <th>density</th>\n",
       "      <th>pH</th>\n",
       "      <th>sulphates</th>\n",
       "      <th>alcohol</th>\n",
       "      <th>quality_bin</th>\n",
       "    </tr>\n",
       "  </thead>\n",
       "  <tbody>\n",
       "    <tr>\n",
       "      <th>0</th>\n",
       "      <td>7.4</td>\n",
       "      <td>0.70</td>\n",
       "      <td>0.00</td>\n",
       "      <td>1.9</td>\n",
       "      <td>0.076</td>\n",
       "      <td>11.0</td>\n",
       "      <td>34.0</td>\n",
       "      <td>0.9978</td>\n",
       "      <td>3.51</td>\n",
       "      <td>0.56</td>\n",
       "      <td>9.4</td>\n",
       "      <td>0</td>\n",
       "    </tr>\n",
       "    <tr>\n",
       "      <th>1</th>\n",
       "      <td>7.8</td>\n",
       "      <td>0.88</td>\n",
       "      <td>0.00</td>\n",
       "      <td>2.6</td>\n",
       "      <td>0.098</td>\n",
       "      <td>25.0</td>\n",
       "      <td>67.0</td>\n",
       "      <td>0.9968</td>\n",
       "      <td>3.20</td>\n",
       "      <td>0.68</td>\n",
       "      <td>9.8</td>\n",
       "      <td>0</td>\n",
       "    </tr>\n",
       "    <tr>\n",
       "      <th>2</th>\n",
       "      <td>7.8</td>\n",
       "      <td>0.76</td>\n",
       "      <td>0.04</td>\n",
       "      <td>2.3</td>\n",
       "      <td>0.092</td>\n",
       "      <td>15.0</td>\n",
       "      <td>54.0</td>\n",
       "      <td>0.9970</td>\n",
       "      <td>3.26</td>\n",
       "      <td>0.65</td>\n",
       "      <td>9.8</td>\n",
       "      <td>0</td>\n",
       "    </tr>\n",
       "    <tr>\n",
       "      <th>3</th>\n",
       "      <td>11.2</td>\n",
       "      <td>0.28</td>\n",
       "      <td>0.56</td>\n",
       "      <td>1.9</td>\n",
       "      <td>0.075</td>\n",
       "      <td>17.0</td>\n",
       "      <td>60.0</td>\n",
       "      <td>0.9980</td>\n",
       "      <td>3.16</td>\n",
       "      <td>0.58</td>\n",
       "      <td>9.8</td>\n",
       "      <td>1</td>\n",
       "    </tr>\n",
       "    <tr>\n",
       "      <th>4</th>\n",
       "      <td>7.4</td>\n",
       "      <td>0.70</td>\n",
       "      <td>0.00</td>\n",
       "      <td>1.9</td>\n",
       "      <td>0.076</td>\n",
       "      <td>11.0</td>\n",
       "      <td>34.0</td>\n",
       "      <td>0.9978</td>\n",
       "      <td>3.51</td>\n",
       "      <td>0.56</td>\n",
       "      <td>9.4</td>\n",
       "      <td>0</td>\n",
       "    </tr>\n",
       "  </tbody>\n",
       "</table>\n",
       "</div>"
      ],
      "text/plain": [
       "   fixed.acidity  volatile.acidity  citric.acid  residual.sugar  chlorides  \\\n",
       "0            7.4              0.70         0.00             1.9      0.076   \n",
       "1            7.8              0.88         0.00             2.6      0.098   \n",
       "2            7.8              0.76         0.04             2.3      0.092   \n",
       "3           11.2              0.28         0.56             1.9      0.075   \n",
       "4            7.4              0.70         0.00             1.9      0.076   \n",
       "\n",
       "   free.sulfur.dioxide  total.sulfur.dioxide  density    pH  sulphates  \\\n",
       "0                 11.0                  34.0   0.9978  3.51       0.56   \n",
       "1                 25.0                  67.0   0.9968  3.20       0.68   \n",
       "2                 15.0                  54.0   0.9970  3.26       0.65   \n",
       "3                 17.0                  60.0   0.9980  3.16       0.58   \n",
       "4                 11.0                  34.0   0.9978  3.51       0.56   \n",
       "\n",
       "   alcohol  quality_bin  \n",
       "0      9.4            0  \n",
       "1      9.8            0  \n",
       "2      9.8            0  \n",
       "3      9.8            1  \n",
       "4      9.4            0  "
      ]
     },
     "execution_count": 7,
     "metadata": {},
     "output_type": "execute_result"
    }
   ],
   "source": [
    "df = df.drop(columns = 'quality')\n",
    "df.head()"
   ]
  },
  {
   "cell_type": "code",
   "execution_count": 8,
   "id": "910d18c7",
   "metadata": {},
   "outputs": [],
   "source": [
    "# Generamos las muestras de entrenamiento y validación\n",
    "X_train, X_test, y_train, y_test = train_test_split(df.loc[:, 'fixed.acidity':'alcohol'], \n",
    "                                                    df['quality_bin'], random_state = 15820, test_size = .33)"
   ]
  },
  {
   "cell_type": "code",
   "execution_count": 9,
   "id": "a1986e6f",
   "metadata": {},
   "outputs": [
    {
     "data": {
      "text/plain": [
       "0.6698476219793751"
      ]
     },
     "execution_count": 9,
     "metadata": {},
     "output_type": "execute_result"
    }
   ],
   "source": [
    "# Relacion de muestras entre conjunto de entrenamiento y validacion\n",
    "X_train.shape[0] / df.shape[0]"
   ]
  },
  {
   "cell_type": "code",
   "execution_count": 10,
   "id": "cdcb8135",
   "metadata": {},
   "outputs": [
    {
     "data": {
      "text/plain": [
       "0.3301523780206249"
      ]
     },
     "execution_count": 10,
     "metadata": {},
     "output_type": "execute_result"
    }
   ],
   "source": [
    "X_test.shape[0] / df.shape[0]"
   ]
  },
  {
   "cell_type": "code",
   "execution_count": 11,
   "id": "7a88b5d1",
   "metadata": {},
   "outputs": [],
   "source": [
    "# Generamos el pipeline\n",
    "wine_svc = Pipeline([('scaler', StandardScaler()),\n",
    "                     ('svc', SVC(kernel='linear'))])"
   ]
  },
  {
   "cell_type": "markdown",
   "id": "34f820ac",
   "metadata": {},
   "source": [
    "Nuestro objeto wine_svc creado con Pipeline nos permite trabajar como si fuese\n",
    "cualquier otro método de estimación de sklearn, por lo que podemos generar un fit en el\n",
    "conjunto de entrenamiento, predecir clases con predict utilizando la matriz de atributos de\n",
    "validación y posterior comparación con clasification_report."
   ]
  },
  {
   "cell_type": "code",
   "execution_count": 12,
   "id": "f7b94be6",
   "metadata": {},
   "outputs": [
    {
     "data": {
      "text/plain": [
       "array([1, 0, 1, 1, 1, 0, 0, 1, 0, 1])"
      ]
     },
     "execution_count": 12,
     "metadata": {},
     "output_type": "execute_result"
    }
   ],
   "source": [
    "wine_svc.fit(X_train, y_train)\n",
    "y_hat = wine_svc.predict(X_test)\n",
    "y_hat[:10]"
   ]
  },
  {
   "cell_type": "code",
   "execution_count": 13,
   "id": "054a321a",
   "metadata": {},
   "outputs": [
    {
     "name": "stdout",
     "output_type": "stream",
     "text": [
      "              precision    recall  f1-score   support\n",
      "\n",
      "           0       0.67      0.57      0.61       747\n",
      "           1       0.79      0.85      0.82      1398\n",
      "\n",
      "    accuracy                           0.75      2145\n",
      "   macro avg       0.73      0.71      0.72      2145\n",
      "weighted avg       0.75      0.75      0.75      2145\n",
      "\n"
     ]
    }
   ],
   "source": [
    "print(classification_report(y_test, y_hat))"
   ]
  },
  {
   "cell_type": "code",
   "execution_count": 14,
   "id": "451da3d2",
   "metadata": {},
   "outputs": [
    {
     "data": {
      "image/png": "[encoded data removed]",
      "text/plain": [
       "<Figure size 432x288 with 3 Axes>"
      ]
     },
     "metadata": {
      "needs_background": "light"
     },
     "output_type": "display_data"
    }
   ],
   "source": [
    "afx.plot_class_report(y_test, y_hat, classes_labels = ['Good','Bad','',''])"
   ]
  },
  {
   "cell_type": "markdown",
   "id": "fd17bfde",
   "metadata": {},
   "source": [
    "A grandes rasgos el modelo tiene un desempeño decente. Obtenemos un 74% de exactitud\n",
    "en nuestras predicciones (medido con el F1, Recall y Precision). Cuando desagregamos por\n",
    "clase, los resultados son distintos. El modelo tiene un buen desempeño para identificar\n",
    "aquellas observaciones que son verdaderamente buenas (etiquetadas con un 1). Respecto a\n",
    "las observaciones como malas, el clasificador presenta una precisión mucho más alta que\n",
    "el recall. Esto sugiere que si bien puede reconocer un mal vino a partir de sus componentes,\n",
    "también falla en reconocer otros vinos que tuvieron un mal ranking en calidad.\n",
    "\n",
    "### Mejorando nuestro análisis: Kernelización\n",
    "Hasta el momento hemos trabajado con la versión más \"simple\" de SVC. Mediante el kernel\n",
    "lineal establecemos una forma funcional quizás muy estricta que nos esté impidiendo\n",
    "capturar de mejor manera el fenómeno. Para solucionar esto, haremos uso de una de las\n",
    "principales características de las Máquinas de Soporte Vectorial: el poder re-expresar\n",
    "nuestra matriz de atributos en un nuevo espacio que nos permita generar un buen\n",
    "clasificador. Esto se conoce como el principio de Kernel Lización, a veces referido en la\n",
    "literatura como Kernel Trick o Kernel-Based Support Vector Machines.\n",
    "\n",
    "Para este ejemplo, implementaremos la versión más utilizada: el kernel Gaussian radial\n",
    "basis function. Por motivos prácticos de la lectura lo definiremos de forma explícita dentro\n",
    "de la clase, siempre recordando que este es el kernel por defecto en SVC de sklearn."
   ]
  },
  {
   "cell_type": "code",
   "execution_count": 15,
   "id": "3604afa9",
   "metadata": {},
   "outputs": [],
   "source": [
    "wine_svc_rbf = Pipeline([('scaler', StandardScaler()), ('svc', SVC(kernel='rbf'))])"
   ]
  },
  {
   "cell_type": "code",
   "execution_count": 16,
   "id": "d2d6f11c",
   "metadata": {},
   "outputs": [
    {
     "data": {
      "text/plain": [
       "array([1, 0, 1, 1, 1, 1, 0, 1, 0, 1])"
      ]
     },
     "execution_count": 16,
     "metadata": {},
     "output_type": "execute_result"
    }
   ],
   "source": [
    "wine_svc_rbf.fit(X_train, y_train)\n",
    "y_hat_rbf = wine_svc_rbf.predict(X_test)\n",
    "y_hat_rbf[:10]"
   ]
  },
  {
   "cell_type": "code",
   "execution_count": 17,
   "id": "dcd62838",
   "metadata": {},
   "outputs": [
    {
     "name": "stdout",
     "output_type": "stream",
     "text": [
      "              precision    recall  f1-score   support\n",
      "\n",
      "           0       0.70      0.60      0.65       747\n",
      "           1       0.80      0.86      0.83      1398\n",
      "\n",
      "    accuracy                           0.77      2145\n",
      "   macro avg       0.75      0.73      0.74      2145\n",
      "weighted avg       0.77      0.77      0.77      2145\n",
      "\n"
     ]
    }
   ],
   "source": [
    "print(classification_report(y_test, y_hat_rbf))"
   ]
  },
  {
   "cell_type": "markdown",
   "id": "9cda839c",
   "metadata": {},
   "source": [
    "Tan solo con cambiar nuestro kernel, obtenemos un incremento de 2% en el desempeño de\n",
    "nuestro modelo. De similar manera, las métricas para las clases 0 mejoraron también. Todo\n",
    "esto parece un tanto mágico, ¿qué es lo que pasa cuando decimos las palabras mágicas\n",
    "kernel='rbf'?\n",
    "\n",
    "### ¿Qué es un kernel?\n",
    "Resulta que cuando nuestro problema no es linealmente separable, necesitamos aplicar una\n",
    "transformación, llámese κ(𝑥) en nuestra matriz de atributos para re-expresarlos en un nuevo\n",
    "espacio donde sí sean linealmente separables. Este proceso se conoce como **`kernelización.`**\n",
    "\n",
    "A grandes rasgos, podemos resumirlo a los siguientes pasos:\n",
    "- Tenemos una matriz de atributos a reexpresar mediante el aumento de las dimensiones.\n",
    "- Implementamos alguna función de kernel que nos permita reexpresar las coordenadas mediante similitud de los atributos. De esta manera, implementaremos alguna variante que permita explotar la comunalidad entre los atributos en la medida que aumentamos la cantidad de dimensiones.\n",
    "- La reexpresión de la matriz kernelizada se puede entender como el reemplazo de todos los productos internos por su versión kernelizada.\n",
    "\n",
    "![Matriz kernelizada](fotos/kernel_matrix.jpg)\n",
    "\n",
    "El kernel rbf (Gaussian Radial Basis Function) es una forma de traducir nuestras\n",
    "observaciones en términos de qué tan similares son entre sí.\n",
    "\n",
    "Como su nombre lo indica, busca generar una representación \"aproximadamente\" similar a\n",
    "la Gaussiana. Para simplificar obtenemos la siguiente visualización:\n",
    "\n",
    "![Representacion del Kernel](fotos/Representación_kernel.jpg)\n",
    "\n",
    "En la imagen de la izquierda se muestran las coordenadas de dos atributos, con cada clase\n",
    "asignada a un color correspondiente. En esta etapa, no existe un clasificador lineal que\n",
    "pueda separar las clases. El kernel rbf genera una reexpresión de los datos en base a la\n",
    "similitud de atributos. De esta manera, la forma reexpresada de la matriz facilitará la\n",
    "clasificación mediante un hiperplano. Las Máquinas de Soporte Vectorial se han beneficiado\n",
    "de los kernels, aumentando su aplicabilidad en diversos contextos. Dado que los kernels\n",
    "devuelven una representación de los datos en altas dimensiones mediante el producto\n",
    "interno de cada observación, son atractivos al hacer que el modelo se desempeñe de forma\n",
    "eficiente.\n",
    "\n",
    "Nota: Cabe destacar que un Kernel en el contexto de SVM no es lo mismo que en los métodos\n",
    "de suavización. Mientras que en éstos últimos hacen referencia a una región específica del\n",
    "espacio de los atributos donde se obtiene un estimado, para las máquinas de soporte\n",
    "vectorial un kernel representa una transformación aplicada al producto interno transpuesto de\n",
    "los atributos.\n",
    "\n",
    "Los métodos de kernel permiten a las funciones operar en altas dimensiones mediante el\n",
    "cálculo del producto interno de cada par de datos en el espacio de atributos.\n",
    "Se pueden comprender como algoritmos de aprendizaje basados en instancias, dado que en\n",
    "vez de aprender un conjunto fijo de parámetros correspondiente a sus atributos, buscan\n",
    "recordar un ejemplo de entrenamiento y estimar un peso asociado. El kernel RBF tiene la\n",
    "siguiente forma funcional: κ(𝑥, 𝑥𝑇) = 𝑒𝑥𝑝(− γ||𝑥 − 𝑥𝑇||2).\n",
    "\n",
    "Existen otros clásicos kernels que se pueden aplicar:\n",
    "- Polinomiales de orden-n: κ(𝑥, 𝑥 .𝑇) = (1 + [𝑥, 𝑥𝑇])2\n",
    "- Sigmoide: κ(𝑥, 𝑥𝑇) = 𝑡𝑎𝑛ℎ(𝑘1||𝑥 − 𝑥𝑇| + 𝑘2)\n",
    "\n",
    "## Digresión: Métodos de Kernel y Kernel Admisible:\n",
    "### Métodos de Kernel\n",
    "Se dice que un método es un método de kernel si se implementa un kernel trick, como vimos\n",
    "hasta este punto, la SVM es un método de kernel. Los métodos de kernel son atractivos\n",
    "porque hacen explotar el espacio de atributos facilitando la obtención de espacios\n",
    "linealmente separables. Aunque lo anterior suena divertido y tentador, como mencionamos\n",
    "en algún momento en machine learning nos referimos a un fenómeno que ocurre siempre\n",
    "que tengamos demasiados atributos: La maldición de la dimensionalidad. Uno de los\n",
    "problemas que esta conlleva es que mientras mayor sea el número de atributos, mayor será\n",
    "el espacio de búsqueda (aumenta exponencialmente), las SVM funcionan tan bien porque de\n",
    "cierta forma se blindan de la maldición de la dimensionalidad a través de la maximización\n",
    "del margen.\n",
    "\n",
    "### Kernel Admisible\n",
    "Si bien hemos visto y mencionado un par de kernels básicos muy utilizados, el estudio de\n",
    "kernels no se limita solo a estos. Podemos definir nuestros propios kernels siempre y\n",
    "cuando estos cumplan las condiciones de admisibilidad de un kernel (provenientes del\n",
    "Teorema de Mercer). Una vez que se tiene una función que satisfaga admisibilidad de kernel,\n",
    "estamos habilitados para mapear nuestro espacio de atributos como queramos.\n",
    "\n",
    "## Tercera iteración de análisis: Incorporando hiper parámetros\n",
    "Existen dos hiper parámetros a considerar cuando estamos entrenando modelos SVM:\n",
    "Costo y γ.\n",
    "\n",
    "Para visualizar el rango de acción de estos parámetros generaremos un ejemplo sintético\n",
    "con la puerta XOR, que permite visualizar las virtudes del kernel RBF. Un aspecto a\n",
    "considerar es que los datos generados en este ejemplo **`no son linealmente separables`**\n",
    "cuando no implementamos un kernel.\n"
   ]
  },
  {
   "cell_type": "code",
   "execution_count": 18,
   "id": "162c32bf",
   "metadata": {},
   "outputs": [
    {
     "data": {
      "text/plain": [
       "<matplotlib.collections.PathCollection at 0x261b66e06a0>"
      ]
     },
     "execution_count": 18,
     "metadata": {},
     "output_type": "execute_result"
    },
    {
     "data": {
      "image/png": "[encoded data removed]",
      "text/plain": [
       "<Figure size 432x288 with 1 Axes>"
      ]
     },
     "metadata": {
      "needs_background": "light"
     },
     "output_type": "display_data"
    }
   ],
   "source": [
    "X, y = afx.svm_logical_xor_data(nsize=75)\n",
    "plt.scatter(X[y==1][:, 0], X[y==1][:, 1], color='darkorange')\n",
    "plt.scatter(X[y==-1][:, 0], X[y==-1][:, 1], color='dodgerblue')"
   ]
  },
  {
   "cell_type": "markdown",
   "id": "2df3a67e",
   "metadata": {},
   "source": [
    "### Costo\n",
    "El costo asociado al entrenamiento de un modelo es el hiper parámetro que maneja el\n",
    "trueque entre penalización de observaciones clasificadas de forma incorrectas y la\n",
    "estabilización de la función de decisión. La figura generada con svm_c_hyperparameter\n",
    "visualiza el efecto de C.\n",
    "\n",
    "Para este ejemplo tomamos 6 valores distintos entre [1, 100000]. A grandes rasgos el\n",
    "comportamiento de la figura demuestra que cuando los valores de C son pequeños la\n",
    "función de decisión es mucho más laxa respecto a las clasificaciones erróneas. Lo que logra\n",
    "en este escenario es acoplarse a la mayoría de los puntos. En la medida que el parámetro\n",
    "toma valores más altos la función de decisión intenta acoplarse de mejor manera al\n",
    "conjunto de entrenamiento, conduciendo a overfitting."
   ]
  },
  {
   "cell_type": "code",
   "execution_count": 19,
   "id": "9f02af06",
   "metadata": {},
   "outputs": [
    {
     "data": {
      "image/png": "[encoded data removed]",
      "text/plain": [
       "<Figure size 432x288 with 6 Axes>"
      ]
     },
     "metadata": {
      "needs_background": "light"
     },
     "output_type": "display_data"
    }
   ],
   "source": [
    "X, y = afx.svm_logical_xor_data(nsize=75)\n",
    "afx.svm_c_hyperparameter(X, y, c_range=[0.001, 0.1, 1, 100, 1000,10000])"
   ]
  },
  {
   "cell_type": "markdown",
   "id": "f469004b",
   "metadata": {},
   "source": [
    "### Gamma\n",
    "γ es el parámetro que controla el ancho del kernel cuando es rbf. ¿En qué afecta esto?\n",
    "controla la influencia de un punto en específico en la función de decisión. La figura creada\n",
    "con afx.svm_gamma_hyperparameter evalúa el hiper parámetro en 6 puntos distintos.\n",
    "\n",
    "Cuando γ tiene valores bajos, el kernel RBF tiene un área mayor, impidiendo que el modelo\n",
    "detecte bien cómo varían los puntos. En este escenario el modelo asume que todos los\n",
    "puntos se consideran semejantes entre sí, ignorando las clases. En la medida que γ\n",
    "aumenta de valor, el kernel RBF tendrá una mayor sensibilidad a las clases en el conjunto de\n",
    "entrenamiento. De similar manera a los altos valores de C, valores altos en γ pueden\n",
    "conducir a overfitting."
   ]
  },
  {
   "cell_type": "code",
   "execution_count": 20,
   "id": "eeebc019",
   "metadata": {},
   "outputs": [
    {
     "data": {
      "image/png": "[encoded data removed]",
      "text/plain": [
       "<Figure size 432x288 with 6 Axes>"
      ]
     },
     "metadata": {
      "needs_background": "light"
     },
     "output_type": "display_data"
    }
   ],
   "source": [
    "afx.svm_gamma_hyperparameter(X, y, gamma_range=[0.0001, 0.01,0.1, 1, 10, 100])"
   ]
  },
  {
   "cell_type": "markdown",
   "id": "d342ee57",
   "metadata": {},
   "source": [
    "### ¿Cómo encontramos la mejor combinación de hiper parámetros?\n",
    "\n",
    "Los modelos SVM necesitan de ambos hiper parámetros mencionados para funcionar\n",
    "adecuadamente. Dado que el costo de la función de decisión está asociado fuertemente\n",
    "con el radio del kernel γ.\n",
    "Si imponemos mayores niveles en γ necesitaremos que nuestra función de decisión sea\n",
    "menos tolerante con las clasificaciones erróneas, por lo que implementamos C con bajos\n",
    "parámetros.\n",
    "\n",
    "Lamentablemente no existen hiper parámetros recomendados por defecto para éstos\n",
    "modelos, por lo que debemos realizar una búsqueda cruzada entre ambos para encontrar un\n",
    "mejor desempeño del modelo. Esta búsqueda cruzada se conoce como búsqueda de grilla.\n",
    "Hsu et al (2016) recomiendan implementar una búsqueda de grilla donde cada combinación\n",
    "de hiper parámetros se evalúa mediante validación cruzada. Este procedimiento resulta ser\n",
    "computacionalmente demandante, dado que la cantidad de modelos a estimar es\n",
    "𝐶 × γ × 𝐶𝑉.\n",
    "\n",
    "Se recomienda partir con un rango amplio de hiper parámetros a evaluar, para reflejar el\n",
    "efecto de un modelo laxo. Siguiendo los consejos de Hsu et al. (2016), se recomiendan\n",
    "rangos 𝐶 ∈ {2 y .−5,..., 215} γ ∈ {2−15,..., 23}\n",
    "\n",
    "### Implementación manual de la búsqueda de grilla con validación cruzada\n",
    "Antes de detallar el procedimiento, cabe destacar que sklearn presenta una\n",
    "implementación en el módulo model_selection llamada GridSearchCV que replica el\n",
    "mismo proceso. Por motivos expositivos, preferimos detallar el procedimiento de manera\n",
    "explícita, evitando esconder esto en una caja negra. Los pasos para implementar el\n",
    "algoritmo son:\n",
    "1. Estandarizar los datos con StandardScaler o algún otro procesador como Normalizer o MinMaxScaler.\n",
    "2. Generar conjuntos de entrenamiento y validación con train_test_split y preservar la muestra de validación.\n",
    "3. Generamos un loop anidado entre 𝐶 y γ.\n",
    "4. Dentro de la anidación, implementamos una validación cruzada del desempeño utilizando cross_val_score en la muestra de entrenamiento. Se sugiere manejar el rango de validaciones entre 5 y 10.\n",
    "5. La validación cruzada generará una lista con los puntajes para cada iteración. Éstos se preservan en un objeto para posterior uso.\n",
    "![Valisdacion Cruzada](fotos/Validacion_Cruzada.jpg)\n",
    "\n",
    "Hay un par de elementos a considerar en este procedimiento, para lo cual nos apoyaremos\n",
    "en esta imágen. En primer lugar, evitamos realizar la validación cruzada en la muestra\n",
    "completa para no entrenar el modelo con datos que ya tiene conocimiento. Eso es el\n",
    "equivalente a desarrollar una partición en tres, donde tendremos muestras de entrenamiento\n",
    "y validación a iterar (que emergen de nuestro conjunto de entrenamiento). En base a la\n",
    "mejor combinación de hiper parámetros, predecimos los valores frente a los datos de\n",
    "validación **`no incorporados en la validación cruzada`**. En algunas partes esta se conoce\n",
    "como un held-out sample.\n",
    "\n",
    "En segundo lugar, cabe destacar que ésta solución no es definitiva. Posteriormente hay que\n",
    "evaluar si el desempeño del modelo es variante, condicional al rango de hiper parámetros.\n",
    "Murphy (2012) entre otros, sugiere que si el desempeño no varía con los hiper parámetros,\n",
    "se puede reasignar el rango hasta que se presente variabilidad en el desempeño."
   ]
  },
  {
   "cell_type": "code",
   "execution_count": 21,
   "id": "7a2d4a4c",
   "metadata": {},
   "outputs": [],
   "source": [
    "# Estandarizamos la matriz de atributos\n",
    "X_scaled = StandardScaler().fit_transform(df.loc[:,'fixed.acidity':'alcohol'])\n",
    "# Generamos conjuntos de entrenamiento y validación\n",
    "X_train, X_test, y_train, y_test = train_test_split(X_scaled, df['quality_bin'], random_state = 15820, test_size = .33)"
   ]
  },
  {
   "cell_type": "code",
   "execution_count": 22,
   "id": "8675ca3c",
   "metadata": {},
   "outputs": [],
   "source": [
    "# rango de C\n",
    "c_param_range = [1, 10, 100, 1000, 10000, 100000]\n",
    "# rango de Gamma\n",
    "gamma_param_range = [0.00001, 0.0001, 0.001, 0.01, 0.1, 1]\n",
    "# generamos un diccionario vacío para guardar la combinación\n",
    "# de hiperparámetros y su desempeño asociado\n",
    "empty_dict = {}\n",
    "# capturamos el mejor puntaje\n",
    "best_score = 0\n",
    "# iniciamos una lista para capturar la iteración del 1er\n",
    "# hiperparametro\n",
    "c_holder = []\n",
    "# para cada valor en el primer rango\n",
    "for c in c_param_range:\n",
    "    # iniciamos una lista para capturar la iteración del\n",
    "    # 2do parámetro\n",
    "    gamma_holder = []\n",
    "    # para cada valor en el segundo rango\n",
    "    for gamma in gamma_param_range:\n",
    "        tmp_score = cross_val_score(SVC(C = c, gamma = gamma), X_train, y_train, cv = 5, n_jobs = -1)\n",
    "        # validamos de forma cruzada con el conjunto de entrenamiento!\n",
    "        empty_dict[str(\"C: {}, Gamma: {}\".format(c, gamma))] = list(tmp_score)\n",
    "        # Agregamos a cada lista secundaria el promedio de validación cruzada\n",
    "        gamma_holder.append(np.mean(tmp_score))\n",
    "        # si la media es mejor que el mejor puntaje registrado\n",
    "        if np.mean(tmp_score) > best_score:\n",
    "            best_score = np.mean(tmp_score)\n",
    "            # extraemos el string asociado a la combinación de valores\n",
    "            best_params = str(\"C: {}, Gamma: {}\".format(c, gamma))\n",
    "    # adjuntamos la lista secundaria de cada valor a la primaria.\n",
    "    c_holder.append(gamma_holder)\n",
    "# redimensionamos a una matriz\n",
    "cv_params = np.array(c_holder).reshape(6, 6)"
   ]
  },
  {
   "cell_type": "code",
   "execution_count": 23,
   "id": "9bac93bd",
   "metadata": {},
   "outputs": [
    {
     "data": {
      "text/plain": [
       "array([[0.6238513 , 0.6238513 , 0.71713739, 0.75114665, 0.76746163,\n",
       "        0.76883936],\n",
       "       [0.6238513 , 0.71782652, 0.7440218 , 0.75689061, 0.77665123,\n",
       "        0.77251778],\n",
       "       [0.71782652, 0.74080658, 0.74953772, 0.7596458 , 0.7649321 ,\n",
       "        0.77159956],\n",
       "       [0.73919765, 0.74448236, 0.75367249, 0.7635549 , 0.75321536,\n",
       "        0.77159956],\n",
       "       [0.74080631, 0.7481592 , 0.75711865, 0.76493237, 0.74792642,\n",
       "        0.77159956],\n",
       "       [0.74310358, 0.75068556, 0.75734906, 0.76906713, 0.74218246,\n",
       "        0.77159956]])"
      ]
     },
     "execution_count": 23,
     "metadata": {},
     "output_type": "execute_result"
    }
   ],
   "source": [
    "cv_params"
   ]
  },
  {
   "cell_type": "code",
   "execution_count": 24,
   "id": "5d79cdc4",
   "metadata": {},
   "outputs": [
    {
     "data": {
      "text/plain": [
       "0.7766512266254931"
      ]
     },
     "execution_count": 24,
     "metadata": {},
     "output_type": "execute_result"
    }
   ],
   "source": [
    "best_score"
   ]
  },
  {
   "cell_type": "code",
   "execution_count": 25,
   "id": "21edb030",
   "metadata": {},
   "outputs": [
    {
     "data": {
      "text/plain": [
       "'C: 10, Gamma: 0.1'"
      ]
     },
     "execution_count": 25,
     "metadata": {},
     "output_type": "execute_result"
    }
   ],
   "source": [
    "best_params"
   ]
  },
  {
   "cell_type": "markdown",
   "id": "44ff3ff2",
   "metadata": {},
   "source": [
    "Para visualizar los resultados generamos dos gráficos. La figura de la izquierda presenta los\n",
    "diagramas de caja para cada una de las validaciones. Éste entrega información sobre qué\n",
    "tanto varía el desempeño en cada una de las iteraciones de la validación cruzada. La figura\n",
    "de la derecha presenta un heatmap con el promedio del desempeño en las cinco iteraciones."
   ]
  },
  {
   "cell_type": "code",
   "execution_count": 26,
   "id": "2b17dde1",
   "metadata": {},
   "outputs": [
    {
     "data": {
      "text/plain": [
       "Text(0.5, 1.0, 'Accuracy Heatmap')"
      ]
     },
     "execution_count": 26,
     "metadata": {},
     "output_type": "execute_result"
    },
    {
     "data": {
      "image/png": "[encoded data removed]",
      "text/plain": [
       "<Figure size 864x288 with 2 Axes>"
      ]
     },
     "metadata": {
      "needs_background": "light"
     },
     "output_type": "display_data"
    }
   ],
   "source": [
    "plt.figure(figsize=(12, 4))\n",
    "# Fijamos tamaños personalizados en el canvas\n",
    "grid = GridSpec(1, 2, width_ratios=[2,1])\n",
    "# con el primer espacio del canvas\n",
    "plt.subplot(grid[0])\n",
    "# generamos diagramas de caja para cada validación cruzada\n",
    "# y solicitamos la media\n",
    "plt.boxplot(empty_dict.values(), showmeans=True);\n",
    "plt.xticks(range(1, len(empty_dict.keys()) + 1), empty_dict.keys(),\n",
    "rotation=90);\n",
    "plt.title(\"Best Params: {}\".format(best_params));\n",
    "# para el segundo espacio del canvas\n",
    "plt.subplot(grid[1])\n",
    "# visualizamos el desempeño promedio de cada combinación.\n",
    "sns.heatmap(cv_params, annot=True, cmap='Blues', cbar=False, xticklabels=gamma_param_range,\n",
    "yticklabels=c_param_range, fmt=\".3\")\n",
    "plt.xlabel('Gamma');\n",
    "plt.ylabel('C');\n",
    "plt.title('Accuracy Heatmap')"
   ]
  },
  {
   "cell_type": "markdown",
   "id": "afc7b41b",
   "metadata": {},
   "source": [
    "Comencemos por inspeccionar la figura de los gráficos de caja. Absolutamente todos los\n",
    "clasificadores entrenados presentan un desempeño mejor que un clasificador aleatorio (en\n",
    "este caso 1/2=.5). Cada uno de los gráficos de caja muestra cuál fue la distribución\n",
    "empírica de la exactitud. El título nos informa que la mejor combinación es cuando\n",
    "𝐶 = 10, γ = 0. 1.\n",
    "\n",
    "El heatmap señala que en el caso, la exactitud es del .771.\n",
    "\n",
    "### Cuarta iteración: entrenamiento del modelo con los mejores hiper parámetros\n",
    "Un aspecto a considerar es el hecho que estamos implementando una búsqueda de grilla en\n",
    "un conjunto de entrenamiento, separando una muestra de **`no incorporados en la validación cruzada`** Resulta que\n",
    "mediante esta división trietápica de los datos logramos simular de una mejor manera cómo\n",
    "se desempeñaría el modelo en un conjunto de datos anteriormente no vistos. De no hacerlo,\n",
    "podemos incurrir en dos tipos de sobre ajuste: Un sobreajuste dado a la **`optimización de los hiper parámetros`** en la grilla, y otro sobreajuste dado el **`proceso de aprendizaje en los mismos datos que posteriormente serán evaluados mediante el modelo.`**\n",
    "\n",
    "![Evaluación de datos excluidos de la Calibración y el entrenamiento](fotos/Eval_data.jpg)\n",
    "\n",
    "Los gráficos sugieren que el mejor desempeño de modelo se logra con la combinación de\n",
    "hiper parámetros 𝐶 = 10, γ = 0. 1.\n",
    "\n",
    "Con esta información a mano, ponemos a prueba nuestro clasificador contrastando los\n",
    "puntajes predichos **`con la muestra de validación que dejamos fuera del procedimiento`**. Si\n",
    "bien el procedimiento entregó una tasa de exactitud de .771, su desempeño en la muestra\n",
    "de validación fue de .78.\n"
   ]
  },
  {
   "cell_type": "code",
   "execution_count": 27,
   "id": "43ff039a",
   "metadata": {},
   "outputs": [],
   "source": [
    "refactor_svc_rbf = Pipeline([('scaler', StandardScaler()),\n",
    "                             ('svc', SVC(kernel = 'rbf', C = 10, gamma = 0.1))])"
   ]
  },
  {
   "cell_type": "code",
   "execution_count": 28,
   "id": "6b197ed2",
   "metadata": {},
   "outputs": [],
   "source": [
    "refactor_svc_rbf.fit(X_train, y_train)\n",
    "yhat_svc_rbf = refactor_svc_rbf.predict(X_test)"
   ]
  },
  {
   "cell_type": "code",
   "execution_count": 29,
   "id": "19feba56",
   "metadata": {},
   "outputs": [
    {
     "name": "stdout",
     "output_type": "stream",
     "text": [
      "              precision    recall  f1-score   support\n",
      "\n",
      "           0       0.71      0.66      0.68       747\n",
      "           1       0.82      0.86      0.84      1398\n",
      "\n",
      "    accuracy                           0.79      2145\n",
      "   macro avg       0.77      0.76      0.76      2145\n",
      "weighted avg       0.79      0.79      0.79      2145\n",
      "\n"
     ]
    }
   ],
   "source": [
    "print(classification_report(y_test, yhat_svc_rbf))"
   ]
  },
  {
   "cell_type": "markdown",
   "id": "396f7020",
   "metadata": {},
   "source": [
    "## Consideraciones\n",
    "Para cerrar esta lectura, presentamos una serie de aspectos adicionales que se pueden considerar.\n",
    "### Problemas donde: γ ≥ 2\n",
    "Originalmente las máquinas de soporte vectorial fueron diseñadas para generar\n",
    "clasificaciones en casos binarios. Hsu y Lin (2002) consideran que para extenderlas en más\n",
    "clases es un área que todavía está en desarrollo. A grandes rasgos, las clasificaciones\n",
    "multiclases con SVM se basan mediante la combinación de múltiples sub clasificadores\n",
    "posibles:\n",
    "- One-against-all: Bajo esta estrategia se generan tantos subclasificados como clases existentes en el vector objetivo. En base a cada sub clasificador se extrae una función de decisión y posteriormente se elige aquella que maximice el valor.\n",
    "- One-against-one: Bajo esta estrategia se generan 𝑘(𝑘 − 1)/2 sub clasificadores, donde k es la cantidad de clases en el vector objetivo. En base a cada sub clasificador, se implementa una estrategia de votación simple para cada una de las observaciones.\n",
    "\n",
    "Ambas estrategias se implementan en SVC al modificar la opción\n",
    "decision_function_shape. Por defecto la opción es **`'ovr'`** que corresponde a la\n",
    "estrategia one-against-all. Para implementar la estrategia one-against-one con la opción\n",
    "**`'ovr'`**. Dado que una de las principales limitantes es el hecho que si nuestro vector objetivo\n",
    "tiene un alto número de categorías (dígase 10), el tiempo de ejecución del algoritmo puede\n",
    "ser prohibitivo.\n",
    "\n",
    "### SVM en regresión\n",
    "Las Máquinas de Soporte Vectorial también se pueden implementar para problemas de\n",
    "regresión. Para este tipo de tarea buscamos predecir un valor real de y de forma tal que para\n",
    "toda observación 𝑥𝑖 tengamos un 𝑦𝑖 correspondiente. El algoritmo busca un y que minimice \n",
    "una función de error candidata. De similar manera, buscamos desarrollar un margen dado\n",
    "por ε. Este modelo se conoce como regresión ε − 𝑖𝑛𝑠𝑒𝑛𝑠𝑖𝑏𝑙𝑒.\n",
    "\n",
    "Esto genera una regresión robusta frente a los residuales. Berk (2008) señala que hasta el\n",
    "momento no hay una ventaja comparativa clara entre la regresión ε − 𝑖𝑛𝑠𝑒𝑛𝑠𝑖𝑏𝑙𝑒 y otras\n",
    "formas de regresión robusta.\n",
    "\n",
    "#### Puntos a favor\n",
    "- Son efectivas en espacios de altas dimensiones.\n",
    "- Son relativamente eficientes cuando la cantidad de dimensiones es mayor a la cantidad de observaciones.\n",
    "- Es eficiente en términos de memoria porque utiliza un subconjunto de datos de entrenamiento para generar la función de decisión.\n",
    "#### Puntos en contra\n",
    "- SVM no se pensó en capturar la función generadora en los atributos, por lo que es\n",
    "  difícil identificar el impacto de los atributos en nuestro vector objetivo. SVM\n",
    "  pertenecen a un grupo de algoritmos conocidos como modelos de caja negra, dado\n",
    "  que no entregan mucha información sobre cómo se llega a cierto resultado. Esto en\n",
    "  oposición a los métodos basados en regresión.\n",
    "\n",
    "### Referencias\n",
    "- Berk, Richard A. 2008. Statistical learning from a regression perspective. Vol. 14. New\n",
    "  York: Springer.\n",
    "- Cortes, C; Vapnik, V. 1995. Support-Vector Networks. Machine Learning 20. pp:\n",
    "  273-297.\n",
    "- Hastie, T; Tibshirani, T; Friedman, J. 2008. The Elements of Statistical Learning: Data\n",
    "  Mining, Inference, and Prediction. Springer Series in Statistics. Springer. Ch12:\n",
    "  Support Vector Machines and Flexible Discriminants.\n",
    "- Hsu, Chih-Wei, and Chih-Jen Lin. 2002. A comparison of methods for multiclass\n",
    "  support vector machines. IEEE transactions on Neural Networks 13, no. 2: 415-425.\n",
    "- Hsu, Chih-Wei, Chih-Chung Chang, and Chih-Jen Lin. 2016. A practical guide to\n",
    "  support vector classification. 1-16.\n",
    "- Murphy. K. 2012. Machine Learning. A Probabilistic Perspective, Cambridge, MA:\n",
    "  Massachusetts Institute of Technology Press. Ch14: Kernels. 14.4: The Kernel Trick.\n",
    "  14.5: Support Vector Machines."
   ]
  }
 ],
 "metadata": {
  "kernelspec": {
   "display_name": "Python 3.10.8 64-bit",
   "language": "python",
   "name": "python3"
  },
  "language_info": {
   "codemirror_mode": {
    "name": "ipython",
    "version": 3
   },
   "file_extension": ".py",
   "mimetype": "text/x-python",
   "name": "python",
   "nbconvert_exporter": "python",
   "pygments_lexer": "ipython3",
   "version": "3.10.8"
  },
  "vscode": {
   "interpreter": {
    "hash": "5fe23d4cdea1a1fdeea398f38169f58ea6e36b10f84ee4017a8f0fee693ee786"
   }
  }
 },
 "nbformat": 4,
 "nbformat_minor": 5
}
