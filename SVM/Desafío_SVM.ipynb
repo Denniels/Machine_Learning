{
 "cells": [
  {
   "cell_type": "markdown",
   "id": "b51598cd",
   "metadata": {},
   "source": [
    "## Desafío - Máquinas de Soporte Vectorial\n",
    "- Para realizar este desafío debes haber estudiado previamente todo el material\n",
    "  disponibilizado correspondiente a la unidad.\n",
    "- Una vez terminado el desafío, comprime la carpeta que contiene el desarrollo de los\n",
    "  requerimientos solicitados y sube el .zip en el LMS.\n",
    "- Desarrollo desafío:\n",
    "  - El desafío se debe desarrollar de manera Individual\n",
    "  - Para la realización del desafío necesitarás apoyarte del archivo Apoyo Desafío\n",
    "  - Máquinas de Soporte Vectorial.\n",
    "  \n",
    "### Requerimientos\n",
    "Para esta sesión trabajaremos con la base de datos sobre cáncer mamario de Wisconsin. El\n",
    "objetivo es desarrollar un Clasificador mediante Máquinas de Soporte de Vectores que\n",
    "predica de forma adecuada en base a una serie de atributos sobre la composición del\n",
    "núcleo de una célula mamaria. Para más detalles técnicos asociados a la base de datos,\n",
    "pueden hacer click en el link.\n",
    "\n",
    "### Ejercicio 1: Preparar el ambiente de trabajo\n",
    "- Importe todas las librerías a utilizar.\n",
    "- Fije los parámetros de los gráficos con plt.Rcparams.\n",
    "- Excluya las columnas id y Unnamed: 32 de la base de datos.\n",
    "- Decodifique el vector objetivo diagnosis numérico para poder procesarlo\n",
    "  posteriormente."
   ]
  },
  {
   "cell_type": "code",
   "execution_count": 1,
   "id": "75cdbb04",
   "metadata": {},
   "outputs": [],
   "source": [
    "# Triada clasica y graficas seaborn\n",
    "import pandas as pd\n",
    "import numpy as np\n",
    "import matplotlib.pyplot as plt\n",
    "import seaborn as sns\n",
    "\n",
    "# Modulos especializados de matplotlib\n",
    "from matplotlib.gridspec import GridSpec\n",
    "\n",
    "# Machine Learning\n",
    "from sklearn.svm import SVC\n",
    "from sklearn.model_selection import train_test_split, cross_val_score, GridSearchCV\n",
    "from sklearn.preprocessing import StandardScaler\n",
    "\n",
    "from sklearn.pipeline import Pipeline\n",
    "from sklearn.metrics import classification_report, accuracy_score\n",
    "\n",
    "# Tratamiento de warnings e importacion de funciones\n",
    "import warnings\n",
    "import lec5_graphs as afx\n",
    "\n",
    "plt.style.use('seaborn-whitegrid')\n",
    "plt.rcParams['figure.figsize'] = (6, 6)\n",
    "warnings.filterwarnings('ignore')"
   ]
  },
  {
   "cell_type": "code",
   "execution_count": 2,
   "id": "22555fb0",
   "metadata": {},
   "outputs": [
    {
     "data": {
      "text/html": [
       "<div>\n",
       "<style scoped>\n",
       "    .dataframe tbody tr th:only-of-type {\n",
       "        vertical-align: middle;\n",
       "    }\n",
       "\n",
       "    .dataframe tbody tr th {\n",
       "        vertical-align: top;\n",
       "    }\n",
       "\n",
       "    .dataframe thead th {\n",
       "        text-align: right;\n",
       "    }\n",
       "</style>\n",
       "<table border=\"1\" class=\"dataframe\">\n",
       "  <thead>\n",
       "    <tr style=\"text-align: right;\">\n",
       "      <th></th>\n",
       "      <th>diagnosis</th>\n",
       "      <th>radius_mean</th>\n",
       "      <th>texture_mean</th>\n",
       "      <th>perimeter_mean</th>\n",
       "      <th>area_mean</th>\n",
       "      <th>smoothness_mean</th>\n",
       "      <th>compactness_mean</th>\n",
       "      <th>concavity_mean</th>\n",
       "      <th>concave points_mean</th>\n",
       "      <th>symmetry_mean</th>\n",
       "      <th>...</th>\n",
       "      <th>radius_worst</th>\n",
       "      <th>texture_worst</th>\n",
       "      <th>perimeter_worst</th>\n",
       "      <th>area_worst</th>\n",
       "      <th>smoothness_worst</th>\n",
       "      <th>compactness_worst</th>\n",
       "      <th>concavity_worst</th>\n",
       "      <th>concave points_worst</th>\n",
       "      <th>symmetry_worst</th>\n",
       "      <th>fractal_dimension_worst</th>\n",
       "    </tr>\n",
       "  </thead>\n",
       "  <tbody>\n",
       "    <tr>\n",
       "      <th>0</th>\n",
       "      <td>M</td>\n",
       "      <td>17.99</td>\n",
       "      <td>10.38</td>\n",
       "      <td>122.80</td>\n",
       "      <td>1001.0</td>\n",
       "      <td>0.11840</td>\n",
       "      <td>0.27760</td>\n",
       "      <td>0.3001</td>\n",
       "      <td>0.14710</td>\n",
       "      <td>0.2419</td>\n",
       "      <td>...</td>\n",
       "      <td>25.38</td>\n",
       "      <td>17.33</td>\n",
       "      <td>184.60</td>\n",
       "      <td>2019.0</td>\n",
       "      <td>0.1622</td>\n",
       "      <td>0.6656</td>\n",
       "      <td>0.7119</td>\n",
       "      <td>0.2654</td>\n",
       "      <td>0.4601</td>\n",
       "      <td>0.11890</td>\n",
       "    </tr>\n",
       "    <tr>\n",
       "      <th>1</th>\n",
       "      <td>M</td>\n",
       "      <td>20.57</td>\n",
       "      <td>17.77</td>\n",
       "      <td>132.90</td>\n",
       "      <td>1326.0</td>\n",
       "      <td>0.08474</td>\n",
       "      <td>0.07864</td>\n",
       "      <td>0.0869</td>\n",
       "      <td>0.07017</td>\n",
       "      <td>0.1812</td>\n",
       "      <td>...</td>\n",
       "      <td>24.99</td>\n",
       "      <td>23.41</td>\n",
       "      <td>158.80</td>\n",
       "      <td>1956.0</td>\n",
       "      <td>0.1238</td>\n",
       "      <td>0.1866</td>\n",
       "      <td>0.2416</td>\n",
       "      <td>0.1860</td>\n",
       "      <td>0.2750</td>\n",
       "      <td>0.08902</td>\n",
       "    </tr>\n",
       "    <tr>\n",
       "      <th>2</th>\n",
       "      <td>M</td>\n",
       "      <td>19.69</td>\n",
       "      <td>21.25</td>\n",
       "      <td>130.00</td>\n",
       "      <td>1203.0</td>\n",
       "      <td>0.10960</td>\n",
       "      <td>0.15990</td>\n",
       "      <td>0.1974</td>\n",
       "      <td>0.12790</td>\n",
       "      <td>0.2069</td>\n",
       "      <td>...</td>\n",
       "      <td>23.57</td>\n",
       "      <td>25.53</td>\n",
       "      <td>152.50</td>\n",
       "      <td>1709.0</td>\n",
       "      <td>0.1444</td>\n",
       "      <td>0.4245</td>\n",
       "      <td>0.4504</td>\n",
       "      <td>0.2430</td>\n",
       "      <td>0.3613</td>\n",
       "      <td>0.08758</td>\n",
       "    </tr>\n",
       "    <tr>\n",
       "      <th>3</th>\n",
       "      <td>M</td>\n",
       "      <td>11.42</td>\n",
       "      <td>20.38</td>\n",
       "      <td>77.58</td>\n",
       "      <td>386.1</td>\n",
       "      <td>0.14250</td>\n",
       "      <td>0.28390</td>\n",
       "      <td>0.2414</td>\n",
       "      <td>0.10520</td>\n",
       "      <td>0.2597</td>\n",
       "      <td>...</td>\n",
       "      <td>14.91</td>\n",
       "      <td>26.50</td>\n",
       "      <td>98.87</td>\n",
       "      <td>567.7</td>\n",
       "      <td>0.2098</td>\n",
       "      <td>0.8663</td>\n",
       "      <td>0.6869</td>\n",
       "      <td>0.2575</td>\n",
       "      <td>0.6638</td>\n",
       "      <td>0.17300</td>\n",
       "    </tr>\n",
       "    <tr>\n",
       "      <th>4</th>\n",
       "      <td>M</td>\n",
       "      <td>20.29</td>\n",
       "      <td>14.34</td>\n",
       "      <td>135.10</td>\n",
       "      <td>1297.0</td>\n",
       "      <td>0.10030</td>\n",
       "      <td>0.13280</td>\n",
       "      <td>0.1980</td>\n",
       "      <td>0.10430</td>\n",
       "      <td>0.1809</td>\n",
       "      <td>...</td>\n",
       "      <td>22.54</td>\n",
       "      <td>16.67</td>\n",
       "      <td>152.20</td>\n",
       "      <td>1575.0</td>\n",
       "      <td>0.1374</td>\n",
       "      <td>0.2050</td>\n",
       "      <td>0.4000</td>\n",
       "      <td>0.1625</td>\n",
       "      <td>0.2364</td>\n",
       "      <td>0.07678</td>\n",
       "    </tr>\n",
       "  </tbody>\n",
       "</table>\n",
       "<p>5 rows × 31 columns</p>\n",
       "</div>"
      ],
      "text/plain": [
       "  diagnosis  radius_mean  texture_mean  perimeter_mean  area_mean  \\\n",
       "0         M        17.99         10.38          122.80     1001.0   \n",
       "1         M        20.57         17.77          132.90     1326.0   \n",
       "2         M        19.69         21.25          130.00     1203.0   \n",
       "3         M        11.42         20.38           77.58      386.1   \n",
       "4         M        20.29         14.34          135.10     1297.0   \n",
       "\n",
       "   smoothness_mean  compactness_mean  concavity_mean  concave points_mean  \\\n",
       "0          0.11840           0.27760          0.3001              0.14710   \n",
       "1          0.08474           0.07864          0.0869              0.07017   \n",
       "2          0.10960           0.15990          0.1974              0.12790   \n",
       "3          0.14250           0.28390          0.2414              0.10520   \n",
       "4          0.10030           0.13280          0.1980              0.10430   \n",
       "\n",
       "   symmetry_mean  ...  radius_worst  texture_worst  perimeter_worst  \\\n",
       "0         0.2419  ...         25.38          17.33           184.60   \n",
       "1         0.1812  ...         24.99          23.41           158.80   \n",
       "2         0.2069  ...         23.57          25.53           152.50   \n",
       "3         0.2597  ...         14.91          26.50            98.87   \n",
       "4         0.1809  ...         22.54          16.67           152.20   \n",
       "\n",
       "   area_worst  smoothness_worst  compactness_worst  concavity_worst  \\\n",
       "0      2019.0            0.1622             0.6656           0.7119   \n",
       "1      1956.0            0.1238             0.1866           0.2416   \n",
       "2      1709.0            0.1444             0.4245           0.4504   \n",
       "3       567.7            0.2098             0.8663           0.6869   \n",
       "4      1575.0            0.1374             0.2050           0.4000   \n",
       "\n",
       "   concave points_worst  symmetry_worst  fractal_dimension_worst  \n",
       "0                0.2654          0.4601                  0.11890  \n",
       "1                0.1860          0.2750                  0.08902  \n",
       "2                0.2430          0.3613                  0.08758  \n",
       "3                0.2575          0.6638                  0.17300  \n",
       "4                0.1625          0.2364                  0.07678  \n",
       "\n",
       "[5 rows x 31 columns]"
      ]
     },
     "execution_count": 2,
     "metadata": {},
     "output_type": "execute_result"
    }
   ],
   "source": [
    "df = pd.read_csv('Datasets/breast_cancer.csv').drop(columns = ['id', 'Unnamed: 32'])\n",
    "df.head()"
   ]
  },
  {
   "cell_type": "code",
   "execution_count": 3,
   "id": "70342d75",
   "metadata": {},
   "outputs": [
    {
     "data": {
      "text/html": [
       "<div>\n",
       "<style scoped>\n",
       "    .dataframe tbody tr th:only-of-type {\n",
       "        vertical-align: middle;\n",
       "    }\n",
       "\n",
       "    .dataframe tbody tr th {\n",
       "        vertical-align: top;\n",
       "    }\n",
       "\n",
       "    .dataframe thead th {\n",
       "        text-align: right;\n",
       "    }\n",
       "</style>\n",
       "<table border=\"1\" class=\"dataframe\">\n",
       "  <thead>\n",
       "    <tr style=\"text-align: right;\">\n",
       "      <th></th>\n",
       "      <th>radius_mean</th>\n",
       "      <th>texture_mean</th>\n",
       "      <th>perimeter_mean</th>\n",
       "      <th>area_mean</th>\n",
       "      <th>smoothness_mean</th>\n",
       "      <th>compactness_mean</th>\n",
       "      <th>concavity_mean</th>\n",
       "      <th>concave points_mean</th>\n",
       "      <th>symmetry_mean</th>\n",
       "      <th>fractal_dimension_mean</th>\n",
       "      <th>...</th>\n",
       "      <th>radius_worst</th>\n",
       "      <th>texture_worst</th>\n",
       "      <th>perimeter_worst</th>\n",
       "      <th>area_worst</th>\n",
       "      <th>smoothness_worst</th>\n",
       "      <th>compactness_worst</th>\n",
       "      <th>concavity_worst</th>\n",
       "      <th>concave points_worst</th>\n",
       "      <th>symmetry_worst</th>\n",
       "      <th>fractal_dimension_worst</th>\n",
       "    </tr>\n",
       "  </thead>\n",
       "  <tbody>\n",
       "    <tr>\n",
       "      <th>count</th>\n",
       "      <td>569.000000</td>\n",
       "      <td>569.000000</td>\n",
       "      <td>569.000000</td>\n",
       "      <td>569.000000</td>\n",
       "      <td>569.000000</td>\n",
       "      <td>569.000000</td>\n",
       "      <td>569.000000</td>\n",
       "      <td>569.000000</td>\n",
       "      <td>569.000000</td>\n",
       "      <td>569.000000</td>\n",
       "      <td>...</td>\n",
       "      <td>569.000000</td>\n",
       "      <td>569.000000</td>\n",
       "      <td>569.000000</td>\n",
       "      <td>569.000000</td>\n",
       "      <td>569.000000</td>\n",
       "      <td>569.000000</td>\n",
       "      <td>569.000000</td>\n",
       "      <td>569.000000</td>\n",
       "      <td>569.000000</td>\n",
       "      <td>569.000000</td>\n",
       "    </tr>\n",
       "    <tr>\n",
       "      <th>mean</th>\n",
       "      <td>14.127292</td>\n",
       "      <td>19.289649</td>\n",
       "      <td>91.969033</td>\n",
       "      <td>654.889104</td>\n",
       "      <td>0.096360</td>\n",
       "      <td>0.104341</td>\n",
       "      <td>0.088799</td>\n",
       "      <td>0.048919</td>\n",
       "      <td>0.181162</td>\n",
       "      <td>0.062798</td>\n",
       "      <td>...</td>\n",
       "      <td>16.269190</td>\n",
       "      <td>25.677223</td>\n",
       "      <td>107.261213</td>\n",
       "      <td>880.583128</td>\n",
       "      <td>0.132369</td>\n",
       "      <td>0.254265</td>\n",
       "      <td>0.272188</td>\n",
       "      <td>0.114606</td>\n",
       "      <td>0.290076</td>\n",
       "      <td>0.083946</td>\n",
       "    </tr>\n",
       "    <tr>\n",
       "      <th>std</th>\n",
       "      <td>3.524049</td>\n",
       "      <td>4.301036</td>\n",
       "      <td>24.298981</td>\n",
       "      <td>351.914129</td>\n",
       "      <td>0.014064</td>\n",
       "      <td>0.052813</td>\n",
       "      <td>0.079720</td>\n",
       "      <td>0.038803</td>\n",
       "      <td>0.027414</td>\n",
       "      <td>0.007060</td>\n",
       "      <td>...</td>\n",
       "      <td>4.833242</td>\n",
       "      <td>6.146258</td>\n",
       "      <td>33.602542</td>\n",
       "      <td>569.356993</td>\n",
       "      <td>0.022832</td>\n",
       "      <td>0.157336</td>\n",
       "      <td>0.208624</td>\n",
       "      <td>0.065732</td>\n",
       "      <td>0.061867</td>\n",
       "      <td>0.018061</td>\n",
       "    </tr>\n",
       "    <tr>\n",
       "      <th>min</th>\n",
       "      <td>6.981000</td>\n",
       "      <td>9.710000</td>\n",
       "      <td>43.790000</td>\n",
       "      <td>143.500000</td>\n",
       "      <td>0.052630</td>\n",
       "      <td>0.019380</td>\n",
       "      <td>0.000000</td>\n",
       "      <td>0.000000</td>\n",
       "      <td>0.106000</td>\n",
       "      <td>0.049960</td>\n",
       "      <td>...</td>\n",
       "      <td>7.930000</td>\n",
       "      <td>12.020000</td>\n",
       "      <td>50.410000</td>\n",
       "      <td>185.200000</td>\n",
       "      <td>0.071170</td>\n",
       "      <td>0.027290</td>\n",
       "      <td>0.000000</td>\n",
       "      <td>0.000000</td>\n",
       "      <td>0.156500</td>\n",
       "      <td>0.055040</td>\n",
       "    </tr>\n",
       "    <tr>\n",
       "      <th>25%</th>\n",
       "      <td>11.700000</td>\n",
       "      <td>16.170000</td>\n",
       "      <td>75.170000</td>\n",
       "      <td>420.300000</td>\n",
       "      <td>0.086370</td>\n",
       "      <td>0.064920</td>\n",
       "      <td>0.029560</td>\n",
       "      <td>0.020310</td>\n",
       "      <td>0.161900</td>\n",
       "      <td>0.057700</td>\n",
       "      <td>...</td>\n",
       "      <td>13.010000</td>\n",
       "      <td>21.080000</td>\n",
       "      <td>84.110000</td>\n",
       "      <td>515.300000</td>\n",
       "      <td>0.116600</td>\n",
       "      <td>0.147200</td>\n",
       "      <td>0.114500</td>\n",
       "      <td>0.064930</td>\n",
       "      <td>0.250400</td>\n",
       "      <td>0.071460</td>\n",
       "    </tr>\n",
       "    <tr>\n",
       "      <th>50%</th>\n",
       "      <td>13.370000</td>\n",
       "      <td>18.840000</td>\n",
       "      <td>86.240000</td>\n",
       "      <td>551.100000</td>\n",
       "      <td>0.095870</td>\n",
       "      <td>0.092630</td>\n",
       "      <td>0.061540</td>\n",
       "      <td>0.033500</td>\n",
       "      <td>0.179200</td>\n",
       "      <td>0.061540</td>\n",
       "      <td>...</td>\n",
       "      <td>14.970000</td>\n",
       "      <td>25.410000</td>\n",
       "      <td>97.660000</td>\n",
       "      <td>686.500000</td>\n",
       "      <td>0.131300</td>\n",
       "      <td>0.211900</td>\n",
       "      <td>0.226700</td>\n",
       "      <td>0.099930</td>\n",
       "      <td>0.282200</td>\n",
       "      <td>0.080040</td>\n",
       "    </tr>\n",
       "    <tr>\n",
       "      <th>75%</th>\n",
       "      <td>15.780000</td>\n",
       "      <td>21.800000</td>\n",
       "      <td>104.100000</td>\n",
       "      <td>782.700000</td>\n",
       "      <td>0.105300</td>\n",
       "      <td>0.130400</td>\n",
       "      <td>0.130700</td>\n",
       "      <td>0.074000</td>\n",
       "      <td>0.195700</td>\n",
       "      <td>0.066120</td>\n",
       "      <td>...</td>\n",
       "      <td>18.790000</td>\n",
       "      <td>29.720000</td>\n",
       "      <td>125.400000</td>\n",
       "      <td>1084.000000</td>\n",
       "      <td>0.146000</td>\n",
       "      <td>0.339100</td>\n",
       "      <td>0.382900</td>\n",
       "      <td>0.161400</td>\n",
       "      <td>0.317900</td>\n",
       "      <td>0.092080</td>\n",
       "    </tr>\n",
       "    <tr>\n",
       "      <th>max</th>\n",
       "      <td>28.110000</td>\n",
       "      <td>39.280000</td>\n",
       "      <td>188.500000</td>\n",
       "      <td>2501.000000</td>\n",
       "      <td>0.163400</td>\n",
       "      <td>0.345400</td>\n",
       "      <td>0.426800</td>\n",
       "      <td>0.201200</td>\n",
       "      <td>0.304000</td>\n",
       "      <td>0.097440</td>\n",
       "      <td>...</td>\n",
       "      <td>36.040000</td>\n",
       "      <td>49.540000</td>\n",
       "      <td>251.200000</td>\n",
       "      <td>4254.000000</td>\n",
       "      <td>0.222600</td>\n",
       "      <td>1.058000</td>\n",
       "      <td>1.252000</td>\n",
       "      <td>0.291000</td>\n",
       "      <td>0.663800</td>\n",
       "      <td>0.207500</td>\n",
       "    </tr>\n",
       "  </tbody>\n",
       "</table>\n",
       "<p>8 rows × 30 columns</p>\n",
       "</div>"
      ],
      "text/plain": [
       "       radius_mean  texture_mean  perimeter_mean    area_mean  \\\n",
       "count   569.000000    569.000000      569.000000   569.000000   \n",
       "mean     14.127292     19.289649       91.969033   654.889104   \n",
       "std       3.524049      4.301036       24.298981   351.914129   \n",
       "min       6.981000      9.710000       43.790000   143.500000   \n",
       "25%      11.700000     16.170000       75.170000   420.300000   \n",
       "50%      13.370000     18.840000       86.240000   551.100000   \n",
       "75%      15.780000     21.800000      104.100000   782.700000   \n",
       "max      28.110000     39.280000      188.500000  2501.000000   \n",
       "\n",
       "       smoothness_mean  compactness_mean  concavity_mean  concave points_mean  \\\n",
       "count       569.000000        569.000000      569.000000           569.000000   \n",
       "mean          0.096360          0.104341        0.088799             0.048919   \n",
       "std           0.014064          0.052813        0.079720             0.038803   \n",
       "min           0.052630          0.019380        0.000000             0.000000   \n",
       "25%           0.086370          0.064920        0.029560             0.020310   \n",
       "50%           0.095870          0.092630        0.061540             0.033500   \n",
       "75%           0.105300          0.130400        0.130700             0.074000   \n",
       "max           0.163400          0.345400        0.426800             0.201200   \n",
       "\n",
       "       symmetry_mean  fractal_dimension_mean  ...  radius_worst  \\\n",
       "count     569.000000              569.000000  ...    569.000000   \n",
       "mean        0.181162                0.062798  ...     16.269190   \n",
       "std         0.027414                0.007060  ...      4.833242   \n",
       "min         0.106000                0.049960  ...      7.930000   \n",
       "25%         0.161900                0.057700  ...     13.010000   \n",
       "50%         0.179200                0.061540  ...     14.970000   \n",
       "75%         0.195700                0.066120  ...     18.790000   \n",
       "max         0.304000                0.097440  ...     36.040000   \n",
       "\n",
       "       texture_worst  perimeter_worst   area_worst  smoothness_worst  \\\n",
       "count     569.000000       569.000000   569.000000        569.000000   \n",
       "mean       25.677223       107.261213   880.583128          0.132369   \n",
       "std         6.146258        33.602542   569.356993          0.022832   \n",
       "min        12.020000        50.410000   185.200000          0.071170   \n",
       "25%        21.080000        84.110000   515.300000          0.116600   \n",
       "50%        25.410000        97.660000   686.500000          0.131300   \n",
       "75%        29.720000       125.400000  1084.000000          0.146000   \n",
       "max        49.540000       251.200000  4254.000000          0.222600   \n",
       "\n",
       "       compactness_worst  concavity_worst  concave points_worst  \\\n",
       "count         569.000000       569.000000            569.000000   \n",
       "mean            0.254265         0.272188              0.114606   \n",
       "std             0.157336         0.208624              0.065732   \n",
       "min             0.027290         0.000000              0.000000   \n",
       "25%             0.147200         0.114500              0.064930   \n",
       "50%             0.211900         0.226700              0.099930   \n",
       "75%             0.339100         0.382900              0.161400   \n",
       "max             1.058000         1.252000              0.291000   \n",
       "\n",
       "       symmetry_worst  fractal_dimension_worst  \n",
       "count      569.000000               569.000000  \n",
       "mean         0.290076                 0.083946  \n",
       "std          0.061867                 0.018061  \n",
       "min          0.156500                 0.055040  \n",
       "25%          0.250400                 0.071460  \n",
       "50%          0.282200                 0.080040  \n",
       "75%          0.317900                 0.092080  \n",
       "max          0.663800                 0.207500  \n",
       "\n",
       "[8 rows x 30 columns]"
      ]
     },
     "execution_count": 3,
     "metadata": {},
     "output_type": "execute_result"
    }
   ],
   "source": [
    "df.describe()"
   ]
  },
  {
   "cell_type": "code",
   "execution_count": 4,
   "id": "cd4dc335",
   "metadata": {},
   "outputs": [
    {
     "data": {
      "text/plain": [
       "B    357\n",
       "M    212\n",
       "Name: diagnosis, dtype: int64"
      ]
     },
     "execution_count": 4,
     "metadata": {},
     "output_type": "execute_result"
    }
   ],
   "source": [
    "df['diagnosis'].value_counts()"
   ]
  },
  {
   "cell_type": "code",
   "execution_count": 5,
   "id": "2bcaf5dd",
   "metadata": {},
   "outputs": [
    {
     "data": {
      "text/plain": [
       "B    0.627417\n",
       "M    0.372583\n",
       "Name: diagnosis, dtype: float64"
      ]
     },
     "execution_count": 5,
     "metadata": {},
     "output_type": "execute_result"
    }
   ],
   "source": [
    "df['diagnosis'].value_counts('%')"
   ]
  },
  {
   "cell_type": "code",
   "execution_count": 6,
   "id": "675c3c7b",
   "metadata": {},
   "outputs": [
    {
     "data": {
      "text/plain": [
       " 1    357\n",
       "-1    212\n",
       "Name: diagnosis, dtype: int64"
      ]
     },
     "execution_count": 6,
     "metadata": {},
     "output_type": "execute_result"
    }
   ],
   "source": [
    "df['diagnosis'] = df['diagnosis'].replace(['B', 'M'],[1, -1])\n",
    "df['diagnosis'].value_counts()"
   ]
  },
  {
   "cell_type": "code",
   "execution_count": 7,
   "id": "b3ef9dad",
   "metadata": {},
   "outputs": [
    {
     "data": {
      "image/png": "[encoded data removed]",
      "text/plain": [
       "<Figure size 432x288 with 1 Axes>"
      ]
     },
     "metadata": {
      "needs_background": "light"
     },
     "output_type": "display_data"
    }
   ],
   "source": [
    "sns.countplot(x = df['diagnosis'])\n",
    "plt.title(f'Distribución para variable objetivo: diagnosis')\n",
    "plt.show()"
   ]
  },
  {
   "cell_type": "markdown",
   "id": "246b9f58",
   "metadata": {},
   "source": [
    "### Ejercicio 2: Visualizando la distribución de los atributos\n",
    "- Para cada uno de los atributos, grafique los histogramas condicional a cada clase del\n",
    "  vector objetivo.\n",
    "- Agregue las medias correspondientes y reporte a grandes rasgos cuáles son los\n",
    "  atributos con una mayor similitud en la distribución."
   ]
  },
  {
   "cell_type": "code",
   "execution_count": 8,
   "id": "34466c6b",
   "metadata": {},
   "outputs": [
    {
     "data": {
      "text/plain": [
       "<Figure size 1440x1440 with 0 Axes>"
      ]
     },
     "metadata": {},
     "output_type": "display_data"
    },
    {
     "data": {
      "image/png": "[encoded data removed]",
      "text/plain": [
       "<Figure size 1800x1080 with 30 Axes>"
      ]
     },
     "metadata": {
      "needs_background": "light"
     },
     "output_type": "display_data"
    }
   ],
   "source": [
    "plt.figure(figsize = (20, 20))\n",
    "\n",
    "columnas = df.drop(columns = 'diagnosis').columns\n",
    "\n",
    "plt.figure(figsize=(25,15))\n",
    "for i, colname in enumerate(columnas):\n",
    "        plt.subplot(6,5,i+1)\n",
    "        plt.title(colname)\n",
    "        unos = df[df['diagnosis'] == 1][colname]\n",
    "        menos_unos = df[df['diagnosis'] == -1][colname]\n",
    "        plt.hist(unos, label='1' , alpha=.6)\n",
    "        plt.axvline(unos.mean(), ls='--', label='media de clase 1')\n",
    "        plt.hist(menos_unos, label='-1', alpha=.6)\n",
    "        plt.axvline(menos_unos.mean(), ls='--', label='media de clase -1', color='orange')\n",
    "        plt.legend()"
   ]
  },
  {
   "cell_type": "code",
   "execution_count": 9,
   "id": "d17e1a8d",
   "metadata": {},
   "outputs": [
    {
     "data": {
      "text/plain": [
       "(569, 31)"
      ]
     },
     "execution_count": 9,
     "metadata": {},
     "output_type": "execute_result"
    }
   ],
   "source": [
    "df.shape"
   ]
  },
  {
   "cell_type": "markdown",
   "id": "3129c22a",
   "metadata": {},
   "source": [
    "### Ejercicio 3: Estimando el porcentaje de overlap en los atributos\n",
    "- Parte de las virtudes de las Máquinas de Soporte Vectorial es la capacidad de lidiar\n",
    "  con clases no separables mediante el proceso de kernelización. Resulta que un\n",
    "  aspecto importante que muchas veces se obvia es medir la noseparabilidad de los\n",
    "  atributos, condicional a cada clase del vector objetivo.\n",
    "  \n",
    "- El procedimiento para estimar el rango de noseparabilidad entre clases se\n",
    "  implementa en Python de la siguiente manera"
   ]
  },
  {
   "cell_type": "code",
   "execution_count": 10,
   "id": "62713d9d",
   "metadata": {},
   "outputs": [],
   "source": [
    "def histogram_overlap(df, attribute, target, perc=100):\n",
    "        # get lower bound\n",
    "        empirical_lower_bound = np.floor(df[attribute].min())\n",
    "        # get upper bound\n",
    "        empirical_upper_bound = np.ceil(df[attribute].max())\n",
    "        # preserve histograms\n",
    "        tmp_hist_holder = dict()\n",
    "        # for each target class\n",
    "        tar_values = df[target].unique()\n",
    "        for unique_value in tar_values:\n",
    "                # get histogram\n",
    "                tmp, _ = np.histogram(\n",
    "                        df[df[target] == unique_value][attribute],   # for a specific attribute\n",
    "                        bins=perc,   # define percentage\n",
    "                        range=[empirical_lower_bound, empirical_upper_bound]   # limit empirical range for comparison\n",
    ")\n",
    "        # append to dict\n",
    "                tmp_hist_holder[f\"h_{unique_value}\"] = tmp\n",
    "        get_minima = np.minimum(\n",
    "                tmp_hist_holder[f\"h_{tar_values[0]}\"],\n",
    "                tmp_hist_holder[f\"h_{tar_values[1]}\"]\n",
    "        )\n",
    "        intersection = np.true_divide(\n",
    "                np.sum(get_minima),\n",
    "                np.sum(tmp_hist_holder[f\"h_{tar_values[0]}\"])\n",
    "        )\n",
    "        return intersection"
   ]
  },
  {
   "cell_type": "code",
   "execution_count": 11,
   "id": "2cd9ab94",
   "metadata": {},
   "outputs": [
    {
     "data": {
      "text/html": [
       "<div>\n",
       "<style scoped>\n",
       "    .dataframe tbody tr th:only-of-type {\n",
       "        vertical-align: middle;\n",
       "    }\n",
       "\n",
       "    .dataframe tbody tr th {\n",
       "        vertical-align: top;\n",
       "    }\n",
       "\n",
       "    .dataframe thead th {\n",
       "        text-align: right;\n",
       "    }\n",
       "</style>\n",
       "<table border=\"1\" class=\"dataframe\">\n",
       "  <thead>\n",
       "    <tr style=\"text-align: right;\">\n",
       "      <th></th>\n",
       "      <th>columna</th>\n",
       "      <th>overlap_coef</th>\n",
       "    </tr>\n",
       "  </thead>\n",
       "  <tbody>\n",
       "    <tr>\n",
       "      <th>19</th>\n",
       "      <td>fractal_dimension_se</td>\n",
       "      <td>1.000000</td>\n",
       "    </tr>\n",
       "    <tr>\n",
       "      <th>14</th>\n",
       "      <td>smoothness_se</td>\n",
       "      <td>0.995283</td>\n",
       "    </tr>\n",
       "    <tr>\n",
       "      <th>9</th>\n",
       "      <td>fractal_dimension_mean</td>\n",
       "      <td>0.990566</td>\n",
       "    </tr>\n",
       "    <tr>\n",
       "      <th>18</th>\n",
       "      <td>symmetry_se</td>\n",
       "      <td>0.957547</td>\n",
       "    </tr>\n",
       "    <tr>\n",
       "      <th>11</th>\n",
       "      <td>texture_se</td>\n",
       "      <td>0.924528</td>\n",
       "    </tr>\n",
       "  </tbody>\n",
       "</table>\n",
       "</div>"
      ],
      "text/plain": [
       "                   columna  overlap_coef\n",
       "19    fractal_dimension_se      1.000000\n",
       "14           smoothness_se      0.995283\n",
       "9   fractal_dimension_mean      0.990566\n",
       "18             symmetry_se      0.957547\n",
       "11              texture_se      0.924528"
      ]
     },
     "execution_count": 11,
     "metadata": {},
     "output_type": "execute_result"
    }
   ],
   "source": [
    "df_overlaping = pd.DataFrame([[colname, histogram_overlap(df, colname, 'diagnosis')] for colname in columnas], \n",
    "                        columns=['columna', 'overlap_coef']).sort_values(by='overlap_coef', ascending=False)\n",
    "df_overlaping.head()"
   ]
  },
  {
   "cell_type": "markdown",
   "id": "1a452884",
   "metadata": {},
   "source": [
    "- La intersección devolverá el porcentaje de comunalidad entre ambas clases, donde\n",
    "  mayores niveles indican una mayor comunalidad.\n",
    "- Utilizando la función, generará un data frame donde almacenará el nombre del\n",
    "  atributo y su porcentaje. Ordene este data frame de forma descendente y preserve."
   ]
  },
  {
   "cell_type": "markdown",
   "id": "f1eab24a",
   "metadata": {},
   "source": [
    "### Ejercicio 4: Selección del modelo por GridSearchCV\n",
    "- Entrene una serie de modelos SVC con los siguientes hiper parámetros:\n",
    "  - C: [0.0001, 0.001, 0.01, 0.1, 1, 10, 100, 1000].\n",
    "  - gamma: [0.0000001, 0.0001, 0.001, 0.01, 0.1, 1, 10].\n",
    "  - Validaciones cruzadas: 10.\n",
    "- Genere un heatmap en base a los puntajes estimados con GridSearchCV.\n",
    "\n",
    "Tip: Vea cómo acceder a la llave mean_test_score en el diccionario cv_results_.\n",
    "\n",
    "#### Digresión: Un par de elementos a considerar en la implementación de GridSearchCV.\n",
    "Si trabajamos con sklearn.model_selection.GridSearchCV, tan solo haciendo la\n",
    "división en dos muestras es suficiente, incorporando los conjuntos X_train y y_train a\n",
    "nuestro objeto instanciado y preservando X_test e y_test como una muestra de validación\n",
    "externa. Si tenemos un archivo de testing externo, se recomienda no hacer división.\n",
    "\n",
    "- El objeto creado con sklearn.model_selection.GridSearchCV sigue la misma\n",
    "  funcionalidad de cualquier método de estimación de scikit-learn, con los pasos\n",
    "  de Instanciar y Entrenar. Este objeto tendrá muchos elementos a considerar:\n",
    "  - sklearn.model_selection.GridSearchCV.cv_results_ devolverá un\n",
    "    diccionario donde las llaves representarán distintas métricas y los valores\n",
    "    representarán el desempeño de cada modelo.\n",
    "  - split: Indicará la métrica específica en cada validación cruzada y\n",
    "    combinación de hiper parámetros.\n",
    "  - time: Indicará el tiempo de ejecución en cada modelo.\n",
    "  - Por lo general trabajaremos con mean_test_score y mean_train_score que\n",
    "    representa la media de CV para cada combinación de hiper parámetros.\n",
    "  - sklearn.model_selection.GridSearchCV.best_estimator_ devuelve un\n",
    "    modelo listo para entrenar con la mejor combinación de hiper parámetros.\n",
    "  - sklearn.model_selection.GridSearchCV.best_score_ devuelve el\n",
    "    desempeño promedio del modelo en el testing interno. Si es un problema de\n",
    "    clasificación devolverá Accuracy, si es un problema de regresión devolverá\n",
    "    MSE.\n",
    "- Reporte en qué rango de cada hiper parámetro el modelo presenta un desempeño\n",
    "  eficiente. Reporte la mejor combinación de hiper parámetros y el desempeño en la\n",
    "  muestra de entrenamiento."
   ]
  },
  {
   "cell_type": "code",
   "execution_count": 12,
   "id": "9b2dcf80",
   "metadata": {},
   "outputs": [],
   "source": [
    "# Dividimos las muestras\n",
    "X = df.drop(columns='diagnosis')\n",
    "y = df['diagnosis']\n",
    "X_train_pre, X_test_pre, y_train, y_test = train_test_split(X, y, test_size = .33, random_state = 15820)\n",
    "scaler = StandardScaler().fit(X_train_pre)\n",
    "X_train = scaler.transform(X_train_pre)\n",
    "X_test = scaler.transform(X_test_pre)"
   ]
  },
  {
   "cell_type": "code",
   "execution_count": 13,
   "id": "5261fdf4",
   "metadata": {},
   "outputs": [],
   "source": [
    "modelo = SVC(kernel = 'rbf')"
   ]
  },
  {
   "cell_type": "code",
   "execution_count": 14,
   "id": "57f77cbb",
   "metadata": {},
   "outputs": [],
   "source": [
    "hiper_parametros = {'C':[0.0001, 0.001, 0.01, 0.1, 1, 10, 100, 1000], 'gamma':[0.0000001, 0.0001, 0.001, 0.01, 0.1, 1, 10]}"
   ]
  },
  {
   "cell_type": "code",
   "execution_count": 15,
   "id": "1d010391",
   "metadata": {},
   "outputs": [],
   "source": [
    "grilla =  GridSearchCV(modelo, hiper_parametros, cv = 10, return_train_score = True)"
   ]
  },
  {
   "cell_type": "code",
   "execution_count": 16,
   "id": "5567afb0",
   "metadata": {},
   "outputs": [
    {
     "data": {
      "text/html": [
       "<style>#sk-container-id-1 {color: black;background-color: white;}#sk-container-id-1 pre{padding: 0;}#sk-container-id-1 div.sk-toggleable {background-color: white;}#sk-container-id-1 label.sk-toggleable__label {cursor: pointer;display: block;width: 100%;margin-bottom: 0;padding: 0.3em;box-sizing: border-box;text-align: center;}#sk-container-id-1 label.sk-toggleable__label-arrow:before {content: \"▸\";float: left;margin-right: 0.25em;color: #696969;}#sk-container-id-1 label.sk-toggleable__label-arrow:hover:before {color: black;}#sk-container-id-1 div.sk-estimator:hover label.sk-toggleable__label-arrow:before {color: black;}#sk-container-id-1 div.sk-toggleable__content {max-height: 0;max-width: 0;overflow: hidden;text-align: left;background-color: #f0f8ff;}#sk-container-id-1 div.sk-toggleable__content pre {margin: 0.2em;color: black;border-radius: 0.25em;background-color: #f0f8ff;}#sk-container-id-1 input.sk-toggleable__control:checked~div.sk-toggleable__content {max-height: 200px;max-width: 100%;overflow: auto;}#sk-container-id-1 input.sk-toggleable__control:checked~label.sk-toggleable__label-arrow:before {content: \"▾\";}#sk-container-id-1 div.sk-estimator input.sk-toggleable__control:checked~label.sk-toggleable__label {background-color: #d4ebff;}#sk-container-id-1 div.sk-label input.sk-toggleable__control:checked~label.sk-toggleable__label {background-color: #d4ebff;}#sk-container-id-1 input.sk-hidden--visually {border: 0;clip: rect(1px 1px 1px 1px);clip: rect(1px, 1px, 1px, 1px);height: 1px;margin: -1px;overflow: hidden;padding: 0;position: absolute;width: 1px;}#sk-container-id-1 div.sk-estimator {font-family: monospace;background-color: #f0f8ff;border: 1px dotted black;border-radius: 0.25em;box-sizing: border-box;margin-bottom: 0.5em;}#sk-container-id-1 div.sk-estimator:hover {background-color: #d4ebff;}#sk-container-id-1 div.sk-parallel-item::after {content: \"\";width: 100%;border-bottom: 1px solid gray;flex-grow: 1;}#sk-container-id-1 div.sk-label:hover label.sk-toggleable__label {background-color: #d4ebff;}#sk-container-id-1 div.sk-serial::before {content: \"\";position: absolute;border-left: 1px solid gray;box-sizing: border-box;top: 0;bottom: 0;left: 50%;z-index: 0;}#sk-container-id-1 div.sk-serial {display: flex;flex-direction: column;align-items: center;background-color: white;padding-right: 0.2em;padding-left: 0.2em;position: relative;}#sk-container-id-1 div.sk-item {position: relative;z-index: 1;}#sk-container-id-1 div.sk-parallel {display: flex;align-items: stretch;justify-content: center;background-color: white;position: relative;}#sk-container-id-1 div.sk-item::before, #sk-container-id-1 div.sk-parallel-item::before {content: \"\";position: absolute;border-left: 1px solid gray;box-sizing: border-box;top: 0;bottom: 0;left: 50%;z-index: -1;}#sk-container-id-1 div.sk-parallel-item {display: flex;flex-direction: column;z-index: 1;position: relative;background-color: white;}#sk-container-id-1 div.sk-parallel-item:first-child::after {align-self: flex-end;width: 50%;}#sk-container-id-1 div.sk-parallel-item:last-child::after {align-self: flex-start;width: 50%;}#sk-container-id-1 div.sk-parallel-item:only-child::after {width: 0;}#sk-container-id-1 div.sk-dashed-wrapped {border: 1px dashed gray;margin: 0 0.4em 0.5em 0.4em;box-sizing: border-box;padding-bottom: 0.4em;background-color: white;}#sk-container-id-1 div.sk-label label {font-family: monospace;font-weight: bold;display: inline-block;line-height: 1.2em;}#sk-container-id-1 div.sk-label-container {text-align: center;}#sk-container-id-1 div.sk-container {/* jupyter's `normalize.less` sets `[hidden] { display: none; }` but bootstrap.min.css set `[hidden] { display: none !important; }` so we also need the `!important` here to be able to override the default hidden behavior on the sphinx rendered scikit-learn.org. See: https://github.com/scikit-learn/scikit-learn/issues/21755 */display: inline-block !important;position: relative;}#sk-container-id-1 div.sk-text-repr-fallback {display: none;}</style><div id=\"sk-container-id-1\" class=\"sk-top-container\"><div class=\"sk-text-repr-fallback\"><pre>GridSearchCV(cv=10, estimator=SVC(),\n",
       "             param_grid={&#x27;C&#x27;: [0.0001, 0.001, 0.01, 0.1, 1, 10, 100, 1000],\n",
       "                         &#x27;gamma&#x27;: [1e-07, 0.0001, 0.001, 0.01, 0.1, 1, 10]},\n",
       "             return_train_score=True)</pre><b>In a Jupyter environment, please rerun this cell to show the HTML representation or trust the notebook. <br />On GitHub, the HTML representation is unable to render, please try loading this page with nbviewer.org.</b></div><div class=\"sk-container\" hidden><div class=\"sk-item sk-dashed-wrapped\"><div class=\"sk-label-container\"><div class=\"sk-label sk-toggleable\"><input class=\"sk-toggleable__control sk-hidden--visually\" id=\"sk-estimator-id-1\" type=\"checkbox\" ><label for=\"sk-estimator-id-1\" class=\"sk-toggleable__label sk-toggleable__label-arrow\">GridSearchCV</label><div class=\"sk-toggleable__content\"><pre>GridSearchCV(cv=10, estimator=SVC(),\n",
       "             param_grid={&#x27;C&#x27;: [0.0001, 0.001, 0.01, 0.1, 1, 10, 100, 1000],\n",
       "                         &#x27;gamma&#x27;: [1e-07, 0.0001, 0.001, 0.01, 0.1, 1, 10]},\n",
       "             return_train_score=True)</pre></div></div></div><div class=\"sk-parallel\"><div class=\"sk-parallel-item\"><div class=\"sk-item\"><div class=\"sk-label-container\"><div class=\"sk-label sk-toggleable\"><input class=\"sk-toggleable__control sk-hidden--visually\" id=\"sk-estimator-id-2\" type=\"checkbox\" ><label for=\"sk-estimator-id-2\" class=\"sk-toggleable__label sk-toggleable__label-arrow\">estimator: SVC</label><div class=\"sk-toggleable__content\"><pre>SVC()</pre></div></div></div><div class=\"sk-serial\"><div class=\"sk-item\"><div class=\"sk-estimator sk-toggleable\"><input class=\"sk-toggleable__control sk-hidden--visually\" id=\"sk-estimator-id-3\" type=\"checkbox\" ><label for=\"sk-estimator-id-3\" class=\"sk-toggleable__label sk-toggleable__label-arrow\">SVC</label><div class=\"sk-toggleable__content\"><pre>SVC()</pre></div></div></div></div></div></div></div></div></div></div>"
      ],
      "text/plain": [
       "GridSearchCV(cv=10, estimator=SVC(),\n",
       "             param_grid={'C': [0.0001, 0.001, 0.01, 0.1, 1, 10, 100, 1000],\n",
       "                         'gamma': [1e-07, 0.0001, 0.001, 0.01, 0.1, 1, 10]},\n",
       "             return_train_score=True)"
      ]
     },
     "execution_count": 16,
     "metadata": {},
     "output_type": "execute_result"
    }
   ],
   "source": [
    "grilla.fit(X_train, y_train)"
   ]
  },
  {
   "cell_type": "code",
   "execution_count": 17,
   "id": "4e23651f",
   "metadata": {},
   "outputs": [
    {
     "data": {
      "text/plain": [
       "0.9868421052631579"
      ]
     },
     "execution_count": 17,
     "metadata": {},
     "output_type": "execute_result"
    }
   ],
   "source": [
    "grilla.best_score_"
   ]
  },
  {
   "cell_type": "code",
   "execution_count": 18,
   "id": "d93fce56",
   "metadata": {},
   "outputs": [
    {
     "data": {
      "text/plain": [
       "array([0.63778677, 0.63778677, 0.63778677, 0.63778677, 0.63778677,\n",
       "       0.63778677, 0.63778677, 0.63778677, 0.63778677, 0.63778677,\n",
       "       0.63778677, 0.63778677, 0.63778677, 0.63778677, 0.63778677,\n",
       "       0.63778677, 0.63778677, 0.63778677, 0.63778677, 0.63778677,\n",
       "       0.63778677, 0.63778677, 0.63778677, 0.69547908, 0.94750337,\n",
       "       0.91336032, 0.63778677, 0.63778677, 0.63778677, 0.70074224,\n",
       "       0.95276653, 0.97894737, 0.96052632, 0.63778677, 0.63778677,\n",
       "       0.63778677, 0.95276653, 0.98157895, 0.98157895, 0.93954116,\n",
       "       0.63778677, 0.63778677, 0.63778677, 0.98421053, 0.98421053,\n",
       "       0.97112011, 0.93954116, 0.63778677, 0.63778677, 0.7060054 ,\n",
       "       0.98684211, 0.97901484, 0.97375169, 0.93954116, 0.63778677,\n",
       "       0.63778677])"
      ]
     },
     "execution_count": 18,
     "metadata": {},
     "output_type": "execute_result"
    }
   ],
   "source": [
    "grilla.cv_results_['mean_test_score']"
   ]
  },
  {
   "cell_type": "code",
   "execution_count": 19,
   "id": "a7cfda20",
   "metadata": {},
   "outputs": [],
   "source": [
    "df_resultados = pd.DataFrame(grilla.cv_results_['mean_test_score'].reshape(len(grilla.param_grid['C']),len(grilla.param_grid['gamma'])))"
   ]
  },
  {
   "cell_type": "code",
   "execution_count": 20,
   "id": "541f5717",
   "metadata": {},
   "outputs": [],
   "source": [
    "df_resultados.columns = grilla.param_grid['gamma']\n",
    "df_resultados.index = grilla.param_grid['C']"
   ]
  },
  {
   "cell_type": "code",
   "execution_count": 21,
   "id": "706dd52e",
   "metadata": {},
   "outputs": [
    {
     "data": {
      "text/plain": [
       "Text(37.5, 0.5, 'C')"
      ]
     },
     "execution_count": 21,
     "metadata": {},
     "output_type": "execute_result"
    },
    {
     "data": {
      "image/png": "[encoded data removed]",
      "text/plain": [
       "<Figure size 432x288 with 2 Axes>"
      ]
     },
     "metadata": {
      "needs_background": "light"
     },
     "output_type": "display_data"
    }
   ],
   "source": [
    "sns.heatmap(df_resultados, annot = True, cmap='Blues')\n",
    "plt.xlabel('gamma', fontsize=15)\n",
    "plt.ylabel('C', fontsize=15)"
   ]
  },
  {
   "cell_type": "code",
   "execution_count": 22,
   "id": "1d091d3c",
   "metadata": {},
   "outputs": [
    {
     "data": {
      "text/plain": [
       "{'C': [0.0001, 0.001, 0.01, 0.1, 1, 10, 100, 1000],\n",
       " 'gamma': [1e-07, 0.0001, 0.001, 0.01, 0.1, 1, 10]}"
      ]
     },
     "execution_count": 22,
     "metadata": {},
     "output_type": "execute_result"
    }
   ],
   "source": [
    "grilla.param_grid"
   ]
  },
  {
   "cell_type": "code",
   "execution_count": 23,
   "id": "ee1a7287",
   "metadata": {},
   "outputs": [],
   "source": [
    "def report_heatmaps(cv_trained):\n",
    "        plt.figure(figsize=(10, 10))\n",
    "        param1 = tuple(cv_trained.param_grid.keys())[0]\n",
    "        param2 = tuple(cv_trained.param_grid.keys())[1]\n",
    "        \n",
    "        # Mejores parámetros subconjuntos para test\n",
    "        plt.subplot(1, 2, 1)\n",
    "        sns.heatmap(\n",
    "        cv_trained.cv_results_['mean_test_score'].reshape(len(cv_trained.param_grid[param1]), len(cv_trained.param_grid[param2])),\n",
    "        cmap='Blues',\n",
    "        annot=True,\n",
    "        xticklabels=cv_trained.param_grid[param2],\n",
    "        yticklabels=cv_trained.param_grid[param1],\n",
    "        cbar=False\n",
    "        )\n",
    "        \n",
    "        plt.ylabel(param1)\n",
    "        plt.xlabel(param2)\n",
    "        plt.title('Test CV')\n",
    "        \n",
    "        # Mejores parámetros subconjuntos para train\n",
    "        plt.subplot(1, 2, 2)\n",
    "        sns.heatmap(\n",
    "        cv_trained.cv_results_['mean_train_score'].reshape(len(cv_trained.param_grid[param1]), len(cv_trained.param_grid[param2])),\n",
    "        cmap='Blues',\n",
    "        annot=True,\n",
    "        xticklabels=cv_trained.param_grid[param2],\n",
    "        yticklabels=cv_trained.param_grid[param1],\n",
    "        cbar=False\n",
    "        )\n",
    "        \n",
    "        plt.ylabel(param1)\n",
    "        plt.xlabel(param2)\n",
    "        plt.title('Train CV')\n",
    "        plt.tight_layout()"
   ]
  },
  {
   "cell_type": "code",
   "execution_count": 24,
   "id": "cb9592a7",
   "metadata": {},
   "outputs": [
    {
     "data": {
      "image/png": "[encoded data removed]",
      "text/plain": [
       "<Figure size 720x720 with 2 Axes>"
      ]
     },
     "metadata": {
      "needs_background": "light"
     },
     "output_type": "display_data"
    }
   ],
   "source": [
    "report_heatmaps(grilla)"
   ]
  },
  {
   "cell_type": "code",
   "execution_count": 25,
   "id": "175789d3",
   "metadata": {},
   "outputs": [
    {
     "name": "stdout",
     "output_type": "stream",
     "text": [
      "\n",
      "Mejores hiper parametros: {'C': 1000, 'gamma': 0.0001}\n",
      "Mejor puntaje: 0.9868421052631579\n"
     ]
    }
   ],
   "source": [
    "print(f'''\n",
    "Mejores hiper parametros: {grilla.best_params_}\n",
    "Mejor puntaje: {grilla.best_score_}''')"
   ]
  },
  {
   "cell_type": "markdown",
   "id": "cecbed7a",
   "metadata": {},
   "source": [
    "### Ejercicio 5: Validación del modelo en el Test set sample\n",
    "- Genere las predicciones del Test set sample en base a la mejor combinación de hiper\n",
    "  parámetros. Genere un reporte con las métricas de desempeño clásicas para los\n",
    "  modelos de clasificación. Comente en qué casos el modelo presenta un desempeño\n",
    "  deficiente."
   ]
  },
  {
   "cell_type": "code",
   "execution_count": 26,
   "id": "778abc42",
   "metadata": {},
   "outputs": [],
   "source": [
    "y_hat = grilla.best_estimator_.predict(X_test)"
   ]
  },
  {
   "cell_type": "code",
   "execution_count": 27,
   "id": "c5a2cd80",
   "metadata": {},
   "outputs": [
    {
     "name": "stdout",
     "output_type": "stream",
     "text": [
      "              precision    recall  f1-score   support\n",
      "\n",
      "          -1       0.97      0.93      0.95        74\n",
      "           1       0.96      0.98      0.97       114\n",
      "\n",
      "    accuracy                           0.96       188\n",
      "   macro avg       0.96      0.96      0.96       188\n",
      "weighted avg       0.96      0.96      0.96       188\n",
      "\n"
     ]
    }
   ],
   "source": [
    "print(classification_report(y_test, y_hat))"
   ]
  },
  {
   "cell_type": "markdown",
   "id": "ac7ea2bc",
   "metadata": {},
   "source": [
    "### Ejercicio (opcional): Depuración de atributos\n",
    "- Reentrene el modelo en función de los atributos que presenten un coeficiente de\n",
    "  overlap menor a .45.\n",
    "- Reporte el desempeño del modelo y comente sobre los nuevos hiper parámetros\n",
    "  estimados, así como su desempeño en comparación al modelo del ejercicio 5.\n"
   ]
  },
  {
   "cell_type": "code",
   "execution_count": 28,
   "id": "746690d6",
   "metadata": {},
   "outputs": [
    {
     "data": {
      "text/plain": [
       "numpy.float64"
      ]
     },
     "execution_count": 28,
     "metadata": {},
     "output_type": "execute_result"
    }
   ],
   "source": [
    "type(grilla.best_score_)"
   ]
  },
  {
   "cell_type": "code",
   "execution_count": 29,
   "id": "1c3a1d16",
   "metadata": {},
   "outputs": [
    {
     "data": {
      "text/html": [
       "<div>\n",
       "<style scoped>\n",
       "    .dataframe tbody tr th:only-of-type {\n",
       "        vertical-align: middle;\n",
       "    }\n",
       "\n",
       "    .dataframe tbody tr th {\n",
       "        vertical-align: top;\n",
       "    }\n",
       "\n",
       "    .dataframe thead th {\n",
       "        text-align: right;\n",
       "    }\n",
       "</style>\n",
       "<table border=\"1\" class=\"dataframe\">\n",
       "  <thead>\n",
       "    <tr style=\"text-align: right;\">\n",
       "      <th></th>\n",
       "      <th>columna</th>\n",
       "      <th>overlap_coef</th>\n",
       "    </tr>\n",
       "  </thead>\n",
       "  <tbody>\n",
       "    <tr>\n",
       "      <th>19</th>\n",
       "      <td>fractal_dimension_se</td>\n",
       "      <td>1.000000</td>\n",
       "    </tr>\n",
       "    <tr>\n",
       "      <th>14</th>\n",
       "      <td>smoothness_se</td>\n",
       "      <td>0.995283</td>\n",
       "    </tr>\n",
       "    <tr>\n",
       "      <th>9</th>\n",
       "      <td>fractal_dimension_mean</td>\n",
       "      <td>0.990566</td>\n",
       "    </tr>\n",
       "    <tr>\n",
       "      <th>18</th>\n",
       "      <td>symmetry_se</td>\n",
       "      <td>0.957547</td>\n",
       "    </tr>\n",
       "    <tr>\n",
       "      <th>11</th>\n",
       "      <td>texture_se</td>\n",
       "      <td>0.924528</td>\n",
       "    </tr>\n",
       "  </tbody>\n",
       "</table>\n",
       "</div>"
      ],
      "text/plain": [
       "                   columna  overlap_coef\n",
       "19    fractal_dimension_se      1.000000\n",
       "14           smoothness_se      0.995283\n",
       "9   fractal_dimension_mean      0.990566\n",
       "18             symmetry_se      0.957547\n",
       "11              texture_se      0.924528"
      ]
     },
     "execution_count": 29,
     "metadata": {},
     "output_type": "execute_result"
    }
   ],
   "source": [
    "df_overlaping.head()"
   ]
  },
  {
   "cell_type": "code",
   "execution_count": 30,
   "id": "581d9688",
   "metadata": {},
   "outputs": [
    {
     "name": "stdout",
     "output_type": "stream",
     "text": [
      "Nombre de la columna:  columna\n",
      "Contenido de la columna:  ['fractal_dimension_se' 'smoothness_se' 'fractal_dimension_mean'\n",
      " 'symmetry_se' 'texture_se' 'compactness_se' 'smoothness_mean'\n",
      " 'symmetry_mean' 'concave points_se' 'fractal_dimension_worst'\n",
      " 'smoothness_worst' 'concavity_se' 'symmetry_worst' 'texture_mean'\n",
      " 'texture_worst' 'compactness_mean' 'compactness_worst' 'perimeter_se'\n",
      " 'radius_se' 'concavity_worst' 'area_se' 'radius_mean' 'concavity_mean'\n",
      " 'area_mean' 'perimeter_mean' 'concave points_worst' 'concave points_mean'\n",
      " 'radius_worst' 'perimeter_worst' 'area_worst']\n",
      "Nombre de la columna:  overlap_coef\n",
      "Contenido de la columna:  [1.         0.99528302 0.99056604 0.95754717 0.9245283  0.88207547\n",
      " 0.87735849 0.85849057 0.85377358 0.83018868 0.76415094 0.75943396\n",
      " 0.73584906 0.65566038 0.64150943 0.53301887 0.53301887 0.47169811\n",
      " 0.46698113 0.35849057 0.3490566  0.31132075 0.30660377 0.30188679\n",
      " 0.28301887 0.23584906 0.23113208 0.22641509 0.21698113 0.21698113]\n"
     ]
    }
   ],
   "source": [
    "# busqueda de variables con overlap < .45\n",
    "for (label, content) in df_overlaping.iteritems():\n",
    "    print('Nombre de la columna: ', label)\n",
    "    print('Contenido de la columna: ', content.values)"
   ]
  },
  {
   "cell_type": "code",
   "execution_count": 31,
   "id": "4beef264",
   "metadata": {},
   "outputs": [
    {
     "data": {
      "text/html": [
       "<div>\n",
       "<style scoped>\n",
       "    .dataframe tbody tr th:only-of-type {\n",
       "        vertical-align: middle;\n",
       "    }\n",
       "\n",
       "    .dataframe tbody tr th {\n",
       "        vertical-align: top;\n",
       "    }\n",
       "\n",
       "    .dataframe thead th {\n",
       "        text-align: right;\n",
       "    }\n",
       "</style>\n",
       "<table border=\"1\" class=\"dataframe\">\n",
       "  <thead>\n",
       "    <tr style=\"text-align: right;\">\n",
       "      <th></th>\n",
       "      <th>compactness_worst</th>\n",
       "      <th>perimeter_se</th>\n",
       "      <th>radius_se</th>\n",
       "      <th>concavity_worst</th>\n",
       "      <th>area_se</th>\n",
       "      <th>radius_mean</th>\n",
       "      <th>concavity_mean</th>\n",
       "      <th>area_mean</th>\n",
       "      <th>perimeter_mean</th>\n",
       "      <th>concave points_worst</th>\n",
       "      <th>concave points_mean</th>\n",
       "      <th>radius_worst</th>\n",
       "      <th>perimeter_worst</th>\n",
       "      <th>area_worst</th>\n",
       "    </tr>\n",
       "  </thead>\n",
       "  <tbody>\n",
       "    <tr>\n",
       "      <th>0</th>\n",
       "      <td>0.6656</td>\n",
       "      <td>8.589</td>\n",
       "      <td>1.0950</td>\n",
       "      <td>0.7119</td>\n",
       "      <td>153.40</td>\n",
       "      <td>17.99</td>\n",
       "      <td>0.3001</td>\n",
       "      <td>1001.0</td>\n",
       "      <td>122.80</td>\n",
       "      <td>0.2654</td>\n",
       "      <td>0.14710</td>\n",
       "      <td>25.38</td>\n",
       "      <td>184.60</td>\n",
       "      <td>2019.0</td>\n",
       "    </tr>\n",
       "    <tr>\n",
       "      <th>1</th>\n",
       "      <td>0.1866</td>\n",
       "      <td>3.398</td>\n",
       "      <td>0.5435</td>\n",
       "      <td>0.2416</td>\n",
       "      <td>74.08</td>\n",
       "      <td>20.57</td>\n",
       "      <td>0.0869</td>\n",
       "      <td>1326.0</td>\n",
       "      <td>132.90</td>\n",
       "      <td>0.1860</td>\n",
       "      <td>0.07017</td>\n",
       "      <td>24.99</td>\n",
       "      <td>158.80</td>\n",
       "      <td>1956.0</td>\n",
       "    </tr>\n",
       "    <tr>\n",
       "      <th>2</th>\n",
       "      <td>0.4245</td>\n",
       "      <td>4.585</td>\n",
       "      <td>0.7456</td>\n",
       "      <td>0.4504</td>\n",
       "      <td>94.03</td>\n",
       "      <td>19.69</td>\n",
       "      <td>0.1974</td>\n",
       "      <td>1203.0</td>\n",
       "      <td>130.00</td>\n",
       "      <td>0.2430</td>\n",
       "      <td>0.12790</td>\n",
       "      <td>23.57</td>\n",
       "      <td>152.50</td>\n",
       "      <td>1709.0</td>\n",
       "    </tr>\n",
       "    <tr>\n",
       "      <th>3</th>\n",
       "      <td>0.8663</td>\n",
       "      <td>3.445</td>\n",
       "      <td>0.4956</td>\n",
       "      <td>0.6869</td>\n",
       "      <td>27.23</td>\n",
       "      <td>11.42</td>\n",
       "      <td>0.2414</td>\n",
       "      <td>386.1</td>\n",
       "      <td>77.58</td>\n",
       "      <td>0.2575</td>\n",
       "      <td>0.10520</td>\n",
       "      <td>14.91</td>\n",
       "      <td>98.87</td>\n",
       "      <td>567.7</td>\n",
       "    </tr>\n",
       "    <tr>\n",
       "      <th>4</th>\n",
       "      <td>0.2050</td>\n",
       "      <td>5.438</td>\n",
       "      <td>0.7572</td>\n",
       "      <td>0.4000</td>\n",
       "      <td>94.44</td>\n",
       "      <td>20.29</td>\n",
       "      <td>0.1980</td>\n",
       "      <td>1297.0</td>\n",
       "      <td>135.10</td>\n",
       "      <td>0.1625</td>\n",
       "      <td>0.10430</td>\n",
       "      <td>22.54</td>\n",
       "      <td>152.20</td>\n",
       "      <td>1575.0</td>\n",
       "    </tr>\n",
       "  </tbody>\n",
       "</table>\n",
       "</div>"
      ],
      "text/plain": [
       "   compactness_worst  perimeter_se  radius_se  concavity_worst  area_se  \\\n",
       "0             0.6656         8.589     1.0950           0.7119   153.40   \n",
       "1             0.1866         3.398     0.5435           0.2416    74.08   \n",
       "2             0.4245         4.585     0.7456           0.4504    94.03   \n",
       "3             0.8663         3.445     0.4956           0.6869    27.23   \n",
       "4             0.2050         5.438     0.7572           0.4000    94.44   \n",
       "\n",
       "   radius_mean  concavity_mean  area_mean  perimeter_mean  \\\n",
       "0        17.99          0.3001     1001.0          122.80   \n",
       "1        20.57          0.0869     1326.0          132.90   \n",
       "2        19.69          0.1974     1203.0          130.00   \n",
       "3        11.42          0.2414      386.1           77.58   \n",
       "4        20.29          0.1980     1297.0          135.10   \n",
       "\n",
       "   concave points_worst  concave points_mean  radius_worst  perimeter_worst  \\\n",
       "0                0.2654              0.14710         25.38           184.60   \n",
       "1                0.1860              0.07017         24.99           158.80   \n",
       "2                0.2430              0.12790         23.57           152.50   \n",
       "3                0.2575              0.10520         14.91            98.87   \n",
       "4                0.1625              0.10430         22.54           152.20   \n",
       "\n",
       "   area_worst  \n",
       "0      2019.0  \n",
       "1      1956.0  \n",
       "2      1709.0  \n",
       "3       567.7  \n",
       "4      1575.0  "
      ]
     },
     "execution_count": 31,
     "metadata": {},
     "output_type": "execute_result"
    }
   ],
   "source": [
    "# Seleccionamos variables con coeficiente de overlap < .45\n",
    "df_menores = df[['compactness_worst', 'perimeter_se', 'radius_se', 'concavity_worst', 'area_se', 'radius_mean', 'concavity_mean',\n",
    "'area_mean', 'perimeter_mean', 'concave points_worst', 'concave points_mean', 'radius_worst', 'perimeter_worst', 'area_worst']]\n",
    "df_menores.head()"
   ]
  },
  {
   "cell_type": "code",
   "execution_count": 32,
   "id": "3f724a89",
   "metadata": {},
   "outputs": [],
   "source": [
    "# Dividimos las muestras\n",
    "X = df_menores\n",
    "y = df['diagnosis']\n",
    "X_train_pre, X_test_pre, y_train, y_test = train_test_split(X, y, test_size = .33, random_state = 15820)\n",
    "scaler = StandardScaler().fit(X_train_pre)\n",
    "X_train = scaler.transform(X_train_pre)\n",
    "X_test = scaler.transform(X_test_pre)"
   ]
  },
  {
   "cell_type": "code",
   "execution_count": 33,
   "id": "d3a111bf",
   "metadata": {},
   "outputs": [],
   "source": [
    "modelo_menores = SVC(kernel = 'rbf')"
   ]
  },
  {
   "cell_type": "code",
   "execution_count": 34,
   "id": "99d13210",
   "metadata": {},
   "outputs": [],
   "source": [
    "hiper_parametros_menores = {'C':[0.0001, 0.001, 0.01, 0.1, 1, 10, 100, 1000], 'gamma':[0.0000001, 0.0001, 0.001, 0.01, 0.1, 1, 10]}"
   ]
  },
  {
   "cell_type": "code",
   "execution_count": 35,
   "id": "dfe4510a",
   "metadata": {},
   "outputs": [],
   "source": [
    "grilla_menores =  GridSearchCV(modelo, hiper_parametros, cv = 10, return_train_score = True)"
   ]
  },
  {
   "cell_type": "code",
   "execution_count": 36,
   "id": "8b289136",
   "metadata": {},
   "outputs": [
    {
     "data": {
      "text/html": [
       "<style>#sk-container-id-2 {color: black;background-color: white;}#sk-container-id-2 pre{padding: 0;}#sk-container-id-2 div.sk-toggleable {background-color: white;}#sk-container-id-2 label.sk-toggleable__label {cursor: pointer;display: block;width: 100%;margin-bottom: 0;padding: 0.3em;box-sizing: border-box;text-align: center;}#sk-container-id-2 label.sk-toggleable__label-arrow:before {content: \"▸\";float: left;margin-right: 0.25em;color: #696969;}#sk-container-id-2 label.sk-toggleable__label-arrow:hover:before {color: black;}#sk-container-id-2 div.sk-estimator:hover label.sk-toggleable__label-arrow:before {color: black;}#sk-container-id-2 div.sk-toggleable__content {max-height: 0;max-width: 0;overflow: hidden;text-align: left;background-color: #f0f8ff;}#sk-container-id-2 div.sk-toggleable__content pre {margin: 0.2em;color: black;border-radius: 0.25em;background-color: #f0f8ff;}#sk-container-id-2 input.sk-toggleable__control:checked~div.sk-toggleable__content {max-height: 200px;max-width: 100%;overflow: auto;}#sk-container-id-2 input.sk-toggleable__control:checked~label.sk-toggleable__label-arrow:before {content: \"▾\";}#sk-container-id-2 div.sk-estimator input.sk-toggleable__control:checked~label.sk-toggleable__label {background-color: #d4ebff;}#sk-container-id-2 div.sk-label input.sk-toggleable__control:checked~label.sk-toggleable__label {background-color: #d4ebff;}#sk-container-id-2 input.sk-hidden--visually {border: 0;clip: rect(1px 1px 1px 1px);clip: rect(1px, 1px, 1px, 1px);height: 1px;margin: -1px;overflow: hidden;padding: 0;position: absolute;width: 1px;}#sk-container-id-2 div.sk-estimator {font-family: monospace;background-color: #f0f8ff;border: 1px dotted black;border-radius: 0.25em;box-sizing: border-box;margin-bottom: 0.5em;}#sk-container-id-2 div.sk-estimator:hover {background-color: #d4ebff;}#sk-container-id-2 div.sk-parallel-item::after {content: \"\";width: 100%;border-bottom: 1px solid gray;flex-grow: 1;}#sk-container-id-2 div.sk-label:hover label.sk-toggleable__label {background-color: #d4ebff;}#sk-container-id-2 div.sk-serial::before {content: \"\";position: absolute;border-left: 1px solid gray;box-sizing: border-box;top: 0;bottom: 0;left: 50%;z-index: 0;}#sk-container-id-2 div.sk-serial {display: flex;flex-direction: column;align-items: center;background-color: white;padding-right: 0.2em;padding-left: 0.2em;position: relative;}#sk-container-id-2 div.sk-item {position: relative;z-index: 1;}#sk-container-id-2 div.sk-parallel {display: flex;align-items: stretch;justify-content: center;background-color: white;position: relative;}#sk-container-id-2 div.sk-item::before, #sk-container-id-2 div.sk-parallel-item::before {content: \"\";position: absolute;border-left: 1px solid gray;box-sizing: border-box;top: 0;bottom: 0;left: 50%;z-index: -1;}#sk-container-id-2 div.sk-parallel-item {display: flex;flex-direction: column;z-index: 1;position: relative;background-color: white;}#sk-container-id-2 div.sk-parallel-item:first-child::after {align-self: flex-end;width: 50%;}#sk-container-id-2 div.sk-parallel-item:last-child::after {align-self: flex-start;width: 50%;}#sk-container-id-2 div.sk-parallel-item:only-child::after {width: 0;}#sk-container-id-2 div.sk-dashed-wrapped {border: 1px dashed gray;margin: 0 0.4em 0.5em 0.4em;box-sizing: border-box;padding-bottom: 0.4em;background-color: white;}#sk-container-id-2 div.sk-label label {font-family: monospace;font-weight: bold;display: inline-block;line-height: 1.2em;}#sk-container-id-2 div.sk-label-container {text-align: center;}#sk-container-id-2 div.sk-container {/* jupyter's `normalize.less` sets `[hidden] { display: none; }` but bootstrap.min.css set `[hidden] { display: none !important; }` so we also need the `!important` here to be able to override the default hidden behavior on the sphinx rendered scikit-learn.org. See: https://github.com/scikit-learn/scikit-learn/issues/21755 */display: inline-block !important;position: relative;}#sk-container-id-2 div.sk-text-repr-fallback {display: none;}</style><div id=\"sk-container-id-2\" class=\"sk-top-container\"><div class=\"sk-text-repr-fallback\"><pre>GridSearchCV(cv=10, estimator=SVC(),\n",
       "             param_grid={&#x27;C&#x27;: [0.0001, 0.001, 0.01, 0.1, 1, 10, 100, 1000],\n",
       "                         &#x27;gamma&#x27;: [1e-07, 0.0001, 0.001, 0.01, 0.1, 1, 10]},\n",
       "             return_train_score=True)</pre><b>In a Jupyter environment, please rerun this cell to show the HTML representation or trust the notebook. <br />On GitHub, the HTML representation is unable to render, please try loading this page with nbviewer.org.</b></div><div class=\"sk-container\" hidden><div class=\"sk-item sk-dashed-wrapped\"><div class=\"sk-label-container\"><div class=\"sk-label sk-toggleable\"><input class=\"sk-toggleable__control sk-hidden--visually\" id=\"sk-estimator-id-4\" type=\"checkbox\" ><label for=\"sk-estimator-id-4\" class=\"sk-toggleable__label sk-toggleable__label-arrow\">GridSearchCV</label><div class=\"sk-toggleable__content\"><pre>GridSearchCV(cv=10, estimator=SVC(),\n",
       "             param_grid={&#x27;C&#x27;: [0.0001, 0.001, 0.01, 0.1, 1, 10, 100, 1000],\n",
       "                         &#x27;gamma&#x27;: [1e-07, 0.0001, 0.001, 0.01, 0.1, 1, 10]},\n",
       "             return_train_score=True)</pre></div></div></div><div class=\"sk-parallel\"><div class=\"sk-parallel-item\"><div class=\"sk-item\"><div class=\"sk-label-container\"><div class=\"sk-label sk-toggleable\"><input class=\"sk-toggleable__control sk-hidden--visually\" id=\"sk-estimator-id-5\" type=\"checkbox\" ><label for=\"sk-estimator-id-5\" class=\"sk-toggleable__label sk-toggleable__label-arrow\">estimator: SVC</label><div class=\"sk-toggleable__content\"><pre>SVC()</pre></div></div></div><div class=\"sk-serial\"><div class=\"sk-item\"><div class=\"sk-estimator sk-toggleable\"><input class=\"sk-toggleable__control sk-hidden--visually\" id=\"sk-estimator-id-6\" type=\"checkbox\" ><label for=\"sk-estimator-id-6\" class=\"sk-toggleable__label sk-toggleable__label-arrow\">SVC</label><div class=\"sk-toggleable__content\"><pre>SVC()</pre></div></div></div></div></div></div></div></div></div></div>"
      ],
      "text/plain": [
       "GridSearchCV(cv=10, estimator=SVC(),\n",
       "             param_grid={'C': [0.0001, 0.001, 0.01, 0.1, 1, 10, 100, 1000],\n",
       "                         'gamma': [1e-07, 0.0001, 0.001, 0.01, 0.1, 1, 10]},\n",
       "             return_train_score=True)"
      ]
     },
     "execution_count": 36,
     "metadata": {},
     "output_type": "execute_result"
    }
   ],
   "source": [
    "grilla_menores.fit(X_train, y_train)"
   ]
  },
  {
   "cell_type": "code",
   "execution_count": 37,
   "id": "26320e94",
   "metadata": {},
   "outputs": [
    {
     "data": {
      "text/plain": [
       "0.9868421052631579"
      ]
     },
     "execution_count": 37,
     "metadata": {},
     "output_type": "execute_result"
    }
   ],
   "source": [
    "grilla.best_score_"
   ]
  },
  {
   "cell_type": "code",
   "execution_count": 38,
   "id": "beb5e4f4",
   "metadata": {},
   "outputs": [
    {
     "data": {
      "text/plain": [
       "array([0.63778677, 0.63778677, 0.63778677, 0.63778677, 0.63778677,\n",
       "       0.63778677, 0.63778677, 0.63778677, 0.63778677, 0.63778677,\n",
       "       0.63778677, 0.63778677, 0.63778677, 0.63778677, 0.63778677,\n",
       "       0.63778677, 0.63778677, 0.63778677, 0.64041835, 0.63778677,\n",
       "       0.63778677, 0.63778677, 0.63778677, 0.67186235, 0.92125506,\n",
       "       0.9317139 , 0.80067476, 0.63778677, 0.63778677, 0.67186235,\n",
       "       0.92388664, 0.92381916, 0.93960864, 0.92381916, 0.63778677,\n",
       "       0.63778677, 0.92125506, 0.9291498 , 0.94230769, 0.95796221,\n",
       "       0.92645074, 0.64041835, 0.63778677, 0.9291498 , 0.94493927,\n",
       "       0.93434548, 0.94480432, 0.92118758, 0.64041835, 0.67186235,\n",
       "       0.94493927, 0.93441296, 0.96059379, 0.92645074, 0.92118758,\n",
       "       0.64041835])"
      ]
     },
     "execution_count": 38,
     "metadata": {},
     "output_type": "execute_result"
    }
   ],
   "source": [
    "grilla_menores.cv_results_['mean_test_score']"
   ]
  },
  {
   "cell_type": "code",
   "execution_count": 39,
   "id": "4d322c3f",
   "metadata": {},
   "outputs": [],
   "source": [
    "df_resultados_menores = pd.DataFrame(grilla_menores.cv_results_['mean_test_score'].reshape(len(grilla_menores.param_grid['C']),len(grilla_menores.param_grid['gamma'])))"
   ]
  },
  {
   "cell_type": "code",
   "execution_count": 40,
   "id": "5c35b942",
   "metadata": {},
   "outputs": [],
   "source": [
    "df_resultados_menores.columns = grilla.param_grid['gamma']\n",
    "df_resultados_menores.index = grilla.param_grid['C']"
   ]
  },
  {
   "cell_type": "code",
   "execution_count": 41,
   "id": "a51f6c63",
   "metadata": {},
   "outputs": [
    {
     "data": {
      "text/plain": [
       "Text(37.5, 0.5, 'C')"
      ]
     },
     "execution_count": 41,
     "metadata": {},
     "output_type": "execute_result"
    },
    {
     "data": {
      "image/png": "[encoded data removed]",
      "text/plain": [
       "<Figure size 432x288 with 2 Axes>"
      ]
     },
     "metadata": {
      "needs_background": "light"
     },
     "output_type": "display_data"
    }
   ],
   "source": [
    "sns.heatmap(df_resultados_menores, annot = True, cmap='Blues')\n",
    "plt.xlabel('gamma', fontsize=15)\n",
    "plt.ylabel('C', fontsize=15)"
   ]
  },
  {
   "cell_type": "code",
   "execution_count": 42,
   "id": "9f41c5a6",
   "metadata": {},
   "outputs": [
    {
     "data": {
      "image/png": "[encoded data removed]",
      "text/plain": [
       "<Figure size 720x720 with 2 Axes>"
      ]
     },
     "metadata": {
      "needs_background": "light"
     },
     "output_type": "display_data"
    }
   ],
   "source": [
    "report_heatmaps(grilla_menores)"
   ]
  },
  {
   "cell_type": "code",
   "execution_count": 43,
   "id": "6b0c5bf3",
   "metadata": {},
   "outputs": [],
   "source": [
    "y_hat_menores = grilla_menores.best_estimator_.predict(X_test)"
   ]
  },
  {
   "cell_type": "code",
   "execution_count": 44,
   "id": "94fecc2b",
   "metadata": {},
   "outputs": [
    {
     "name": "stdout",
     "output_type": "stream",
     "text": [
      "              precision    recall  f1-score   support\n",
      "\n",
      "          -1       0.97      0.93      0.95        74\n",
      "           1       0.96      0.98      0.97       114\n",
      "\n",
      "    accuracy                           0.96       188\n",
      "   macro avg       0.96      0.96      0.96       188\n",
      "weighted avg       0.96      0.96      0.96       188\n",
      "\n"
     ]
    }
   ],
   "source": [
    "# Resultados del modelo con todas las variables\n",
    "print(classification_report(y_test, y_hat))"
   ]
  },
  {
   "cell_type": "code",
   "execution_count": 45,
   "id": "acad6082",
   "metadata": {},
   "outputs": [
    {
     "name": "stdout",
     "output_type": "stream",
     "text": [
      "              precision    recall  f1-score   support\n",
      "\n",
      "          -1       0.99      0.93      0.96        74\n",
      "           1       0.96      0.99      0.97       114\n",
      "\n",
      "    accuracy                           0.97       188\n",
      "   macro avg       0.97      0.96      0.97       188\n",
      "weighted avg       0.97      0.97      0.97       188\n",
      "\n"
     ]
    }
   ],
   "source": [
    "# Resultados del modelo solo con variables con coeficiente overlap menor a .45\n",
    "print(classification_report(y_test, y_hat_menores))"
   ]
  }
 ],
 "metadata": {
  "kernelspec": {
   "display_name": "Python 3.10.8 64-bit",
   "language": "python",
   "name": "python3"
  },
  "language_info": {
   "codemirror_mode": {
    "name": "ipython",
    "version": 3
   },
   "file_extension": ".py",
   "mimetype": "text/x-python",
   "name": "python",
   "nbconvert_exporter": "python",
   "pygments_lexer": "ipython3",
   "version": "3.10.8"
  },
  "vscode": {
   "interpreter": {
    "hash": "5fe23d4cdea1a1fdeea398f38169f58ea6e36b10f84ee4017a8f0fee693ee786"
   }
  }
 },
 "nbformat": 4,
 "nbformat_minor": 5
}
