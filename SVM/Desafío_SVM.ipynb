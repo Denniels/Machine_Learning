{
 "cells": [
  {
   "cell_type": "markdown",
   "id": "b51598cd",
   "metadata": {},
   "source": [
    "## Desafío - Máquinas de Soporte Vectorial\n",
    "- Para realizar este desafío debes haber estudiado previamente todo el material\n",
    "  disponibilizado correspondiente a la unidad.\n",
    "- Una vez terminado el desafío, comprime la carpeta que contiene el desarrollo de los\n",
    "  requerimientos solicitados y sube el .zip en el LMS.\n",
    "- Desarrollo desafío:\n",
    "  - El desafío se debe desarrollar de manera Individual\n",
    "  - Para la realización del desafío necesitarás apoyarte del archivo Apoyo Desafío\n",
    "  - Máquinas de Soporte Vectorial.\n",
    "  \n",
    "### Requerimientos\n",
    "Para esta sesión trabajaremos con la base de datos sobre cáncer mamario de Wisconsin. El\n",
    "objetivo es desarrollar un Clasificador mediante Máquinas de Soporte de Vectores que\n",
    "predica de forma adecuada en base a una serie de atributos sobre la composición del\n",
    "núcleo de una célula mamaria. Para más detalles técnicos asociados a la base de datos,\n",
    "pueden hacer click en el link.\n",
    "\n",
    "### Ejercicio 1: Preparar el ambiente de trabajo\n",
    "- Importe todas las librerías a utilizar.\n",
    "- Fije los parámetros de los gráficos con plt.Rcparams.\n",
    "- Excluya las columnas id y Unnamed: 32 de la base de datos.\n",
    "- Decodifique el vector objetivo diagnosis numérico para poder procesarlo\n",
    "  posteriormente."
   ]
  },
  {
   "cell_type": "code",
   "execution_count": null,
   "id": "75cdbb04",
   "metadata": {},
   "outputs": [],
   "source": [
    "# Triada clasica y graficas seaborn\n",
    "import pandas as pd\n",
    "import numpy as np\n",
    "import matplotlib.pyplot as plt\n",
    "import seaborn as sns\n",
    "\n",
    "# Modulos especializados de matplotlib\n",
    "from matplotlib.gridspec import GridSpec\n",
    "\n",
    "# Machine Learning\n",
    "from sklearn.svm import SVC\n",
    "from sklearn.model_selection import train_test_split, cross_val_score\n",
    "from sklearn.preprocessing import StandardScaler\n",
    "from sklearn.decomposition import PCA as RandomizedPCA\n",
    "from sklearn.linear_model import LinearRegression\n",
    "from sklearn.pipeline import Pipeline\n",
    "from sklearn.metrics import classification_report\n",
    "\n",
    "# Tratamiento de warnings e importacion de funciones\n",
    "import warnings\n",
    "import lec5_graphs as afx\n",
    "\n",
    "plt.style.use('seaborn-whitegrid')\n",
    "plt.rcParams['figure.figsize']=(15, 15)\n",
    "warnings.filterwarnings('ignore')"
   ]
  },
  {
   "cell_type": "code",
   "execution_count": null,
   "id": "22555fb0",
   "metadata": {},
   "outputs": [],
   "source": []
  },
  {
   "cell_type": "markdown",
   "id": "246b9f58",
   "metadata": {},
   "source": [
    "### Ejercicio 2: Visualizando la distribución de los atributos\n",
    "- Para cada uno de los atributos, grafique los histogramas condicional a cada clase del\n",
    "  vector objetivo.\n",
    "- Agregue las medias correspondientes y reporte a grandes rasgos cuáles son los\n",
    "  atributos con una mayor similitud en la distribución."
   ]
  },
  {
   "cell_type": "code",
   "execution_count": null,
   "id": "87aa6b46",
   "metadata": {},
   "outputs": [],
   "source": []
  },
  {
   "cell_type": "code",
   "execution_count": null,
   "id": "7bf3049e",
   "metadata": {},
   "outputs": [],
   "source": []
  },
  {
   "cell_type": "markdown",
   "id": "3129c22a",
   "metadata": {},
   "source": [
    "### Ejercicio 3: Estimando el porcentaje de overlap en los atributos\n",
    "- Parte de las virtudes de las Máquinas de Soporte Vectorial es la capacidad de lidiar\n",
    "  con clases no separables mediante el proceso de kernelización. Resulta que un\n",
    "  aspecto importante que muchas veces se obvia es medir la noseparabilidad de los\n",
    "  atributos, condicional a cada clase del vector objetivo.\n",
    "  \n",
    "- El procedimiento para estimar el rango de noseparabilidad entre clases se\n",
    "  implementa en Python de la siguiente manera"
   ]
  },
  {
   "cell_type": "code",
   "execution_count": null,
   "id": "099fa1fa",
   "metadata": {},
   "outputs": [],
   "source": [
    "def histogram_overlap(df, attribute, target, perc=100):\n",
    "    # get lower bound\n",
    "    empirical_lower_bound = np.floor(df[attribute].min())\n",
    "    # get upper bound\n",
    "    empirical_upper_bound = np.ceil(df[attribute].max())\n",
    "    # preserve histograms\n",
    "    tmp_hist_holder = dict()\n",
    "    # for each target class\n",
    "    for unique_value in np.unique(df[target]):\n",
    "        # get histogram\n",
    "        # for a specific attribute\n",
    "        # define percentage\n",
    "        # limit empirical range for comparison\n",
    "        tmp, _ = np.histogram(df[df[target] == unique_value][attribute],\n",
    "                              bins=perc,range=[empirical_lower_bound, empirical_upper_bound])\n",
    "\n",
    "        # append to dict\n",
    "        tmp_hist_holder[\"h_\"+str(unique_value)] = tmp\n",
    "    get_minima = np.minimum(tmp_hist_holder[\"h_1\"], tmp_hist_holder[\"h_0\"])\n",
    "    intersection = np.true_divide(np.sum(get_minima),np.sum(tmp_hist_holder[\"h_0\"]))\n",
    "    return intersection"
   ]
  },
  {
   "cell_type": "markdown",
   "id": "1a452884",
   "metadata": {},
   "source": [
    "- La intersección devolverá el porcentaje de comunalidad entre ambas clases, donde\n",
    "  mayores niveles indican una mayor comunalidad.\n",
    "- Utilizando la función, generará un data frame donde almacenará el nombre del\n",
    "  atributo y su porcentaje. Ordene este data frame de forma descendente y preserve."
   ]
  },
  {
   "cell_type": "code",
   "execution_count": null,
   "id": "d9e618cd",
   "metadata": {},
   "outputs": [],
   "source": []
  },
  {
   "cell_type": "code",
   "execution_count": null,
   "id": "aa8719ea",
   "metadata": {},
   "outputs": [],
   "source": []
  },
  {
   "cell_type": "markdown",
   "id": "f1eab24a",
   "metadata": {},
   "source": [
    "### Ejercicio 4: Selección del modelo por GridSearchCV\n",
    "- Entrene una serie de modelos SVC con los siguientes hiper parámetros:\n",
    "  - C: [0.0001, 0.001, 0.01, 0.1, 1, 10, 100, 1000].\n",
    "  - gamma: [0.0000001, 0.0001, 0.001, 0.01, 0.1, 1, 10].\n",
    "  - Validaciones cruzadas: 10.\n",
    "- Genere un heatmap en base a los puntajes estimados con GridSearchCV.\n",
    "\n",
    "Tip: Vea cómo acceder a la llave mean_test_score en el diccionario cv_results_.\n",
    "\n",
    "#### Digresión: Un par de elementos a considerar en la implementación de GridSearchCV.\n",
    "Si trabajamos con sklearn.model_selection.GridSearchCV, tan solo haciendo la\n",
    "división en dos muestras es suficiente, incorporando los conjuntos X_train y y_train a\n",
    "nuestro objeto instanciado y preservando X_test e y_test como una muestra de validación\n",
    "externa. Si tenemos un archivo de testing externo, se recomienda no hacer división.\n",
    "\n",
    "- El objeto creado con sklearn.model_selection.GridSearchCV sigue la misma\n",
    "  funcionalidad de cualquier método de estimación de scikit-learn, con los pasos\n",
    "  de Instanciar y Entrenar. Este objeto tendrá muchos elementos a considerar:\n",
    "  - sklearn.model_selection.GridSearchCV.cv_results_ devolverá un\n",
    "    diccionario donde las llaves representarán distintas métricas y los valores\n",
    "    representarán el desempeño de cada modelo.\n",
    "  - split: Indicará la métrica específica en cada validación cruzada y\n",
    "    combinación de hiper parámetros.\n",
    "  - time: Indicará el tiempo de ejecución en cada modelo.\n",
    "  - Por lo general trabajaremos con mean_test_score y mean_train_score que\n",
    "    representa la media de CV para cada combinación de hiper parámetros.\n",
    "  - sklearn.model_selection.GridSearchCV.best_estimator_ devuelve un\n",
    "    modelo listo para entrenar con la mejor combinación de hiper parámetros.\n",
    "  - sklearn.model_selection.GridSearchCV.best_score_ devuelve el\n",
    "    desempeño promedio del modelo en el testing interno. Si es un problema de\n",
    "    clasificación devolverá Accuracy, si es un problema de regresión devolverá\n",
    "    MSE.\n",
    "- Reporte en qué rango de cada hiper parámetro el modelo presenta un desempeño\n",
    "  eficiente. Reporte la mejor combinación de hiper parámetros y el desempeño en la\n",
    "  muestra de entrenamiento."
   ]
  },
  {
   "cell_type": "code",
   "execution_count": null,
   "id": "9b2dcf80",
   "metadata": {},
   "outputs": [],
   "source": []
  },
  {
   "cell_type": "code",
   "execution_count": null,
   "id": "5261fdf4",
   "metadata": {},
   "outputs": [],
   "source": []
  },
  {
   "cell_type": "markdown",
   "id": "cecbed7a",
   "metadata": {},
   "source": [
    "### Ejercicio 5: Validación del modelo en el Test set sample\n",
    "- Genere las predicciones del Test set sample en base a la mejor combinación de hiper\n",
    "  parámetros. Genere un reporte con las métricas de desempeño clásicas para los\n",
    "  modelos de clasificación. Comente en qué casos el modelo presenta un desempeño\n",
    "  deficiente."
   ]
  },
  {
   "cell_type": "code",
   "execution_count": null,
   "id": "778abc42",
   "metadata": {},
   "outputs": [],
   "source": []
  },
  {
   "cell_type": "code",
   "execution_count": null,
   "id": "c5a2cd80",
   "metadata": {},
   "outputs": [],
   "source": []
  },
  {
   "cell_type": "markdown",
   "id": "ac7ea2bc",
   "metadata": {},
   "source": [
    "### Ejercicio (opcional): Depuración de atributos\n",
    "- Reentrene el modelo en función de los atributos que presenten un coeficiente de\n",
    "  overlap menor a .45.\n",
    "- Reporte el desempeño del modelo y comente sobre los nuevos hiper parámetros\n",
    "  estimados, así como su desempeño en comparación al modelo del ejercicio 5.\n"
   ]
  },
  {
   "cell_type": "code",
   "execution_count": null,
   "id": "746690d6",
   "metadata": {},
   "outputs": [],
   "source": []
  },
  {
   "cell_type": "code",
   "execution_count": null,
   "id": "1c3a1d16",
   "metadata": {},
   "outputs": [],
   "source": []
  }
 ],
 "metadata": {
  "kernelspec": {
   "display_name": "Python 3.10.8 64-bit",
   "language": "python",
   "name": "python3"
  },
  "language_info": {
   "codemirror_mode": {
    "name": "ipython",
    "version": 3
   },
   "file_extension": ".py",
   "mimetype": "text/x-python",
   "name": "python",
   "nbconvert_exporter": "python",
   "pygments_lexer": "ipython3",
   "version": "3.10.8"
  },
  "vscode": {
   "interpreter": {
    "hash": "5fe23d4cdea1a1fdeea398f38169f58ea6e36b10f84ee4017a8f0fee693ee786"
   }
  }
 },
 "nbformat": 4,
 "nbformat_minor": 5
}
