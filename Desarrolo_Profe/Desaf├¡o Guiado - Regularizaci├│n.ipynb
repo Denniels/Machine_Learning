{
 "cells": [
  {
   "cell_type": "markdown",
   "id": "9e1c4976",
   "metadata": {},
   "source": [
    "# Desafío - Regularización\n",
    "\n",
    "- Para realizar este desafío debes haber estudiado previamente todo el material disponibilizado correspondiente a la unidad.\n",
    "- Una vez terminado el desafío, comprime la carpeta que contiene el desarrollo de los requerimientos solicitados y sube el .zip en el LMS.\n",
    "- Desarrollo desafío:\n",
    "    - El desafío se debe desarrollar de manera Individual.\n",
    "    - Para la realización del desafío necesitarás apoyarte del archivo Apoyo Desafío Regularización."
   ]
  },
  {
   "cell_type": "markdown",
   "id": "123432ee",
   "metadata": {},
   "source": [
    "## Requerimientos\n",
    "- En esta ocasión utilizaremos datos de la composición química de muestras de vino.\n",
    "- Nuestro propósito será tratar de predecir su calidad a partir de su composición química.\n",
    "- Comience su estudio realizando un breve análisis exploratorio y descriptivo:\n",
    "    - Identifique el tipo de datos de cada columna.\n",
    "    - Identifique outliers univariados y multivariados. Los primeros los puede encontrar realizando boxplots de cada atributo, los segundos estudiando los scatterplot entre pares de atributos.\n",
    "    - Encuentre la cantidad de valores faltantes en cada columna.\n",
    "    - Grafique la distribución empírica de cada atributo"
   ]
  },
  {
   "cell_type": "markdown",
   "id": "3f5ff839",
   "metadata": {},
   "source": [
    "### Ejercicio 1: Preparación del ambiente de trabajo\n",
    "- Importe las librerías básicas.\n",
    "- Importe los métodos asociados a regularización.\n",
    "- Importe la base de datos."
   ]
  },
  {
   "cell_type": "code",
   "execution_count": 1,
   "id": "bc4f42ad",
   "metadata": {},
   "outputs": [],
   "source": [
    "# Utiliza esta celda para realizar los import requeridos y lectura del set de datos"
   ]
  },
  {
   "cell_type": "markdown",
   "id": "80799a32",
   "metadata": {},
   "source": [
    "### Ejercicio 2: Análisis exploratorio\n",
    "- Identifique el tipo de datos de cada columna.\n",
    "- Identifique outliers univariados y multivariados.\n",
    "    - Los primeros los puede encontrar realizando boxplots de cada atributo.\n",
    "    - Los segundos estudiando los scatterplot entre pares de atributos."
   ]
  },
  {
   "cell_type": "code",
   "execution_count": 2,
   "id": "448001ef",
   "metadata": {},
   "outputs": [],
   "source": [
    "# Utiliza esta celda para identificar el tipo de dato de cada columna"
   ]
  },
  {
   "cell_type": "markdown",
   "id": "b4a87f8c",
   "metadata": {},
   "source": [
    "**Comentarios**"
   ]
  },
  {
   "cell_type": "code",
   "execution_count": 3,
   "id": "0e904ac7",
   "metadata": {},
   "outputs": [],
   "source": [
    "# Utiliza esta celda para graficar boxplots. Tip: Utilizar df.plot(subplots=True, kind=\"box\")"
   ]
  },
  {
   "cell_type": "markdown",
   "id": "6ab177fb",
   "metadata": {},
   "source": [
    "**Comentarios**"
   ]
  },
  {
   "cell_type": "code",
   "execution_count": 4,
   "id": "3d9fd49f",
   "metadata": {},
   "outputs": [],
   "source": [
    "# Utiliza esta celda para graficar scatterplot. Tip: Utilizar pairplot de Seaborn con corner=True. Puedes usar más celdas para graficar subsets"
   ]
  },
  {
   "cell_type": "markdown",
   "id": "06677f6b",
   "metadata": {},
   "source": [
    "**Comentarios**"
   ]
  },
  {
   "cell_type": "markdown",
   "id": "6d6e6395",
   "metadata": {},
   "source": [
    "### Ejercicio 3: Regularización de modelos\n",
    "\n",
    "- Genere tres modelos, correspondientes a `RidgeCV` , `LassoCV` y `ElasticNetCV`. Para cada uno de ellos implemente los siguientes pasos:\n",
    "    - Entrene los modelos con 10 validaciones cruzadas.\n",
    "    - Extraiga los coeficientes estimados, el mejor valor `alpha`, MAE (`median_absolute_error`) y RMSE (raiz cuadrada de `mean_squared_error`) asociado a cada modelo."
   ]
  },
  {
   "cell_type": "code",
   "execution_count": 5,
   "id": "b01e4a57",
   "metadata": {},
   "outputs": [],
   "source": [
    "# Utiliza esta celda para entrenar los 3 modelos solicitados\n",
    "\n",
    "# Divisón de muestras\n",
    "\n",
    "# Estandarización\n",
    "\n",
    "# Entrenamiento modelos"
   ]
  },
  {
   "cell_type": "code",
   "execution_count": 6,
   "id": "53c64968",
   "metadata": {},
   "outputs": [],
   "source": [
    "# Utiliza esta celda para mostrar el mejor alpha y las métricas solicitadas en los 3 modelos"
   ]
  },
  {
   "cell_type": "markdown",
   "id": "acd30e5d",
   "metadata": {},
   "source": [
    "**¿Qué modelo presenta un mejor desempeño en base a las métricas?**\n",
    "\n",
    "**Respuesta**:"
   ]
  },
  {
   "cell_type": "code",
   "execution_count": 7,
   "id": "4a79ff59",
   "metadata": {},
   "outputs": [],
   "source": [
    "# Utiliza esta celda para mostrar los coeficientes de los 3 modelos. Tip: Llevarlos a un DF y usar escala de color"
   ]
  },
  {
   "cell_type": "markdown",
   "id": "e27718aa",
   "metadata": {},
   "source": [
    "**¿Qué atributos mantienen un comportamiento similar a lo largo de cada modelo?**\n",
    "\n",
    "**Respuesta:**"
   ]
  },
  {
   "cell_type": "code",
   "execution_count": null,
   "id": "81973b69",
   "metadata": {},
   "outputs": [],
   "source": []
  }
 ],
 "metadata": {
  "kernelspec": {
   "display_name": "Python 3 (ipykernel)",
   "language": "python",
   "name": "python3"
  },
  "language_info": {
   "codemirror_mode": {
    "name": "ipython",
    "version": 3
   },
   "file_extension": ".py",
   "mimetype": "text/x-python",
   "name": "python",
   "nbconvert_exporter": "python",
   "pygments_lexer": "ipython3",
   "version": "3.9.12"
  }
 },
 "nbformat": 4,
 "nbformat_minor": 5
}
