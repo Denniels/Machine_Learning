{
 "cells": [
  {
   "cell_type": "markdown",
   "id": "66056a75-ff72-49d2-8b83-c3215a23607e",
   "metadata": {
    "tags": []
   },
   "source": [
    "### Desafío - Naive Bayes\n",
    "\n",
    "- Para realizar este desafío debes haber estudiado previamente todo el material disponibilizado correspondiente a la unidad.\n",
    "- Una vez terminado el desafío, comprime la carpeta que contiene el desarrollo de los requerimientos solicitados y sube el .zip en el LMS.\n",
    "- Desarrollo desafío:\n",
    "    -El desafío se debe desarrollar de manera Individual.\n",
    "    -Para la realización del desafío necesitarás apoyarte del archivo Apoyo Desafío\n",
    "    - Naive Bayes.\n",
    "### Descripción\n",
    "- En esta sesión trabajaremos con una serie de base de datos sobre letras musicales de distintos artistas. Cada uno de los csv se encuentra en la carpeta dump dentro del proyecto.\n",
    "\n",
    "- Cada csv tiene el nombre del artista a analizar. Los archivos contienen el nombre del artista, el género musical del artista, el nombre de la canción y las letras.\n",
    "\n",
    "- En base a esta información, se les pide un modelo generativo que pueda predecir el género de una canción a partir de la letra de una canción.\n",
    "\n",
    "- Existen 4 géneros que se registran en la base de datos, por lo que para esta actividad trabajaremos con un Multinomial Naive Bayes.\n",
    "\n",
    "### Ejercicio 1: Preparar el ambiente de trabajo\n",
    "- Importe los módulos numpy, pandas, matplotlib, seaborn, glob y os siguiendo las buenas prácticas. Los últimos dos módulos permitirán realizar la importación de múltiples archivos dentro de la carpeta dump.\n",
    "- Para ello genere un objeto que guarde en una lista todos los archivos alojados en dump utilizando glob.glob y os.getcwd() para extraer las rutas absolutas. Posteriormente generé un objeto pd.DataFrame que contenga todos los csv.\n",
    "- Asegúrese de eliminar la columna Unnamed: 0 que se genera por defecto.\n"
   ]
  },
  {
   "cell_type": "code",
   "execution_count": 1,
   "id": "bd47a43b-2ede-4f7a-925b-9d9629ec252f",
   "metadata": {},
   "outputs": [],
   "source": [
    "# Triada calsica.\n",
    "import pandas as pd\n",
    "import numpy as np\n",
    "import matplotlib.pyplot as plt\n",
    "\n",
    "# Graficos seaborn, warnings y datos perdidos.\n",
    "import seaborn as sns\n",
    "import warnings\n",
    "import missingno as msngo\n",
    "\n",
    "# Importaciones especificas de este desafio.\n",
    "import glob, os\n",
    "\n",
    "# Machine learning\n",
    "from sklearn.feature_extraction.text import CountVectorizer\n",
    "\n",
    "from sklearn.model_selection import train_test_split\n",
    "from sklearn.naive_bayes import MultinomialNB\n",
    "from sklearn.feature_extraction.text import CountVectorizer\n",
    "from sklearn.pipeline import Pipeline\n",
    "from sklearn.metrics import confusion_matrix, classification_report\n",
    "from sklearn.preprocessing import LabelEncoder\n",
    "\n",
    "# Otras librerias, configuraciones e instancias.\n",
    "labelencoder = LabelEncoder()\n",
    "warnings.filterwarnings('ignore')\n",
    "plt.rcParams['figure.figsize'] = (20, 10)\n",
    "plt.style.use('seaborn-darkgrid')\n"
   ]
  },
  {
   "cell_type": "code",
   "execution_count": 2,
   "id": "a23513f8-e92a-4b57-9e52-3e9e28784116",
   "metadata": {},
   "outputs": [],
   "source": [
    "csv_list = glob.glob('dump/*.csv')\n",
    "name_csv = []"
   ]
  },
  {
   "cell_type": "code",
   "execution_count": 3,
   "id": "4a4c940f-379a-4ad0-8c34-47e2745273d5",
   "metadata": {},
   "outputs": [],
   "source": [
    "for i in csv_list:\n",
    "    name_csv.append(pd.read_csv(i, index_col=None, header=0).drop(columns='Unnamed: 0'))\n",
    "    \n",
    "df_letras = pd.concat(name_csv)\n",
    "df_letras.columns = ['Artista', 'Genero', 'Cancion', 'Letra'] # ['Artist', 'Genre', 'Song', 'Lyrics']"
   ]
  },
  {
   "cell_type": "code",
   "execution_count": 4,
   "id": "13daf2f1-35f9-4283-ac81-c1cdeaa7df54",
   "metadata": {},
   "outputs": [
    {
     "data": {
      "text/plain": [
       "['dump\\\\anthrax_scrape.csv',\n",
       " 'dump\\\\a_tribe_called_quest_scrape.csv',\n",
       " 'dump\\\\black_star_scrape.csv',\n",
       " 'dump\\\\bob_dylan_scrape.csv',\n",
       " 'dump\\\\britney_spears_scrape.csv',\n",
       " 'dump\\\\bruce_springsteen_scrape.csv',\n",
       " 'dump\\\\cannibal_corpse_scrape.csv',\n",
       " 'dump\\\\carly_rae_jepsen_scrape.csv',\n",
       " 'dump\\\\deicide_scrape.csv',\n",
       " 'dump\\\\de_la_soul_scrape.csv']"
      ]
     },
     "execution_count": 4,
     "metadata": {},
     "output_type": "execute_result"
    }
   ],
   "source": [
    "csv_list[:10]"
   ]
  },
  {
   "cell_type": "code",
   "execution_count": 5,
   "id": "babb9960-30ee-4446-b9ea-4218a34d2cf8",
   "metadata": {},
   "outputs": [
    {
     "data": {
      "text/html": [
       "<div>\n",
       "<style scoped>\n",
       "    .dataframe tbody tr th:only-of-type {\n",
       "        vertical-align: middle;\n",
       "    }\n",
       "\n",
       "    .dataframe tbody tr th {\n",
       "        vertical-align: top;\n",
       "    }\n",
       "\n",
       "    .dataframe thead th {\n",
       "        text-align: right;\n",
       "    }\n",
       "</style>\n",
       "<table border=\"1\" class=\"dataframe\">\n",
       "  <thead>\n",
       "    <tr style=\"text-align: right;\">\n",
       "      <th></th>\n",
       "      <th>0</th>\n",
       "      <th>1</th>\n",
       "      <th>2</th>\n",
       "      <th>3</th>\n",
       "    </tr>\n",
       "  </thead>\n",
       "  <tbody>\n",
       "    <tr>\n",
       "      <th>0</th>\n",
       "      <td>Anthrax</td>\n",
       "      <td>metal</td>\n",
       "      <td>Deathrider</td>\n",
       "      <td>Riding hard, high in the saddle \\n Winged stee...</td>\n",
       "    </tr>\n",
       "    <tr>\n",
       "      <th>1</th>\n",
       "      <td>Anthrax</td>\n",
       "      <td>metal</td>\n",
       "      <td>Metal Thrashing Mad</td>\n",
       "      <td>Racing down the road \\n In a street machine of...</td>\n",
       "    </tr>\n",
       "    <tr>\n",
       "      <th>2</th>\n",
       "      <td>Anthrax</td>\n",
       "      <td>metal</td>\n",
       "      <td>I'm Eighteen</td>\n",
       "      <td>Lines form on my face and hands \\n Lines form ...</td>\n",
       "    </tr>\n",
       "    <tr>\n",
       "      <th>3</th>\n",
       "      <td>Anthrax</td>\n",
       "      <td>metal</td>\n",
       "      <td>Panic</td>\n",
       "      <td>Move it to the front \\n Reaching for the light...</td>\n",
       "    </tr>\n",
       "    <tr>\n",
       "      <th>4</th>\n",
       "      <td>Anthrax</td>\n",
       "      <td>metal</td>\n",
       "      <td>Subjugator</td>\n",
       "      <td>Out in the streets \\n We're fighting tonight \\...</td>\n",
       "    </tr>\n",
       "    <tr>\n",
       "      <th>...</th>\n",
       "      <td>...</td>\n",
       "      <td>...</td>\n",
       "      <td>...</td>\n",
       "      <td>...</td>\n",
       "    </tr>\n",
       "    <tr>\n",
       "      <th>165</th>\n",
       "      <td>Anthrax</td>\n",
       "      <td>metal</td>\n",
       "      <td>She</td>\n",
       "      <td>(Written by Gene Simmons and Steve Coronel), \\...</td>\n",
       "    </tr>\n",
       "    <tr>\n",
       "      <th>166</th>\n",
       "      <td>Anthrax</td>\n",
       "      <td>metal</td>\n",
       "      <td>Destroyer</td>\n",
       "      <td>(Snider) \\n Twisted Forever (Twisted Sister tr...</td>\n",
       "    </tr>\n",
       "    <tr>\n",
       "      <th>167</th>\n",
       "      <td>Anthrax</td>\n",
       "      <td>metal</td>\n",
       "      <td>It's Late</td>\n",
       "      <td>You say you love me and I hardly know your nam...</td>\n",
       "    </tr>\n",
       "    <tr>\n",
       "      <th>168</th>\n",
       "      <td>Anthrax</td>\n",
       "      <td>metal</td>\n",
       "      <td>Burnin' Up</td>\n",
       "      <td>You stitch me up good, and you cut me down \\n ...</td>\n",
       "    </tr>\n",
       "    <tr>\n",
       "      <th>169</th>\n",
       "      <td>Anthrax</td>\n",
       "      <td>metal</td>\n",
       "      <td>Walk All Over You</td>\n",
       "      <td>Outta my way I'm a-runnin' high \\n Take your c...</td>\n",
       "    </tr>\n",
       "  </tbody>\n",
       "</table>\n",
       "<p>170 rows × 4 columns</p>\n",
       "</div>"
      ],
      "text/plain": [
       "           0      1                    2  \\\n",
       "0    Anthrax  metal           Deathrider   \n",
       "1    Anthrax  metal  Metal Thrashing Mad   \n",
       "2    Anthrax  metal         I'm Eighteen   \n",
       "3    Anthrax  metal                Panic   \n",
       "4    Anthrax  metal           Subjugator   \n",
       "..       ...    ...                  ...   \n",
       "165  Anthrax  metal                  She   \n",
       "166  Anthrax  metal            Destroyer   \n",
       "167  Anthrax  metal            It's Late   \n",
       "168  Anthrax  metal           Burnin' Up   \n",
       "169  Anthrax  metal    Walk All Over You   \n",
       "\n",
       "                                                     3  \n",
       "0    Riding hard, high in the saddle \\n Winged stee...  \n",
       "1    Racing down the road \\n In a street machine of...  \n",
       "2    Lines form on my face and hands \\n Lines form ...  \n",
       "3    Move it to the front \\n Reaching for the light...  \n",
       "4    Out in the streets \\n We're fighting tonight \\...  \n",
       "..                                                 ...  \n",
       "165  (Written by Gene Simmons and Steve Coronel), \\...  \n",
       "166  (Snider) \\n Twisted Forever (Twisted Sister tr...  \n",
       "167  You say you love me and I hardly know your nam...  \n",
       "168  You stitch me up good, and you cut me down \\n ...  \n",
       "169  Outta my way I'm a-runnin' high \\n Take your c...  \n",
       "\n",
       "[170 rows x 4 columns]"
      ]
     },
     "execution_count": 5,
     "metadata": {},
     "output_type": "execute_result"
    }
   ],
   "source": [
    "name_csv[0]"
   ]
  },
  {
   "cell_type": "code",
   "execution_count": 6,
   "id": "12f8231a-e1ae-4f0f-a8c5-09e96499f887",
   "metadata": {},
   "outputs": [
    {
     "data": {
      "text/html": [
       "<div>\n",
       "<style scoped>\n",
       "    .dataframe tbody tr th:only-of-type {\n",
       "        vertical-align: middle;\n",
       "    }\n",
       "\n",
       "    .dataframe tbody tr th {\n",
       "        vertical-align: top;\n",
       "    }\n",
       "\n",
       "    .dataframe thead th {\n",
       "        text-align: right;\n",
       "    }\n",
       "</style>\n",
       "<table border=\"1\" class=\"dataframe\">\n",
       "  <thead>\n",
       "    <tr style=\"text-align: right;\">\n",
       "      <th></th>\n",
       "      <th>Artista</th>\n",
       "      <th>Genero</th>\n",
       "      <th>Cancion</th>\n",
       "      <th>Letra</th>\n",
       "    </tr>\n",
       "  </thead>\n",
       "  <tbody>\n",
       "    <tr>\n",
       "      <th>0</th>\n",
       "      <td>Anthrax</td>\n",
       "      <td>metal</td>\n",
       "      <td>Deathrider</td>\n",
       "      <td>Riding hard, high in the saddle \\n Winged stee...</td>\n",
       "    </tr>\n",
       "    <tr>\n",
       "      <th>1</th>\n",
       "      <td>Anthrax</td>\n",
       "      <td>metal</td>\n",
       "      <td>Metal Thrashing Mad</td>\n",
       "      <td>Racing down the road \\n In a street machine of...</td>\n",
       "    </tr>\n",
       "    <tr>\n",
       "      <th>2</th>\n",
       "      <td>Anthrax</td>\n",
       "      <td>metal</td>\n",
       "      <td>I'm Eighteen</td>\n",
       "      <td>Lines form on my face and hands \\n Lines form ...</td>\n",
       "    </tr>\n",
       "    <tr>\n",
       "      <th>3</th>\n",
       "      <td>Anthrax</td>\n",
       "      <td>metal</td>\n",
       "      <td>Panic</td>\n",
       "      <td>Move it to the front \\n Reaching for the light...</td>\n",
       "    </tr>\n",
       "    <tr>\n",
       "      <th>4</th>\n",
       "      <td>Anthrax</td>\n",
       "      <td>metal</td>\n",
       "      <td>Subjugator</td>\n",
       "      <td>Out in the streets \\n We're fighting tonight \\...</td>\n",
       "    </tr>\n",
       "  </tbody>\n",
       "</table>\n",
       "</div>"
      ],
      "text/plain": [
       "   Artista Genero              Cancion  \\\n",
       "0  Anthrax  metal           Deathrider   \n",
       "1  Anthrax  metal  Metal Thrashing Mad   \n",
       "2  Anthrax  metal         I'm Eighteen   \n",
       "3  Anthrax  metal                Panic   \n",
       "4  Anthrax  metal           Subjugator   \n",
       "\n",
       "                                               Letra  \n",
       "0  Riding hard, high in the saddle \\n Winged stee...  \n",
       "1  Racing down the road \\n In a street machine of...  \n",
       "2  Lines form on my face and hands \\n Lines form ...  \n",
       "3  Move it to the front \\n Reaching for the light...  \n",
       "4  Out in the streets \\n We're fighting tonight \\...  "
      ]
     },
     "execution_count": 6,
     "metadata": {},
     "output_type": "execute_result"
    }
   ],
   "source": [
    "df_letras.head()"
   ]
  },
  {
   "cell_type": "markdown",
   "id": "da590f4b-9896-4684-ba3f-67feb41f5c82",
   "metadata": {
    "tags": []
   },
   "source": [
    "### Ejercicio 2: Descripción de los datos\n",
    "- Utilizando el objeto creado en el Ejercicio 1, genere dos gráficos de barras que resuman la siguiente información:\n",
    "    - La cantidad de canciones registradas por cada artista, ordenados de mayor a menor.\n",
    "    - La cantidad de canciones registradas en cada género, ordenados de mayor a menor.\n",
    "    \n",
    "- Comente sobre las principales tendencias.\n"
   ]
  },
  {
   "cell_type": "code",
   "execution_count": 7,
   "id": "9c791732-68b1-4f71-801a-c9b47c74a5f1",
   "metadata": {
    "tags": []
   },
   "outputs": [
    {
     "data": {
      "image/png": "[encoded data removed]",
      "text/plain": [
       "<Figure size 720x720 with 2 Axes>"
      ]
     },
     "metadata": {
      "needs_background": "light"
     },
     "output_type": "display_data"
    }
   ],
   "source": [
    "plt.figure(figsize=(10, 10))\n",
    "plt.subplot(1, 2, 1)\n",
    "sns.countplot(y=df_letras['Artista'], order = df_letras['Artista'].value_counts().index)\n",
    "plt.title('Canciones por artista')\n",
    "plt.tight_layout()\n",
    "\n",
    "plt.subplot(1, 2,2)\n",
    "sns.countplot(y=df_letras['Genero'], order = df_letras['Genero'].value_counts().index)\n",
    "plt.title('Canciones por genero')\n",
    "plt.tight_layout()"
   ]
  },
  {
   "cell_type": "markdown",
   "id": "da77ac32-fb16-4c73-a63f-35b77d3da7b3",
   "metadata": {},
   "source": [
    "### Ejercicio 3: Matriz de ocurrencias\n",
    "#### Digresión: Tokenización de Textos\n",
    "Para poder trabajar con textos, debemos pasarlos a una matriz dispersa, donde cada fila\n",
    "representará una entrada (en este caso, una canción), y cada columna representará una\n",
    "palabra (token). Este es el proceso de tokenización: Identificar la ocurrencia de una palabra\n",
    "específica dentro de un conjunto de textos (corpus).\n",
    "\n",
    "El tokenizador más simple sklearn.feature_extraction.text.CountVectorizer genera\n",
    "una colección de textos a una matriz que representa la frecuencia dentro del texto de una\n",
    "palabra específica.\n",
    "vectorizer=CountVectorizer(stop_words='english')\n",
    "El tokenizador funciona de la siguiente manera:\n"
   ]
  },
  {
   "cell_type": "code",
   "execution_count": 8,
   "id": "f1323b14-0c90-407d-aed0-d594d4025d7d",
   "metadata": {},
   "outputs": [],
   "source": [
    "# instanciamos un objeto\n",
    "count_vectorizer=CountVectorizer(stop_words='english')"
   ]
  },
  {
   "cell_type": "code",
   "execution_count": 9,
   "id": "7eaf675b-2a61-42af-817c-0cc6f69c6467",
   "metadata": {},
   "outputs": [],
   "source": [
    "# Implementamos los pasos fit y transform\n",
    "count_vectorizer_fit = count_vectorizer.fit_transform(df_letras.Letra)"
   ]
  },
  {
   "cell_type": "code",
   "execution_count": 10,
   "id": "6ab89c18-03b4-479f-95c9-9d44f568cefe",
   "metadata": {},
   "outputs": [],
   "source": [
    "# Extraemos tokens (palabras)\n",
    "words  = count_vectorizer.get_feature_names()"
   ]
  },
  {
   "cell_type": "code",
   "execution_count": 11,
   "id": "4ba0643b-64a3-45fa-929a-ac1908cefe89",
   "metadata": {},
   "outputs": [],
   "source": [
    "# extraemos frecuencia\n",
    "words_freq = count_vectorizer_fit.toarray().sum(axis=0)"
   ]
  },
  {
   "cell_type": "code",
   "execution_count": 12,
   "id": "b98e8d5a-e62d-4bcb-99ee-ae0b90b1e87b",
   "metadata": {},
   "outputs": [],
   "source": [
    "# creamos un nuevo dataframe\n",
    "words_freq_df = pd.DataFrame([list(words), list(words_freq)]).T"
   ]
  },
  {
   "cell_type": "code",
   "execution_count": 13,
   "id": "34c46f48-627a-48db-8638-ecbde11fcd0c",
   "metadata": {
    "tags": []
   },
   "outputs": [
    {
     "data": {
      "image/png": "[encoded data removed]",
      "text/plain": [
       "<Figure size 360x1152 with 1 Axes>"
      ]
     },
     "metadata": {
      "needs_background": "light"
     },
     "output_type": "display_data"
    }
   ],
   "source": [
    "# visualizacion de tokens\n",
    "words_freq_df.columns= ['words', 'freq']\n",
    "words_freq_df = words_freq_df.sort_values(by='freq', ascending=False).iloc[0:100, :]\n",
    "\n",
    "plt.figure(figsize=(5, 16))\n",
    "plt.barh(words_freq_df['words'], words_freq_df['freq']);"
   ]
  },
  {
   "cell_type": "code",
   "execution_count": 14,
   "id": "30f455b7-5d5e-42db-be79-4ede70f3ad5d",
   "metadata": {},
   "outputs": [],
   "source": [
    "def word_count_genero(vectorizer=CountVectorizer(stop_words = 'english', ngram_range=(1, 2)), df = df_letras, target = 'Letra', genre = 'hiphop', sort_n = 100):\n",
    "    tmp_vect = vectorizer\n",
    "    tmp_fit_transform = tmp_vect.fit_transform(df[df['Genero'] == genre][target])\n",
    "    tmp_words = tmp_vect.get_feature_names()\n",
    "    tmp_frequencies = tmp_fit_transform.toarray().sum(axis = 0)\n",
    "    tmp_df = pd.DataFrame([ list(tmp_words), list(tmp_frequencies) ]).T\n",
    "    tmp_df.columns = ['words', 'freq']\n",
    "    tmp_df = tmp_df.sort_values(by = 'freq', ascending = False).iloc[0:sort_n, :]\n",
    "    plt.barh(tmp_df['words'],tmp_df['freq'])"
   ]
  },
  {
   "cell_type": "code",
   "execution_count": 15,
   "id": "e8e5bc23-b283-4fd1-bcdf-54a77caa0e85",
   "metadata": {
    "tags": []
   },
   "outputs": [
    {
     "data": {
      "image/png": "[encoded data removed]",
      "text/plain": [
       "<Figure size 576x1440 with 4 Axes>"
      ]
     },
     "metadata": {
      "needs_background": "light"
     },
     "output_type": "display_data"
    }
   ],
   "source": [
    "# Tokens en categoria Genero\n",
    "plt.figure(figsize=(8, 20))\n",
    "for index, gen in enumerate(df_letras['Genero'].unique()):\n",
    "    plt.subplot(2, 2, index + 1)\n",
    "    word_count_genero(genre=gen, sort_n=50)\n",
    "    plt.title(gen)\n",
    "    plt.tight_layout()"
   ]
  },
  {
   "cell_type": "markdown",
   "id": "c0f894e7-9687-4546-9fd8-7f95ac1cf504",
   "metadata": {},
   "source": [
    "### Ejercicio 4: Entrenamiento del Modelo\n",
    "\n",
    "#### Digresión: sklearn Pipelines\n",
    "La clase Pipeline del módulo sklearn.pipeline permite concatenar múltiples pasos de\n",
    "procesamiento y preprocesamiento en un estimador generado por algún método de\n",
    "scikit-learn. En sí, la clase cuenta con los métodos clásicos fit, predict y score y\n",
    "presenta un comportamiento idéntico a los demás objetos de scikit-learn. Uno de los\n",
    "usos más comunes es para concatenar pasos de preprocesamiento con un modelo.\n",
    "\n",
    "#### Componentes de un Pipeline\n",
    "Imaginemos que deseamos implementar el siguiente modelo. Considerando un conjunto de\n",
    "datos, deseo Estandarizar, posteriormente extraer sus principales componentes y\n",
    "finalmente aplicar un modelo de regresión lineal. Este flujo se puede reexpresar como:\n",
    "\n",
    "pipeline_model = Pipeline([('scale', StandardScaler()),\n",
    "('pca', RandomizedPCA(n_components=3)),\n",
    "('model', LinearRegression())])\n",
    "\n",
    "Algunos de los elementos a considerar:\n",
    "1. Cada paso se considera como una tupla, donde se declara el nombre del paso y la\n",
    "función a implementar. En este caso, nuestro primer paso es estandarizar la matriz,\n",
    "por lo que asociamos el método StandardScaler con el string scale.\n",
    "2. Todos los pasos declarados se incorporan en una lista, donde el orden de ingreso\n",
    "representa el orden de ejecución.\n",
    "\n",
    "Posteriormente el objeto creado puede utilizarse con los siguientes métodos\n",
    "\n",
    "pipeline_model.fit(X_train, y_train)\n",
    "y_hat = pipeline_model.predict(y_test)\n",
    "\n",
    "- Importe MultinomialNB, train_test_split, Pipeline, confusion_matrix y classification_report.\n",
    "- Genere las muestras de entrenamiento y validación reservando un 40% para validación y declarando una semilla pseudoaleatoria.\n",
    "- Monte el modelo dentro de un Pipeline, donde el primer paso es implementar CountVectorizer y el segundo es ejecutar el clasificador MultinomialNB.\n",
    "- A continuación se les presenta una lista de letras, ¿cuáles serían las predicciones correspondientes?"
   ]
  },
  {
   "cell_type": "code",
   "execution_count": 16,
   "id": "3a0bf8cb-f1b6-409a-9da5-5f58c4b2b21f",
   "metadata": {
    "jupyter": {
     "source_hidden": true
    },
    "tags": []
   },
   "outputs": [
    {
     "data": {
      "text/plain": [
       "'[\\'I got a place in the underworld\\', # Brody Dalle - Underworld\\n\\'As veils of ignorance, hatred retains Storm of arrows through karma\\nSeeking light through samsara\\', # Gorguts - Forgotten Arrows\\n\"Bye bye Don\\'t want to be a fool for you Just another player in your\\ngame for two You may hate me but it ain\\'t no lie\", # N\\'SYNC - Bye Bye\\nBye\\n\\'Move bitch, get out the way Get out the way bitch, get out the way Move\\nbitch, get out the way Get out the way bitch, get out the way\\', #\\nLudacris - Move B*tch\\n\\'Sexual violence doesn\\'t start and end with rape It starts in our books\\nand behind our school gates\\' # IDLES - Mother,\\n\"Take it from the girl you claimed to love You gonna get some bad karma\\nI\\'m the one who had to learn to build a heart made of armor From the girl who made you soup and tied\\nyour shoes when you were hurtingYou are not deserving, you are not deserving\" #Banks - Drowning]'"
      ]
     },
     "execution_count": 16,
     "metadata": {},
     "output_type": "execute_result"
    }
   ],
   "source": [
    "'''['I got a place in the underworld', # Brody Dalle - Underworld\n",
    "'As veils of ignorance, hatred retains Storm of arrows through karma\n",
    "Seeking light through samsara', # Gorguts - Forgotten Arrows\n",
    "\"Bye bye Don't want to be a fool for you Just another player in your\n",
    "game for two You may hate me but it ain't no lie\", # N'SYNC - Bye Bye\n",
    "Bye\n",
    "'Move bitch, get out the way Get out the way bitch, get out the way Move\n",
    "bitch, get out the way Get out the way bitch, get out the way', #\n",
    "Ludacris - Move B*tch\n",
    "'Sexual violence doesn't start and end with rape It starts in our books\n",
    "and behind our school gates' # IDLES - Mother,\n",
    "\"Take it from the girl you claimed to love You gonna get some bad karma\n",
    "I'm the one who had to learn to \\\n",
    "build a heart made of armor From the girl who made you soup and tied\n",
    "your shoes when you were hurting\\\n",
    "You are not deserving, you are not deserving\" #Banks - Drowning]'''"
   ]
  },
  {
   "cell_type": "code",
   "execution_count": 17,
   "id": "32202b69-ddd8-4a2b-b31b-eda2fee57ac4",
   "metadata": {},
   "outputs": [],
   "source": [
    "X_train, X_test, y_train, y_test = train_test_split(df_letras['Letra'], df_letras['Genero'], test_size = .33, random_state = 15820)"
   ]
  },
  {
   "cell_type": "code",
   "execution_count": 18,
   "id": "30563c7c-776c-4243-9f7e-e19c633247a3",
   "metadata": {},
   "outputs": [],
   "source": [
    "texto_clasifier = Pipeline( [('vect', CountVectorizer(stop_words='english')), ('clf', MultinomialNB(alpha=0.1))])"
   ]
  },
  {
   "cell_type": "code",
   "execution_count": 19,
   "id": "071f843e-8c41-481d-b8b8-6818c70be57d",
   "metadata": {},
   "outputs": [
    {
     "data": {
      "text/html": [
       "<style>#sk-container-id-1 {color: black;background-color: white;}#sk-container-id-1 pre{padding: 0;}#sk-container-id-1 div.sk-toggleable {background-color: white;}#sk-container-id-1 label.sk-toggleable__label {cursor: pointer;display: block;width: 100%;margin-bottom: 0;padding: 0.3em;box-sizing: border-box;text-align: center;}#sk-container-id-1 label.sk-toggleable__label-arrow:before {content: \"▸\";float: left;margin-right: 0.25em;color: #696969;}#sk-container-id-1 label.sk-toggleable__label-arrow:hover:before {color: black;}#sk-container-id-1 div.sk-estimator:hover label.sk-toggleable__label-arrow:before {color: black;}#sk-container-id-1 div.sk-toggleable__content {max-height: 0;max-width: 0;overflow: hidden;text-align: left;background-color: #f0f8ff;}#sk-container-id-1 div.sk-toggleable__content pre {margin: 0.2em;color: black;border-radius: 0.25em;background-color: #f0f8ff;}#sk-container-id-1 input.sk-toggleable__control:checked~div.sk-toggleable__content {max-height: 200px;max-width: 100%;overflow: auto;}#sk-container-id-1 input.sk-toggleable__control:checked~label.sk-toggleable__label-arrow:before {content: \"▾\";}#sk-container-id-1 div.sk-estimator input.sk-toggleable__control:checked~label.sk-toggleable__label {background-color: #d4ebff;}#sk-container-id-1 div.sk-label input.sk-toggleable__control:checked~label.sk-toggleable__label {background-color: #d4ebff;}#sk-container-id-1 input.sk-hidden--visually {border: 0;clip: rect(1px 1px 1px 1px);clip: rect(1px, 1px, 1px, 1px);height: 1px;margin: -1px;overflow: hidden;padding: 0;position: absolute;width: 1px;}#sk-container-id-1 div.sk-estimator {font-family: monospace;background-color: #f0f8ff;border: 1px dotted black;border-radius: 0.25em;box-sizing: border-box;margin-bottom: 0.5em;}#sk-container-id-1 div.sk-estimator:hover {background-color: #d4ebff;}#sk-container-id-1 div.sk-parallel-item::after {content: \"\";width: 100%;border-bottom: 1px solid gray;flex-grow: 1;}#sk-container-id-1 div.sk-label:hover label.sk-toggleable__label {background-color: #d4ebff;}#sk-container-id-1 div.sk-serial::before {content: \"\";position: absolute;border-left: 1px solid gray;box-sizing: border-box;top: 0;bottom: 0;left: 50%;z-index: 0;}#sk-container-id-1 div.sk-serial {display: flex;flex-direction: column;align-items: center;background-color: white;padding-right: 0.2em;padding-left: 0.2em;position: relative;}#sk-container-id-1 div.sk-item {position: relative;z-index: 1;}#sk-container-id-1 div.sk-parallel {display: flex;align-items: stretch;justify-content: center;background-color: white;position: relative;}#sk-container-id-1 div.sk-item::before, #sk-container-id-1 div.sk-parallel-item::before {content: \"\";position: absolute;border-left: 1px solid gray;box-sizing: border-box;top: 0;bottom: 0;left: 50%;z-index: -1;}#sk-container-id-1 div.sk-parallel-item {display: flex;flex-direction: column;z-index: 1;position: relative;background-color: white;}#sk-container-id-1 div.sk-parallel-item:first-child::after {align-self: flex-end;width: 50%;}#sk-container-id-1 div.sk-parallel-item:last-child::after {align-self: flex-start;width: 50%;}#sk-container-id-1 div.sk-parallel-item:only-child::after {width: 0;}#sk-container-id-1 div.sk-dashed-wrapped {border: 1px dashed gray;margin: 0 0.4em 0.5em 0.4em;box-sizing: border-box;padding-bottom: 0.4em;background-color: white;}#sk-container-id-1 div.sk-label label {font-family: monospace;font-weight: bold;display: inline-block;line-height: 1.2em;}#sk-container-id-1 div.sk-label-container {text-align: center;}#sk-container-id-1 div.sk-container {/* jupyter's `normalize.less` sets `[hidden] { display: none; }` but bootstrap.min.css set `[hidden] { display: none !important; }` so we also need the `!important` here to be able to override the default hidden behavior on the sphinx rendered scikit-learn.org. See: https://github.com/scikit-learn/scikit-learn/issues/21755 */display: inline-block !important;position: relative;}#sk-container-id-1 div.sk-text-repr-fallback {display: none;}</style><div id=\"sk-container-id-1\" class=\"sk-top-container\"><div class=\"sk-text-repr-fallback\"><pre>Pipeline(steps=[(&#x27;vect&#x27;, CountVectorizer(stop_words=&#x27;english&#x27;)),\n",
       "                (&#x27;clf&#x27;, MultinomialNB(alpha=0.1))])</pre><b>In a Jupyter environment, please rerun this cell to show the HTML representation or trust the notebook. <br />On GitHub, the HTML representation is unable to render, please try loading this page with nbviewer.org.</b></div><div class=\"sk-container\" hidden><div class=\"sk-item sk-dashed-wrapped\"><div class=\"sk-label-container\"><div class=\"sk-label sk-toggleable\"><input class=\"sk-toggleable__control sk-hidden--visually\" id=\"sk-estimator-id-1\" type=\"checkbox\" ><label for=\"sk-estimator-id-1\" class=\"sk-toggleable__label sk-toggleable__label-arrow\">Pipeline</label><div class=\"sk-toggleable__content\"><pre>Pipeline(steps=[(&#x27;vect&#x27;, CountVectorizer(stop_words=&#x27;english&#x27;)),\n",
       "                (&#x27;clf&#x27;, MultinomialNB(alpha=0.1))])</pre></div></div></div><div class=\"sk-serial\"><div class=\"sk-item\"><div class=\"sk-estimator sk-toggleable\"><input class=\"sk-toggleable__control sk-hidden--visually\" id=\"sk-estimator-id-2\" type=\"checkbox\" ><label for=\"sk-estimator-id-2\" class=\"sk-toggleable__label sk-toggleable__label-arrow\">CountVectorizer</label><div class=\"sk-toggleable__content\"><pre>CountVectorizer(stop_words=&#x27;english&#x27;)</pre></div></div></div><div class=\"sk-item\"><div class=\"sk-estimator sk-toggleable\"><input class=\"sk-toggleable__control sk-hidden--visually\" id=\"sk-estimator-id-3\" type=\"checkbox\" ><label for=\"sk-estimator-id-3\" class=\"sk-toggleable__label sk-toggleable__label-arrow\">MultinomialNB</label><div class=\"sk-toggleable__content\"><pre>MultinomialNB(alpha=0.1)</pre></div></div></div></div></div></div></div>"
      ],
      "text/plain": [
       "Pipeline(steps=[('vect', CountVectorizer(stop_words='english')),\n",
       "                ('clf', MultinomialNB(alpha=0.1))])"
      ]
     },
     "execution_count": 19,
     "metadata": {},
     "output_type": "execute_result"
    }
   ],
   "source": [
    "texto_clasifier.fit(X_train, y_train)"
   ]
  },
  {
   "cell_type": "code",
   "execution_count": 20,
   "id": "48470064-abb4-4419-9046-204b341e6235",
   "metadata": {},
   "outputs": [
    {
     "data": {
      "text/plain": [
       "array(['hiphop', 'hiphop', 'hiphop', 'rock', 'pop', 'hiphop', 'metal',\n",
       "       'hiphop', 'rock', 'rock'], dtype='<U6')"
      ]
     },
     "execution_count": 20,
     "metadata": {},
     "output_type": "execute_result"
    }
   ],
   "source": [
    "predic = texto_clasifier.predict(X_test)\n",
    "predic[:10]"
   ]
  },
  {
   "cell_type": "code",
   "execution_count": 21,
   "id": "74fe064a-7814-4460-b493-2f302bf2df4e",
   "metadata": {},
   "outputs": [
    {
     "data": {
      "text/plain": [
       "array([[ 757,    3,   20,   28],\n",
       "       [  18,  409,    4,   86],\n",
       "       [  42,   12,  209,  158],\n",
       "       [  69,   95,   85, 1137]], dtype=int64)"
      ]
     },
     "execution_count": 21,
     "metadata": {},
     "output_type": "execute_result"
    }
   ],
   "source": [
    "confusion_matrix(y_test,predic)"
   ]
  },
  {
   "cell_type": "code",
   "execution_count": 22,
   "id": "7f8f4011-1a90-4203-b385-518402ef3b11",
   "metadata": {},
   "outputs": [
    {
     "data": {
      "text/html": [
       "<div>\n",
       "<style scoped>\n",
       "    .dataframe tbody tr th:only-of-type {\n",
       "        vertical-align: middle;\n",
       "    }\n",
       "\n",
       "    .dataframe tbody tr th {\n",
       "        vertical-align: top;\n",
       "    }\n",
       "\n",
       "    .dataframe thead th {\n",
       "        text-align: right;\n",
       "    }\n",
       "</style>\n",
       "<table border=\"1\" class=\"dataframe\">\n",
       "  <thead>\n",
       "    <tr style=\"text-align: right;\">\n",
       "      <th>col_0</th>\n",
       "      <th>hiphop</th>\n",
       "      <th>metal</th>\n",
       "      <th>pop</th>\n",
       "      <th>rock</th>\n",
       "    </tr>\n",
       "    <tr>\n",
       "      <th>Genero</th>\n",
       "      <th></th>\n",
       "      <th></th>\n",
       "      <th></th>\n",
       "      <th></th>\n",
       "    </tr>\n",
       "  </thead>\n",
       "  <tbody>\n",
       "    <tr>\n",
       "      <th>hiphop</th>\n",
       "      <td>24.2</td>\n",
       "      <td>0.1</td>\n",
       "      <td>0.6</td>\n",
       "      <td>0.9</td>\n",
       "    </tr>\n",
       "    <tr>\n",
       "      <th>metal</th>\n",
       "      <td>0.6</td>\n",
       "      <td>13.1</td>\n",
       "      <td>0.1</td>\n",
       "      <td>2.7</td>\n",
       "    </tr>\n",
       "    <tr>\n",
       "      <th>pop</th>\n",
       "      <td>1.3</td>\n",
       "      <td>0.4</td>\n",
       "      <td>6.7</td>\n",
       "      <td>5.0</td>\n",
       "    </tr>\n",
       "    <tr>\n",
       "      <th>rock</th>\n",
       "      <td>2.2</td>\n",
       "      <td>3.0</td>\n",
       "      <td>2.7</td>\n",
       "      <td>36.3</td>\n",
       "    </tr>\n",
       "  </tbody>\n",
       "</table>\n",
       "</div>"
      ],
      "text/plain": [
       "col_0   hiphop  metal  pop  rock\n",
       "Genero                          \n",
       "hiphop    24.2    0.1  0.6   0.9\n",
       "metal      0.6   13.1  0.1   2.7\n",
       "pop        1.3    0.4  6.7   5.0\n",
       "rock       2.2    3.0  2.7  36.3"
      ]
     },
     "execution_count": 22,
     "metadata": {},
     "output_type": "execute_result"
    }
   ],
   "source": [
    "(pd.crosstab(y_test,predic, normalize=True)*100).round(1)"
   ]
  },
  {
   "cell_type": "code",
   "execution_count": 23,
   "id": "e96734af-2530-40bd-8294-4f238b5774d4",
   "metadata": {},
   "outputs": [
    {
     "data": {
      "text/plain": [
       "array(['metal', 'metal', 'rock', 'pop', 'metal', 'rock'], dtype='<U6')"
      ]
     },
     "execution_count": 23,
     "metadata": {},
     "output_type": "execute_result"
    }
   ],
   "source": [
    "texto_clasifier.predict(['I got a place in the underworld', # Brody Dalle - Underworld \n",
    "                  'As veils of ignorance, hatred retains Storm of arrows through karma Seeking light through samsara', # Gorguts - Forgotten Arrows\n",
    "                  \"Bye bye Don't want to be a fool for you Just another player in your game for two You may hate me but it ain't no lie\", # N'SYNC - Bye Bye Bye\n",
    "                  'Move bitch, get out the way Get out the way bitch, get out the way Move bitch, get out the way Get out the way bitch, get out the way', # Ludacris - Move B*tch \n",
    "                  \"Sexual violence doesn't start and end with rape It starts in our books and behind our school gates\", # IDLES - Mother,\n",
    "                  \"Take it from the girl you claimed to love You gonna get some bad karma I'm the one who had to learn to build a heart made of armor From the girl who made you soup and tied your shoes when you were hurting You are not deserving, you are not deserving\" #Banks -Drowning \n",
    "                 ])"
   ]
  },
  {
   "cell_type": "code",
   "execution_count": 24,
   "id": "f1baefd3-9538-4775-b064-a4fd228ac84f",
   "metadata": {},
   "outputs": [
    {
     "data": {
      "text/plain": [
       "array(['hiphop', 'hiphop', 'hiphop', 'rock', 'pop', 'hiphop', 'metal',\n",
       "       'hiphop', 'rock', 'rock'], dtype='<U6')"
      ]
     },
     "execution_count": 24,
     "metadata": {},
     "output_type": "execute_result"
    }
   ],
   "source": [
    "predic_clasifier = texto_clasifier.predict(X_test)\n",
    "predic_clasifier[:10]"
   ]
  },
  {
   "cell_type": "code",
   "execution_count": 25,
   "id": "705f71f5-3130-4606-a8b6-052a28dd81c4",
   "metadata": {},
   "outputs": [
    {
     "data": {
      "text/plain": [
       "array([[ 757,    3,   20,   28],\n",
       "       [  18,  409,    4,   86],\n",
       "       [  42,   12,  209,  158],\n",
       "       [  69,   95,   85, 1137]], dtype=int64)"
      ]
     },
     "execution_count": 25,
     "metadata": {},
     "output_type": "execute_result"
    }
   ],
   "source": [
    "confusion_matrix(y_test, predic_clasifier)"
   ]
  },
  {
   "cell_type": "code",
   "execution_count": 26,
   "id": "e56e599b-3f6d-4016-8dec-8d58a53b0a9d",
   "metadata": {},
   "outputs": [
    {
     "name": "stdout",
     "output_type": "stream",
     "text": [
      "              precision    recall  f1-score   support\n",
      "\n",
      "      hiphop       0.85      0.94      0.89       808\n",
      "       metal       0.79      0.79      0.79       517\n",
      "         pop       0.66      0.50      0.57       421\n",
      "        rock       0.81      0.82      0.81      1386\n",
      "\n",
      "    accuracy                           0.80      3132\n",
      "   macro avg       0.78      0.76      0.77      3132\n",
      "weighted avg       0.80      0.80      0.80      3132\n",
      "\n"
     ]
    }
   ],
   "source": [
    "print(classification_report(y_test, predic_clasifier))"
   ]
  },
  {
   "cell_type": "markdown",
   "id": "3e9e6c3f-4868-414b-8bfe-a5a65fc0d04c",
   "metadata": {},
   "source": [
    "### Ejercicio 5: Mejora del Modelo\n",
    "- Proponga una estrategia para mejorar el desempeño del modelo en la categoría con peores métricas.\n",
    "- Repita los pasos de entrenamiento y reporte de métricas, esta vez incluyendo los nuevos datos suministrados.\n",
    "- Comente sobre el desempeño general de este.\n"
   ]
  },
  {
   "cell_type": "code",
   "execution_count": 27,
   "id": "da188e66-a626-4763-99b5-080b1b4d5592",
   "metadata": {},
   "outputs": [],
   "source": [
    "append_file = []\n",
    "# pasamos nuevo set de datos\n",
    "file = glob.glob('dump_plus_pop/*.csv')\n",
    "for i in file:\n",
    "    append_file.append(pd.read_csv(i, index_col=None, header=0).drop(columns='Unnamed: 0'))"
   ]
  },
  {
   "cell_type": "code",
   "execution_count": 28,
   "id": "6e284117-9dbe-49d5-917b-2f534d541a5e",
   "metadata": {},
   "outputs": [],
   "source": [
    "lyrics = pd.concat(append_file)\n",
    "lyrics.columns = ['Artista', 'Genero', 'Cancion', 'Letra']\n",
    "lyrics.index = pd.RangeIndex(len(lyrics.index))"
   ]
  },
  {
   "cell_type": "code",
   "execution_count": 29,
   "id": "7d497cfd-ef74-427e-b620-35a07fb26327",
   "metadata": {},
   "outputs": [],
   "source": [
    "X_train, X_test, y_train, y_test = train_test_split(lyrics['Letra'], lyrics['Genero'], test_size = .33, random_state = 15820)"
   ]
  },
  {
   "cell_type": "code",
   "execution_count": 30,
   "id": "646c8c65-38f4-4f83-8358-c2c4a09388a4",
   "metadata": {},
   "outputs": [],
   "source": [
    "text = Pipeline(\n",
    "    [('vect', CountVectorizer()), ('clf', MultinomialNB())])"
   ]
  },
  {
   "cell_type": "code",
   "execution_count": 31,
   "id": "aae04c79-1d26-4572-a20f-bdd3ea155ac0",
   "metadata": {},
   "outputs": [
    {
     "data": {
      "text/html": [
       "<style>#sk-container-id-2 {color: black;background-color: white;}#sk-container-id-2 pre{padding: 0;}#sk-container-id-2 div.sk-toggleable {background-color: white;}#sk-container-id-2 label.sk-toggleable__label {cursor: pointer;display: block;width: 100%;margin-bottom: 0;padding: 0.3em;box-sizing: border-box;text-align: center;}#sk-container-id-2 label.sk-toggleable__label-arrow:before {content: \"▸\";float: left;margin-right: 0.25em;color: #696969;}#sk-container-id-2 label.sk-toggleable__label-arrow:hover:before {color: black;}#sk-container-id-2 div.sk-estimator:hover label.sk-toggleable__label-arrow:before {color: black;}#sk-container-id-2 div.sk-toggleable__content {max-height: 0;max-width: 0;overflow: hidden;text-align: left;background-color: #f0f8ff;}#sk-container-id-2 div.sk-toggleable__content pre {margin: 0.2em;color: black;border-radius: 0.25em;background-color: #f0f8ff;}#sk-container-id-2 input.sk-toggleable__control:checked~div.sk-toggleable__content {max-height: 200px;max-width: 100%;overflow: auto;}#sk-container-id-2 input.sk-toggleable__control:checked~label.sk-toggleable__label-arrow:before {content: \"▾\";}#sk-container-id-2 div.sk-estimator input.sk-toggleable__control:checked~label.sk-toggleable__label {background-color: #d4ebff;}#sk-container-id-2 div.sk-label input.sk-toggleable__control:checked~label.sk-toggleable__label {background-color: #d4ebff;}#sk-container-id-2 input.sk-hidden--visually {border: 0;clip: rect(1px 1px 1px 1px);clip: rect(1px, 1px, 1px, 1px);height: 1px;margin: -1px;overflow: hidden;padding: 0;position: absolute;width: 1px;}#sk-container-id-2 div.sk-estimator {font-family: monospace;background-color: #f0f8ff;border: 1px dotted black;border-radius: 0.25em;box-sizing: border-box;margin-bottom: 0.5em;}#sk-container-id-2 div.sk-estimator:hover {background-color: #d4ebff;}#sk-container-id-2 div.sk-parallel-item::after {content: \"\";width: 100%;border-bottom: 1px solid gray;flex-grow: 1;}#sk-container-id-2 div.sk-label:hover label.sk-toggleable__label {background-color: #d4ebff;}#sk-container-id-2 div.sk-serial::before {content: \"\";position: absolute;border-left: 1px solid gray;box-sizing: border-box;top: 0;bottom: 0;left: 50%;z-index: 0;}#sk-container-id-2 div.sk-serial {display: flex;flex-direction: column;align-items: center;background-color: white;padding-right: 0.2em;padding-left: 0.2em;position: relative;}#sk-container-id-2 div.sk-item {position: relative;z-index: 1;}#sk-container-id-2 div.sk-parallel {display: flex;align-items: stretch;justify-content: center;background-color: white;position: relative;}#sk-container-id-2 div.sk-item::before, #sk-container-id-2 div.sk-parallel-item::before {content: \"\";position: absolute;border-left: 1px solid gray;box-sizing: border-box;top: 0;bottom: 0;left: 50%;z-index: -1;}#sk-container-id-2 div.sk-parallel-item {display: flex;flex-direction: column;z-index: 1;position: relative;background-color: white;}#sk-container-id-2 div.sk-parallel-item:first-child::after {align-self: flex-end;width: 50%;}#sk-container-id-2 div.sk-parallel-item:last-child::after {align-self: flex-start;width: 50%;}#sk-container-id-2 div.sk-parallel-item:only-child::after {width: 0;}#sk-container-id-2 div.sk-dashed-wrapped {border: 1px dashed gray;margin: 0 0.4em 0.5em 0.4em;box-sizing: border-box;padding-bottom: 0.4em;background-color: white;}#sk-container-id-2 div.sk-label label {font-family: monospace;font-weight: bold;display: inline-block;line-height: 1.2em;}#sk-container-id-2 div.sk-label-container {text-align: center;}#sk-container-id-2 div.sk-container {/* jupyter's `normalize.less` sets `[hidden] { display: none; }` but bootstrap.min.css set `[hidden] { display: none !important; }` so we also need the `!important` here to be able to override the default hidden behavior on the sphinx rendered scikit-learn.org. See: https://github.com/scikit-learn/scikit-learn/issues/21755 */display: inline-block !important;position: relative;}#sk-container-id-2 div.sk-text-repr-fallback {display: none;}</style><div id=\"sk-container-id-2\" class=\"sk-top-container\"><div class=\"sk-text-repr-fallback\"><pre>Pipeline(steps=[(&#x27;vect&#x27;, CountVectorizer()), (&#x27;clf&#x27;, MultinomialNB())])</pre><b>In a Jupyter environment, please rerun this cell to show the HTML representation or trust the notebook. <br />On GitHub, the HTML representation is unable to render, please try loading this page with nbviewer.org.</b></div><div class=\"sk-container\" hidden><div class=\"sk-item sk-dashed-wrapped\"><div class=\"sk-label-container\"><div class=\"sk-label sk-toggleable\"><input class=\"sk-toggleable__control sk-hidden--visually\" id=\"sk-estimator-id-4\" type=\"checkbox\" ><label for=\"sk-estimator-id-4\" class=\"sk-toggleable__label sk-toggleable__label-arrow\">Pipeline</label><div class=\"sk-toggleable__content\"><pre>Pipeline(steps=[(&#x27;vect&#x27;, CountVectorizer()), (&#x27;clf&#x27;, MultinomialNB())])</pre></div></div></div><div class=\"sk-serial\"><div class=\"sk-item\"><div class=\"sk-estimator sk-toggleable\"><input class=\"sk-toggleable__control sk-hidden--visually\" id=\"sk-estimator-id-5\" type=\"checkbox\" ><label for=\"sk-estimator-id-5\" class=\"sk-toggleable__label sk-toggleable__label-arrow\">CountVectorizer</label><div class=\"sk-toggleable__content\"><pre>CountVectorizer()</pre></div></div></div><div class=\"sk-item\"><div class=\"sk-estimator sk-toggleable\"><input class=\"sk-toggleable__control sk-hidden--visually\" id=\"sk-estimator-id-6\" type=\"checkbox\" ><label for=\"sk-estimator-id-6\" class=\"sk-toggleable__label sk-toggleable__label-arrow\">MultinomialNB</label><div class=\"sk-toggleable__content\"><pre>MultinomialNB()</pre></div></div></div></div></div></div></div>"
      ],
      "text/plain": [
       "Pipeline(steps=[('vect', CountVectorizer()), ('clf', MultinomialNB())])"
      ]
     },
     "execution_count": 31,
     "metadata": {},
     "output_type": "execute_result"
    }
   ],
   "source": [
    "text.fit(X_train, y_train)"
   ]
  },
  {
   "cell_type": "code",
   "execution_count": 32,
   "id": "b3658041-c907-4464-af92-356241613cc3",
   "metadata": {},
   "outputs": [
    {
     "data": {
      "text/plain": [
       "array(['hiphop', 'hiphop', 'pop', 'pop', 'pop', 'rock', 'pop', 'pop',\n",
       "       'pop', 'hiphop'], dtype='<U6')"
      ]
     },
     "execution_count": 32,
     "metadata": {},
     "output_type": "execute_result"
    }
   ],
   "source": [
    "predic_y = text.predict(X_test)\n",
    "predic_y[:10]"
   ]
  },
  {
   "cell_type": "code",
   "execution_count": 33,
   "id": "512b824b-0189-49fe-8ab4-d6425e39f796",
   "metadata": {},
   "outputs": [
    {
     "data": {
      "text/plain": [
       "array([[ 761,    2,   54,   38],\n",
       "       [  16,  349,   37,  119],\n",
       "       [  76,    5,  577,  150],\n",
       "       [  59,   50,  265, 1008]], dtype=int64)"
      ]
     },
     "execution_count": 33,
     "metadata": {},
     "output_type": "execute_result"
    }
   ],
   "source": [
    "confusion_matrix(y_test,predic_y)"
   ]
  },
  {
   "cell_type": "code",
   "execution_count": 34,
   "id": "b5bd9a82-b5fb-415e-9ccd-e366ac24e138",
   "metadata": {},
   "outputs": [
    {
     "name": "stdout",
     "output_type": "stream",
     "text": [
      "              precision    recall  f1-score   support\n",
      "\n",
      "      hiphop       0.83      0.89      0.86       855\n",
      "       metal       0.86      0.67      0.75       521\n",
      "         pop       0.62      0.71      0.66       808\n",
      "        rock       0.77      0.73      0.75      1382\n",
      "\n",
      "    accuracy                           0.76      3566\n",
      "   macro avg       0.77      0.75      0.76      3566\n",
      "weighted avg       0.76      0.76      0.76      3566\n",
      "\n"
     ]
    }
   ],
   "source": [
    "print(classification_report(y_test, predic_y))"
   ]
  }
 ],
 "metadata": {
  "kernelspec": {
   "display_name": "Python 3 (ipykernel)",
   "language": "python",
   "name": "python3"
  },
  "language_info": {
   "codemirror_mode": {
    "name": "ipython",
    "version": 3
   },
   "file_extension": ".py",
   "mimetype": "text/x-python",
   "name": "python",
   "nbconvert_exporter": "python",
   "pygments_lexer": "ipython3",
   "version": "3.10.8"
  }
 },
 "nbformat": 4,
 "nbformat_minor": 5
}
