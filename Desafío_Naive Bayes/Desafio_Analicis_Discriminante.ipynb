{
 "cells": [
  {
   "cell_type": "markdown",
   "id": "e0898358-a525-4e24-a070-655ce4701b9c",
   "metadata": {
    "tags": []
   },
   "source": [
    "## Desafío - Análisis lineal discriminante\n",
    "- Para realizar este desafío debes haber estudiado previamente todo el material disponibilizado correspondiente a la unidad.\n",
    "\n",
    "- Una vez terminado el desafío, comprime la carpeta que contiene el desarrollo de los requerimientos solicitados y sube el .zip en el LMS.\n",
    "\n",
    "- Desarrollo desafío:\n",
    "\n",
    "    -El desafío se debe desarrollar de manera Individual.\n",
    "    \n",
    "    -Para la realización del desafío necesitarás apoyarte del archivo Apoyo Desafío Análisis lineal discriminante.\n",
    "    \n",
    "## Requerimientos\n",
    "\n",
    "Trabajaremos con una base de datos sobre clientes morosos de un banco. Dentro de ésta se registran las siguientes observaciones:\n",
    "\n",
    "- **`default`**: Variable Binaria. Registra si el cliente entró en morosidad o no.\n",
    "- **`income`**: Ingreso promedio declarado por el cliente.\n",
    "- **`balance`**: total del saldo en la cuenta de crédito.\n",
    "- **`student`**: Variable binaria. Registra si el cliente es estudiante o no.\n",
    "\n",
    "## Ejercicio 1: Preparación de ambiente de trabajo\n",
    "\n",
    "- Importe los módulos básicos para el análisis de datos.\n",
    "- Importe las clases **`LabelEncoder`**, **`StandardScaler`** y **`LabelBinarizer`** de **`preprocessing.`**\n",
    "- Importe las funciones **`train_test_split`** y **`cross_val_score`** de **`model_selection.`**\n",
    "- Importe la función **`classification_report de metrics.`**\n",
    "- Importe las clases **`LinearDiscriminantAnalysis`** y **`QuadraticDiscriminantAnalysis.`**\n",
    "- **`Agregue la base de datos en el ambiente de trabajo.`**\n",
    "- Inspeccione la distribución de cada atributo.\n",
    "\n"
   ]
  },
  {
   "cell_type": "code",
   "execution_count": null,
   "id": "cd402110-9adf-4fc7-b421-8b0a04d0b79d",
   "metadata": {},
   "outputs": [],
   "source": [
    "# Triada calsica.\n",
    "import pandas as pd\n",
    "import numpy as np\n",
    "import matplotlib.pyplot as plt\n",
    "\n",
    "# Graficos seaborn, warnings y datos perdidos.\n",
    "import seaborn as sns\n",
    "import warnings\n",
    "import missingno as msngo\n",
    "\n",
    "# Importaciones especificas de este desafio.\n",
    "\n",
    "\n",
    "# Analicis exploratorio y descriptivo\n",
    "from pandas_profiling import ProfileReport\n",
    "\n",
    "# Machine learning\n",
    "from sklearn.preprocessing import LabelEncoder, StandardScaler, LabelBinarizer\n",
    "from sklearn.model_selection import train_test_split, cross_val_score\n",
    "from sklearn.metrics import confusion_matrix, classification_report, confusion_matrix, classification_report\n",
    "from sklearn.discriminant_analysis import LinearDiscriminantAnalysis, QuadraticDiscriminantAnalysis\n",
    "\n",
    "# Otras librerias, configuraciones e instancias.\n",
    "labelencoder = LabelEncoder()\n",
    "warnings.filterwarnings('ignore')\n",
    "plt.rcParams['figure.figsize'] = (20, 10)\n",
    "plt.style.use('seaborn-darkgrid')"
   ]
  },
  {
   "cell_type": "code",
   "execution_count": null,
   "id": "b62ed659-b9a7-4764-92fe-255cc9f63b9a",
   "metadata": {},
   "outputs": [],
   "source": [
    "df = pd.read_csv('default_credit.csv')\n",
    "df.head()"
   ]
  },
  {
   "cell_type": "code",
   "execution_count": null,
   "id": "1ac7baaf-ccce-401b-9525-b56c6e96eddb",
   "metadata": {},
   "outputs": [],
   "source": [
    "profile = ProfileReport(df, title=\"Profiling Report para default_credit.csv\")"
   ]
  },
  {
   "cell_type": "code",
   "execution_count": null,
   "id": "b18476e7-74c9-41b6-93ce-d1b5c80a55cf",
   "metadata": {},
   "outputs": [],
   "source": [
    "profile.to_widgets()"
   ]
  },
  {
   "cell_type": "code",
   "execution_count": null,
   "id": "02ee8220-e4da-43bb-b629-3fa8c0082e9e",
   "metadata": {},
   "outputs": [],
   "source": [
    "profile.to_notebook_iframe()"
   ]
  },
  {
   "cell_type": "markdown",
   "id": "d938fac0-dc47-43bf-9ed1-8578f2c9a9cb",
   "metadata": {},
   "source": [
    "## Ejercicio 2: Modelo base\n",
    "- Recuerde que los modelos de **`sklearn`** no soportan datos que no sean numéricos. \n",
    "- Transforme los atributos pertinentes con **`LabelEncoder.`**\n",
    "- Genere muestras de validación y entrenamiento, reservando un 33% de los datos como validación.\n",
    "- Genere un modelo con **`LinearDiscriminantAnalysis`** sin modificar los hiper parámetros. Genere métricas de evaluación utilizando **`classification_report.`**\n",
    "- Comente sobre cuál es el desempeño del modelo en cada clase, así como en general."
   ]
  },
  {
   "cell_type": "code",
   "execution_count": null,
   "id": "6448ae57-ce13-411d-ac24-936570cd1186",
   "metadata": {},
   "outputs": [],
   "source": []
  },
  {
   "cell_type": "code",
   "execution_count": null,
   "id": "c4567db0-b3c7-4702-81df-f71d22505817",
   "metadata": {},
   "outputs": [],
   "source": []
  },
  {
   "cell_type": "markdown",
   "id": "7bf3e712-2646-4840-a995-7397874b31a8",
   "metadata": {},
   "source": [
    "## Ejercicio 3: Refactorización 1 - información a priori\n",
    "- Dado que trabajamos con modelos generativos, podemos incluir información exógena. Para este caso agregaremos dos distribuciones:\n",
    "    - Asumamos que hay un 50/50 de morosos y no morosos.\n",
    "    - Asumamos que hay un 60/40 de morosos y no morosos.\n",
    "- Por cada modelo, reporte las métricas de clasificación."
   ]
  },
  {
   "cell_type": "code",
   "execution_count": null,
   "id": "6a9bd5f8-af0e-49bb-bcf7-9cf8a58cdc83",
   "metadata": {},
   "outputs": [],
   "source": []
  },
  {
   "cell_type": "code",
   "execution_count": null,
   "id": "c53fbbee-87dc-4c03-a63e-3a58ebc7ebca",
   "metadata": {},
   "outputs": [],
   "source": []
  },
  {
   "cell_type": "markdown",
   "id": "32e36dcd-f65e-45d4-b4c7-c679facedac9",
   "metadata": {},
   "source": [
    "## Ejercicio 4: Refactorización 2 - oversampling\n",
    "### Digresión: Synthetic Over(Under)Sampling\n",
    "- Por lo general podemos intentar aliviar el problema del desbalance de clases\n",
    "  mediante la ponderación dentro del algoritmo. Otra alternativa es el muestreo con\n",
    "  reemplazo dentro de los conjuntos de entrenamiento. Estos métodos clásicos se\n",
    "  conocen como **`Oversampling`** cuando repetimos registros aleatorios de la clase\n",
    "  minoritaria, y **`Undersampling`** cuando eliminamos aleatoriamente registros de la\n",
    "  clase mayoritaria.\n",
    "- Un contratiempo de estos métodos clásicos es que pueden replicar información\n",
    "  sesgada que afecte el desempeño de generalización del modelo. Si los datos son\n",
    "  malos, estaremos replicando estas fallas.\n",
    "- Otra solución es generar ejemplos de entrenamiento sintéticos mediante el\n",
    "  entrenamiento de ejemplos de la clase minoritaria. A grandes rasgos la solución\n",
    "  funciona de la siguiente forma: En función a un subconjunto de datos\n",
    "  correspondientes a la clase minoritaria, entrenamos algún modelo no supervisado o\n",
    "  generativo como Naive Bayes, KMeans o KNearestNeighbors para generar\n",
    "  representaciones sintéticas de los datos en el espacio de atributos de la clase\n",
    "  específica mediante 𝑥 es un ejemplo de\n",
    "  𝑛𝑢𝑒𝑣𝑜−𝑒𝑗𝑒𝑚𝑝𝑙𝑜 = 𝑥 𝑖 + λ(𝑥 𝑧𝑖 − 𝑥 𝑖) entrenamiento de la clase minoritaria y λ es un parámetro de interpolación    aleatorio λ ∼ 𝑈𝑛𝑖𝑓𝑜𝑟𝑚𝑒(0, 1).\n",
    "  \n",
    "- Uno de los problemas más graves de esta base de datos, es el fuerte desbalance\n",
    "  entre clases. Ahora generaremos observaciones sintéticas mediante SMOTE\n",
    "  (Synthetic Minority Oversampling Technique). Para ello, debemos agregar el paquete\n",
    "  a nuestro ambiente virtual. En nuestro terminal agregamos conda install -c\n",
    "  conda-forge imbalanced-learn. Incorpore SMOTE en el ambiente de trabajo con\n",
    "  la siguiente sintáxis from imblearn.over_sampling import SMOTE.\n",
    "  \n",
    "- Para implementar oversampling, debemos generar nuevos objetos que representan\n",
    "  nuestra muestra de entrenamiento incrementada artificialmente. Para ello\n",
    "  implemente la siguiente sintaxis:\n",
    "\n"
   ]
  },
  {
   "cell_type": "code",
   "execution_count": null,
   "id": "09840718-e1ea-4d35-a66b-9e2485e628f2",
   "metadata": {},
   "outputs": [],
   "source": [
    "from imblearn.over_sampling import SMOTE\n",
    "# Instanciamos la clase\n",
    "oversampler = SMOTE(random_state=11238, ratio='minority')\n",
    "# generamos el eversampling de la matriz de entrenamiento y\n",
    "X_train_oversamp, y_train_oversamp = oversampler.fit_sample(X_train,\n",
    "y_train)"
   ]
  },
  {
   "cell_type": "markdown",
   "id": "cd1fc753-0a9f-4380-8cbe-6644a9857aae",
   "metadata": {},
   "source": [
    "- Vuelva a entrenar el modelo con los datos aumentados de forma artificial y comente sobre su desempeño."
   ]
  },
  {
   "cell_type": "code",
   "execution_count": null,
   "id": "313490f2-b2f3-456e-981b-128626688128",
   "metadata": {},
   "outputs": [],
   "source": []
  },
  {
   "cell_type": "code",
   "execution_count": null,
   "id": "33fc9095-6f76-4459-bf4e-f4a8b98a1a3c",
   "metadata": {},
   "outputs": [],
   "source": []
  },
  {
   "cell_type": "markdown",
   "id": "9f13f287-3300-4a83-bbf5-cce8a3176b2b",
   "metadata": {},
   "source": [
    "## Ejercicio 5: Refactorización 3 - QDA\n",
    "- Por último, implemente un modelo **`QuadraticDiscriminantAnalysis`** con los datos aumentados artificialmente. Genere las métricas de desempeño.\n",
    "- Comente a grandes rasgos sobre el mejor modelo en su capacidad predictiva.\n"
   ]
  },
  {
   "cell_type": "code",
   "execution_count": null,
   "id": "56b217e6-a833-4f64-a8c6-da5ea33e3393",
   "metadata": {},
   "outputs": [],
   "source": []
  },
  {
   "cell_type": "code",
   "execution_count": null,
   "id": "c6e1ce30-c229-45aa-ae94-3d9d6932eafb",
   "metadata": {},
   "outputs": [],
   "source": []
  }
 ],
 "metadata": {
  "kernelspec": {
   "display_name": "Python 3 (ipykernel)",
   "language": "python",
   "name": "python3"
  },
  "language_info": {
   "codemirror_mode": {
    "name": "ipython",
    "version": 3
   },
   "file_extension": ".py",
   "mimetype": "text/x-python",
   "name": "python",
   "nbconvert_exporter": "python",
   "pygments_lexer": "ipython3",
   "version": "3.10.8"
  }
 },
 "nbformat": 4,
 "nbformat_minor": 5
}
